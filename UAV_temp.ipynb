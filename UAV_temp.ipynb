{
 "cells": [
  {
   "cell_type": "code",
   "execution_count": 1,
   "id": "28167628",
   "metadata": {},
   "outputs": [],
   "source": [
    "from conv import *\n",
    "from fcn import *\n",
    "from client import *\n",
    "\n",
    "import numpy as np\n",
    "import pandas as pd\n",
    "import torch as torch\n",
    "import torch.nn.functional as F\n",
    "import crypten\n",
    "\n",
    "import matplotlib.pyplot as plt\n",
    "\n",
    "torch.set_printoptions(precision=16)\n",
    "torch.set_default_tensor_type(torch.DoubleTensor)\n",
    "\n",
    "from tqdm import tqdm, trange\n",
    "import time\n",
    "from torch.utils.data import DataLoader\n",
    "\n",
    "import warnings\n",
    "warnings.filterwarnings(\"ignore\")"
   ]
  },
  {
   "cell_type": "code",
   "execution_count": 2,
   "id": "b8a30377",
   "metadata": {},
   "outputs": [],
   "source": [
    "input_batch = 2\n",
    "input_channel = 10\n",
    "input_size = 128\n",
    "filter_channel = 10\n",
    "filter_size = 3\n",
    "act = 'ReLU'\n",
    "pooling_size = 2\n",
    "\n",
    "conv_list = []\n",
    "conv_list.append(Conv(input_batch, 3, input_size, filter_channel, filter_size, act, pooling_size))\n",
    "input_size = (int)(input_size / 2)"
   ]
  },
  {
   "cell_type": "code",
   "execution_count": 3,
   "id": "0db30506",
   "metadata": {},
   "outputs": [],
   "source": [
    "while input_size > 1:\n",
    "    conv_list.append(Conv(input_batch, input_channel, input_size, filter_channel, filter_size, act, pooling_size))\n",
    "    input_size = (int)(input_size / 2)\n",
    "\n",
    "fcn_list = []\n",
    "output_size = 16\n",
    "\n",
    "fcn1 = FCN(input_batch, filter_channel, output_size)\n",
    "fcn_list.append(fcn1)\n",
    "\n",
    "while output_size > 2:\n",
    "    fcn_list.append(FCN(input_batch, output_size, (int)(output_size / 2)))\n",
    "    output_size = (int)(output_size / 2)"
   ]
  },
  {
   "cell_type": "code",
   "execution_count": 4,
   "id": "4c44576d",
   "metadata": {},
   "outputs": [],
   "source": [
    "def accuracy_f(predictions, client):\n",
    "    MSE = client.mse_cal(predictions)\n",
    "    return MSE\n",
    "    \n",
    "def train(data):\n",
    "    hidden_list = []\n",
    "    hidden_list.append(conv_list[0].forward(data))\n",
    "    \n",
    "    for i in range(1, len(conv_list)):\n",
    "        temp = conv_list[i].forward(hidden_list[-1])\n",
    "        hidden_list.append(temp)\n",
    "\n",
    "    hidden_list[-1] = hidden_list[-1].reshape(input_batch, 1, filter_channel)\n",
    "        \n",
    "    for fcn_layer in fcn_list:\n",
    "        temp = fcn_layer.forward(hidden_list[-1])\n",
    "        hidden_list.append(temp)\n",
    "        \n",
    "    return hidden_list[-1]"
   ]
  },
  {
   "cell_type": "code",
   "execution_count": 5,
   "id": "b65ded29",
   "metadata": {},
   "outputs": [
    {
     "name": "stdout",
     "output_type": "stream",
     "text": [
      "Reading /home/dhz/bci-data/ds003478-download/sub-001/eeg/sub-001_task-Rest_run-01_eeg.fdt\n",
      "Reading /home/dhz/bci-data/ds003478-download/sub-002/eeg/sub-002_task-Rest_run-01_eeg.fdt\n",
      "Reading /home/dhz/bci-data/ds003478-download/sub-003/eeg/sub-003_task-Rest_run-01_eeg.fdt\n",
      "Reading /home/dhz/bci-data/ds003478-download/sub-004/eeg/sub-004_task-Rest_run-01_eeg.fdt\n",
      "Reading /home/dhz/bci-data/ds003478-download/sub-005/eeg/sub-005_task-Rest_run-01_eeg.fdt\n",
      "Reading /home/dhz/bci-data/ds003478-download/sub-006/eeg/sub-006_task-Rest_run-01_eeg.fdt\n",
      "Reading /home/dhz/bci-data/ds003478-download/sub-007/eeg/sub-007_task-Rest_run-01_eeg.fdt\n",
      "Reading /home/dhz/bci-data/ds003478-download/sub-008/eeg/sub-008_task-Rest_run-01_eeg.fdt\n",
      "Reading /home/dhz/bci-data/ds003478-download/sub-009/eeg/sub-009_task-Rest_run-01_eeg.fdt\n",
      "Reading /home/dhz/bci-data/ds003478-download/sub-010/eeg/sub-010_task-Rest_run-01_eeg.fdt\n",
      "Reading /home/dhz/bci-data/ds003478-download/sub-011/eeg/sub-011_task-Rest_run-01_eeg.fdt\n",
      "Reading /home/dhz/bci-data/ds003478-download/sub-012/eeg/sub-012_task-Rest_run-01_eeg.fdt\n",
      "Reading /home/dhz/bci-data/ds003478-download/sub-013/eeg/sub-013_task-Rest_run-01_eeg.fdt\n",
      "Reading /home/dhz/bci-data/ds003478-download/sub-014/eeg/sub-014_task-Rest_run-01_eeg.fdt\n",
      "Reading /home/dhz/bci-data/ds003478-download/sub-015/eeg/sub-015_task-Rest_run-01_eeg.fdt\n",
      "Reading /home/dhz/bci-data/ds003478-download/sub-016/eeg/sub-016_task-Rest_run-01_eeg.fdt\n",
      "Reading /home/dhz/bci-data/ds003478-download/sub-017/eeg/sub-017_task-Rest_run-01_eeg.fdt\n",
      "Reading /home/dhz/bci-data/ds003478-download/sub-018/eeg/sub-018_task-Rest_run-01_eeg.fdt\n",
      "Reading /home/dhz/bci-data/ds003478-download/sub-019/eeg/sub-019_task-Rest_run-01_eeg.fdt\n",
      "Reading /home/dhz/bci-data/ds003478-download/sub-020/eeg/sub-020_task-Rest_run-01_eeg.fdt\n",
      "Reading /home/dhz/bci-data/ds003478-download/sub-021/eeg/sub-021_task-Rest_run-01_eeg.fdt\n",
      "Reading /home/dhz/bci-data/ds003478-download/sub-022/eeg/sub-022_task-Rest_run-01_eeg.fdt\n",
      "Reading /home/dhz/bci-data/ds003478-download/sub-023/eeg/sub-023_task-Rest_run-01_eeg.fdt\n",
      "Reading /home/dhz/bci-data/ds003478-download/sub-024/eeg/sub-024_task-Rest_run-01_eeg.fdt\n",
      "Reading /home/dhz/bci-data/ds003478-download/sub-025/eeg/sub-025_task-Rest_run-01_eeg.fdt\n",
      "Reading /home/dhz/bci-data/ds003478-download/sub-026/eeg/sub-026_task-Rest_run-01_eeg.fdt\n",
      "Reading /home/dhz/bci-data/ds003478-download/sub-027/eeg/sub-027_task-Rest_run-01_eeg.fdt\n",
      "Reading /home/dhz/bci-data/ds003478-download/sub-028/eeg/sub-028_task-Rest_run-01_eeg.fdt\n",
      "Reading /home/dhz/bci-data/ds003478-download/sub-029/eeg/sub-029_task-Rest_run-01_eeg.fdt\n",
      "Reading /home/dhz/bci-data/ds003478-download/sub-030/eeg/sub-030_task-Rest_run-01_eeg.fdt\n",
      "Reading /home/dhz/bci-data/ds003478-download/sub-031/eeg/sub-031_task-Rest_run-01_eeg.fdt\n",
      "Reading /home/dhz/bci-data/ds003478-download/sub-032/eeg/sub-032_task-Rest_run-01_eeg.fdt\n",
      "Reading /home/dhz/bci-data/ds003478-download/sub-033/eeg/sub-033_task-Rest_run-01_eeg.fdt\n",
      "Reading /home/dhz/bci-data/ds003478-download/sub-034/eeg/sub-034_task-Rest_run-01_eeg.fdt\n",
      "Reading /home/dhz/bci-data/ds003478-download/sub-035/eeg/sub-035_task-Rest_run-01_eeg.fdt\n",
      "Reading /home/dhz/bci-data/ds003478-download/sub-036/eeg/sub-036_task-Rest_run-01_eeg.fdt\n",
      "Reading /home/dhz/bci-data/ds003478-download/sub-037/eeg/sub-037_task-Rest_run-01_eeg.fdt\n",
      "Reading /home/dhz/bci-data/ds003478-download/sub-038/eeg/sub-038_task-Rest_run-01_eeg.fdt\n",
      "Reading /home/dhz/bci-data/ds003478-download/sub-039/eeg/sub-039_task-Rest_run-01_eeg.fdt\n",
      "Reading /home/dhz/bci-data/ds003478-download/sub-040/eeg/sub-040_task-Rest_run-01_eeg.fdt\n",
      "Reading /home/dhz/bci-data/ds003478-download/sub-041/eeg/sub-041_task-Rest_run-01_eeg.fdt\n",
      "Reading /home/dhz/bci-data/ds003478-download/sub-042/eeg/sub-042_task-Rest_run-01_eeg.fdt\n",
      "Reading /home/dhz/bci-data/ds003478-download/sub-043/eeg/sub-043_task-Rest_run-01_eeg.fdt\n",
      "Reading /home/dhz/bci-data/ds003478-download/sub-044/eeg/sub-044_task-Rest_run-01_eeg.fdt\n",
      "Reading /home/dhz/bci-data/ds003478-download/sub-045/eeg/sub-045_task-Rest_run-01_eeg.fdt\n",
      "Reading /home/dhz/bci-data/ds003478-download/sub-046/eeg/sub-046_task-Rest_run-01_eeg.fdt\n",
      "Reading /home/dhz/bci-data/ds003478-download/sub-047/eeg/sub-047_task-Rest_run-01_eeg.fdt\n",
      "Reading /home/dhz/bci-data/ds003478-download/sub-048/eeg/sub-048_task-Rest_run-01_eeg.fdt\n",
      "Reading /home/dhz/bci-data/ds003478-download/sub-049/eeg/sub-049_task-Rest_run-01_eeg.fdt\n",
      "Reading /home/dhz/bci-data/ds003478-download/sub-050/eeg/sub-050_task-Rest_run-01_eeg.fdt\n"
     ]
    }
   ],
   "source": [
    "clients = []\n",
    "test_clients = []\n",
    "accs = []\n",
    "loss_hist = []\n",
    "for i in range(30):\n",
    "    client = Client(i + 1)\n",
    "    clients.append(client)\n",
    "\n",
    "for i in range(20):\n",
    "    client = Client(30 + i + 1)\n",
    "    test_clients.append(client)"
   ]
  },
  {
   "cell_type": "code",
   "execution_count": 6,
   "id": "5724ca49",
   "metadata": {},
   "outputs": [
    {
     "name": "stderr",
     "output_type": "stream",
     "text": [
      "Epoch [1/100]:  13%|█████████▏                                                           | 4/30 [00:08<00:57,  2.21s/it]\n"
     ]
    },
    {
     "ename": "KeyboardInterrupt",
     "evalue": "",
     "output_type": "error",
     "traceback": [
      "\u001b[0;31m---------------------------------------------------------------------------\u001b[0m",
      "\u001b[0;31mKeyboardInterrupt\u001b[0m                         Traceback (most recent call last)",
      "Input \u001b[0;32mIn [6]\u001b[0m, in \u001b[0;36m<cell line: 2>\u001b[0;34m()\u001b[0m\n\u001b[1;32m     33\u001b[0m prev \u001b[38;5;241m=\u001b[39m prev\u001b[38;5;241m.\u001b[39mreshape(input_batch, filter_channel, \u001b[38;5;241m1\u001b[39m, \u001b[38;5;241m1\u001b[39m)\n\u001b[1;32m     35\u001b[0m \u001b[38;5;28;01mfor\u001b[39;00m i \u001b[38;5;129;01min\u001b[39;00m \u001b[38;5;28mrange\u001b[39m(\u001b[38;5;28mlen\u001b[39m(conv_list)):\n\u001b[0;32m---> 36\u001b[0m     weight, prev \u001b[38;5;241m=\u001b[39m \u001b[43mconv_list\u001b[49m\u001b[43m[\u001b[49m\u001b[38;5;28;43mlen\u001b[39;49m\u001b[43m(\u001b[49m\u001b[43mconv_list\u001b[49m\u001b[43m)\u001b[49m\u001b[43m \u001b[49m\u001b[38;5;241;43m-\u001b[39;49m\u001b[43m \u001b[49m\u001b[38;5;241;43m1\u001b[39;49m\u001b[43m \u001b[49m\u001b[38;5;241;43m-\u001b[39;49m\u001b[43m \u001b[49m\u001b[43mi\u001b[49m\u001b[43m]\u001b[49m\u001b[38;5;241;43m.\u001b[39;49m\u001b[43mbackpropagation\u001b[49m\u001b[43m(\u001b[49m\u001b[43mprev\u001b[49m\u001b[43m,\u001b[49m\u001b[43m \u001b[49m\u001b[43mclient\u001b[49m\u001b[43m,\u001b[49m\u001b[43m \u001b[49m\u001b[43mlearning_rate\u001b[49m\u001b[43m)\u001b[49m\n\u001b[1;32m     38\u001b[0m losses \u001b[38;5;241m=\u001b[39m losses \u001b[38;5;241m+\u001b[39m loss\u001b[38;5;241m.\u001b[39mitem()\n\u001b[1;32m     39\u001b[0m \u001b[38;5;28;01mif\u001b[39;00m step \u001b[38;5;241m%\u001b[39m \u001b[38;5;241m30\u001b[39m \u001b[38;5;241m==\u001b[39m \u001b[38;5;241m0\u001b[39m:\n",
      "File \u001b[0;32m~/experiment-BCI/conv.py:42\u001b[0m, in \u001b[0;36mConv.backpropagation\u001b[0;34m(self, prev, client, rate)\u001b[0m\n\u001b[1;32m     41\u001b[0m \u001b[38;5;28;01mdef\u001b[39;00m \u001b[38;5;21mbackpropagation\u001b[39m(\u001b[38;5;28mself\u001b[39m, prev, client, rate):\n\u001b[0;32m---> 42\u001b[0m     filt, bias, aft \u001b[38;5;241m=\u001b[39m \u001b[43mclient\u001b[49m\u001b[38;5;241;43m.\u001b[39;49m\u001b[43mconv_grad\u001b[49m\u001b[43m(\u001b[49m\u001b[43mprev\u001b[49m\u001b[43m,\u001b[49m\u001b[43m \u001b[49m\u001b[38;5;28;43mself\u001b[39;49m\u001b[38;5;241;43m.\u001b[39;49m\u001b[43mpooling_res\u001b[49m\u001b[43m,\u001b[49m\u001b[43m \u001b[49m\u001b[38;5;28;43mself\u001b[39;49m\u001b[38;5;241;43m.\u001b[39;49m\u001b[43mrelu_res\u001b[49m\u001b[43m,\u001b[49m\u001b[43m \u001b[49m\u001b[38;5;28;43mself\u001b[39;49m\u001b[38;5;241;43m.\u001b[39;49m\u001b[43mconv_res\u001b[49m\u001b[43m,\u001b[49m\u001b[43m \u001b[49m\u001b[43mrate\u001b[49m\u001b[43m,\u001b[49m\u001b[43m \u001b[49m\u001b[38;5;28;43mself\u001b[39;49m\u001b[38;5;241;43m.\u001b[39;49m\u001b[43m__input_batch\u001b[49m\u001b[43m,\u001b[49m\u001b[43m \u001b[49m\u001b[38;5;28;43mself\u001b[39;49m\u001b[38;5;241;43m.\u001b[39;49m\u001b[43m__input_channel\u001b[49m\u001b[43m,\u001b[49m\u001b[43m \u001b[49m\u001b[38;5;28;43mself\u001b[39;49m\u001b[38;5;241;43m.\u001b[39;49m\u001b[43m__input_size\u001b[49m\u001b[43m,\u001b[49m\u001b[43m \u001b[49m\u001b[38;5;28;43mself\u001b[39;49m\u001b[38;5;241;43m.\u001b[39;49m\u001b[43m__filter_channel\u001b[49m\u001b[43m,\u001b[49m\u001b[43m \u001b[49m\u001b[38;5;28;43mself\u001b[39;49m\u001b[38;5;241;43m.\u001b[39;49m\u001b[43m__filter_size\u001b[49m\u001b[43m,\u001b[49m\u001b[43m \u001b[49m\u001b[38;5;28;43mself\u001b[39;49m\u001b[38;5;241;43m.\u001b[39;49m\u001b[43m__filt\u001b[49m\u001b[43m,\u001b[49m\u001b[43m \u001b[49m\u001b[38;5;28;43mself\u001b[39;49m\u001b[38;5;241;43m.\u001b[39;49m\u001b[43m__bias\u001b[49m\u001b[43m)\u001b[49m\n\u001b[1;32m     43\u001b[0m     \u001b[38;5;28mself\u001b[39m\u001b[38;5;241m.\u001b[39m__filt \u001b[38;5;241m=\u001b[39m filt\n\u001b[1;32m     44\u001b[0m     \u001b[38;5;28mself\u001b[39m\u001b[38;5;241m.\u001b[39m__bias \u001b[38;5;241m=\u001b[39m bias\n",
      "File \u001b[0;32m~/experiment-BCI/client.py:85\u001b[0m, in \u001b[0;36mClient.conv_grad\u001b[0;34m(self, prev, p_res, r_res, c_res, rate, batch, input_channel, input_size, filter_channel, filter_size, filt, bias)\u001b[0m\n\u001b[1;32m     83\u001b[0m         base_i \u001b[38;5;241m=\u001b[39m filt[chan, in_chan, line, col] \u001b[38;5;241m*\u001b[39m base_i\n\u001b[1;32m     84\u001b[0m         base \u001b[38;5;241m=\u001b[39m base \u001b[38;5;241m+\u001b[39m base_i\n\u001b[0;32m---> 85\u001b[0m         fil_sum \u001b[38;5;241m+\u001b[39m\u001b[38;5;241m=\u001b[39m filt[chan, in_chan, line, col]\n\u001b[1;32m     86\u001b[0m         \u001b[38;5;66;03m# gradient update finish\u001b[39;00m\n\u001b[1;32m     87\u001b[0m base \u001b[38;5;241m=\u001b[39m base \u001b[38;5;241m/\u001b[39m fil_sum\n",
      "\u001b[0;31mKeyboardInterrupt\u001b[0m: "
     ]
    }
   ],
   "source": [
    "ite = 100\n",
    "for epoch in range(ite):\n",
    "    losses = 0.\n",
    "    step = 0\n",
    "    accuracy = 0.\n",
    "    mses = 0.\n",
    "\n",
    "    loop = tqdm(range(len(clients)))\n",
    "    loop.set_description(f'Epoch [{epoch + 1}/{ite}]')\n",
    "\n",
    "    for i in loop:\n",
    "        step += 1\n",
    "        client = clients[i]\n",
    "\n",
    "        data = client.get_data()\n",
    "\n",
    "        prediction = train(data)\n",
    "\n",
    "        if client.acc(prediction):\n",
    "            accuracy += 1.\n",
    "\n",
    "        temp = client\n",
    "\n",
    "        loss = temp.loss(prediction)\n",
    "\n",
    "        learning_rate = 1e-2\n",
    "\n",
    "        prev = client.loss_grad()\n",
    "\n",
    "        for i in range(len(fcn_list)):\n",
    "            weight, prev = fcn_list[len(fcn_list) - 1 - i].backpropagation(prev, client, learning_rate)\n",
    "\n",
    "        prev = prev.reshape(input_batch, filter_channel, 1, 1)\n",
    "\n",
    "        for i in range(len(conv_list)):\n",
    "            weight, prev = conv_list[len(conv_list) - 1 - i].backpropagation(prev, client, learning_rate)\n",
    "\n",
    "        losses = losses + loss.item()\n",
    "        if step % 30 == 0:\n",
    "            for c in test_clients:\n",
    "                p = train(c.get_data())\n",
    "                mses += accuracy_f(p, c)\n",
    "            loop.set_postfix(loss = losses / step, mse = mses / 20)\n",
    "\n",
    "    if epoch % 5 == 0:\n",
    "        accs.append(mses / step)\n",
    "        loss_hist.append(losses / step)"
   ]
  },
  {
   "cell_type": "code",
   "execution_count": 7,
   "id": "7f5f9475",
   "metadata": {},
   "outputs": [],
   "source": [
    "client0 = clients[0]"
   ]
  },
  {
   "cell_type": "code",
   "execution_count": 8,
   "id": "9b3a98b9",
   "metadata": {},
   "outputs": [],
   "source": [
    "data = client0.get_data()"
   ]
  },
  {
   "cell_type": "code",
   "execution_count": 9,
   "id": "4a09638d",
   "metadata": {},
   "outputs": [
    {
     "data": {
      "text/plain": [
       "torch.Size([2, 3, 128, 128])"
      ]
     },
     "execution_count": 9,
     "metadata": {},
     "output_type": "execute_result"
    }
   ],
   "source": [
    "data.shape"
   ]
  },
  {
   "cell_type": "code",
   "execution_count": null,
   "id": "035eb8c7",
   "metadata": {},
   "outputs": [],
   "source": []
  }
 ],
 "metadata": {
  "kernelspec": {
   "display_name": "Python 3 (ipykernel)",
   "language": "python",
   "name": "python3"
  },
  "language_info": {
   "codemirror_mode": {
    "name": "ipython",
    "version": 3
   },
   "file_extension": ".py",
   "mimetype": "text/x-python",
   "name": "python",
   "nbconvert_exporter": "python",
   "pygments_lexer": "ipython3",
   "version": "3.9.12"
  },
  "toc": {
   "base_numbering": 1,
   "nav_menu": {},
   "number_sections": true,
   "sideBar": true,
   "skip_h1_title": false,
   "title_cell": "Table of Contents",
   "title_sidebar": "Contents",
   "toc_cell": false,
   "toc_position": {},
   "toc_section_display": true,
   "toc_window_display": false
  },
  "varInspector": {
   "cols": {
    "lenName": 16,
    "lenType": 16,
    "lenVar": 40
   },
   "kernels_config": {
    "python": {
     "delete_cmd_postfix": "",
     "delete_cmd_prefix": "del ",
     "library": "var_list.py",
     "varRefreshCmd": "print(var_dic_list())"
    },
    "r": {
     "delete_cmd_postfix": ") ",
     "delete_cmd_prefix": "rm(",
     "library": "var_list.r",
     "varRefreshCmd": "cat(var_dic_list()) "
    }
   },
   "types_to_exclude": [
    "module",
    "function",
    "builtin_function_or_method",
    "instance",
    "_Feature"
   ],
   "window_display": false
  }
 },
 "nbformat": 4,
 "nbformat_minor": 5
}

{
 "cells": [
  {
   "cell_type": "code",
   "execution_count": 1,
   "id": "ebe8b0b7",
   "metadata": {},
   "outputs": [
    {
     "name": "stdout",
     "output_type": "stream",
     "text": [
      "Reading /home/dhz/bci-data/ds003478-download/sub-010/eeg/sub-010_task-Rest_run-01_eeg.fdt\n"
     ]
    }
   ],
   "source": [
    "from client import *\n",
    "\n",
    "client1 = Client(10)"
   ]
  },
  {
   "cell_type": "code",
   "execution_count": 2,
   "id": "5d6dfea8",
   "metadata": {},
   "outputs": [],
   "source": [
    "from conv import Conv\n",
    "\n",
    "layer1 = Conv(3, 3, 128, 10, 3, 'ReLU', 2)"
   ]
  },
  {
   "cell_type": "code",
   "execution_count": 3,
   "id": "e90a0025",
   "metadata": {},
   "outputs": [
    {
     "name": "stderr",
     "output_type": "stream",
     "text": [
      "/home/dhz/anaconda3/lib/python3.9/site-packages/crypten/mpc/primitives/arithmetic.py:372: UserWarning: Defining your `__torch_function__` as a plain method is deprecated and will be an error in future, please define it as a classmethod. (Triggered internally at  ../torch/csrc/utils/python_arg_parser.cpp:295.)\n",
      "  result.share = getattr(torch, op)(result.share, y, *args, **kwargs)\n",
      "/home/dhz/anaconda3/lib/python3.9/site-packages/crypten/mpc/provider/tfp_provider.py:25: UserWarning: Defining your `__torch_function__` as a plain method is deprecated and will be an error in future, please define it as a classmethod. (Triggered internally at  ../torch/csrc/utils/python_arg_parser.cpp:295.)\n",
      "  c = getattr(torch, op)(a, b, *args, **kwargs)\n",
      "/home/dhz/anaconda3/lib/python3.9/site-packages/crypten/mpc/primitives/beaver.py:82: UserWarning: Defining your `__torch_function__` as a plain method is deprecated and will be an error in future, please define it as a classmethod. (Triggered internally at  ../torch/csrc/utils/python_arg_parser.cpp:295.)\n",
      "  c._tensor += getattr(torch, op)(epsilon, b._tensor, *args, **kwargs)\n",
      "/home/dhz/anaconda3/lib/python3.9/site-packages/crypten/mpc/primitives/beaver.py:83: UserWarning: Defining your `__torch_function__` as a plain method is deprecated and will be an error in future, please define it as a classmethod. (Triggered internally at  ../torch/csrc/utils/python_arg_parser.cpp:295.)\n",
      "  c._tensor += getattr(torch, op)(a._tensor, delta, *args, **kwargs)\n",
      "/home/dhz/anaconda3/lib/python3.9/site-packages/crypten/mpc/primitives/beaver.py:84: UserWarning: Defining your `__torch_function__` as a plain method is deprecated and will be an error in future, please define it as a classmethod. (Triggered internally at  ../torch/csrc/utils/python_arg_parser.cpp:295.)\n",
      "  c += getattr(torch, op)(epsilon, delta, *args, **kwargs)\n"
     ]
    }
   ],
   "source": [
    "y_enc = layer1.forward(client1.get_data())"
   ]
  },
  {
   "cell_type": "code",
   "execution_count": 4,
   "id": "b79bd2ad",
   "metadata": {},
   "outputs": [],
   "source": [
    "y_plain = y_enc.get_plain_text()"
   ]
  },
  {
   "cell_type": "code",
   "execution_count": 5,
   "id": "fe81036c",
   "metadata": {},
   "outputs": [],
   "source": [
    "pool_raw = y_plain.repeat_interleave(2, dim=2).repeat_interleave(2, dim=3)"
   ]
  },
  {
   "cell_type": "code",
   "execution_count": 6,
   "id": "9556ea41",
   "metadata": {},
   "outputs": [],
   "source": [
    "relu_plain = layer1.getReLU().get_plain_text()"
   ]
  },
  {
   "cell_type": "code",
   "execution_count": 7,
   "id": "a3aa885f",
   "metadata": {},
   "outputs": [
    {
     "name": "stderr",
     "output_type": "stream",
     "text": [
      "/tmp/ipykernel_2168553/4270931585.py:1: UserWarning: An output with one or more elements was resized since it had shape [2], which does not match the required output shape [3, 10, 128, 128]. This behavior is deprecated, and in a future PyTorch release outputs will not be resized unless they have zero elements. You can explicitly reuse an out tensor t by resizing it, inplace, to zero elements with t.resize_(0). (Triggered internally at  ../aten/src/ATen/native/Resize.cpp:17.)\n",
      "  dp_dr = torch.eq(pool_raw, relu_plain, out=torch.tensor([1.,0.]).cuda())\n"
     ]
    }
   ],
   "source": [
    "dp_dr = torch.eq(pool_raw, relu_plain, out=torch.tensor([1.,0.]).cuda())"
   ]
  },
  {
   "cell_type": "code",
   "execution_count": 8,
   "id": "ecec6269",
   "metadata": {},
   "outputs": [
    {
     "name": "stderr",
     "output_type": "stream",
     "text": [
      "/tmp/ipykernel_2168553/3018332577.py:2: UserWarning: An output with one or more elements was resized since it had shape [2], which does not match the required output shape [3, 10, 128, 128]. This behavior is deprecated, and in a future PyTorch release outputs will not be resized unless they have zero elements. You can explicitly reuse an out tensor t by resizing it, inplace, to zero elements with t.resize_(0). (Triggered internally at  ../aten/src/ATen/native/Resize.cpp:17.)\n",
      "  dr_dc = torch.eq(relu_plain, conv_plain, out=torch.tensor([1.,0.]).cuda())\n"
     ]
    }
   ],
   "source": [
    "conv_plain = layer1.getConv().get_plain_text()\n",
    "dr_dc = torch.eq(relu_plain, conv_plain, out=torch.tensor([1.,0.]).cuda())"
   ]
  },
  {
   "cell_type": "code",
   "execution_count": 9,
   "id": "b6f665d6",
   "metadata": {},
   "outputs": [],
   "source": [
    "dp_dc = dp_dr.matmul(dr_dc)"
   ]
  },
  {
   "cell_type": "code",
   "execution_count": 10,
   "id": "bd53c10d",
   "metadata": {},
   "outputs": [
    {
     "name": "stderr",
     "output_type": "stream",
     "text": [
      "/home/dhz/anaconda3/lib/python3.9/site-packages/crypten/mpc/primitives/arithmetic.py:243: UserWarning: Defining your `__torch_function__` as a plain method is deprecated and will be an error in future, please define it as a classmethod. (Triggered internally at  ../torch/csrc/utils/python_arg_parser.cpp:295.)\n",
      "  result.share = torch.nn.functional.pad(\n"
     ]
    }
   ],
   "source": [
    "x_pad = client1.get_data().pad([1, 1, 1, 1]).get_plain_text()"
   ]
  },
  {
   "cell_type": "code",
   "execution_count": 11,
   "id": "577d8d89",
   "metadata": {},
   "outputs": [
    {
     "name": "stdout",
     "output_type": "stream",
     "text": [
      "tensor([[[[-0.6681200363082416, -0.1983403867024263, -0.5549749221487090],\n",
      "          [-0.4061366785100315, -0.8615510059190632,  0.0230041358490463],\n",
      "          [-0.0470961677218118,  0.9791370149736180,  0.7159027799914262]],\n",
      "\n",
      "         [[ 0.7433392576513171,  0.0144254325138904, -0.9330226729891844],\n",
      "          [-0.3250812048761049, -0.8119073574392937, -0.3558315138354236],\n",
      "          [ 0.7787815667869393, -0.0152599583306132, -0.5185965960352337]],\n",
      "\n",
      "         [[-0.1118216898478306,  0.0526904064032236, -0.9806143598145001],\n",
      "          [ 0.9488873520582282, -0.2473704473778495,  0.5425765356130252],\n",
      "          [-0.6711557954287533,  0.9238073396502786, -0.1006125268591700]]],\n",
      "\n",
      "\n",
      "        [[[ 0.5171354389151326, -0.5748738365672212, -0.5334515262841701],\n",
      "          [ 0.0247583178801392, -0.5121569617826696,  0.9103076068061715],\n",
      "          [-0.8859702543101211,  0.4526178704957624, -0.4591536789556145]],\n",
      "\n",
      "         [[-0.5771539925604809,  0.5820919738130832,  0.4176808206356195],\n",
      "          [ 0.2046162739641777,  0.2237136041766163,  0.3385915703058313],\n",
      "          [ 0.6490313483976218,  0.2588342333958227,  0.0594730111243069]],\n",
      "\n",
      "         [[-0.3977471925652514,  0.6846847690870050,  0.6472403963089937],\n",
      "          [ 0.9078807945036909,  0.9603855462374664,  0.4046228773774920],\n",
      "          [-0.5035767739956438,  0.9067223148683736, -0.7139716707541368]]],\n",
      "\n",
      "\n",
      "        [[[-0.7258627541802558, -0.5488252813718801, -0.6112543211523211],\n",
      "          [-0.4714026940136329,  0.6819713992350442,  0.5396931639389255],\n",
      "          [ 0.2981864188700711,  0.4117274378935067,  0.8259827030243623]],\n",
      "\n",
      "         [[ 0.8707541063761670, -0.4449428790076573,  0.2605447342523686],\n",
      "          [ 0.5411720455186595, -0.9436478817062703,  0.6400938354850372],\n",
      "          [-0.7128782044465996,  0.5889892436995208,  0.4624436496695812]],\n",
      "\n",
      "         [[-0.5193114928584246,  0.4770688939592063, -0.5386973746889110],\n",
      "          [ 0.4624711325788256, -0.9243515884995765, -0.6319627521871658],\n",
      "          [ 0.6309591046773235,  0.2985410434431890, -0.2800947722745990]]],\n",
      "\n",
      "\n",
      "        [[[ 0.3954440687022536,  0.0298387813015117, -0.8930914789146769],\n",
      "          [ 0.3762857747527535,  0.0333850096709067,  0.3432541151437059],\n",
      "          [-0.2557041237427857,  0.1595928555529182,  0.3129470207512253]],\n",
      "\n",
      "         [[ 0.1829955711420688, -0.2695494406415839, -0.6059632842256495],\n",
      "          [ 0.2599237669056453,  0.4376502916926646, -0.4988425405448715],\n",
      "          [-0.7586053655221936,  0.3121196567581375,  0.5417024241675175]],\n",
      "\n",
      "         [[ 0.7898049446535440,  0.4873547202789321, -0.8400294548988849],\n",
      "          [ 0.4581601670294311, -0.6558105311430356,  0.5585969835011533],\n",
      "          [-0.4923215144177937,  0.2089670115288547, -0.1563968862392424]]],\n",
      "\n",
      "\n",
      "        [[[-0.2468733313932026, -0.4945113023054357,  0.5134743193334412],\n",
      "          [ 0.3903244699969506,  0.6909494182719318,  0.3824126109279189],\n",
      "          [ 0.1339230395896198,  0.2879172866147848,  0.4792284258604809]],\n",
      "\n",
      "         [[-0.9333022036764269,  0.9141022592778745,  0.7183854368156231],\n",
      "          [-0.9708035205744341, -0.9023878897192852,  0.2920022314032191],\n",
      "          [ 0.4153323320334743, -0.9405267064416756,  0.0928303666832377]],\n",
      "\n",
      "         [[-0.3560722141177295,  0.6280598166870548, -0.8665927622014360],\n",
      "          [ 0.7484424880820919, -0.3779268053682392, -0.4681032922278248],\n",
      "          [-0.5181597794976118, -0.7631891623230127, -0.1331828841050817]]],\n",
      "\n",
      "\n",
      "        [[[-0.9300076684450902, -0.8444209738858703,  0.0237167279269319],\n",
      "          [ 0.2533711549808138, -0.6589622180660555, -0.8921717174518171],\n",
      "          [ 0.3375885147539093,  0.0087278969868154,  0.3781241869835594]],\n",
      "\n",
      "         [[ 0.5989431844251845, -0.2751411287379526,  0.7673146902419896],\n",
      "          [-0.5323617141362740, -0.5879989614083267,  0.9130634778660649],\n",
      "          [-0.3029590978678001,  0.4165374880886910, -0.9827062564606546]],\n",
      "\n",
      "         [[ 0.4193143210931645, -0.2484418629010696,  0.0763710898677399],\n",
      "          [-0.5065434305393226, -0.1207678384133368, -0.6502285569892028],\n",
      "          [-0.0039156730132770, -0.2864264834454096,  0.6285290534696912]]],\n",
      "\n",
      "\n",
      "        [[[ 0.2213249952965952,  0.8503331513219381,  0.5462866764743033],\n",
      "          [ 0.6745156892642041,  0.9091767638416612,  0.9804881381196671],\n",
      "          [-0.0219300509383369,  0.6509402053794746,  0.8993157616847578]],\n",
      "\n",
      "         [[ 0.8612475682876062, -0.8611623818892131,  0.8889359350541166],\n",
      "          [ 0.0575264646649669,  0.8010432562231071, -0.4529874953433430],\n",
      "          [ 0.7485943889165791,  0.9214505016856458, -0.0975861203989501]],\n",
      "\n",
      "         [[ 0.6079975470396632,  0.1919508599876314, -0.6832197659756145],\n",
      "          [-0.9391369640467329, -0.9440160762673162,  0.4469238884698941],\n",
      "          [ 0.2973695882408101, -0.6034174483143495,  0.9890952953331038]]],\n",
      "\n",
      "\n",
      "        [[[ 0.4385737315128559, -0.9317492427298462,  0.0470633642848255],\n",
      "          [ 0.0353747482074573, -0.7369853774962569, -0.2008007144478319],\n",
      "          [-0.2169096010438367, -0.6674895706539785,  0.6802726531589343]],\n",
      "\n",
      "         [[ 0.6859843925539113, -0.5273570723829533,  0.1017620769401650],\n",
      "          [-0.5738973362718331,  0.4851768714258022,  0.7771469265731465],\n",
      "          [-0.1545666929065177, -0.0331063612730409,  0.5916174606012361]],\n",
      "\n",
      "         [[-0.5752193277777766,  0.8860104188385225,  0.1396692320309028],\n",
      "          [-0.8772105111344799,  0.9142392560878181,  0.9594479681040853],\n",
      "          [ 0.2234126416304032, -0.3984379349241947,  0.6962189335702007]]],\n",
      "\n",
      "\n",
      "        [[[ 0.4462733582733567,  0.2984843312474850, -0.2042585061091502],\n",
      "          [-0.3347184903926914,  0.9097178164509812,  0.6930690013281575],\n",
      "          [-0.0952140123663336,  0.4871582077105781, -0.2952912343407537]],\n",
      "\n",
      "         [[ 0.3473292947010638, -0.5277502154688591, -0.8105032760314153],\n",
      "          [-0.5648153514133127,  0.0601628788893611, -0.4899718556000674],\n",
      "          [ 0.2625624255288459,  0.2126302821333064,  0.5982631191384580]],\n",
      "\n",
      "         [[ 0.4700381959646962, -0.4402741299670532,  0.7520653046263375],\n",
      "          [ 0.8712972707743545,  0.3363203701593265, -0.1494497791739389],\n",
      "          [ 0.0466022663085615,  0.9284874082286931,  0.6739127318009039]]],\n",
      "\n",
      "\n",
      "        [[[ 0.2200241801148102,  0.9013353750457052, -0.4751779448547762],\n",
      "          [-0.8324786590224240, -0.2248738883338532, -0.3396760899333284],\n",
      "          [ 0.8229067250064452,  0.1279268761907701,  0.8919379887621768]],\n",
      "\n",
      "         [[-0.9394681937389728,  0.2035341286416945, -0.4975365670267031],\n",
      "          [-0.1183530296743212,  0.2587919962258620,  0.6185656694930044],\n",
      "          [-0.6678437301864648, -0.9317698364409712, -0.2311699231338211]],\n",
      "\n",
      "         [[-0.0215016032696418,  0.7484116061670432,  0.9199462290456051],\n",
      "          [-0.3395681973990503, -0.5673552334156242, -0.7698817773239870],\n",
      "          [-0.9973791940836900, -0.5992270448991155, -0.3726425417947210]]]],\n",
      "       device='cuda:0')\n"
     ]
    }
   ],
   "source": [
    "batch = 3\n",
    "fileShape = layer1.getFilterShape()\n",
    "rate = 0.001\n",
    "filt = layer1.getFilter()\n",
    "\n",
    "print(filt)\n",
    "\n",
    "for bat in range(batch):\n",
    "    for chan in range(fileShape[0]):\n",
    "        for line in range(fileShape[1]):\n",
    "            for col in range(fileShape[2]):\n",
    "                window = x_pad[bat, :, line : (line + 128), col : (col + 128)]\n",
    "                temp = 0.\n",
    "                for block in window:\n",
    "                    temp = temp + 10e-04 * dp_dc.matmul(block.to(torch.double)).sum() / pow((batch * fileShape[0] * fileShape[1] * fileShape[2]), 3)\n",
    "                for dim in range(3):\n",
    "                    filt[chan, dim, line, col] =  filt[chan, dim, line, col] + temp * rate\n",
    "                    "
   ]
  },
  {
   "cell_type": "code",
   "execution_count": 12,
   "id": "ce8ad00f",
   "metadata": {},
   "outputs": [
    {
     "data": {
      "text/plain": [
       "tensor([[[[-5.7058016309704329e-01, -1.0003886486603611e-01,\n",
       "           -4.5744720943247025e-01],\n",
       "          [-3.0749398257930444e-01, -7.6213961910328032e-01,\n",
       "            1.2163341625882171e-01],\n",
       "          [ 4.9755645280438916e-02,  1.0767440239519879e+00,\n",
       "            8.1274403520438188e-01]],\n",
       "\n",
       "         [[ 8.4087913086251542e-01,  1.1272695435028056e-01,\n",
       "           -8.3549496027294556e-01],\n",
       "          [-2.2643850894537779e-01, -7.1249597062351078e-01,\n",
       "           -2.5720223342564807e-01],\n",
       "          [ 8.7563337978918998e-01,  8.2347050647756673e-02,\n",
       "           -4.2175534082227795e-01]],\n",
       "\n",
       "         [[-1.4281816636632317e-02,  1.5099192823961383e-01,\n",
       "           -8.8308664709826123e-01],\n",
       "          [ 1.0475300479889553e+00, -1.4795906056206676e-01,\n",
       "            6.4120581602280058e-01],\n",
       "          [-5.7430398242650260e-01,  1.0214143486286484e+00,\n",
       "           -3.7712716462143300e-03]]],\n",
       "\n",
       "\n",
       "        [[[ 6.1467531212633086e-01, -4.7657231473083106e-01,\n",
       "           -4.3592381356793136e-01],\n",
       "          [ 1.2340101381086628e-01, -4.1274557496688680e-01,\n",
       "            1.0089368872159470e+00],\n",
       "          [-7.8911844130787046e-01,  5.5022487947413234e-01,\n",
       "           -3.6231242374265887e-01]],\n",
       "\n",
       "         [[-4.7961411934928266e-01,  6.8039349564947338e-01,\n",
       "            5.1520853335185834e-01],\n",
       "          [ 3.0325896989490481e-01,  3.2312499099239911e-01,\n",
       "            4.3722085071560679e-01],\n",
       "          [ 7.4588316139987243e-01,  3.5644124237419256e-01,\n",
       "            1.5631426633726259e-01]],\n",
       "\n",
       "         [[-3.0020731935405309e-01,  7.8298629092339522e-01,\n",
       "            7.4476810902523249e-01],\n",
       "          [ 1.0065234904344180e+00,  1.0597969330532493e+00,\n",
       "            5.0325215778726751e-01],\n",
       "          [-4.0672496099339317e-01,  1.0043293238467434e+00,\n",
       "           -6.1713041554118109e-01]]],\n",
       "\n",
       "\n",
       "        [[[-6.2832288096905753e-01, -4.5052375953548995e-01,\n",
       "           -5.1372660843608231e-01],\n",
       "          [-3.7275999808290577e-01,  7.8138278605082712e-01,\n",
       "            6.3832244434870089e-01],\n",
       "          [ 3.9503823187232179e-01,  5.0933444687187668e-01,\n",
       "            9.2282395823731800e-01]],\n",
       "\n",
       "         [[ 9.6829397958736529e-01, -3.4664135717126709e-01,\n",
       "            3.5807244696860741e-01],\n",
       "          [ 6.3981474144938666e-01, -8.4423649489048747e-01,\n",
       "            7.3872311589481254e-01],\n",
       "          [-6.1602639144434890e-01,  6.8659625267789071e-01,\n",
       "            5.5928490488253679e-01]],\n",
       "\n",
       "         [[-4.2177161964722631e-01,  5.7537041579559645e-01,\n",
       "           -4.4116966197267221e-01],\n",
       "          [ 5.6111382850955271e-01, -8.2494020168379367e-01,\n",
       "           -5.3333347177739043e-01],\n",
       "          [ 7.2781091767957418e-01,  3.9614805242155887e-01,\n",
       "           -1.8325351706164333e-01]]],\n",
       "\n",
       "\n",
       "        [[[ 4.9298394191345185e-01,  1.2814030313790192e-01,\n",
       "           -7.9556376619843805e-01],\n",
       "          [ 4.7492847068348060e-01,  1.3279639648668951e-01,\n",
       "            4.4188339555348133e-01],\n",
       "          [-1.5885231074053499e-01,  2.5719986453128812e-01,\n",
       "            4.0978827596418094e-01]],\n",
       "\n",
       "         [[ 2.8053544435326705e-01, -1.7124791880519372e-01,\n",
       "           -5.0843557150941066e-01],\n",
       "          [ 3.5856646283637245e-01,  5.3706167850844744e-01,\n",
       "           -4.0021326013509606e-01],\n",
       "          [-6.6175355251994294e-01,  4.0972666573650735e-01,\n",
       "            6.3854367938047318e-01]],\n",
       "\n",
       "         [[ 8.8734481786474229e-01,  5.8565624211532230e-01,\n",
       "           -7.4250174218264609e-01],\n",
       "          [ 5.5680286296015824e-01, -5.5639914432725268e-01,\n",
       "            6.5722626391092864e-01],\n",
       "          [-3.9546970141554305e-01,  3.0657402050722460e-01,\n",
       "           -5.9555631026286769e-02]]],\n",
       "\n",
       "\n",
       "        [[[-1.4933345818200430e-01, -3.9620978046904554e-01,\n",
       "            6.1100203204968007e-01],\n",
       "          [ 4.8896716592767769e-01,  7.9036080508771467e-01,\n",
       "            4.8104189133769437e-01],\n",
       "          [ 2.3077485259187056e-01,  3.8552429559315465e-01,\n",
       "            5.7606968107343648e-01]],\n",
       "\n",
       "         [[-8.3576233046522863e-01,  1.0124037811142645e+00,\n",
       "            8.1591314953186189e-01],\n",
       "          [-8.7216082464370692e-01, -8.0297650290350231e-01,\n",
       "            3.9063151181299460e-01],\n",
       "          [ 5.1218414503572496e-01, -8.4291969746330564e-01,\n",
       "            1.8967162189619341e-01]],\n",
       "\n",
       "         [[-2.5853234090653121e-01,  7.2636133852344498e-01,\n",
       "           -7.6906504948519716e-01],\n",
       "          [ 8.4708518401281907e-01, -2.7851541855245643e-01,\n",
       "           -3.6947401181804929e-01],\n",
       "          [-4.2130796649536117e-01, -6.6558215334464277e-01,\n",
       "           -3.6341628892126061e-02]]],\n",
       "\n",
       "\n",
       "        [[[-8.3246779523389192e-01, -7.4611945204948016e-01,\n",
       "            1.2124444064317072e-01],\n",
       "          [ 3.5201385091154086e-01, -5.5955083125027261e-01,\n",
       "           -7.9354243704204175e-01],\n",
       "          [ 4.3444032775615993e-01,  1.0633490596518531e-01,\n",
       "            4.7496544219651510e-01]],\n",
       "\n",
       "         [[ 6.9648305763638274e-01, -1.7683960690156239e-01,\n",
       "            8.6484240295822845e-01],\n",
       "          [-4.3371901820554687e-01, -4.8858757459254393e-01,\n",
       "            1.0116927582758402e+00],\n",
       "          [-2.0610728486554938e-01,  5.1414449706706089e-01,\n",
       "           -8.8586500124769885e-01]],\n",
       "\n",
       "         [[ 5.1685419430436275e-01, -1.5014034106467947e-01,\n",
       "            1.7389880258397869e-01],\n",
       "          [-4.0790073460859549e-01, -2.1356451597554060e-02,\n",
       "           -5.5159927657942742e-01],\n",
       "          [ 9.2936139988973709e-02, -1.8881947446703970e-01,\n",
       "            7.2537030868264696e-01]]],\n",
       "\n",
       "\n",
       "        [[[ 3.1886486850779350e-01,  9.4863467315832828e-01,\n",
       "            6.4381438919054212e-01],\n",
       "          [ 7.7315838519493130e-01,  1.0085881506574441e+00,\n",
       "            1.0791174185294423e+00],\n",
       "          [ 7.4921762063913822e-02,  7.4854721435784455e-01,\n",
       "            9.9615701689771352e-01]],\n",
       "\n",
       "         [[ 9.5878744149880446e-01, -7.6286086005282294e-01,\n",
       "            9.8646364777035545e-01],\n",
       "          [ 1.5616916059569405e-01,  9.0045464303889000e-01,\n",
       "           -3.5435821493356756e-01],\n",
       "          [ 8.4544620191882980e-01,  1.0190575106640156e+00,\n",
       "           -7.4486518599443073e-04]],\n",
       "\n",
       "         [[ 7.0553742025086152e-01,  2.9025238182402152e-01,\n",
       "           -5.8569205325937568e-01],\n",
       "          [-8.4049426811600569e-01, -8.4460468945153333e-01,\n",
       "            5.4555316887966943e-01],\n",
       "          [ 3.9422140124306071e-01, -5.0581043933597958e-01,\n",
       "            1.0859365505460594e+00]]],\n",
       "\n",
       "\n",
       "        [[[ 5.3611360472405423e-01, -8.3344772089345598e-01,\n",
       "            1.4459107700106430e-01],\n",
       "          [ 1.3401744413818445e-01, -6.3757399068047405e-01,\n",
       "           -1.0217143403805641e-01],\n",
       "          [-1.2005778804158598e-01, -5.6988256167560858e-01,\n",
       "            7.7711390837188998e-01]],\n",
       "\n",
       "         [[ 7.8352426576510958e-01, -4.2905555054656308e-01,\n",
       "            1.9928978965640384e-01],\n",
       "          [-4.7525464034110604e-01,  5.8458825824158511e-01,\n",
       "            8.7577620698292191e-01],\n",
       "          [-5.7714879904266977e-02,  6.4500647705328998e-02,\n",
       "            6.8845871581419182e-01]],\n",
       "\n",
       "         [[-4.7767945456657834e-01,  9.8431194067491268e-01,\n",
       "            2.3719694474714156e-01],\n",
       "          [-7.7856781520375273e-01,  1.0136506429036010e+00,\n",
       "            1.0580772485138605e+00],\n",
       "          [ 3.2026445463265396e-01, -3.0083092594582478e-01,\n",
       "            7.9306018878315643e-01]]],\n",
       "\n",
       "\n",
       "        [[[ 5.4381323148455496e-01,  3.9678585308387515e-01,\n",
       "           -1.0673079339291139e-01],\n",
       "          [-2.3607579446196428e-01,  1.0091292032667640e+00,\n",
       "            7.9169828173793289e-01],\n",
       "          [ 1.6378006359170777e-03,  5.8476521668894799e-01,\n",
       "           -1.9844997912779799e-01]],\n",
       "\n",
       "         [[ 4.4486916791226205e-01, -4.2944869363246896e-01,\n",
       "           -7.1297556331517642e-01],\n",
       "          [-4.6617265548258563e-01,  1.5957426570514388e-01,\n",
       "           -3.9134257519029192e-01],\n",
       "          [ 3.5941423853109655e-01,  3.1023729111167631e-01,\n",
       "            6.9510437435141370e-01]],\n",
       "\n",
       "         [[ 5.6757806917589448e-01, -3.4197260813066299e-01,\n",
       "            8.4959301734257631e-01],\n",
       "          [ 9.6993996670508165e-01,  4.3573175697510924e-01,\n",
       "           -5.0820498764163405e-02],\n",
       "          [ 1.4345407931081217e-01,  1.0260944172070630e+00,\n",
       "            7.7075398701385966e-01]]],\n",
       "\n",
       "\n",
       "        [[[ 3.1756405332600846e-01,  9.9963689688209534e-01,\n",
       "           -3.7765023213853732e-01],\n",
       "          [-7.3383596309169685e-01, -1.2546250151807048e-01,\n",
       "           -2.4104680952355295e-01],\n",
       "          [ 9.1975853800869589e-01,  2.2553388516914002e-01,\n",
       "            9.8877924397513250e-01]],\n",
       "\n",
       "         [[-8.4192832052777455e-01,  3.0183565047808464e-01,\n",
       "           -4.0000885431046429e-01],\n",
       "          [-1.9710333743594034e-02,  3.5820338304164479e-01,\n",
       "            7.1719494990277977e-01],\n",
       "          [-5.7099191718421416e-01, -8.3416282746260129e-01,\n",
       "           -1.3432866792086545e-01]],\n",
       "\n",
       "         [[ 7.6038269941556477e-02,  8.4671312800343335e-01,\n",
       "            1.0174739417618439e+00],\n",
       "          [-2.4092550146832317e-01, -4.6794384659984140e-01,\n",
       "           -6.7125249691421163e-01],\n",
       "          [-9.0052738108143937e-01, -5.0162003592074556e-01,\n",
       "           -2.7580128658176534e-01]]]], device='cuda:0')"
      ]
     },
     "execution_count": 12,
     "metadata": {},
     "output_type": "execute_result"
    }
   ],
   "source": [
    "filt"
   ]
  },
  {
   "cell_type": "code",
   "execution_count": 13,
   "id": "46c0080c",
   "metadata": {},
   "outputs": [
    {
     "data": {
      "text/plain": [
       "torch.Size([3, 10, 64, 64])"
      ]
     },
     "execution_count": 13,
     "metadata": {},
     "output_type": "execute_result"
    }
   ],
   "source": [
    "y_enc.shape"
   ]
  },
  {
   "cell_type": "code",
   "execution_count": 14,
   "id": "6bef0475",
   "metadata": {},
   "outputs": [
    {
     "data": {
      "text/plain": [
       "torch.Size([3, 10, 128, 128])"
      ]
     },
     "execution_count": 14,
     "metadata": {},
     "output_type": "execute_result"
    }
   ],
   "source": [
    "dp_dc.shape"
   ]
  },
  {
   "cell_type": "code",
   "execution_count": 17,
   "id": "eccfe5b0",
   "metadata": {},
   "outputs": [],
   "source": [
    "bat_ave = dp_dc.sum(dim=0) / 3."
   ]
  },
  {
   "cell_type": "code",
   "execution_count": 18,
   "id": "c360ec70",
   "metadata": {},
   "outputs": [
    {
     "data": {
      "text/plain": [
       "torch.Size([10, 128, 128])"
      ]
     },
     "execution_count": 18,
     "metadata": {},
     "output_type": "execute_result"
    }
   ],
   "source": [
    "bat_ave.shape"
   ]
  },
  {
   "cell_type": "code",
   "execution_count": 19,
   "id": "a791b1ee",
   "metadata": {},
   "outputs": [],
   "source": [
    "a_sum = bat_ave.sum(dim=0) / 10."
   ]
  },
  {
   "cell_type": "code",
   "execution_count": 2,
   "id": "7c5b2290",
   "metadata": {},
   "outputs": [],
   "source": [
    "import torch as torch\n",
    "import numpy as np\n",
    "\n",
    "samp = torch.from_numpy(np.ones((126,126)))"
   ]
  },
  {
   "cell_type": "code",
   "execution_count": 11,
   "id": "4d736a09",
   "metadata": {},
   "outputs": [],
   "source": [
    "samp = torch.zeros((128, 128))"
   ]
  },
  {
   "cell_type": "code",
   "execution_count": 12,
   "id": "757b28ee",
   "metadata": {},
   "outputs": [
    {
     "data": {
      "text/plain": [
       "tensor([[0., 0., 0.,  ..., 0., 0., 0.],\n",
       "        [0., 0., 0.,  ..., 0., 0., 0.],\n",
       "        [0., 0., 0.,  ..., 0., 0., 0.],\n",
       "        ...,\n",
       "        [0., 0., 0.,  ..., 0., 0., 0.],\n",
       "        [0., 0., 0.,  ..., 0., 0., 0.],\n",
       "        [0., 0., 0.,  ..., 0., 0., 0.]])"
      ]
     },
     "execution_count": 12,
     "metadata": {},
     "output_type": "execute_result"
    }
   ],
   "source": [
    "samp"
   ]
  },
  {
   "cell_type": "code",
   "execution_count": 13,
   "id": "2919c198",
   "metadata": {},
   "outputs": [],
   "source": [
    "samp[0:126, 0:126] = 1."
   ]
  },
  {
   "cell_type": "code",
   "execution_count": 14,
   "id": "2da169ec",
   "metadata": {},
   "outputs": [
    {
     "data": {
      "text/plain": [
       "tensor([[1., 1., 1.,  ..., 1., 0., 0.],\n",
       "        [1., 1., 1.,  ..., 1., 0., 0.],\n",
       "        [1., 1., 1.,  ..., 1., 0., 0.],\n",
       "        ...,\n",
       "        [1., 1., 1.,  ..., 1., 0., 0.],\n",
       "        [0., 0., 0.,  ..., 0., 0., 0.],\n",
       "        [0., 0., 0.,  ..., 0., 0., 0.]])"
      ]
     },
     "execution_count": 14,
     "metadata": {},
     "output_type": "execute_result"
    }
   ],
   "source": [
    "samp"
   ]
  },
  {
   "cell_type": "code",
   "execution_count": 1,
   "id": "8d55fb27",
   "metadata": {},
   "outputs": [
    {
     "name": "stdout",
     "output_type": "stream",
     "text": [
      "Reading /home/dhz/bci-data/ds003478-download/sub-010/eeg/sub-010_task-Rest_run-01_eeg.fdt\n"
     ]
    }
   ],
   "source": [
    "from client import *\n",
    "from data import *\n",
    "from conv import *\n",
    "torch.set_printoptions(precision=16)\n",
    "torch.set_default_tensor_type(torch.DoubleTensor)\n",
    "\n",
    "client = Client(10)\n",
    "\n",
    "input_batch = 3\n",
    "input_channel = 3\n",
    "input_size = 128\n",
    "filter_channel = 10\n",
    "filter_size = 3\n",
    "act = 'RELU'\n",
    "pooling_size = 2\n",
    "\n",
    "conv1 = Conv(input_batch, input_channel, input_size, filter_channel, filter_size, act, pooling_size)"
   ]
  },
  {
   "cell_type": "code",
   "execution_count": 2,
   "id": "9750ae11",
   "metadata": {},
   "outputs": [
    {
     "name": "stderr",
     "output_type": "stream",
     "text": [
      "/home/dhz/anaconda3/lib/python3.9/site-packages/crypten/mpc/primitives/arithmetic.py:372: UserWarning: Defining your `__torch_function__` as a plain method is deprecated and will be an error in future, please define it as a classmethod. (Triggered internally at  ../torch/csrc/utils/python_arg_parser.cpp:295.)\n",
      "  result.share = getattr(torch, op)(result.share, y, *args, **kwargs)\n",
      "/home/dhz/anaconda3/lib/python3.9/site-packages/crypten/mpc/provider/tfp_provider.py:25: UserWarning: Defining your `__torch_function__` as a plain method is deprecated and will be an error in future, please define it as a classmethod. (Triggered internally at  ../torch/csrc/utils/python_arg_parser.cpp:295.)\n",
      "  c = getattr(torch, op)(a, b, *args, **kwargs)\n",
      "/home/dhz/anaconda3/lib/python3.9/site-packages/crypten/mpc/primitives/beaver.py:82: UserWarning: Defining your `__torch_function__` as a plain method is deprecated and will be an error in future, please define it as a classmethod. (Triggered internally at  ../torch/csrc/utils/python_arg_parser.cpp:295.)\n",
      "  c._tensor += getattr(torch, op)(epsilon, b._tensor, *args, **kwargs)\n",
      "/home/dhz/anaconda3/lib/python3.9/site-packages/crypten/mpc/primitives/beaver.py:83: UserWarning: Defining your `__torch_function__` as a plain method is deprecated and will be an error in future, please define it as a classmethod. (Triggered internally at  ../torch/csrc/utils/python_arg_parser.cpp:295.)\n",
      "  c._tensor += getattr(torch, op)(a._tensor, delta, *args, **kwargs)\n",
      "/home/dhz/anaconda3/lib/python3.9/site-packages/crypten/mpc/primitives/beaver.py:84: UserWarning: Defining your `__torch_function__` as a plain method is deprecated and will be an error in future, please define it as a classmethod. (Triggered internally at  ../torch/csrc/utils/python_arg_parser.cpp:295.)\n",
      "  c += getattr(torch, op)(epsilon, delta, *args, **kwargs)\n"
     ]
    }
   ],
   "source": [
    "result = conv1.forward(client.get_data())"
   ]
  },
  {
   "cell_type": "code",
   "execution_count": 3,
   "id": "09b0e3f7",
   "metadata": {},
   "outputs": [],
   "source": [
    "prev = torch.from_numpy(np.random.rand(result.shape[0], result.shape[1], result.shape[2], result.shape[3])).cuda()\n",
    "rate = 10e-04"
   ]
  },
  {
   "cell_type": "code",
   "execution_count": 4,
   "id": "0276b99e",
   "metadata": {},
   "outputs": [
    {
     "name": "stdout",
     "output_type": "stream",
     "text": [
      "dp_dc: torch.Size([3, 10, 128, 128])\n",
      "bias: torch.Size([3, 10, 128, 128])\n"
     ]
    },
    {
     "name": "stderr",
     "output_type": "stream",
     "text": [
      "/home/dhz/experiment-BCI/client.py:25: UserWarning: An output with one or more elements was resized since it had shape [2], which does not match the required output shape [3, 10, 128, 128]. This behavior is deprecated, and in a future PyTorch release outputs will not be resized unless they have zero elements. You can explicitly reuse an out tensor t by resizing it, inplace, to zero elements with t.resize_(0). (Triggered internally at  ../aten/src/ATen/native/Resize.cpp:17.)\n",
      "  dp_dr = torch.eq(p_plain.repeat_interleave(2, dim=2).repeat_interleave(2, dim=3), relu_plain, out=torch.tensor([1.,0.]).cuda())\n",
      "/home/dhz/experiment-BCI/client.py:28: UserWarning: An output with one or more elements was resized since it had shape [2], which does not match the required output shape [3, 10, 128, 128]. This behavior is deprecated, and in a future PyTorch release outputs will not be resized unless they have zero elements. You can explicitly reuse an out tensor t by resizing it, inplace, to zero elements with t.resize_(0). (Triggered internally at  ../aten/src/ATen/native/Resize.cpp:17.)\n",
      "  dr_dc = torch.eq(relu_plain, conv_plain, out=torch.tensor([1.,0.]).cuda())\n",
      "/home/dhz/anaconda3/lib/python3.9/site-packages/crypten/mpc/primitives/arithmetic.py:243: UserWarning: Defining your `__torch_function__` as a plain method is deprecated and will be an error in future, please define it as a classmethod. (Triggered internally at  ../torch/csrc/utils/python_arg_parser.cpp:295.)\n",
      "  result.share = torch.nn.functional.pad(\n"
     ]
    }
   ],
   "source": [
    "filt, aft = conv1.backpropagation(prev, client, rate)"
   ]
  },
  {
   "cell_type": "code",
   "execution_count": 5,
   "id": "7c001efa",
   "metadata": {},
   "outputs": [
    {
     "data": {
      "text/plain": [
       "torch.Size([3, 3, 128, 128])"
      ]
     },
     "execution_count": 5,
     "metadata": {},
     "output_type": "execute_result"
    }
   ],
   "source": [
    "aft.shape"
   ]
  },
  {
   "cell_type": "code",
   "execution_count": 6,
   "id": "e5cf3bd7",
   "metadata": {},
   "outputs": [
    {
     "data": {
      "text/plain": [
       "tensor([[[[ 5.7951067273092121e+01, -2.6054528964786968e+01,\n",
       "           -7.6047566586614863e+00,  ...,\n",
       "           -5.5154411409194353e+00, -2.0205264615278601e+01,\n",
       "            3.0861079103211409e+01],\n",
       "          [ 1.4036201959369581e+02,  2.1852172079692104e+02,\n",
       "            2.6554260790319091e+02,  ...,\n",
       "            2.7582892013268167e+02,  1.6318521262789039e+02,\n",
       "            5.8109625668545476e+01],\n",
       "          [ 6.0292579731774616e+01,  1.1042288569972429e+02,\n",
       "            1.2343763222696153e+02,  ...,\n",
       "            1.0296925782678757e+02,  1.0833124187203380e+01,\n",
       "           -1.5273214465157114e+01],\n",
       "          ...,\n",
       "          [ 1.0014375369291133e+02,  6.2767063351627051e+01,\n",
       "            6.7590043743570192e+01,  ...,\n",
       "            8.1971259347235502e+01, -2.8118346878106355e+01,\n",
       "           -1.8172765457034721e+01],\n",
       "          [ 5.8420193068767610e+01,  1.3582384058981444e+02,\n",
       "            1.2770535699895898e+02,  ...,\n",
       "            1.3507237137389353e+02,  3.2253196306670759e+01,\n",
       "           -1.9441747896750002e+01],\n",
       "          [-2.5756422190230055e+01, -4.7105785923099376e+01,\n",
       "           -5.4028143277728617e+01,  ...,\n",
       "           -4.7048783015533061e+01, -2.8437627392094136e+01,\n",
       "           -4.7662184349381285e+01]],\n",
       "\n",
       "         [[-7.9753516709551334e+01, -1.9278551094804698e+01,\n",
       "            1.0371611346337687e+01,  ...,\n",
       "            1.6385768135793896e+01,  6.0875797185427473e+01,\n",
       "            1.9027933949630981e+01],\n",
       "          [-5.0505427754200568e+01,  6.7344793825772001e+01,\n",
       "            6.3157157028407624e+01,  ...,\n",
       "            7.0112783318886699e+01,  8.3026507041022910e+01,\n",
       "           -3.6719771601011900e+01],\n",
       "          [-1.6458785296610020e+02, -1.5455684656478550e+02,\n",
       "           -3.7843151368503385e+01,  ...,\n",
       "           -2.6324747122080026e+01,  5.6763585027517486e+01,\n",
       "            7.2621964984094802e+01],\n",
       "          ...,\n",
       "          [-1.4217616904761866e+02, -5.3853053530779789e+01,\n",
       "            1.1412024314143846e+02,  ...,\n",
       "            1.1001417720183463e+02,  1.5338235175608679e+02,\n",
       "            1.2457593849479503e+02],\n",
       "          [ 7.9718794023793578e+00, -6.1675121605243376e+01,\n",
       "            6.3861993637276441e+01,  ...,\n",
       "            5.4414704231898398e+01,  2.9908571291731207e+01,\n",
       "            7.6725735583719853e+01],\n",
       "          [-1.1757258244663171e+02, -1.4057049923351701e+02,\n",
       "           -8.4816390654787099e+01,  ...,\n",
       "           -6.8536105976580245e+01, -1.7713052278207616e+01,\n",
       "            1.5254606066124239e+01]],\n",
       "\n",
       "         [[ 5.0847551836307034e+01, -8.5935208824958991e+01,\n",
       "           -4.7718591658975512e+01,  ...,\n",
       "           -4.5103102807290711e+01, -3.5518509817920830e+01,\n",
       "            4.7557142494101129e+01],\n",
       "          [ 2.1337564597342367e+02, -5.1705737059216375e+01,\n",
       "           -7.9615568832536681e+01,  ...,\n",
       "           -7.1026555163325739e+01, -1.4962254890691003e+02,\n",
       "           -2.2569065334245579e+01],\n",
       "          [ 1.2173278521884099e+02, -1.0716224806485464e+02,\n",
       "           -1.4974512289198324e+02,  ...,\n",
       "           -1.4280741887350607e+02, -1.0176657370911400e+02,\n",
       "           -7.4653554754910960e+00],\n",
       "          ...,\n",
       "          [ 2.6415056180095382e+02, -1.1035269704564645e+02,\n",
       "           -8.2605900431840666e+01,  ...,\n",
       "           -6.4827769883811030e+01, -7.5624203390953852e+01,\n",
       "            4.5253218874273628e+01],\n",
       "          [-2.3558925889848652e+01, -1.6792215857988577e+02,\n",
       "           -2.3607331404580009e+02,  ...,\n",
       "           -2.2669947006427674e+02, -1.2527364593974045e+02,\n",
       "           -6.3747599066086245e+01],\n",
       "          [ 4.4476734763067540e+00,  2.8900329006970335e+01,\n",
       "            4.7583754547660355e+01,  ...,\n",
       "            3.7181697431987601e+01,  6.0099678322502676e+01,\n",
       "            4.8001447084487801e+00]]],\n",
       "\n",
       "\n",
       "        [[[ 5.5843946426891137e+01, -1.3143710064647653e+01,\n",
       "           -3.5158737809362123e+01,  ...,\n",
       "           -3.6151431226295671e+01, -5.6532508748468899e+01,\n",
       "           -3.9579861830880425e-01],\n",
       "          [ 8.7865060838526489e+01,  1.6753774308233557e+02,\n",
       "            1.8767441809039906e+02,  ...,\n",
       "            1.8682308086713513e+02,  9.3653507423465783e+01,\n",
       "            3.8939661626172317e+01],\n",
       "          [ 1.3057512020650069e+01,  1.5020357120814288e+02,\n",
       "            2.5191769357022605e+02,  ...,\n",
       "            2.5268222246930361e+02,  1.3984121837688539e+02,\n",
       "            1.2703687092124261e+02],\n",
       "          ...,\n",
       "          [ 2.1853626614564714e-01,  1.6217705277418949e+02,\n",
       "            1.9235759673977054e+02,  ...,\n",
       "            2.0842819712802464e+02,  8.9591870018789322e+01,\n",
       "            2.6396757182211637e+01],\n",
       "          [ 4.1672300311560662e+01,  1.4946421552684370e+02,\n",
       "            2.0043545526082329e+02,  ...,\n",
       "            1.9780800008819648e+02,  1.3193216296191648e+02,\n",
       "            2.9913159648148689e+01],\n",
       "          [-5.7437355974756954e+01,  3.6360030236601425e+01,\n",
       "            2.2279136393854888e+01,  ...,\n",
       "            2.5858668577545828e+01,  1.3399103544386598e+01,\n",
       "           -3.1044265216588368e+01]],\n",
       "\n",
       "         [[-4.4439749584325682e+01,  5.3747113135293283e+01,\n",
       "            1.4037461417508206e+02,  ...,\n",
       "            1.4449711009424411e+02,  1.8167355034891750e+02,\n",
       "            4.0880300043762411e+01],\n",
       "          [-4.1429573743115469e+01,  3.3618679907904216e+01,\n",
       "            1.1200375283678972e+02,  ...,\n",
       "            1.1464208094649649e+02,  1.7648419887006537e+02,\n",
       "            4.1983375259312155e+01],\n",
       "          [-1.1355151591919919e+02, -3.1751489516636994e+01,\n",
       "            9.7221957631419798e+01,  ...,\n",
       "            1.0652170669579507e+02,  1.2028053425279236e+02,\n",
       "            1.7744313058237537e+00],\n",
       "          ...,\n",
       "          [-1.8518902416263617e+02, -1.3013117066984680e+02,\n",
       "            3.1809449577389817e+01,  ...,\n",
       "            2.0050733211071226e+01,  1.6873750474912808e+02,\n",
       "            7.6777797648716486e+01],\n",
       "          [-3.6873634186243407e+01, -1.1204139365140443e+02,\n",
       "           -4.4989896487889091e+01,  ...,\n",
       "           -4.4739108144847009e+01, -3.3558573102664688e+01,\n",
       "            1.5323136895170112e+01],\n",
       "          [-9.5748405579834611e+01, -1.0631117258156911e+02,\n",
       "           -6.7163612037594547e+01,  ...,\n",
       "           -6.5435226918629368e+01, -1.5159799167597951e+01,\n",
       "            7.9088489486039784e+00]],\n",
       "\n",
       "         [[ 6.4359299787477923e+01, -5.0861093943268536e+01,\n",
       "            2.3726038969529696e+01,  ...,\n",
       "            3.9638880582165456e+01, -7.0341302050833150e+00,\n",
       "            5.3799501580937253e+01],\n",
       "          [ 1.4875759319967773e+02, -8.5386816284254365e+00,\n",
       "           -9.6410242072345866e+01,  ...,\n",
       "           -9.4739901849565769e+01, -2.7439758307858392e+02,\n",
       "           -7.7654656129236486e+01],\n",
       "          [ 6.7780354302689460e+01, -8.0192876043864544e+01,\n",
       "           -1.6509439669526205e+02,  ...,\n",
       "           -1.6574695425153340e+02, -2.4399968274244634e+02,\n",
       "           -1.3120146208780679e+02],\n",
       "          ...,\n",
       "          [ 2.0044845834824469e+02,  2.4874179222062224e+02,\n",
       "            2.0253039878564636e+02,  ...,\n",
       "            2.0953161674605181e+02, -5.1622157692872975e+01,\n",
       "           -5.2164194281432884e+01],\n",
       "          [ 3.0866212404722184e+01, -1.7025164882162301e+01,\n",
       "           -5.3789225841480913e+01,  ...,\n",
       "           -4.8764495628308708e+01, -7.4511357990176847e+01,\n",
       "           -3.5262654366368423e+01],\n",
       "          [ 2.0354443330475611e+00,  5.5863157227394538e+01,\n",
       "            8.4195415690113990e+01,  ...,\n",
       "            8.7231448924631167e+01,  7.6158720916933845e+01,\n",
       "            1.4158160165726189e+01]]],\n",
       "\n",
       "\n",
       "        [[[ 5.4135572932361079e+01,  6.2590023265012720e+00,\n",
       "            2.0425943651667708e+01,  ...,\n",
       "            3.5599237950379596e+01, -9.7483584693410457e+00,\n",
       "            1.6292822855045060e+01],\n",
       "          [ 1.3989432524840205e+02,  2.0431736175500649e+02,\n",
       "            2.7384252589245574e+02,  ...,\n",
       "            2.9499882981918046e+02,  1.7919897692397021e+02,\n",
       "            7.6197172429759917e+01],\n",
       "          [ 9.9526164822246287e+01,  1.0644152932086460e+02,\n",
       "            8.1295263155291835e+01,  ...,\n",
       "            9.3454263447650035e+01, -1.8259518724417234e+01,\n",
       "           -1.3921165921591832e+01],\n",
       "          ...,\n",
       "          [ 1.3434848228133475e+02,  6.1544159390075251e+01,\n",
       "           -1.8046444367361680e+01,  ...,\n",
       "           -1.8291351103622432e+01, -1.6625679249662485e+02,\n",
       "           -6.3458747158034470e+01],\n",
       "          [ 1.4364867260222158e+02,  1.9613651594124258e+02,\n",
       "            1.0051306767502152e+02,  ...,\n",
       "            9.6681664288644797e+01, -5.3167690988779974e+01,\n",
       "           -7.7728293827234637e+01],\n",
       "          [-1.2420164686098307e+01, -3.5731262304191873e+01,\n",
       "           -9.2551223902378453e+01,  ...,\n",
       "           -9.8521740916716709e+01, -1.0330334503536396e+02,\n",
       "           -6.4559943941596956e+01]],\n",
       "\n",
       "         [[-7.0978979285417807e+01, -4.3440776156756238e+00,\n",
       "            5.1498941070378791e+01,  ...,\n",
       "            6.2959448960877282e+01,  1.2138397314250389e+02,\n",
       "            5.7312531548646149e+01],\n",
       "          [-5.7858100326052231e+01,  4.8152259884792514e+01,\n",
       "            7.1663211799861415e+01,  ...,\n",
       "            7.4268081441147530e+01,  1.1217521826678501e+02,\n",
       "            7.0655436778348690e+00],\n",
       "          [-1.4715062989419479e+02, -1.8997880050855505e+02,\n",
       "           -7.1090625962261925e+01,  ...,\n",
       "           -7.1253073101673237e+01,  4.8145123536140780e+01,\n",
       "            8.8321821489860710e+01],\n",
       "          ...,\n",
       "          [-8.9111480783884744e+01, -1.8017677677977636e+02,\n",
       "            5.4393680124941426e+01,  ...,\n",
       "            6.2187463395386807e+01,  1.1664451357231289e+02,\n",
       "            2.0405719476538454e+02],\n",
       "          [ 1.8868446555738096e+01, -7.5070272348695752e+01,\n",
       "            1.3365956511973596e+02,  ...,\n",
       "            1.2967216253704214e+02,  8.0608032005606461e+01,\n",
       "            1.6330555035632656e+02],\n",
       "          [-9.6045837396975600e+01, -1.3796071686301065e+02,\n",
       "           -7.8321858301871814e+01,  ...,\n",
       "           -8.5046677580550991e+01, -2.1555820189279633e+01,\n",
       "            3.6998155029119971e+01]],\n",
       "\n",
       "         [[ 6.3449758605711665e+01, -2.4476697663072681e+01,\n",
       "            9.0940396789234406e+00,  ...,\n",
       "            1.0258093851305027e+01, -4.3433520031154245e+01,\n",
       "            3.7402667254678107e+01],\n",
       "          [ 1.9020820517867773e+02,  4.8631400887736973e+01,\n",
       "           -6.0929738186821893e+00,  ...,\n",
       "            5.3426822755380243e-01, -1.2757487834897378e+02,\n",
       "           -3.7615570276882245e+01],\n",
       "          [ 2.9935352119779942e+01, -2.9274410059223698e+01,\n",
       "           -4.3299776175851306e+01,  ...,\n",
       "           -3.1816255314896772e+01, -3.5328792093556636e+01,\n",
       "           -5.4279174246356146e+00],\n",
       "          ...,\n",
       "          [-9.1039471355985427e+01, -2.2269894931996367e+02,\n",
       "           -2.0379540089956063e+02,  ...,\n",
       "           -2.0675899877322698e+02, -8.7194555478008084e+01,\n",
       "            3.9206602474584777e+01],\n",
       "          [-7.8291271535757048e+01, -1.7546586985858931e+02,\n",
       "           -2.4660431431453134e+02,  ...,\n",
       "           -2.2452788321233632e+02, -1.2542663428084172e+02,\n",
       "           -6.3045664291161671e+01],\n",
       "          [-1.6005010392475302e+01, -2.8127617743490909e+01,\n",
       "           -5.1808153887583337e+01,  ...,\n",
       "           -3.8687070855628782e+01, -1.5187678243370019e+01,\n",
       "           -2.0766904573771900e+01]]]], device='cuda:0')"
      ]
     },
     "execution_count": 6,
     "metadata": {},
     "output_type": "execute_result"
    }
   ],
   "source": [
    "aft"
   ]
  },
  {
   "cell_type": "code",
   "execution_count": 1,
   "id": "5d322341",
   "metadata": {},
   "outputs": [
    {
     "name": "stdout",
     "output_type": "stream",
     "text": [
      "Reading /home/dhz/bci-data/ds003478-download/sub-010/eeg/sub-010_task-Rest_run-01_eeg.fdt\n"
     ]
    }
   ],
   "source": [
    "from fcn import *\n",
    "from client import *\n",
    "from data import *\n",
    "from conv import *\n",
    "torch.set_printoptions(precision=16)\n",
    "torch.set_default_tensor_type(torch.DoubleTensor)\n",
    "\n",
    "client = Client(10)\n",
    "\n",
    "input_size = 5\n",
    "input_batch = 3\n",
    "output_size = 9\n",
    "\n",
    "FCN1 = FCN(input_batch, input_size, output_size)"
   ]
  },
  {
   "cell_type": "code",
   "execution_count": 2,
   "id": "d1abde07",
   "metadata": {},
   "outputs": [
    {
     "name": "stderr",
     "output_type": "stream",
     "text": [
      "/home/dhz/anaconda3/lib/python3.9/site-packages/crypten/mpc/primitives/arithmetic.py:372: UserWarning: Defining your `__torch_function__` as a plain method is deprecated and will be an error in future, please define it as a classmethod. (Triggered internally at  ../torch/csrc/utils/python_arg_parser.cpp:295.)\n",
      "  result.share = getattr(torch, op)(result.share, y, *args, **kwargs)\n",
      "/home/dhz/anaconda3/lib/python3.9/site-packages/crypten/mpc/provider/tfp_provider.py:25: UserWarning: Defining your `__torch_function__` as a plain method is deprecated and will be an error in future, please define it as a classmethod. (Triggered internally at  ../torch/csrc/utils/python_arg_parser.cpp:295.)\n",
      "  c = getattr(torch, op)(a, b, *args, **kwargs)\n",
      "/home/dhz/anaconda3/lib/python3.9/site-packages/crypten/mpc/primitives/beaver.py:82: UserWarning: Defining your `__torch_function__` as a plain method is deprecated and will be an error in future, please define it as a classmethod. (Triggered internally at  ../torch/csrc/utils/python_arg_parser.cpp:295.)\n",
      "  c._tensor += getattr(torch, op)(epsilon, b._tensor, *args, **kwargs)\n",
      "/home/dhz/anaconda3/lib/python3.9/site-packages/crypten/mpc/primitives/beaver.py:83: UserWarning: Defining your `__torch_function__` as a plain method is deprecated and will be an error in future, please define it as a classmethod. (Triggered internally at  ../torch/csrc/utils/python_arg_parser.cpp:295.)\n",
      "  c._tensor += getattr(torch, op)(a._tensor, delta, *args, **kwargs)\n",
      "/home/dhz/anaconda3/lib/python3.9/site-packages/crypten/mpc/primitives/beaver.py:84: UserWarning: Defining your `__torch_function__` as a plain method is deprecated and will be an error in future, please define it as a classmethod. (Triggered internally at  ../torch/csrc/utils/python_arg_parser.cpp:295.)\n",
      "  c += getattr(torch, op)(epsilon, delta, *args, **kwargs)\n"
     ]
    },
    {
     "data": {
      "text/plain": [
       "torch.Size([3, 1, 9])"
      ]
     },
     "execution_count": 2,
     "metadata": {},
     "output_type": "execute_result"
    }
   ],
   "source": [
    "x = torch.rand((input_batch, 1, input_size)).cuda()\n",
    "\n",
    "x_enc = crypten.cryptensor(x)\n",
    "\n",
    "FCN1.forward(x_enc).shape"
   ]
  },
  {
   "cell_type": "code",
   "execution_count": 3,
   "id": "c45df9d7",
   "metadata": {},
   "outputs": [
    {
     "name": "stdout",
     "output_type": "stream",
     "text": [
      "gradient: torch.Size([3, 1, 9])\n"
     ]
    }
   ],
   "source": [
    "prev = torch.rand((input_batch, 1, output_size)).cuda()\n",
    "weight, aft = FCN1.backpropagation(prev, client, rate=0.01)"
   ]
  },
  {
   "cell_type": "code",
   "execution_count": 4,
   "id": "d0dbe657",
   "metadata": {},
   "outputs": [
    {
     "data": {
      "text/plain": [
       "torch.Size([3, 5, 9])"
      ]
     },
     "execution_count": 4,
     "metadata": {},
     "output_type": "execute_result"
    }
   ],
   "source": [
    "weight.shape"
   ]
  },
  {
   "cell_type": "code",
   "execution_count": 5,
   "id": "7299ab5e",
   "metadata": {},
   "outputs": [
    {
     "data": {
      "text/plain": [
       "torch.Size([3, 1, 5])"
      ]
     },
     "execution_count": 5,
     "metadata": {},
     "output_type": "execute_result"
    }
   ],
   "source": [
    "aft.shape"
   ]
  },
  {
   "cell_type": "code",
   "execution_count": 7,
   "id": "113ae502",
   "metadata": {},
   "outputs": [
    {
     "name": "stdout",
     "output_type": "stream",
     "text": [
      "Reading /home/dhz/bci-data/ds003478-download/sub-001/eeg/sub-001_task-Rest_run-01_eeg.fdt\n"
     ]
    }
   ],
   "source": [
    "from data import *\n",
    "data, label = DataExtract(1).extract()"
   ]
  },
  {
   "cell_type": "code",
   "execution_count": 9,
   "id": "9414c3dc",
   "metadata": {},
   "outputs": [
    {
     "data": {
      "text/plain": [
       "(3, 122, 2)"
      ]
     },
     "execution_count": 9,
     "metadata": {},
     "output_type": "execute_result"
    }
   ],
   "source": [
    "label.shape"
   ]
  },
  {
   "cell_type": "code",
   "execution_count": 7,
   "id": "45de2dd2",
   "metadata": {},
   "outputs": [
    {
     "data": {
      "text/plain": [
       "torch.Size([3, 4, 5, 6])"
      ]
     },
     "execution_count": 7,
     "metadata": {},
     "output_type": "execute_result"
    }
   ],
   "source": [
    "prev = torch.from_numpy(np.random.rand(3,4,5,6)).cuda()\n",
    "aft = torch.from_numpy(np.random.rand(3,4,5,6)).cuda()\n",
    "prev.mul(aft).shape"
   ]
  },
  {
   "cell_type": "code",
   "execution_count": 1,
   "id": "2bb70a01",
   "metadata": {},
   "outputs": [
    {
     "name": "stdout",
     "output_type": "stream",
     "text": [
      "Reading /home/dhz/bci-data/ds003478-download/sub-001/eeg/sub-001_task-Rest_run-01_eeg.fdt\n"
     ]
    }
   ],
   "source": [
    "import mne as mne\n",
    "import numpy as np\n",
    "import pandas as pd\n",
    "import torch as torch\n",
    "\n",
    "file_dir = '/home/dhz/bci-data/ds003478-download/sub-001/eeg/sub-001_task-Rest_run-01_eeg.set'\n",
    "data = mne.io.read_raw_eeglab()"
   ]
  },
  {
   "cell_type": "code",
   "execution_count": null,
   "id": "92ee5188",
   "metadata": {},
   "outputs": [],
   "source": []
  }
 ],
 "metadata": {
  "kernelspec": {
   "display_name": "Python 3 (ipykernel)",
   "language": "python",
   "name": "python3"
  },
  "language_info": {
   "codemirror_mode": {
    "name": "ipython",
    "version": 3
   },
   "file_extension": ".py",
   "mimetype": "text/x-python",
   "name": "python",
   "nbconvert_exporter": "python",
   "pygments_lexer": "ipython3",
   "version": "3.9.12"
  },
  "toc": {
   "base_numbering": 1,
   "nav_menu": {},
   "number_sections": true,
   "sideBar": true,
   "skip_h1_title": false,
   "title_cell": "Table of Contents",
   "title_sidebar": "Contents",
   "toc_cell": false,
   "toc_position": {},
   "toc_section_display": true,
   "toc_window_display": false
  },
  "varInspector": {
   "cols": {
    "lenName": 16,
    "lenType": 16,
    "lenVar": 40
   },
   "kernels_config": {
    "python": {
     "delete_cmd_postfix": "",
     "delete_cmd_prefix": "del ",
     "library": "var_list.py",
     "varRefreshCmd": "print(var_dic_list())"
    },
    "r": {
     "delete_cmd_postfix": ") ",
     "delete_cmd_prefix": "rm(",
     "library": "var_list.r",
     "varRefreshCmd": "cat(var_dic_list()) "
    }
   },
   "types_to_exclude": [
    "module",
    "function",
    "builtin_function_or_method",
    "instance",
    "_Feature"
   ],
   "window_display": false
  }
 },
 "nbformat": 4,
 "nbformat_minor": 5
}

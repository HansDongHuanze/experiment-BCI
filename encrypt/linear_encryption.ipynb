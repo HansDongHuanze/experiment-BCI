{
 "cells": [
  {
   "cell_type": "code",
   "execution_count": 1,
   "id": "d728f795",
   "metadata": {},
   "outputs": [],
   "source": [
    "import tenseal as ts"
   ]
  },
  {
   "cell_type": "code",
   "execution_count": 2,
   "id": "286347c8",
   "metadata": {},
   "outputs": [
    {
     "name": "stdout",
     "output_type": "stream",
     "text": [
      "Is the context private? Yes\n",
      "Is the context public? No\n"
     ]
    }
   ],
   "source": [
    "public_context = ts.context(ts.SCHEME_TYPE.BFV, poly_modulus_degree=4096, plain_modulus=1032193)\n",
    "print(\"Is the context private?\", (\"Yes\" if public_context.is_private() else \"No\"))\n",
    "print(\"Is the context public?\", (\"Yes\" if public_context.is_public() else \"No\"))"
   ]
  },
  {
   "cell_type": "code",
   "execution_count": 3,
   "id": "50cef686",
   "metadata": {},
   "outputs": [
    {
     "name": "stdout",
     "output_type": "stream",
     "text": [
      "<tenseal.enc_context.SecretKey object at 0x7fdcd44a8370>\n"
     ]
    }
   ],
   "source": [
    "sk = public_context.secret_key()\n",
    "print(sk)"
   ]
  },
  {
   "cell_type": "code",
   "execution_count": 4,
   "id": "e0f482e4",
   "metadata": {},
   "outputs": [
    {
     "name": "stdout",
     "output_type": "stream",
     "text": [
      "Secret-key dropped\n",
      "Is the context private? No\n",
      "Is the context public? Yes\n"
     ]
    }
   ],
   "source": [
    "# the context will drop the secret-key at this point\n",
    "public_context.make_context_public()\n",
    "print(\"Secret-key dropped\")\n",
    "print(\"Is the context private?\", (\"Yes\" if public_context.is_private() else \"No\"))\n",
    "print(\"Is the context public?\", (\"Yes\" if public_context.is_public() else \"No\"))"
   ]
  },
  {
   "cell_type": "code",
   "execution_count": 5,
   "id": "89af6882",
   "metadata": {},
   "outputs": [],
   "source": [
    "import tenseal as ts\n",
    "\n",
    "context = ts.context(ts.SCHEME_TYPE.BFV, poly_modulus_degree=4096, plain_modulus=1032193)"
   ]
  },
  {
   "cell_type": "code",
   "execution_count": 6,
   "id": "89caf2c1",
   "metadata": {},
   "outputs": [
    {
     "name": "stdout",
     "output_type": "stream",
     "text": [
      "We just encrypted our plaintext vector of size: 5\n",
      "<tenseal.tensors.bfvvector.BFVVector object at 0x7fdcd44a8eb0>\n"
     ]
    }
   ],
   "source": [
    "#创建加密vector\n",
    "plain_vector = [60, 66, 73, 81, 90]\n",
    "encrypted_vector = ts.bfv_vector(context, plain_vector)\n",
    "print(\"We just encrypted our plaintext vector of size:\", encrypted_vector.size())\n",
    "print(encrypted_vector)"
   ]
  },
  {
   "cell_type": "code",
   "execution_count": 3,
   "id": "21ff0f13",
   "metadata": {},
   "outputs": [],
   "source": [
    "import tenseal as ts\n",
    "\n",
    "context = ts.context(ts.SCHEME_TYPE.CKKS, poly_modulus_degree=4096, plain_modulus=1032193)\n",
    "context.global_scale = 2 ** 20"
   ]
  },
  {
   "cell_type": "code",
   "execution_count": 4,
   "id": "ac66b9d2",
   "metadata": {},
   "outputs": [
    {
     "name": "stdout",
     "output_type": "stream",
     "text": [
      "5\n",
      "<tenseal.tensors.ckksvector.CKKSVector object at 0x7fd1470e96a0>\n"
     ]
    }
   ],
   "source": [
    "plain_vector = [60, 66, 73, 81, 90]\n",
    "encrypted_vector = ts.ckks_vector(context, plain_vector)\n",
    "print(encrypted_vector.size())\n",
    "print(encrypted_vector)"
   ]
  },
  {
   "cell_type": "code",
   "execution_count": 1,
   "id": "f5148aa0",
   "metadata": {},
   "outputs": [],
   "source": [
    "import tenseal as ts\n",
    "import numpy as np"
   ]
  },
  {
   "cell_type": "code",
   "execution_count": 2,
   "id": "6b3a3499",
   "metadata": {},
   "outputs": [],
   "source": [
    "def gencontext():\n",
    "    context = ts.context(ts.SCHEME_TYPE.CKKS, 8192, coeff_mod_bit_sizes=[22 ,21, 21, 21, 21, 21, 21, 21, 21, 21])\n",
    "    context.global_scale = pow(2, 21)\n",
    "    context.generate_galois_keys()\n",
    "    return context"
   ]
  },
  {
   "cell_type": "code",
   "execution_count": 3,
   "id": "8a097082",
   "metadata": {},
   "outputs": [],
   "source": [
    "def encrypt(context, np_tensor):\n",
    "    return ts.ckks_tensor(context, np_tensor)"
   ]
  },
  {
   "cell_type": "code",
   "execution_count": 4,
   "id": "73c8caa1",
   "metadata": {},
   "outputs": [],
   "source": [
    "def decrypt(enc_tensor):\n",
    "    return np.array(enc_tensor.decrypt().tolist())"
   ]
  },
  {
   "cell_type": "code",
   "execution_count": 5,
   "id": "34830551",
   "metadata": {},
   "outputs": [],
   "source": [
    "def bootstrap(context, tensor):\n",
    "    # To refresh a tensor with exhausted depth. \n",
    "    # Here, bootstrap = enc(dec())\n",
    "    tmp = decrypt(tensor)\n",
    "    return encrypt(context, tmp)"
   ]
  },
  {
   "cell_type": "code",
   "execution_count": 6,
   "id": "9b681626",
   "metadata": {},
   "outputs": [
    {
     "name": "stdout",
     "output_type": "stream",
     "text": [
      "[[2.00001927 3.99936407 6.00080306 7.99988295]\n",
      " [2.00043567 4.00134972 9.99936724 7.99948168]]\n"
     ]
    }
   ],
   "source": [
    "a = np.array([[1.,2.,3.,4.], [1.,2.,5.,4.]])\n",
    "context = gencontext()\n",
    "enc_a = encrypt(context, a)\n",
    "enc_at = encrypt(context, a.T)\n",
    "enc_b = encrypt(context, a)\n",
    "res = enc_a + enc_b\n",
    "# res = enc_a - enc_b\n",
    "# res = enc_a * enc_b\n",
    "# res = enc_a @ enc_at\n",
    "print(decrypt(res))"
   ]
  },
  {
   "cell_type": "code",
   "execution_count": 1,
   "id": "78cb9cef",
   "metadata": {},
   "outputs": [],
   "source": [
    "import tenseal as ts"
   ]
  },
  {
   "cell_type": "code",
   "execution_count": 2,
   "id": "a12487bb",
   "metadata": {},
   "outputs": [],
   "source": [
    "# Setup TenSEAL context\n",
    "context = ts.context(\n",
    "            ts.SCHEME_TYPE.CKKS,\n",
    "            poly_modulus_degree=8192,\n",
    "            coeff_mod_bit_sizes=[60, 40, 40, 60]\n",
    "          )\n",
    "context.generate_galois_keys()\n",
    "context.global_scale = 2**40"
   ]
  },
  {
   "cell_type": "code",
   "execution_count": 3,
   "id": "bb7d1462",
   "metadata": {},
   "outputs": [],
   "source": [
    "v1 = [0, 1, 2, 3, 4]\n",
    "v2 = [4, 3, 2, 1, 0]"
   ]
  },
  {
   "cell_type": "code",
   "execution_count": 4,
   "id": "ea312fb3",
   "metadata": {},
   "outputs": [],
   "source": [
    "# encrypted vectors【编码和加密】\n",
    "enc_v1 = ts.ckks_vector(context, v1)  \n",
    "enc_v2 = ts.ckks_vector(context, v2)"
   ]
  },
  {
   "cell_type": "code",
   "execution_count": 12,
   "id": "d85e8e18",
   "metadata": {},
   "outputs": [
    {
     "data": {
      "text/plain": [
       "[3.9999999989590425,\n",
       " 4.000000000494298,\n",
       " 4.000000002252071,\n",
       " 4.000000001254584,\n",
       " 3.999999999585722]"
      ]
     },
     "execution_count": 12,
     "metadata": {},
     "output_type": "execute_result"
    }
   ],
   "source": [
    "# 密文+密文\n",
    "result = enc_v1 + enc_v2\n",
    "result.decrypt() # ~ [4, 4, 4, 4, 4]"
   ]
  },
  {
   "cell_type": "code",
   "execution_count": 13,
   "id": "be67187c",
   "metadata": {},
   "outputs": [
    {
     "name": "stdout",
     "output_type": "stream",
     "text": [
      "[10.00000115580431]\n"
     ]
    }
   ],
   "source": [
    "# 点积：<密文,密文>\n",
    "result = enc_v1.dot(enc_v2)\n",
    "print(result.decrypt()) # ~ [10]"
   ]
  },
  {
   "cell_type": "code",
   "execution_count": 14,
   "id": "95178cd4",
   "metadata": {},
   "outputs": [],
   "source": [
    "matrix = [\n",
    "  [73, 0.5, 8],\n",
    "  [81, -5, 66],\n",
    "  [-100, -78, -2],\n",
    "  [0, 9, 17],\n",
    "  [69, 11 , 10],\n",
    "]"
   ]
  },
  {
   "cell_type": "code",
   "execution_count": 15,
   "id": "518bb7cb",
   "metadata": {},
   "outputs": [
    {
     "name": "stdout",
     "output_type": "stream",
     "text": [
      "[157.00002083897044, -90.0000121386421, 153.00002058846434]\n"
     ]
    }
   ],
   "source": [
    "# 密文向量*明文矩阵\n",
    "result = enc_v1.matmul(matrix)\n",
    "print(result.decrypt()) # ~ [157, -90, 153]"
   ]
  },
  {
   "cell_type": "code",
   "execution_count": 1,
   "id": "ff31055a",
   "metadata": {},
   "outputs": [],
   "source": [
    "# make TenSEALContext object which stores keys and parameters\n",
    "import tenseal as ts\n",
    "\n",
    "context = ts.context(\n",
    "            ts.SCHEME_TYPE.CKKS,\n",
    "            poly_modulus_degree=8192,\n",
    "            coeff_mod_bit_sizes=[60, 40, 40, 60]\n",
    "          )\n",
    "context.generate_galois_keys()\n",
    "context.global_scale = 2**40\n",
    "\n",
    "# coeff_mod_bit_sizes: 系数模数大小，[60, 40, 40, 60]\n",
    "# global_scale: 缩放因子"
   ]
  },
  {
   "cell_type": "code",
   "execution_count": null,
   "id": "8eb44745",
   "metadata": {},
   "outputs": [],
   "source": []
  }
 ],
 "metadata": {
  "kernelspec": {
   "display_name": "Python 3 (ipykernel)",
   "language": "python",
   "name": "python3"
  },
  "language_info": {
   "codemirror_mode": {
    "name": "ipython",
    "version": 3
   },
   "file_extension": ".py",
   "mimetype": "text/x-python",
   "name": "python",
   "nbconvert_exporter": "python",
   "pygments_lexer": "ipython3",
   "version": "3.9.12"
  },
  "toc": {
   "base_numbering": 1,
   "nav_menu": {},
   "number_sections": true,
   "sideBar": true,
   "skip_h1_title": false,
   "title_cell": "Table of Contents",
   "title_sidebar": "Contents",
   "toc_cell": false,
   "toc_position": {},
   "toc_section_display": true,
   "toc_window_display": false
  },
  "varInspector": {
   "cols": {
    "lenName": 16,
    "lenType": 16,
    "lenVar": 40
   },
   "kernels_config": {
    "python": {
     "delete_cmd_postfix": "",
     "delete_cmd_prefix": "del ",
     "library": "var_list.py",
     "varRefreshCmd": "print(var_dic_list())"
    },
    "r": {
     "delete_cmd_postfix": ") ",
     "delete_cmd_prefix": "rm(",
     "library": "var_list.r",
     "varRefreshCmd": "cat(var_dic_list()) "
    }
   },
   "types_to_exclude": [
    "module",
    "function",
    "builtin_function_or_method",
    "instance",
    "_Feature"
   ],
   "window_display": false
  }
 },
 "nbformat": 4,
 "nbformat_minor": 5
}

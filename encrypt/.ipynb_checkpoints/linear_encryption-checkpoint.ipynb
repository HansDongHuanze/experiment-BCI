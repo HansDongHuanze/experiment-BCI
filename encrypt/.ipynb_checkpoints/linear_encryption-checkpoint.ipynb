{
 "cells": [
  {
   "cell_type": "code",
   "execution_count": 1,
   "id": "d728f795",
   "metadata": {},
   "outputs": [],
   "source": [
    "import tenseal as ts"
   ]
  },
  {
   "cell_type": "code",
   "execution_count": 2,
   "id": "286347c8",
   "metadata": {},
   "outputs": [
    {
     "name": "stdout",
     "output_type": "stream",
     "text": [
      "Is the context private? Yes\n",
      "Is the context public? No\n"
     ]
    }
   ],
   "source": [
    "public_context = ts.context(ts.SCHEME_TYPE.BFV, poly_modulus_degree=4096, plain_modulus=1032193)\n",
    "print(\"Is the context private?\", (\"Yes\" if public_context.is_private() else \"No\"))\n",
    "print(\"Is the context public?\", (\"Yes\" if public_context.is_public() else \"No\"))"
   ]
  },
  {
   "cell_type": "code",
   "execution_count": 3,
   "id": "50cef686",
   "metadata": {},
   "outputs": [
    {
     "name": "stdout",
     "output_type": "stream",
     "text": [
      "<tenseal.enc_context.SecretKey object at 0x7fdcd44a8370>\n"
     ]
    }
   ],
   "source": [
    "sk = public_context.secret_key()\n",
    "print(sk)"
   ]
  },
  {
   "cell_type": "code",
   "execution_count": 4,
   "id": "e0f482e4",
   "metadata": {},
   "outputs": [
    {
     "name": "stdout",
     "output_type": "stream",
     "text": [
      "Secret-key dropped\n",
      "Is the context private? No\n",
      "Is the context public? Yes\n"
     ]
    }
   ],
   "source": [
    "# the context will drop the secret-key at this point\n",
    "public_context.make_context_public()\n",
    "print(\"Secret-key dropped\")\n",
    "print(\"Is the context private?\", (\"Yes\" if public_context.is_private() else \"No\"))\n",
    "print(\"Is the context public?\", (\"Yes\" if public_context.is_public() else \"No\"))"
   ]
  },
  {
   "cell_type": "code",
   "execution_count": 5,
   "id": "89af6882",
   "metadata": {},
   "outputs": [],
   "source": [
    "import tenseal as ts\n",
    "\n",
    "context = ts.context(ts.SCHEME_TYPE.BFV, poly_modulus_degree=4096, plain_modulus=1032193)"
   ]
  },
  {
   "cell_type": "code",
   "execution_count": 6,
   "id": "89caf2c1",
   "metadata": {},
   "outputs": [
    {
     "name": "stdout",
     "output_type": "stream",
     "text": [
      "We just encrypted our plaintext vector of size: 5\n",
      "<tenseal.tensors.bfvvector.BFVVector object at 0x7fdcd44a8eb0>\n"
     ]
    }
   ],
   "source": [
    "#创建加密vector\n",
    "plain_vector = [60, 66, 73, 81, 90]\n",
    "encrypted_vector = ts.bfv_vector(context, plain_vector)\n",
    "print(\"We just encrypted our plaintext vector of size:\", encrypted_vector.size())\n",
    "print(encrypted_vector)"
   ]
  },
  {
   "cell_type": "code",
   "execution_count": 1,
   "id": "21ff0f13",
   "metadata": {},
   "outputs": [],
   "source": [
    "import tenseal as ts\n",
    "\n",
    "context = ts.context(ts.SCHEME_TYPE.CKKS, poly_modulus_degree=4096, plain_modulus=1032193)"
   ]
  },
  {
   "cell_type": "code",
   "execution_count": 2,
   "id": "bff1ef49",
   "metadata": {},
   "outputs": [
    {
     "ename": "ValueError",
     "evalue": "no global scale",
     "output_type": "error",
     "traceback": [
      "\u001b[0;31m---------------------------------------------------------------------------\u001b[0m",
      "\u001b[0;31mValueError\u001b[0m                                Traceback (most recent call last)",
      "Input \u001b[0;32mIn [2]\u001b[0m, in \u001b[0;36m<cell line: 2>\u001b[0;34m()\u001b[0m\n\u001b[1;32m      1\u001b[0m plain_vector \u001b[38;5;241m=\u001b[39m [\u001b[38;5;241m60\u001b[39m, \u001b[38;5;241m66\u001b[39m, \u001b[38;5;241m73\u001b[39m, \u001b[38;5;241m81\u001b[39m, \u001b[38;5;241m90\u001b[39m]\n\u001b[0;32m----> 2\u001b[0m encrypted_vector \u001b[38;5;241m=\u001b[39m \u001b[43mts\u001b[49m\u001b[38;5;241;43m.\u001b[39;49m\u001b[43mckks_vector\u001b[49m\u001b[43m(\u001b[49m\u001b[43mcontext\u001b[49m\u001b[43m,\u001b[49m\u001b[43m \u001b[49m\u001b[43mplain_vector\u001b[49m\u001b[43m)\u001b[49m\n\u001b[1;32m      3\u001b[0m \u001b[38;5;28mprint\u001b[39m(encrypted_vector\u001b[38;5;241m.\u001b[39msize())\n\u001b[1;32m      4\u001b[0m \u001b[38;5;28mprint\u001b[39m(encrypted_vector)\n",
      "File \u001b[0;32m~/anaconda3/lib/python3.9/site-packages/tenseal/__init__.py:102\u001b[0m, in \u001b[0;36mckks_vector\u001b[0;34m(*args, **kwargs)\u001b[0m\n\u001b[1;32m    100\u001b[0m \u001b[38;5;28;01mdef\u001b[39;00m \u001b[38;5;21mckks_vector\u001b[39m(\u001b[38;5;241m*\u001b[39margs, \u001b[38;5;241m*\u001b[39m\u001b[38;5;241m*\u001b[39mkwargs) \u001b[38;5;241m-\u001b[39m\u001b[38;5;241m>\u001b[39m CKKSVector:\n\u001b[1;32m    101\u001b[0m     \u001b[38;5;124;03m\"\"\"Constructor function for tenseal.CKKSVector\"\"\"\u001b[39;00m\n\u001b[0;32m--> 102\u001b[0m     \u001b[38;5;28;01mreturn\u001b[39;00m \u001b[43mCKKSVector\u001b[49m\u001b[43m(\u001b[49m\u001b[38;5;241;43m*\u001b[39;49m\u001b[43margs\u001b[49m\u001b[43m,\u001b[49m\u001b[43m \u001b[49m\u001b[38;5;241;43m*\u001b[39;49m\u001b[38;5;241;43m*\u001b[39;49m\u001b[43mkwargs\u001b[49m\u001b[43m)\u001b[49m\n",
      "File \u001b[0;32m~/anaconda3/lib/python3.9/site-packages/tenseal/tensors/ckksvector.py:42\u001b[0m, in \u001b[0;36mCKKSVector.__init__\u001b[0;34m(self, context, vector, scale, data)\u001b[0m\n\u001b[1;32m     39\u001b[0m vector \u001b[38;5;241m=\u001b[39m vector\u001b[38;5;241m.\u001b[39mraw\n\u001b[1;32m     41\u001b[0m \u001b[38;5;28;01mif\u001b[39;00m scale \u001b[38;5;129;01mis\u001b[39;00m \u001b[38;5;28;01mNone\u001b[39;00m:\n\u001b[0;32m---> 42\u001b[0m     \u001b[38;5;28mself\u001b[39m\u001b[38;5;241m.\u001b[39mdata \u001b[38;5;241m=\u001b[39m \u001b[43mts\u001b[49m\u001b[38;5;241;43m.\u001b[39;49m\u001b[43m_ts_cpp\u001b[49m\u001b[38;5;241;43m.\u001b[39;49m\u001b[43mCKKSVector\u001b[49m\u001b[43m(\u001b[49m\u001b[43mcontext\u001b[49m\u001b[38;5;241;43m.\u001b[39;49m\u001b[43mdata\u001b[49m\u001b[43m,\u001b[49m\u001b[43m \u001b[49m\u001b[43mvector\u001b[49m\u001b[43m)\u001b[49m\n\u001b[1;32m     43\u001b[0m \u001b[38;5;28;01melse\u001b[39;00m:\n\u001b[1;32m     44\u001b[0m     \u001b[38;5;28mself\u001b[39m\u001b[38;5;241m.\u001b[39mdata \u001b[38;5;241m=\u001b[39m ts\u001b[38;5;241m.\u001b[39m_ts_cpp\u001b[38;5;241m.\u001b[39mCKKSVector(context\u001b[38;5;241m.\u001b[39mdata, vector, scale)\n",
      "\u001b[0;31mValueError\u001b[0m: no global scale"
     ]
    }
   ],
   "source": [
    "plain_vector = [60, 66, 73, 81, 90]\n",
    "encrypted_vector = ts.ckks_vector(context, plain_vector)\n",
    "print(encrypted_vector.size())\n",
    "print(encrypted_vector)"
   ]
  },
  {
   "cell_type": "code",
   "execution_count": null,
   "id": "74310012",
   "metadata": {},
   "outputs": [],
   "source": []
  }
 ],
 "metadata": {
  "kernelspec": {
   "display_name": "Python 3 (ipykernel)",
   "language": "python",
   "name": "python3"
  },
  "language_info": {
   "codemirror_mode": {
    "name": "ipython",
    "version": 3
   },
   "file_extension": ".py",
   "mimetype": "text/x-python",
   "name": "python",
   "nbconvert_exporter": "python",
   "pygments_lexer": "ipython3",
   "version": "3.9.12"
  },
  "toc": {
   "base_numbering": 1,
   "nav_menu": {},
   "number_sections": true,
   "sideBar": true,
   "skip_h1_title": false,
   "title_cell": "Table of Contents",
   "title_sidebar": "Contents",
   "toc_cell": false,
   "toc_position": {},
   "toc_section_display": true,
   "toc_window_display": false
  },
  "varInspector": {
   "cols": {
    "lenName": 16,
    "lenType": 16,
    "lenVar": 40
   },
   "kernels_config": {
    "python": {
     "delete_cmd_postfix": "",
     "delete_cmd_prefix": "del ",
     "library": "var_list.py",
     "varRefreshCmd": "print(var_dic_list())"
    },
    "r": {
     "delete_cmd_postfix": ") ",
     "delete_cmd_prefix": "rm(",
     "library": "var_list.r",
     "varRefreshCmd": "cat(var_dic_list()) "
    }
   },
   "types_to_exclude": [
    "module",
    "function",
    "builtin_function_or_method",
    "instance",
    "_Feature"
   ],
   "window_display": false
  }
 },
 "nbformat": 4,
 "nbformat_minor": 5
}

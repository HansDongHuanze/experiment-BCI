{
 "cells": [
  {
   "cell_type": "code",
   "execution_count": 1,
   "id": "439e9c9b",
   "metadata": {},
   "outputs": [
    {
     "data": {
      "text/plain": [
       "'\\n百万富翁问题实现\\n\\n自己生成公钥私钥并解密加密\\n算法无安全性\\n'"
      ]
     },
     "execution_count": 1,
     "metadata": {},
     "output_type": "execute_result"
    }
   ],
   "source": [
    "import math\n",
    "import random\n",
    "\n",
    "'''\n",
    "百万富翁问题实现\n",
    "\n",
    "自己生成公钥私钥并解密加密\n",
    "算法无安全性\n",
    "'''"
   ]
  },
  {
   "cell_type": "code",
   "execution_count": 2,
   "id": "2f48e641",
   "metadata": {},
   "outputs": [],
   "source": [
    "# 获取小于等于指定数的素数数组\n",
    "def get_prime_arr(max):\n",
    "    prime_array = []\n",
    "    for i in range(2, max):\n",
    "        if is_prime(i):\n",
    "            prime_array.append(i)\n",
    "    return prime_array"
   ]
  },
  {
   "cell_type": "code",
   "execution_count": 3,
   "id": "86861570",
   "metadata": {},
   "outputs": [],
   "source": [
    "# 判断是否为素数\n",
    "def is_prime(num):\n",
    "    if num == 1:\n",
    "        raise Exception('1既不是素数也不是合数')\n",
    "    for i in range(2, math.floor(math.sqrt(num)) + 1):\n",
    "        if num % i == 0:\n",
    "            # print(\"当前数%s为非素数,其有因子%s\" % (str(num), str(i)))\n",
    "            return False\n",
    "    return True"
   ]
  },
  {
   "cell_type": "code",
   "execution_count": 4,
   "id": "77645f62",
   "metadata": {},
   "outputs": [],
   "source": [
    "# 找出一个指定范围内与n互质的整数e\n",
    "def find_pub_key(n, max_num):\n",
    "    while True:\n",
    "        # 这里是随机获取保证随机性\n",
    "        e = random.randint(1, max_num)\n",
    "        if gcd(e, n) == 1:\n",
    "            break\n",
    "    return e"
   ]
  },
  {
   "cell_type": "code",
   "execution_count": 5,
   "id": "b10d7b90",
   "metadata": {},
   "outputs": [],
   "source": [
    "# 求两个数的最大公约数\n",
    "def gcd(a, b):\n",
    "    if b == 0:\n",
    "        return a\n",
    "    else:\n",
    "        return gcd(b, a % b)"
   ]
  },
  {
   "cell_type": "code",
   "execution_count": 6,
   "id": "51e01cb1",
   "metadata": {},
   "outputs": [],
   "source": [
    "# 根据e*d mod s = 1,找出d\n",
    "def find_pri_key(e, s):\n",
    "    for d in range(100000000):  # 随机太难找，就按顺序找到d,range里的数字随意\n",
    "        x = (e * d) % s\n",
    "        if x == 1:\n",
    "            return d"
   ]
  },
  {
   "cell_type": "code",
   "execution_count": 7,
   "id": "fe425bbd",
   "metadata": {},
   "outputs": [],
   "source": [
    "# 生成公钥和私钥\n",
    "def build_key():\n",
    "    prime_arr = get_prime_arr(100)\n",
    "    p = random.choice(prime_arr)\n",
    "    # 保证p和q不为同一个数\n",
    "    while True:\n",
    "        q = random.choice(prime_arr)\n",
    "        if p != q:\n",
    "            break\n",
    "    print(\"随机生成两个素数p和q. p=\", p, \" q=\", q)\n",
    "    n = p * q\n",
    "    s = (p - 1) * (q - 1)\n",
    "    e = find_pub_key(s, 100)\n",
    "    print(\"根据e和(p-1)*(q-1))互质得到: e=\", e)\n",
    "    d = find_pri_key(e, s)\n",
    "    print(\"根据(e*d) 模 ((p-1)*(q-1)) 等于 1 得到 d=\", d)\n",
    "    print(\"公钥:   n=\", n, \"  e=\", e)\n",
    "    print(\"私钥:   n=\", n, \"  d=\", d)\n",
    "    return n, e, d"
   ]
  },
  {
   "cell_type": "code",
   "execution_count": 8,
   "id": "f75f52ec",
   "metadata": {},
   "outputs": [],
   "source": [
    "# 加密\n",
    "def rsa_encrypt(content, ned):\n",
    "    # 密文B = 明文A的e次方 模 n， ned为公钥\n",
    "    # content就是明文A，ned【1】是e， ned【0】是n\n",
    "    B = pow(content, ned[1]) % ned[0]\n",
    "    return B"
   ]
  },
  {
   "cell_type": "code",
   "execution_count": 9,
   "id": "d998a7e6",
   "metadata": {},
   "outputs": [],
   "source": [
    "# 解密\n",
    "def rsa_decrypt(encrypt_result, ned):\n",
    "    # 明文C = 密文B的d次方 模 n， ned为私钥匙\n",
    "    # encrypt_result就是密文, ned【1】是d, ned【0】是n\n",
    "    C = pow(encrypt_result, ned[1]) % ned[0]\n",
    "    return C"
   ]
  },
  {
   "cell_type": "code",
   "execution_count": 10,
   "id": "35df1982",
   "metadata": {},
   "outputs": [
    {
     "name": "stdout",
     "output_type": "stream",
     "text": [
      "随机生成两个素数p和q. p= 89  q= 73\n",
      "根据e和(p-1)*(q-1))互质得到: e= 73\n",
      "根据(e*d) 模 ((p-1)*(q-1)) 等于 1 得到 d= 3385\n",
      "公钥:   n= 6497   e= 73\n",
      "私钥:   n= 6497   d= 3385\n"
     ]
    }
   ],
   "source": [
    "pbvk = build_key()\n",
    "pbk = (pbvk[0], pbvk[1])  # 公钥\n",
    "pvk = (pbvk[0], pbvk[2])  # 私钥"
   ]
  },
  {
   "cell_type": "code",
   "execution_count": 11,
   "id": "3200f5d0",
   "metadata": {},
   "outputs": [
    {
     "name": "stdout",
     "output_type": "stream",
     "text": [
      "王有8亿,李有3亿\n"
     ]
    }
   ],
   "source": [
    "# 生成两个亿万富翁\n",
    "i = random.randint(1, 9)\n",
    "j = random.randint(1, 9)\n",
    "print(\"王有%s亿,李有%s亿\" % (i, j))"
   ]
  },
  {
   "cell_type": "code",
   "execution_count": 12,
   "id": "9ff45034",
   "metadata": {},
   "outputs": [
    {
     "name": "stdout",
     "output_type": "stream",
     "text": [
      "随机选取的大整数x: 13\n",
      "大整数加密后得密文K: 2276\n",
      "王收到数字c: 2273\n"
     ]
    }
   ],
   "source": [
    "x = random.randint(1, 100)\n",
    "print(\"随机选取的大整数x: %s\" % (x))\n",
    "K = rsa_encrypt(x, pbk)\n",
    "print(\"大整数加密后得密文K: %s\" % (K))\n",
    "c = K - j\n",
    "print(\"王收到数字c: %s\" % (c))"
   ]
  },
  {
   "cell_type": "code",
   "execution_count": 13,
   "id": "1d63e759",
   "metadata": {},
   "outputs": [
    {
     "name": "stdout",
     "output_type": "stream",
     "text": [
      "对c+1到c+10进行解密: [1325, 888, 13, 2277, 307, 3885, 2280, 4909, 2720, 1042]\n"
     ]
    }
   ],
   "source": [
    "c_list = []\n",
    "for k in range(1, 11):\n",
    "    t = rsa_decrypt(c + k, pvk)\n",
    "    c_list.append(t)\n",
    "print(\"对c+1到c+10进行解密: %s\" % c_list)"
   ]
  },
  {
   "cell_type": "code",
   "execution_count": 14,
   "id": "eb844774",
   "metadata": {},
   "outputs": [
    {
     "name": "stdout",
     "output_type": "stream",
     "text": [
      "p的值为: 87\n",
      "除以p后的余数为: [20, 18, 13, 15, 46, 57, 18, 37, 23, 85]\n"
     ]
    }
   ],
   "source": [
    "# 选取合适大小的p,这里根据感觉写了100以内的随机数,生成的序列的值也要求小于100\n",
    "# 这个p是该算法的精华,在实际中选取p的策略要考虑到安全性和性能的因素\n",
    "d_list = []\n",
    "p = 0\n",
    "while True:\n",
    "    # 每次选取p重置列表\n",
    "    d_list = []\n",
    "    p = random.randint(1, 100)\n",
    "    for k in range(0, 10):\n",
    "        if c_list[k] % p <= 100:\n",
    "            d_list.append(c_list[k] % p)\n",
    "        else:\n",
    "            break\n",
    "    if len(d_list) >= 10:\n",
    "        break\n",
    "print(\"p的值为: %s\" % p)\n",
    "print(\"除以p后的余数为: %s\" % d_list)"
   ]
  },
  {
   "cell_type": "code",
   "execution_count": 15,
   "id": "e780167f",
   "metadata": {},
   "outputs": [
    {
     "name": "stdout",
     "output_type": "stream",
     "text": [
      "前i位不动后面数字+1后: [20, 18, 13, 15, 46, 57, 18, 37, 24, 86]\n",
      "第j个数字为: 13\n",
      "x mod p为: 13\n",
      "i>=j,即王比李有钱或一样有钱\n",
      "验证成功\n"
     ]
    }
   ],
   "source": [
    "for k in range(i, 10):\n",
    "    d_list[k] = d_list[k] + 1\n",
    "print(\"前i位不动后面数字+1后: %s\" % d_list)\n",
    "print(\"第j个数字为: %s\" % d_list[j - 1])\n",
    "print(\"x mod p为: %s\" % (x % p))\n",
    "if d_list[j - 1] == x % p:\n",
    "    print(\"i>=j,即王比李有钱或一样有钱\")\n",
    "    if i - j >= 0:\n",
    "        print(\"验证成功\")\n",
    "    else:\n",
    "        print(\"代码存在错误\")\n",
    "else:\n",
    "    print(\"i<j,即李比王有钱\")\n",
    "    if i - j < 0:\n",
    "        print(\"验证成功\")\n",
    "    else:\n",
    "        print(\"代码存在错误\")"
   ]
  },
  {
   "cell_type": "code",
   "execution_count": 1,
   "id": "90b66d75",
   "metadata": {},
   "outputs": [],
   "source": [
    "import torch, crypten\n",
    "import numpy as np"
   ]
  },
  {
   "cell_type": "code",
   "execution_count": 2,
   "id": "70e3d332",
   "metadata": {},
   "outputs": [],
   "source": [
    "# set up cimmunication and sync random seeds:\n",
    "crypten.init()"
   ]
  },
  {
   "cell_type": "code",
   "execution_count": 3,
   "id": "c76e194e",
   "metadata": {},
   "outputs": [],
   "source": [
    "# secret share tensor:\n",
    "x = torch.tensor([1.0, 2.0, 3.0])\n",
    "x_enc = crypten.cryptensor(x, src=0)"
   ]
  },
  {
   "cell_type": "code",
   "execution_count": 4,
   "id": "e3b8f47b",
   "metadata": {},
   "outputs": [
    {
     "data": {
      "text/plain": [
       "MPCTensor(\n",
       "\t_tensor=tensor([ 65536, 131072, 196608])\n",
       "\tplain_text=HIDDEN\n",
       "\tptype=ptype.arithmetic\n",
       ")"
      ]
     },
     "execution_count": 4,
     "metadata": {},
     "output_type": "execute_result"
    }
   ],
   "source": [
    "x_enc"
   ]
  },
  {
   "cell_type": "code",
   "execution_count": 5,
   "id": "c65911de",
   "metadata": {},
   "outputs": [
    {
     "name": "stderr",
     "output_type": "stream",
     "text": [
      "/home/dhz/anaconda3/lib/python3.9/site-packages/torch/_tensor.py:575: UserWarning: floor_divide is deprecated, and will be removed in a future version of pytorch. It currently rounds toward 0 (like the 'trunc' function NOT 'floor'). This results in incorrect rounding for negative values.\n",
      "To keep the current behavior, use torch.div(a, b, rounding_mode='trunc'), or for actual floor division, use torch.div(a, b, rounding_mode='floor'). (Triggered internally at  /pytorch/aten/src/ATen/native/BinaryOps.cpp:467.)\n",
      "  return torch.floor_divide(self, other)\n"
     ]
    }
   ],
   "source": [
    "x_dec = x_enc.get_plain_text()\n",
    "assert torch.allclose(x_dec, x)"
   ]
  },
  {
   "cell_type": "code",
   "execution_count": 6,
   "id": "b9b29f7a",
   "metadata": {},
   "outputs": [
    {
     "name": "stdout",
     "output_type": "stream",
     "text": [
      "crypted text: MPCTensor(\n",
      "\t_tensor=tensor([ 177492,  458751, 1073152])\n",
      "\tplain_text=HIDDEN\n",
      "\tptype=ptype.arithmetic\n",
      ") expected result: tensor([ 2.7083,  7.0000, 16.3750]), the result is: tensor([ 2.7083,  7.0000, 16.3750])\n"
     ]
    }
   ],
   "source": [
    "x_result = 1 + x + x * x / 2 + x * x * x / (2 * 3) + x * x * x * x / (2 * 3 * 4)\n",
    "x_enc_result = 1 + x_enc + x_enc * x_enc / 2 + x_enc * x_enc * x_enc / (2 * 3) + x_enc * x_enc * x_enc * x_enc / (2 * 3 * 4)\n",
    "x_enc_result_dec = x_enc_result.get_plain_text()\n",
    "print(f'crypted text: {x_enc_result} expected result: {x_result}, the result is: {x_enc_result_dec}')"
   ]
  },
  {
   "cell_type": "code",
   "execution_count": 19,
   "id": "6acccfce",
   "metadata": {},
   "outputs": [
    {
     "name": "stdout",
     "output_type": "stream",
     "text": [
      "crypted text: MPCTensor(\n",
      "\t_tensor=tensor([47958, 57790, 62485])\n",
      "\tplain_text=HIDDEN\n",
      "\tptype=ptype.arithmetic\n",
      ") expected result: tensor([0.7311, 0.8808, 0.9526]), the result is: tensor([0.7318, 0.8818, 0.9534])\n"
     ]
    }
   ],
   "source": [
    "x_result = 1 / (1 + np.exp(-x))\n",
    "x_enc_result = x_enc.sigmoid()\n",
    "x_enc_result_dec = x_enc_result.get_plain_text()\n",
    "print(f'crypted text: {x_enc_result} expected result: {x_result}, the result is: {x_enc_result_dec}')"
   ]
  },
  {
   "cell_type": "code",
   "execution_count": 15,
   "id": "3d0ef911",
   "metadata": {},
   "outputs": [],
   "source": []
  },
  {
   "cell_type": "code",
   "execution_count": null,
   "id": "5baab92e",
   "metadata": {},
   "outputs": [],
   "source": []
  }
 ],
 "metadata": {
  "kernelspec": {
   "display_name": "Python 3 (ipykernel)",
   "language": "python",
   "name": "python3"
  },
  "language_info": {
   "codemirror_mode": {
    "name": "ipython",
    "version": 3
   },
   "file_extension": ".py",
   "mimetype": "text/x-python",
   "name": "python",
   "nbconvert_exporter": "python",
   "pygments_lexer": "ipython3",
   "version": "3.9.12"
  },
  "toc": {
   "base_numbering": 1,
   "nav_menu": {},
   "number_sections": true,
   "sideBar": true,
   "skip_h1_title": false,
   "title_cell": "Table of Contents",
   "title_sidebar": "Contents",
   "toc_cell": false,
   "toc_position": {},
   "toc_section_display": true,
   "toc_window_display": false
  },
  "varInspector": {
   "cols": {
    "lenName": 16,
    "lenType": 16,
    "lenVar": 40
   },
   "kernels_config": {
    "python": {
     "delete_cmd_postfix": "",
     "delete_cmd_prefix": "del ",
     "library": "var_list.py",
     "varRefreshCmd": "print(var_dic_list())"
    },
    "r": {
     "delete_cmd_postfix": ") ",
     "delete_cmd_prefix": "rm(",
     "library": "var_list.r",
     "varRefreshCmd": "cat(var_dic_list()) "
    }
   },
   "types_to_exclude": [
    "module",
    "function",
    "builtin_function_or_method",
    "instance",
    "_Feature"
   ],
   "window_display": false
  }
 },
 "nbformat": 4,
 "nbformat_minor": 5
}

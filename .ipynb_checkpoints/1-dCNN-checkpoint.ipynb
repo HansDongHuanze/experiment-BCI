{
 "cells": [
  {
   "cell_type": "code",
   "execution_count": 1,
   "id": "1550cd93",
   "metadata": {},
   "outputs": [],
   "source": [
    "import mne as mne\n",
    "import numpy as np\n",
    "import pandas as pd\n",
    "import torch as torch\n",
    "import time\n",
    "from tqdm import tqdm\n",
    "\n",
    "from preprocessing import Preprocessing"
   ]
  },
  {
   "cell_type": "code",
   "execution_count": 2,
   "id": "f69b56e7",
   "metadata": {},
   "outputs": [],
   "source": [
    "labels = pd.read_csv('/home/dhz/bci-data/ds003478-download/participants.tsv', sep='\\t', header=0)\n",
    "col = labels.columns\n",
    "col = col[[0, 1, 2, 3, 5, 6, 7, 8]]\n",
    "labels = labels.drop(col, axis=1)\n",
    "\n",
    "labels = np.array(labels)\n",
    "\n",
    "labels[37] = 0."
   ]
  },
  {
   "cell_type": "code",
   "execution_count": 3,
   "id": "60b0361b",
   "metadata": {},
   "outputs": [
    {
     "data": {
      "text/plain": [
       "array([[ 0.],\n",
       "       [ 4.],\n",
       "       [ 7.],\n",
       "       [ 1.],\n",
       "       [ 1.],\n",
       "       [ 1.],\n",
       "       [ 0.],\n",
       "       [ 5.],\n",
       "       [ 5.],\n",
       "       [ 0.],\n",
       "       [ 0.],\n",
       "       [ 1.],\n",
       "       [ 6.],\n",
       "       [ 3.],\n",
       "       [ 2.],\n",
       "       [ 0.],\n",
       "       [ 1.],\n",
       "       [ 3.],\n",
       "       [ 2.],\n",
       "       [ 0.],\n",
       "       [ 1.],\n",
       "       [ 1.],\n",
       "       [ 0.],\n",
       "       [ 1.],\n",
       "       [ 1.],\n",
       "       [ 1.],\n",
       "       [ 2.],\n",
       "       [ 5.],\n",
       "       [ 2.],\n",
       "       [ 2.],\n",
       "       [ 2.],\n",
       "       [ 0.],\n",
       "       [ 0.],\n",
       "       [ 1.],\n",
       "       [ 0.],\n",
       "       [ 0.],\n",
       "       [ 1.],\n",
       "       [ 0.],\n",
       "       [ 0.],\n",
       "       [ 5.],\n",
       "       [ 2.],\n",
       "       [ 3.],\n",
       "       [ 2.],\n",
       "       [ 1.],\n",
       "       [ 2.],\n",
       "       [ 2.],\n",
       "       [ 4.],\n",
       "       [ 1.],\n",
       "       [ 1.],\n",
       "       [ 2.],\n",
       "       [ 3.],\n",
       "       [29.],\n",
       "       [25.],\n",
       "       [ 0.],\n",
       "       [27.],\n",
       "       [ 0.],\n",
       "       [ 0.],\n",
       "       [27.],\n",
       "       [24.],\n",
       "       [18.],\n",
       "       [24.],\n",
       "       [ 1.],\n",
       "       [28.],\n",
       "       [ 1.],\n",
       "       [22.],\n",
       "       [18.],\n",
       "       [ 2.],\n",
       "       [ 4.],\n",
       "       [ 5.],\n",
       "       [ 0.],\n",
       "       [ 2.],\n",
       "       [ 1.],\n",
       "       [ 1.],\n",
       "       [ 0.],\n",
       "       [ 4.],\n",
       "       [ 2.],\n",
       "       [ 3.],\n",
       "       [ 3.],\n",
       "       [ 3.],\n",
       "       [22.],\n",
       "       [29.],\n",
       "       [ 3.],\n",
       "       [ 0.],\n",
       "       [22.],\n",
       "       [30.],\n",
       "       [27.],\n",
       "       [ 1.],\n",
       "       [19.],\n",
       "       [20.],\n",
       "       [ 0.],\n",
       "       [13.],\n",
       "       [19.],\n",
       "       [ 1.],\n",
       "       [ 1.],\n",
       "       [ 2.],\n",
       "       [27.],\n",
       "       [21.],\n",
       "       [22.],\n",
       "       [20.],\n",
       "       [20.],\n",
       "       [28.],\n",
       "       [23.],\n",
       "       [26.],\n",
       "       [15.],\n",
       "       [15.],\n",
       "       [25.],\n",
       "       [28.],\n",
       "       [19.],\n",
       "       [30.],\n",
       "       [16.],\n",
       "       [18.],\n",
       "       [24.],\n",
       "       [23.],\n",
       "       [27.],\n",
       "       [17.],\n",
       "       [14.],\n",
       "       [19.],\n",
       "       [23.],\n",
       "       [16.],\n",
       "       [14.],\n",
       "       [30.],\n",
       "       [19.]])"
      ]
     },
     "execution_count": 3,
     "metadata": {},
     "output_type": "execute_result"
    }
   ],
   "source": [
    "labels"
   ]
  },
  {
   "cell_type": "code",
   "execution_count": 4,
   "id": "6c02f109",
   "metadata": {},
   "outputs": [
    {
     "data": {
      "text/plain": [
       "122"
      ]
     },
     "execution_count": 4,
     "metadata": {},
     "output_type": "execute_result"
    }
   ],
   "source": [
    "len(labels)"
   ]
  },
  {
   "cell_type": "code",
   "execution_count": 5,
   "id": "58992776",
   "metadata": {},
   "outputs": [
    {
     "name": "stdout",
     "output_type": "stream",
     "text": [
      "Reading /home/dhz/bci-data/ds003478-download/sub-001/eeg/sub-001_task-Rest_run-01_eeg.fdt\n",
      "Used Annotations descriptions: ['1', '11', '12', '13', '14', '15', '16', '17', '2', '3', '4', '5', '6', 'keyboard0']\n",
      "Reading 0 ... 33201  =      0.000 ...    66.402 secs...\n",
      "EEG channel type selected for re-referencing\n",
      "Applying a custom ('EEG',) reference.\n",
      "Filtering raw data in 1 contiguous segment\n",
      "Setting up high-pass filter at 1 Hz\n",
      "\n",
      "FIR filter parameters\n",
      "---------------------\n",
      "Designing a one-pass, zero-phase, non-causal highpass filter:\n",
      "- Windowed time-domain design (firwin) method\n",
      "- Hamming window with 0.0194 passband ripple and 53 dB stopband attenuation\n",
      "- Lower passband edge: 1.00\n",
      "- Lower transition bandwidth: 1.00 Hz (-6 dB cutoff frequency: 0.50 Hz)\n",
      "- Filter length: 1651 samples (3.302 sec)\n",
      "\n",
      "Fitting ICA to data using 64 channels (please be patient, this may take a while)\n"
     ]
    },
    {
     "name": "stderr",
     "output_type": "stream",
     "text": [
      "/home/dhz/experiment-BCI/preprocessing.py:30: RuntimeWarning: DigMontage is only a subset of info. There are 12 channel positions not present in the DigMontage. The required channels are:\n",
      "\n",
      "['FP1', 'FPZ', 'FP2', 'FZ', 'FCZ', 'CZ', 'CPZ', 'PZ', 'POZ', 'CB1', 'OZ', 'CB2'].\n",
      "\n",
      "Consider using inst.set_channel_types if these are not EEG channels, or use the on_missing parameter if the channel positions are allowed to be unknown in your analyses.\n",
      "  raw_cropped.set_montage('standard_1020', on_missing='warn')\n",
      "[Parallel(n_jobs=1)]: Using backend SequentialBackend with 1 concurrent workers.\n",
      "[Parallel(n_jobs=1)]: Done   1 out of   1 | elapsed:    0.0s remaining:    0.0s\n",
      "[Parallel(n_jobs=1)]: Done   2 out of   2 | elapsed:    0.0s remaining:    0.0s\n",
      "[Parallel(n_jobs=1)]: Done   3 out of   3 | elapsed:    0.0s remaining:    0.0s\n",
      "[Parallel(n_jobs=1)]: Done   4 out of   4 | elapsed:    0.0s remaining:    0.0s\n",
      "[Parallel(n_jobs=1)]: Done  64 out of  64 | elapsed:    0.1s finished\n"
     ]
    },
    {
     "name": "stdout",
     "output_type": "stream",
     "text": [
      "Selecting by number: 13 components\n",
      "Fitting ICA took 0.6s.\n",
      "Applying ICA to Raw instance\n",
      "    Transforming to ICA space (13 components)\n",
      "    Zeroing out 3 ICA components\n",
      "    Projecting back using 64 PCA components\n",
      "Reading /home/dhz/bci-data/ds003478-download/sub-002/eeg/sub-002_task-Rest_run-01_eeg.fdt\n",
      "Used Annotations descriptions: ['1', '11', '12', '13', '14', '15', '16', '17', '2', '3', '4', '5', '6', 'keyboard0']\n",
      "Reading 0 ... 33201  =      0.000 ...    66.402 secs...\n",
      "EEG channel type selected for re-referencing\n",
      "Applying a custom ('EEG',) reference.\n",
      "Filtering raw data in 1 contiguous segment\n",
      "Setting up high-pass filter at 1 Hz\n",
      "\n",
      "FIR filter parameters\n",
      "---------------------\n",
      "Designing a one-pass, zero-phase, non-causal highpass filter:\n",
      "- Windowed time-domain design (firwin) method\n",
      "- Hamming window with 0.0194 passband ripple and 53 dB stopband attenuation\n",
      "- Lower passband edge: 1.00\n",
      "- Lower transition bandwidth: 1.00 Hz (-6 dB cutoff frequency: 0.50 Hz)\n",
      "- Filter length: 1651 samples (3.302 sec)\n",
      "\n",
      "Fitting ICA to data using 64 channels (please be patient, this may take a while)\n",
      "Selecting by number: 13 components\n"
     ]
    },
    {
     "name": "stderr",
     "output_type": "stream",
     "text": [
      "/home/dhz/experiment-BCI/preprocessing.py:30: RuntimeWarning: DigMontage is only a subset of info. There are 12 channel positions not present in the DigMontage. The required channels are:\n",
      "\n",
      "['FP1', 'FPZ', 'FP2', 'FZ', 'FCZ', 'CZ', 'CPZ', 'PZ', 'POZ', 'CB1', 'OZ', 'CB2'].\n",
      "\n",
      "Consider using inst.set_channel_types if these are not EEG channels, or use the on_missing parameter if the channel positions are allowed to be unknown in your analyses.\n",
      "  raw_cropped.set_montage('standard_1020', on_missing='warn')\n",
      "[Parallel(n_jobs=1)]: Using backend SequentialBackend with 1 concurrent workers.\n",
      "[Parallel(n_jobs=1)]: Done   1 out of   1 | elapsed:    0.0s remaining:    0.0s\n",
      "[Parallel(n_jobs=1)]: Done   2 out of   2 | elapsed:    0.0s remaining:    0.0s\n",
      "[Parallel(n_jobs=1)]: Done   3 out of   3 | elapsed:    0.0s remaining:    0.0s\n",
      "[Parallel(n_jobs=1)]: Done   4 out of   4 | elapsed:    0.0s remaining:    0.0s\n",
      "[Parallel(n_jobs=1)]: Done  64 out of  64 | elapsed:    0.1s finished\n"
     ]
    },
    {
     "name": "stdout",
     "output_type": "stream",
     "text": [
      "Fitting ICA took 0.4s.\n",
      "Applying ICA to Raw instance\n",
      "    Transforming to ICA space (13 components)\n",
      "    Zeroing out 3 ICA components\n",
      "    Projecting back using 64 PCA components\n",
      "Reading /home/dhz/bci-data/ds003478-download/sub-003/eeg/sub-003_task-Rest_run-01_eeg.fdt\n",
      "Used Annotations descriptions: ['1', '11', '12', '13', '14', '15', '16', '17', '2', '3', '4', '5', '6', 'boundary', 'keyboard0']\n",
      "Reading 0 ... 33201  =      0.000 ...    66.402 secs...\n",
      "EEG channel type selected for re-referencing\n",
      "Applying a custom ('EEG',) reference.\n",
      "Filtering raw data in 1 contiguous segment\n",
      "Setting up high-pass filter at 1 Hz\n",
      "\n",
      "FIR filter parameters\n",
      "---------------------\n",
      "Designing a one-pass, zero-phase, non-causal highpass filter:\n",
      "- Windowed time-domain design (firwin) method\n",
      "- Hamming window with 0.0194 passband ripple and 53 dB stopband attenuation\n",
      "- Lower passband edge: 1.00\n",
      "- Lower transition bandwidth: 1.00 Hz (-6 dB cutoff frequency: 0.50 Hz)\n",
      "- Filter length: 1651 samples (3.302 sec)\n",
      "\n",
      "Fitting ICA to data using 64 channels (please be patient, this may take a while)\n"
     ]
    },
    {
     "name": "stderr",
     "output_type": "stream",
     "text": [
      "/home/dhz/experiment-BCI/preprocessing.py:17: RuntimeWarning: The data contains 'boundary' events, indicating data discontinuities. Be cautious of filtering and epoching around these events.\n",
      "  raw = mne.io.read_raw_eeglab(self.file_dir)\n",
      "/home/dhz/experiment-BCI/preprocessing.py:30: RuntimeWarning: DigMontage is only a subset of info. There are 12 channel positions not present in the DigMontage. The required channels are:\n",
      "\n",
      "['FP1', 'FPZ', 'FP2', 'FZ', 'FCZ', 'CZ', 'CPZ', 'PZ', 'POZ', 'CB1', 'OZ', 'CB2'].\n",
      "\n",
      "Consider using inst.set_channel_types if these are not EEG channels, or use the on_missing parameter if the channel positions are allowed to be unknown in your analyses.\n",
      "  raw_cropped.set_montage('standard_1020', on_missing='warn')\n",
      "[Parallel(n_jobs=1)]: Using backend SequentialBackend with 1 concurrent workers.\n",
      "[Parallel(n_jobs=1)]: Done   1 out of   1 | elapsed:    0.0s remaining:    0.0s\n",
      "[Parallel(n_jobs=1)]: Done   2 out of   2 | elapsed:    0.0s remaining:    0.0s\n",
      "[Parallel(n_jobs=1)]: Done   3 out of   3 | elapsed:    0.0s remaining:    0.0s\n",
      "[Parallel(n_jobs=1)]: Done   4 out of   4 | elapsed:    0.0s remaining:    0.0s\n",
      "[Parallel(n_jobs=1)]: Done  64 out of  64 | elapsed:    0.1s finished\n"
     ]
    },
    {
     "name": "stdout",
     "output_type": "stream",
     "text": [
      "Selecting by number: 13 components\n",
      "Fitting ICA took 0.4s.\n",
      "Applying ICA to Raw instance\n",
      "    Transforming to ICA space (13 components)\n",
      "    Zeroing out 3 ICA components\n",
      "    Projecting back using 64 PCA components\n",
      "Reading /home/dhz/bci-data/ds003478-download/sub-004/eeg/sub-004_task-Rest_run-01_eeg.fdt\n",
      "Used Annotations descriptions: ['1', '11', '12', '13', '14', '15', '16', '17', '2', '255', '3', '4', '5', '6', 'keyboard0']\n",
      "Reading 0 ... 33201  =      0.000 ...    66.402 secs...\n",
      "EEG channel type selected for re-referencing\n",
      "Applying a custom ('EEG',) reference.\n",
      "Filtering raw data in 1 contiguous segment\n",
      "Setting up high-pass filter at 1 Hz\n",
      "\n",
      "FIR filter parameters\n",
      "---------------------\n",
      "Designing a one-pass, zero-phase, non-causal highpass filter:\n",
      "- Windowed time-domain design (firwin) method\n",
      "- Hamming window with 0.0194 passband ripple and 53 dB stopband attenuation\n",
      "- Lower passband edge: 1.00\n",
      "- Lower transition bandwidth: 1.00 Hz (-6 dB cutoff frequency: 0.50 Hz)\n",
      "- Filter length: 1651 samples (3.302 sec)\n",
      "\n",
      "Fitting ICA to data using 64 channels (please be patient, this may take a while)\n",
      "Selecting by number: 13 components\n"
     ]
    },
    {
     "name": "stderr",
     "output_type": "stream",
     "text": [
      "/home/dhz/experiment-BCI/preprocessing.py:30: RuntimeWarning: DigMontage is only a subset of info. There are 12 channel positions not present in the DigMontage. The required channels are:\n",
      "\n",
      "['FP1', 'FPZ', 'FP2', 'FZ', 'FCZ', 'CZ', 'CPZ', 'PZ', 'POZ', 'CB1', 'OZ', 'CB2'].\n",
      "\n",
      "Consider using inst.set_channel_types if these are not EEG channels, or use the on_missing parameter if the channel positions are allowed to be unknown in your analyses.\n",
      "  raw_cropped.set_montage('standard_1020', on_missing='warn')\n",
      "[Parallel(n_jobs=1)]: Using backend SequentialBackend with 1 concurrent workers.\n",
      "[Parallel(n_jobs=1)]: Done   1 out of   1 | elapsed:    0.0s remaining:    0.0s\n",
      "[Parallel(n_jobs=1)]: Done   2 out of   2 | elapsed:    0.0s remaining:    0.0s\n",
      "[Parallel(n_jobs=1)]: Done   3 out of   3 | elapsed:    0.0s remaining:    0.0s\n",
      "[Parallel(n_jobs=1)]: Done   4 out of   4 | elapsed:    0.0s remaining:    0.0s\n",
      "[Parallel(n_jobs=1)]: Done  64 out of  64 | elapsed:    0.1s finished\n"
     ]
    },
    {
     "name": "stdout",
     "output_type": "stream",
     "text": [
      "Fitting ICA took 0.5s.\n",
      "Applying ICA to Raw instance\n",
      "    Transforming to ICA space (13 components)\n",
      "    Zeroing out 3 ICA components\n",
      "    Projecting back using 64 PCA components\n",
      "Reading /home/dhz/bci-data/ds003478-download/sub-005/eeg/sub-005_task-Rest_run-01_eeg.fdt\n",
      "Used Annotations descriptions: ['1', '11', '12', '13', '14', '15', '16', '17', '2', '3', '4', '5', '6', 'keyboard0']\n",
      "Reading 0 ... 33199  =      0.000 ...    66.398 secs...\n",
      "EEG channel type selected for re-referencing\n",
      "Applying a custom ('EEG',) reference.\n",
      "Filtering raw data in 1 contiguous segment\n",
      "Setting up high-pass filter at 1 Hz\n",
      "\n",
      "FIR filter parameters\n",
      "---------------------\n",
      "Designing a one-pass, zero-phase, non-causal highpass filter:\n",
      "- Windowed time-domain design (firwin) method\n",
      "- Hamming window with 0.0194 passband ripple and 53 dB stopband attenuation\n",
      "- Lower passband edge: 1.00\n",
      "- Lower transition bandwidth: 1.00 Hz (-6 dB cutoff frequency: 0.50 Hz)\n",
      "- Filter length: 1651 samples (3.302 sec)\n",
      "\n",
      "Fitting ICA to data using 64 channels (please be patient, this may take a while)\n"
     ]
    },
    {
     "name": "stderr",
     "output_type": "stream",
     "text": [
      "/home/dhz/experiment-BCI/preprocessing.py:30: RuntimeWarning: DigMontage is only a subset of info. There are 12 channel positions not present in the DigMontage. The required channels are:\n",
      "\n",
      "['FP1', 'FPZ', 'FP2', 'FZ', 'FCZ', 'CZ', 'CPZ', 'PZ', 'POZ', 'CB1', 'OZ', 'CB2'].\n",
      "\n",
      "Consider using inst.set_channel_types if these are not EEG channels, or use the on_missing parameter if the channel positions are allowed to be unknown in your analyses.\n",
      "  raw_cropped.set_montage('standard_1020', on_missing='warn')\n",
      "[Parallel(n_jobs=1)]: Using backend SequentialBackend with 1 concurrent workers.\n",
      "[Parallel(n_jobs=1)]: Done   1 out of   1 | elapsed:    0.0s remaining:    0.0s\n",
      "[Parallel(n_jobs=1)]: Done   2 out of   2 | elapsed:    0.0s remaining:    0.0s\n",
      "[Parallel(n_jobs=1)]: Done   3 out of   3 | elapsed:    0.0s remaining:    0.0s\n",
      "[Parallel(n_jobs=1)]: Done   4 out of   4 | elapsed:    0.0s remaining:    0.0s\n",
      "[Parallel(n_jobs=1)]: Done  64 out of  64 | elapsed:    0.1s finished\n"
     ]
    },
    {
     "name": "stdout",
     "output_type": "stream",
     "text": [
      "Selecting by number: 13 components\n",
      "Fitting ICA took 0.5s.\n",
      "Applying ICA to Raw instance\n",
      "    Transforming to ICA space (13 components)\n",
      "    Zeroing out 3 ICA components\n",
      "    Projecting back using 64 PCA components\n",
      "Reading /home/dhz/bci-data/ds003478-download/sub-006/eeg/sub-006_task-Rest_run-01_eeg.fdt\n",
      "Used Annotations descriptions: ['1', '11', '12', '13', '14', '15', '16', '17', '175', '2', '3', '4', '5', '6', 'keyboard0']\n",
      "Reading 0 ... 33201  =      0.000 ...    66.402 secs...\n",
      "EEG channel type selected for re-referencing\n",
      "Applying a custom ('EEG',) reference.\n",
      "Filtering raw data in 1 contiguous segment\n",
      "Setting up high-pass filter at 1 Hz\n",
      "\n",
      "FIR filter parameters\n",
      "---------------------\n",
      "Designing a one-pass, zero-phase, non-causal highpass filter:\n",
      "- Windowed time-domain design (firwin) method\n",
      "- Hamming window with 0.0194 passband ripple and 53 dB stopband attenuation\n",
      "- Lower passband edge: 1.00\n",
      "- Lower transition bandwidth: 1.00 Hz (-6 dB cutoff frequency: 0.50 Hz)\n",
      "- Filter length: 1651 samples (3.302 sec)\n",
      "\n",
      "Fitting ICA to data using 64 channels (please be patient, this may take a while)\n"
     ]
    },
    {
     "name": "stderr",
     "output_type": "stream",
     "text": [
      "/home/dhz/experiment-BCI/preprocessing.py:30: RuntimeWarning: DigMontage is only a subset of info. There are 12 channel positions not present in the DigMontage. The required channels are:\n",
      "\n",
      "['FP1', 'FPZ', 'FP2', 'FZ', 'FCZ', 'CZ', 'CPZ', 'PZ', 'POZ', 'CB1', 'OZ', 'CB2'].\n",
      "\n",
      "Consider using inst.set_channel_types if these are not EEG channels, or use the on_missing parameter if the channel positions are allowed to be unknown in your analyses.\n",
      "  raw_cropped.set_montage('standard_1020', on_missing='warn')\n",
      "[Parallel(n_jobs=1)]: Using backend SequentialBackend with 1 concurrent workers.\n",
      "[Parallel(n_jobs=1)]: Done   1 out of   1 | elapsed:    0.0s remaining:    0.0s\n",
      "[Parallel(n_jobs=1)]: Done   2 out of   2 | elapsed:    0.0s remaining:    0.0s\n",
      "[Parallel(n_jobs=1)]: Done   3 out of   3 | elapsed:    0.0s remaining:    0.0s\n",
      "[Parallel(n_jobs=1)]: Done   4 out of   4 | elapsed:    0.0s remaining:    0.0s\n",
      "[Parallel(n_jobs=1)]: Done  64 out of  64 | elapsed:    0.1s finished\n"
     ]
    },
    {
     "name": "stdout",
     "output_type": "stream",
     "text": [
      "Selecting by number: 13 components\n",
      "Fitting ICA took 0.3s.\n",
      "Applying ICA to Raw instance\n",
      "    Transforming to ICA space (13 components)\n",
      "    Zeroing out 3 ICA components\n",
      "    Projecting back using 64 PCA components\n",
      "Reading /home/dhz/bci-data/ds003478-download/sub-007/eeg/sub-007_task-Rest_run-01_eeg.fdt\n",
      "Used Annotations descriptions: ['1', '11', '12', '13', '14', '15', '16', '17', '2', '3', '4', '5', '6', 'keyboard0']\n",
      "Reading 0 ... 33201  =      0.000 ...    66.402 secs...\n",
      "EEG channel type selected for re-referencing\n",
      "Applying a custom ('EEG',) reference.\n",
      "Filtering raw data in 1 contiguous segment\n",
      "Setting up high-pass filter at 1 Hz\n",
      "\n",
      "FIR filter parameters\n",
      "---------------------\n",
      "Designing a one-pass, zero-phase, non-causal highpass filter:\n",
      "- Windowed time-domain design (firwin) method\n",
      "- Hamming window with 0.0194 passband ripple and 53 dB stopband attenuation\n",
      "- Lower passband edge: 1.00\n",
      "- Lower transition bandwidth: 1.00 Hz (-6 dB cutoff frequency: 0.50 Hz)\n",
      "- Filter length: 1651 samples (3.302 sec)\n",
      "\n",
      "Fitting ICA to data using 64 channels (please be patient, this may take a while)\n"
     ]
    },
    {
     "name": "stderr",
     "output_type": "stream",
     "text": [
      "/home/dhz/experiment-BCI/preprocessing.py:30: RuntimeWarning: DigMontage is only a subset of info. There are 12 channel positions not present in the DigMontage. The required channels are:\n",
      "\n",
      "['FP1', 'FPZ', 'FP2', 'FZ', 'FCZ', 'CZ', 'CPZ', 'PZ', 'POZ', 'CB1', 'OZ', 'CB2'].\n",
      "\n",
      "Consider using inst.set_channel_types if these are not EEG channels, or use the on_missing parameter if the channel positions are allowed to be unknown in your analyses.\n",
      "  raw_cropped.set_montage('standard_1020', on_missing='warn')\n",
      "[Parallel(n_jobs=1)]: Using backend SequentialBackend with 1 concurrent workers.\n",
      "[Parallel(n_jobs=1)]: Done   1 out of   1 | elapsed:    0.0s remaining:    0.0s\n",
      "[Parallel(n_jobs=1)]: Done   2 out of   2 | elapsed:    0.0s remaining:    0.0s\n",
      "[Parallel(n_jobs=1)]: Done   3 out of   3 | elapsed:    0.0s remaining:    0.0s\n",
      "[Parallel(n_jobs=1)]: Done   4 out of   4 | elapsed:    0.0s remaining:    0.0s\n",
      "[Parallel(n_jobs=1)]: Done  64 out of  64 | elapsed:    0.1s finished\n"
     ]
    },
    {
     "name": "stdout",
     "output_type": "stream",
     "text": [
      "Selecting by number: 13 components\n",
      "Fitting ICA took 0.4s.\n",
      "Applying ICA to Raw instance\n",
      "    Transforming to ICA space (13 components)\n",
      "    Zeroing out 3 ICA components\n",
      "    Projecting back using 64 PCA components\n",
      "Reading /home/dhz/bci-data/ds003478-download/sub-008/eeg/sub-008_task-Rest_run-01_eeg.fdt\n",
      "Used Annotations descriptions: ['1', '11', '12', '13', '14', '15', '16', '17', '2', '3', '4', '5', '6', 'keyboard0']\n",
      "Reading 0 ... 33200  =      0.000 ...    66.400 secs...\n",
      "EEG channel type selected for re-referencing\n",
      "Applying a custom ('EEG',) reference.\n",
      "Filtering raw data in 1 contiguous segment\n",
      "Setting up high-pass filter at 1 Hz\n",
      "\n",
      "FIR filter parameters\n",
      "---------------------\n",
      "Designing a one-pass, zero-phase, non-causal highpass filter:\n",
      "- Windowed time-domain design (firwin) method\n",
      "- Hamming window with 0.0194 passband ripple and 53 dB stopband attenuation\n",
      "- Lower passband edge: 1.00\n",
      "- Lower transition bandwidth: 1.00 Hz (-6 dB cutoff frequency: 0.50 Hz)\n",
      "- Filter length: 1651 samples (3.302 sec)\n",
      "\n",
      "Fitting ICA to data using 64 channels (please be patient, this may take a while)\n"
     ]
    },
    {
     "name": "stderr",
     "output_type": "stream",
     "text": [
      "/home/dhz/experiment-BCI/preprocessing.py:30: RuntimeWarning: DigMontage is only a subset of info. There are 12 channel positions not present in the DigMontage. The required channels are:\n",
      "\n",
      "['FP1', 'FPZ', 'FP2', 'FZ', 'FCZ', 'CZ', 'CPZ', 'PZ', 'POZ', 'CB1', 'OZ', 'CB2'].\n",
      "\n",
      "Consider using inst.set_channel_types if these are not EEG channels, or use the on_missing parameter if the channel positions are allowed to be unknown in your analyses.\n",
      "  raw_cropped.set_montage('standard_1020', on_missing='warn')\n",
      "[Parallel(n_jobs=1)]: Using backend SequentialBackend with 1 concurrent workers.\n",
      "[Parallel(n_jobs=1)]: Done   1 out of   1 | elapsed:    0.0s remaining:    0.0s\n",
      "[Parallel(n_jobs=1)]: Done   2 out of   2 | elapsed:    0.0s remaining:    0.0s\n",
      "[Parallel(n_jobs=1)]: Done   3 out of   3 | elapsed:    0.0s remaining:    0.0s\n",
      "[Parallel(n_jobs=1)]: Done   4 out of   4 | elapsed:    0.0s remaining:    0.0s\n",
      "[Parallel(n_jobs=1)]: Done  64 out of  64 | elapsed:    0.1s finished\n"
     ]
    },
    {
     "name": "stdout",
     "output_type": "stream",
     "text": [
      "Selecting by number: 13 components\n",
      "Fitting ICA took 0.2s.\n",
      "Applying ICA to Raw instance\n",
      "    Transforming to ICA space (13 components)\n",
      "    Zeroing out 3 ICA components\n",
      "    Projecting back using 64 PCA components\n",
      "Reading /home/dhz/bci-data/ds003478-download/sub-009/eeg/sub-009_task-Rest_run-01_eeg.fdt\n",
      "Used Annotations descriptions: ['1', '11', '12', '13', '14', '15', '16', '17', '2', '3', '4', '5', '6', 'keyboard0']\n",
      "Reading 0 ... 33200  =      0.000 ...    66.400 secs...\n",
      "EEG channel type selected for re-referencing\n",
      "Applying a custom ('EEG',) reference.\n",
      "Filtering raw data in 1 contiguous segment\n",
      "Setting up high-pass filter at 1 Hz\n",
      "\n",
      "FIR filter parameters\n",
      "---------------------\n",
      "Designing a one-pass, zero-phase, non-causal highpass filter:\n",
      "- Windowed time-domain design (firwin) method\n",
      "- Hamming window with 0.0194 passband ripple and 53 dB stopband attenuation\n",
      "- Lower passband edge: 1.00\n",
      "- Lower transition bandwidth: 1.00 Hz (-6 dB cutoff frequency: 0.50 Hz)\n",
      "- Filter length: 1651 samples (3.302 sec)\n",
      "\n",
      "Fitting ICA to data using 64 channels (please be patient, this may take a while)\n",
      "Selecting by number: 13 components\n"
     ]
    },
    {
     "name": "stderr",
     "output_type": "stream",
     "text": [
      "/home/dhz/experiment-BCI/preprocessing.py:30: RuntimeWarning: DigMontage is only a subset of info. There are 12 channel positions not present in the DigMontage. The required channels are:\n",
      "\n",
      "['FP1', 'FPZ', 'FP2', 'FZ', 'FCZ', 'CZ', 'CPZ', 'PZ', 'POZ', 'CB1', 'OZ', 'CB2'].\n",
      "\n",
      "Consider using inst.set_channel_types if these are not EEG channels, or use the on_missing parameter if the channel positions are allowed to be unknown in your analyses.\n",
      "  raw_cropped.set_montage('standard_1020', on_missing='warn')\n",
      "[Parallel(n_jobs=1)]: Using backend SequentialBackend with 1 concurrent workers.\n",
      "[Parallel(n_jobs=1)]: Done   1 out of   1 | elapsed:    0.0s remaining:    0.0s\n",
      "[Parallel(n_jobs=1)]: Done   2 out of   2 | elapsed:    0.0s remaining:    0.0s\n",
      "[Parallel(n_jobs=1)]: Done   3 out of   3 | elapsed:    0.0s remaining:    0.0s\n",
      "[Parallel(n_jobs=1)]: Done   4 out of   4 | elapsed:    0.0s remaining:    0.0s\n",
      "[Parallel(n_jobs=1)]: Done  64 out of  64 | elapsed:    0.1s finished\n"
     ]
    },
    {
     "name": "stdout",
     "output_type": "stream",
     "text": [
      "Fitting ICA took 0.6s.\n",
      "Applying ICA to Raw instance\n",
      "    Transforming to ICA space (13 components)\n",
      "    Zeroing out 3 ICA components\n",
      "    Projecting back using 64 PCA components\n",
      "Reading /home/dhz/bci-data/ds003478-download/sub-010/eeg/sub-010_task-Rest_run-01_eeg.fdt\n",
      "Used Annotations descriptions: ['1', '11', '12', '13', '14', '15', '16', '17', '2', '3', '4', '5', '6', 'keyboard0']\n",
      "Reading 0 ... 33201  =      0.000 ...    66.402 secs...\n",
      "EEG channel type selected for re-referencing\n",
      "Applying a custom ('EEG',) reference.\n",
      "Filtering raw data in 1 contiguous segment\n",
      "Setting up high-pass filter at 1 Hz\n",
      "\n",
      "FIR filter parameters\n",
      "---------------------\n",
      "Designing a one-pass, zero-phase, non-causal highpass filter:\n",
      "- Windowed time-domain design (firwin) method\n",
      "- Hamming window with 0.0194 passband ripple and 53 dB stopband attenuation\n",
      "- Lower passband edge: 1.00\n",
      "- Lower transition bandwidth: 1.00 Hz (-6 dB cutoff frequency: 0.50 Hz)\n",
      "- Filter length: 1651 samples (3.302 sec)\n",
      "\n",
      "Fitting ICA to data using 64 channels (please be patient, this may take a while)\n"
     ]
    },
    {
     "name": "stderr",
     "output_type": "stream",
     "text": [
      "/home/dhz/experiment-BCI/preprocessing.py:30: RuntimeWarning: DigMontage is only a subset of info. There are 12 channel positions not present in the DigMontage. The required channels are:\n",
      "\n",
      "['FP1', 'FPZ', 'FP2', 'FZ', 'FCZ', 'CZ', 'CPZ', 'PZ', 'POZ', 'CB1', 'OZ', 'CB2'].\n",
      "\n",
      "Consider using inst.set_channel_types if these are not EEG channels, or use the on_missing parameter if the channel positions are allowed to be unknown in your analyses.\n",
      "  raw_cropped.set_montage('standard_1020', on_missing='warn')\n",
      "[Parallel(n_jobs=1)]: Using backend SequentialBackend with 1 concurrent workers.\n",
      "[Parallel(n_jobs=1)]: Done   1 out of   1 | elapsed:    0.0s remaining:    0.0s\n",
      "[Parallel(n_jobs=1)]: Done   2 out of   2 | elapsed:    0.0s remaining:    0.0s\n",
      "[Parallel(n_jobs=1)]: Done   3 out of   3 | elapsed:    0.0s remaining:    0.0s\n",
      "[Parallel(n_jobs=1)]: Done   4 out of   4 | elapsed:    0.0s remaining:    0.0s\n",
      "[Parallel(n_jobs=1)]: Done  64 out of  64 | elapsed:    0.1s finished\n"
     ]
    },
    {
     "name": "stdout",
     "output_type": "stream",
     "text": [
      "Selecting by number: 13 components\n",
      "Fitting ICA took 0.6s.\n",
      "Applying ICA to Raw instance\n",
      "    Transforming to ICA space (13 components)\n",
      "    Zeroing out 3 ICA components\n",
      "    Projecting back using 64 PCA components\n",
      "Reading /home/dhz/bci-data/ds003478-download/sub-011/eeg/sub-011_task-Rest_run-01_eeg.fdt\n",
      "Used Annotations descriptions: ['1', '11', '12', '13', '14', '15', '16', '17', '2', '3', '4', '5', '6', 'keyboard0']\n",
      "Reading 0 ... 33200  =      0.000 ...    66.400 secs...\n",
      "EEG channel type selected for re-referencing\n",
      "Applying a custom ('EEG',) reference.\n",
      "Filtering raw data in 1 contiguous segment\n",
      "Setting up high-pass filter at 1 Hz\n",
      "\n",
      "FIR filter parameters\n",
      "---------------------\n",
      "Designing a one-pass, zero-phase, non-causal highpass filter:\n",
      "- Windowed time-domain design (firwin) method\n",
      "- Hamming window with 0.0194 passband ripple and 53 dB stopband attenuation\n",
      "- Lower passband edge: 1.00\n",
      "- Lower transition bandwidth: 1.00 Hz (-6 dB cutoff frequency: 0.50 Hz)\n",
      "- Filter length: 1651 samples (3.302 sec)\n",
      "\n",
      "Fitting ICA to data using 64 channels (please be patient, this may take a while)\n",
      "Selecting by number: 13 components\n"
     ]
    },
    {
     "name": "stderr",
     "output_type": "stream",
     "text": [
      "/home/dhz/experiment-BCI/preprocessing.py:30: RuntimeWarning: DigMontage is only a subset of info. There are 12 channel positions not present in the DigMontage. The required channels are:\n",
      "\n",
      "['FP1', 'FPZ', 'FP2', 'FZ', 'FCZ', 'CZ', 'CPZ', 'PZ', 'POZ', 'CB1', 'OZ', 'CB2'].\n",
      "\n",
      "Consider using inst.set_channel_types if these are not EEG channels, or use the on_missing parameter if the channel positions are allowed to be unknown in your analyses.\n",
      "  raw_cropped.set_montage('standard_1020', on_missing='warn')\n",
      "[Parallel(n_jobs=1)]: Using backend SequentialBackend with 1 concurrent workers.\n",
      "[Parallel(n_jobs=1)]: Done   1 out of   1 | elapsed:    0.0s remaining:    0.0s\n",
      "[Parallel(n_jobs=1)]: Done   2 out of   2 | elapsed:    0.0s remaining:    0.0s\n",
      "[Parallel(n_jobs=1)]: Done   3 out of   3 | elapsed:    0.0s remaining:    0.0s\n",
      "[Parallel(n_jobs=1)]: Done   4 out of   4 | elapsed:    0.0s remaining:    0.0s\n",
      "[Parallel(n_jobs=1)]: Done  64 out of  64 | elapsed:    0.1s finished\n"
     ]
    },
    {
     "name": "stdout",
     "output_type": "stream",
     "text": [
      "Fitting ICA took 0.5s.\n",
      "Applying ICA to Raw instance\n",
      "    Transforming to ICA space (13 components)\n",
      "    Zeroing out 3 ICA components\n",
      "    Projecting back using 64 PCA components\n",
      "Reading /home/dhz/bci-data/ds003478-download/sub-012/eeg/sub-012_task-Rest_run-01_eeg.fdt\n",
      "Used Annotations descriptions: ['1', '11', '12', '13', '14', '15', '16', '17', '2', '240', '3', '4', '5', '6', 'keyboard0']\n",
      "Reading 0 ... 33200  =      0.000 ...    66.400 secs...\n",
      "EEG channel type selected for re-referencing\n",
      "Applying a custom ('EEG',) reference.\n",
      "Filtering raw data in 1 contiguous segment\n",
      "Setting up high-pass filter at 1 Hz\n",
      "\n",
      "FIR filter parameters\n",
      "---------------------\n",
      "Designing a one-pass, zero-phase, non-causal highpass filter:\n",
      "- Windowed time-domain design (firwin) method\n",
      "- Hamming window with 0.0194 passband ripple and 53 dB stopband attenuation\n",
      "- Lower passband edge: 1.00\n",
      "- Lower transition bandwidth: 1.00 Hz (-6 dB cutoff frequency: 0.50 Hz)\n",
      "- Filter length: 1651 samples (3.302 sec)\n",
      "\n",
      "Fitting ICA to data using 64 channels (please be patient, this may take a while)\n",
      "Selecting by number: 13 components\n"
     ]
    },
    {
     "name": "stderr",
     "output_type": "stream",
     "text": [
      "/home/dhz/experiment-BCI/preprocessing.py:30: RuntimeWarning: DigMontage is only a subset of info. There are 12 channel positions not present in the DigMontage. The required channels are:\n",
      "\n",
      "['FP1', 'FPZ', 'FP2', 'FZ', 'FCZ', 'CZ', 'CPZ', 'PZ', 'POZ', 'CB1', 'OZ', 'CB2'].\n",
      "\n",
      "Consider using inst.set_channel_types if these are not EEG channels, or use the on_missing parameter if the channel positions are allowed to be unknown in your analyses.\n",
      "  raw_cropped.set_montage('standard_1020', on_missing='warn')\n",
      "[Parallel(n_jobs=1)]: Using backend SequentialBackend with 1 concurrent workers.\n",
      "[Parallel(n_jobs=1)]: Done   1 out of   1 | elapsed:    0.0s remaining:    0.0s\n",
      "[Parallel(n_jobs=1)]: Done   2 out of   2 | elapsed:    0.0s remaining:    0.0s\n",
      "[Parallel(n_jobs=1)]: Done   3 out of   3 | elapsed:    0.0s remaining:    0.0s\n",
      "[Parallel(n_jobs=1)]: Done   4 out of   4 | elapsed:    0.0s remaining:    0.0s\n",
      "[Parallel(n_jobs=1)]: Done  64 out of  64 | elapsed:    0.1s finished\n"
     ]
    },
    {
     "name": "stdout",
     "output_type": "stream",
     "text": [
      "Fitting ICA took 0.4s.\n",
      "Applying ICA to Raw instance\n",
      "    Transforming to ICA space (13 components)\n",
      "    Zeroing out 3 ICA components\n",
      "    Projecting back using 64 PCA components\n",
      "Reading /home/dhz/bci-data/ds003478-download/sub-013/eeg/sub-013_task-Rest_run-01_eeg.fdt\n",
      "Used Annotations descriptions: ['1', '11', '12', '13', '14', '15', '16', '17', '2', '255', '3', '4', '5', '6', 'keyboard0']\n",
      "Reading 0 ... 33200  =      0.000 ...    66.400 secs...\n",
      "EEG channel type selected for re-referencing\n",
      "Applying a custom ('EEG',) reference.\n",
      "Filtering raw data in 1 contiguous segment\n",
      "Setting up high-pass filter at 1 Hz\n",
      "\n",
      "FIR filter parameters\n",
      "---------------------\n",
      "Designing a one-pass, zero-phase, non-causal highpass filter:\n",
      "- Windowed time-domain design (firwin) method\n",
      "- Hamming window with 0.0194 passband ripple and 53 dB stopband attenuation\n",
      "- Lower passband edge: 1.00\n",
      "- Lower transition bandwidth: 1.00 Hz (-6 dB cutoff frequency: 0.50 Hz)\n",
      "- Filter length: 1651 samples (3.302 sec)\n",
      "\n",
      "Fitting ICA to data using 64 channels (please be patient, this may take a while)\n",
      "Selecting by number: 13 components\n"
     ]
    },
    {
     "name": "stderr",
     "output_type": "stream",
     "text": [
      "/home/dhz/experiment-BCI/preprocessing.py:30: RuntimeWarning: DigMontage is only a subset of info. There are 12 channel positions not present in the DigMontage. The required channels are:\n",
      "\n",
      "['FP1', 'FPZ', 'FP2', 'FZ', 'FCZ', 'CZ', 'CPZ', 'PZ', 'POZ', 'CB1', 'OZ', 'CB2'].\n",
      "\n",
      "Consider using inst.set_channel_types if these are not EEG channels, or use the on_missing parameter if the channel positions are allowed to be unknown in your analyses.\n",
      "  raw_cropped.set_montage('standard_1020', on_missing='warn')\n",
      "[Parallel(n_jobs=1)]: Using backend SequentialBackend with 1 concurrent workers.\n",
      "[Parallel(n_jobs=1)]: Done   1 out of   1 | elapsed:    0.0s remaining:    0.0s\n",
      "[Parallel(n_jobs=1)]: Done   2 out of   2 | elapsed:    0.0s remaining:    0.0s\n",
      "[Parallel(n_jobs=1)]: Done   3 out of   3 | elapsed:    0.0s remaining:    0.0s\n",
      "[Parallel(n_jobs=1)]: Done   4 out of   4 | elapsed:    0.0s remaining:    0.0s\n",
      "[Parallel(n_jobs=1)]: Done  64 out of  64 | elapsed:    0.1s finished\n"
     ]
    },
    {
     "name": "stdout",
     "output_type": "stream",
     "text": [
      "Fitting ICA took 0.5s.\n",
      "Applying ICA to Raw instance\n",
      "    Transforming to ICA space (13 components)\n",
      "    Zeroing out 3 ICA components\n",
      "    Projecting back using 64 PCA components\n",
      "Reading /home/dhz/bci-data/ds003478-download/sub-014/eeg/sub-014_task-Rest_run-01_eeg.fdt\n",
      "Used Annotations descriptions: ['1', '11', '12', '13', '14', '15', '16', '17', '2', '3', '4', '5', '6', 'boundary', 'keyboard0']\n",
      "Reading 0 ... 33201  =      0.000 ...    66.402 secs...\n",
      "EEG channel type selected for re-referencing\n",
      "Applying a custom ('EEG',) reference.\n",
      "Filtering raw data in 1 contiguous segment\n",
      "Setting up high-pass filter at 1 Hz\n",
      "\n",
      "FIR filter parameters\n",
      "---------------------\n",
      "Designing a one-pass, zero-phase, non-causal highpass filter:\n",
      "- Windowed time-domain design (firwin) method\n",
      "- Hamming window with 0.0194 passband ripple and 53 dB stopband attenuation\n",
      "- Lower passband edge: 1.00\n",
      "- Lower transition bandwidth: 1.00 Hz (-6 dB cutoff frequency: 0.50 Hz)\n",
      "- Filter length: 1651 samples (3.302 sec)\n",
      "\n",
      "Fitting ICA to data using 64 channels (please be patient, this may take a while)\n"
     ]
    },
    {
     "name": "stderr",
     "output_type": "stream",
     "text": [
      "/home/dhz/experiment-BCI/preprocessing.py:17: RuntimeWarning: The data contains 'boundary' events, indicating data discontinuities. Be cautious of filtering and epoching around these events.\n",
      "  raw = mne.io.read_raw_eeglab(self.file_dir)\n",
      "/home/dhz/experiment-BCI/preprocessing.py:30: RuntimeWarning: DigMontage is only a subset of info. There are 12 channel positions not present in the DigMontage. The required channels are:\n",
      "\n",
      "['FP1', 'FPZ', 'FP2', 'FZ', 'FCZ', 'CZ', 'CPZ', 'PZ', 'POZ', 'CB1', 'OZ', 'CB2'].\n",
      "\n",
      "Consider using inst.set_channel_types if these are not EEG channels, or use the on_missing parameter if the channel positions are allowed to be unknown in your analyses.\n",
      "  raw_cropped.set_montage('standard_1020', on_missing='warn')\n",
      "[Parallel(n_jobs=1)]: Using backend SequentialBackend with 1 concurrent workers.\n",
      "[Parallel(n_jobs=1)]: Done   1 out of   1 | elapsed:    0.0s remaining:    0.0s\n",
      "[Parallel(n_jobs=1)]: Done   2 out of   2 | elapsed:    0.0s remaining:    0.0s\n",
      "[Parallel(n_jobs=1)]: Done   3 out of   3 | elapsed:    0.0s remaining:    0.0s\n",
      "[Parallel(n_jobs=1)]: Done   4 out of   4 | elapsed:    0.0s remaining:    0.0s\n",
      "[Parallel(n_jobs=1)]: Done  64 out of  64 | elapsed:    0.1s finished\n"
     ]
    },
    {
     "name": "stdout",
     "output_type": "stream",
     "text": [
      "Selecting by number: 13 components\n",
      "Fitting ICA took 0.5s.\n",
      "Applying ICA to Raw instance\n",
      "    Transforming to ICA space (13 components)\n",
      "    Zeroing out 3 ICA components\n",
      "    Projecting back using 64 PCA components\n",
      "Reading /home/dhz/bci-data/ds003478-download/sub-015/eeg/sub-015_task-Rest_run-01_eeg.fdt\n",
      "Used Annotations descriptions: ['1', '11', '12', '13', '14', '15', '16', '17', '2', '3', '4', '5', '6', 'keyboard0']\n",
      "Reading 0 ... 33205  =      0.000 ...    66.410 secs...\n",
      "EEG channel type selected for re-referencing\n",
      "Applying a custom ('EEG',) reference.\n",
      "Filtering raw data in 1 contiguous segment\n",
      "Setting up high-pass filter at 1 Hz\n",
      "\n",
      "FIR filter parameters\n",
      "---------------------\n",
      "Designing a one-pass, zero-phase, non-causal highpass filter:\n",
      "- Windowed time-domain design (firwin) method\n",
      "- Hamming window with 0.0194 passband ripple and 53 dB stopband attenuation\n",
      "- Lower passband edge: 1.00\n",
      "- Lower transition bandwidth: 1.00 Hz (-6 dB cutoff frequency: 0.50 Hz)\n",
      "- Filter length: 1651 samples (3.302 sec)\n",
      "\n",
      "Fitting ICA to data using 64 channels (please be patient, this may take a while)\n"
     ]
    },
    {
     "name": "stderr",
     "output_type": "stream",
     "text": [
      "/home/dhz/experiment-BCI/preprocessing.py:30: RuntimeWarning: DigMontage is only a subset of info. There are 12 channel positions not present in the DigMontage. The required channels are:\n",
      "\n",
      "['FP1', 'FPZ', 'FP2', 'FZ', 'FCZ', 'CZ', 'CPZ', 'PZ', 'POZ', 'CB1', 'OZ', 'CB2'].\n",
      "\n",
      "Consider using inst.set_channel_types if these are not EEG channels, or use the on_missing parameter if the channel positions are allowed to be unknown in your analyses.\n",
      "  raw_cropped.set_montage('standard_1020', on_missing='warn')\n",
      "[Parallel(n_jobs=1)]: Using backend SequentialBackend with 1 concurrent workers.\n",
      "[Parallel(n_jobs=1)]: Done   1 out of   1 | elapsed:    0.0s remaining:    0.0s\n",
      "[Parallel(n_jobs=1)]: Done   2 out of   2 | elapsed:    0.0s remaining:    0.0s\n",
      "[Parallel(n_jobs=1)]: Done   3 out of   3 | elapsed:    0.0s remaining:    0.0s\n",
      "[Parallel(n_jobs=1)]: Done   4 out of   4 | elapsed:    0.0s remaining:    0.0s\n",
      "[Parallel(n_jobs=1)]: Done  64 out of  64 | elapsed:    0.1s finished\n"
     ]
    },
    {
     "name": "stdout",
     "output_type": "stream",
     "text": [
      "Selecting by number: 13 components\n",
      "Fitting ICA took 0.4s.\n",
      "Applying ICA to Raw instance\n",
      "    Transforming to ICA space (13 components)\n",
      "    Zeroing out 3 ICA components\n",
      "    Projecting back using 64 PCA components\n",
      "Reading /home/dhz/bci-data/ds003478-download/sub-016/eeg/sub-016_task-Rest_run-01_eeg.fdt\n",
      "Used Annotations descriptions: ['1', '11', '13', '14', '15', '16', '17', '3', '4', '5', '6', 'boundary', 'keyboard0']\n",
      "Reading 0 ... 33201  =      0.000 ...    66.402 secs...\n",
      "EEG channel type selected for re-referencing\n",
      "Applying a custom ('EEG',) reference.\n",
      "Filtering raw data in 1 contiguous segment\n",
      "Setting up high-pass filter at 1 Hz\n",
      "\n",
      "FIR filter parameters\n",
      "---------------------\n",
      "Designing a one-pass, zero-phase, non-causal highpass filter:\n",
      "- Windowed time-domain design (firwin) method\n",
      "- Hamming window with 0.0194 passband ripple and 53 dB stopband attenuation\n",
      "- Lower passband edge: 1.00\n",
      "- Lower transition bandwidth: 1.00 Hz (-6 dB cutoff frequency: 0.50 Hz)\n",
      "- Filter length: 1651 samples (3.302 sec)\n",
      "\n",
      "Fitting ICA to data using 64 channels (please be patient, this may take a while)\n"
     ]
    },
    {
     "name": "stderr",
     "output_type": "stream",
     "text": [
      "/home/dhz/experiment-BCI/preprocessing.py:17: RuntimeWarning: The data contains 'boundary' events, indicating data discontinuities. Be cautious of filtering and epoching around these events.\n",
      "  raw = mne.io.read_raw_eeglab(self.file_dir)\n",
      "/home/dhz/experiment-BCI/preprocessing.py:30: RuntimeWarning: DigMontage is only a subset of info. There are 12 channel positions not present in the DigMontage. The required channels are:\n",
      "\n",
      "['FP1', 'FPZ', 'FP2', 'FZ', 'FCZ', 'CZ', 'CPZ', 'PZ', 'POZ', 'CB1', 'OZ', 'CB2'].\n",
      "\n",
      "Consider using inst.set_channel_types if these are not EEG channels, or use the on_missing parameter if the channel positions are allowed to be unknown in your analyses.\n",
      "  raw_cropped.set_montage('standard_1020', on_missing='warn')\n",
      "[Parallel(n_jobs=1)]: Using backend SequentialBackend with 1 concurrent workers.\n",
      "[Parallel(n_jobs=1)]: Done   1 out of   1 | elapsed:    0.0s remaining:    0.0s\n",
      "[Parallel(n_jobs=1)]: Done   2 out of   2 | elapsed:    0.0s remaining:    0.0s\n",
      "[Parallel(n_jobs=1)]: Done   3 out of   3 | elapsed:    0.0s remaining:    0.0s\n",
      "[Parallel(n_jobs=1)]: Done   4 out of   4 | elapsed:    0.0s remaining:    0.0s\n",
      "[Parallel(n_jobs=1)]: Done  64 out of  64 | elapsed:    0.1s finished\n"
     ]
    },
    {
     "name": "stdout",
     "output_type": "stream",
     "text": [
      "Selecting by number: 13 components\n",
      "Fitting ICA took 0.5s.\n",
      "Applying ICA to Raw instance\n",
      "    Transforming to ICA space (13 components)\n",
      "    Zeroing out 3 ICA components\n",
      "    Projecting back using 64 PCA components\n",
      "Reading /home/dhz/bci-data/ds003478-download/sub-017/eeg/sub-017_task-Rest_run-01_eeg.fdt\n",
      "Used Annotations descriptions: ['1', '11', '12', '13', '14', '15', '16', '17', '2', '3', '4', '5', '6', 'boundary', 'keyboard0']\n",
      "Reading 0 ... 33201  =      0.000 ...    66.402 secs...\n",
      "EEG channel type selected for re-referencing\n",
      "Applying a custom ('EEG',) reference.\n",
      "Filtering raw data in 1 contiguous segment\n",
      "Setting up high-pass filter at 1 Hz\n",
      "\n",
      "FIR filter parameters\n",
      "---------------------\n",
      "Designing a one-pass, zero-phase, non-causal highpass filter:\n",
      "- Windowed time-domain design (firwin) method\n",
      "- Hamming window with 0.0194 passband ripple and 53 dB stopband attenuation\n",
      "- Lower passband edge: 1.00\n",
      "- Lower transition bandwidth: 1.00 Hz (-6 dB cutoff frequency: 0.50 Hz)\n",
      "- Filter length: 1651 samples (3.302 sec)\n",
      "\n",
      "Fitting ICA to data using 64 channels (please be patient, this may take a while)\n"
     ]
    },
    {
     "name": "stderr",
     "output_type": "stream",
     "text": [
      "/home/dhz/experiment-BCI/preprocessing.py:17: RuntimeWarning: The data contains 'boundary' events, indicating data discontinuities. Be cautious of filtering and epoching around these events.\n",
      "  raw = mne.io.read_raw_eeglab(self.file_dir)\n",
      "/home/dhz/experiment-BCI/preprocessing.py:30: RuntimeWarning: DigMontage is only a subset of info. There are 12 channel positions not present in the DigMontage. The required channels are:\n",
      "\n",
      "['FP1', 'FPZ', 'FP2', 'FZ', 'FCZ', 'CZ', 'CPZ', 'PZ', 'POZ', 'CB1', 'OZ', 'CB2'].\n",
      "\n",
      "Consider using inst.set_channel_types if these are not EEG channels, or use the on_missing parameter if the channel positions are allowed to be unknown in your analyses.\n",
      "  raw_cropped.set_montage('standard_1020', on_missing='warn')\n",
      "[Parallel(n_jobs=1)]: Using backend SequentialBackend with 1 concurrent workers.\n",
      "[Parallel(n_jobs=1)]: Done   1 out of   1 | elapsed:    0.0s remaining:    0.0s\n",
      "[Parallel(n_jobs=1)]: Done   2 out of   2 | elapsed:    0.0s remaining:    0.0s\n",
      "[Parallel(n_jobs=1)]: Done   3 out of   3 | elapsed:    0.0s remaining:    0.0s\n",
      "[Parallel(n_jobs=1)]: Done   4 out of   4 | elapsed:    0.0s remaining:    0.0s\n",
      "[Parallel(n_jobs=1)]: Done  64 out of  64 | elapsed:    0.1s finished\n"
     ]
    },
    {
     "name": "stdout",
     "output_type": "stream",
     "text": [
      "Selecting by number: 13 components\n",
      "Fitting ICA took 0.5s.\n",
      "Applying ICA to Raw instance\n",
      "    Transforming to ICA space (13 components)\n",
      "    Zeroing out 3 ICA components\n",
      "    Projecting back using 64 PCA components\n",
      "Reading /home/dhz/bci-data/ds003478-download/sub-018/eeg/sub-018_task-Rest_run-01_eeg.fdt\n",
      "Used Annotations descriptions: ['1', '11', '12', '13', '14', '15', '16', '17', '2', '255', '3', '4', '5', '6', 'keyboard0']\n",
      "Reading 0 ... 33201  =      0.000 ...    66.402 secs...\n",
      "EEG channel type selected for re-referencing\n",
      "Applying a custom ('EEG',) reference.\n",
      "Filtering raw data in 1 contiguous segment\n",
      "Setting up high-pass filter at 1 Hz\n",
      "\n",
      "FIR filter parameters\n",
      "---------------------\n",
      "Designing a one-pass, zero-phase, non-causal highpass filter:\n",
      "- Windowed time-domain design (firwin) method\n",
      "- Hamming window with 0.0194 passband ripple and 53 dB stopband attenuation\n",
      "- Lower passband edge: 1.00\n",
      "- Lower transition bandwidth: 1.00 Hz (-6 dB cutoff frequency: 0.50 Hz)\n",
      "- Filter length: 1651 samples (3.302 sec)\n",
      "\n",
      "Fitting ICA to data using 64 channels (please be patient, this may take a while)\n",
      "Selecting by number: 13 components\n"
     ]
    },
    {
     "name": "stderr",
     "output_type": "stream",
     "text": [
      "/home/dhz/experiment-BCI/preprocessing.py:30: RuntimeWarning: DigMontage is only a subset of info. There are 12 channel positions not present in the DigMontage. The required channels are:\n",
      "\n",
      "['FP1', 'FPZ', 'FP2', 'FZ', 'FCZ', 'CZ', 'CPZ', 'PZ', 'POZ', 'CB1', 'OZ', 'CB2'].\n",
      "\n",
      "Consider using inst.set_channel_types if these are not EEG channels, or use the on_missing parameter if the channel positions are allowed to be unknown in your analyses.\n",
      "  raw_cropped.set_montage('standard_1020', on_missing='warn')\n",
      "[Parallel(n_jobs=1)]: Using backend SequentialBackend with 1 concurrent workers.\n",
      "[Parallel(n_jobs=1)]: Done   1 out of   1 | elapsed:    0.0s remaining:    0.0s\n",
      "[Parallel(n_jobs=1)]: Done   2 out of   2 | elapsed:    0.0s remaining:    0.0s\n",
      "[Parallel(n_jobs=1)]: Done   3 out of   3 | elapsed:    0.0s remaining:    0.0s\n",
      "[Parallel(n_jobs=1)]: Done   4 out of   4 | elapsed:    0.0s remaining:    0.0s\n",
      "[Parallel(n_jobs=1)]: Done  64 out of  64 | elapsed:    0.1s finished\n"
     ]
    },
    {
     "name": "stdout",
     "output_type": "stream",
     "text": [
      "Fitting ICA took 0.5s.\n",
      "Applying ICA to Raw instance\n",
      "    Transforming to ICA space (13 components)\n",
      "    Zeroing out 3 ICA components\n",
      "    Projecting back using 64 PCA components\n",
      "Reading /home/dhz/bci-data/ds003478-download/sub-019/eeg/sub-019_task-Rest_run-01_eeg.fdt\n",
      "Used Annotations descriptions: ['1', '11', '12', '13', '14', '15', '16', '17', '2', '3', '4', '5', '6', 'boundary', 'keyboard0']\n",
      "Reading 0 ... 33200  =      0.000 ...    66.400 secs...\n",
      "EEG channel type selected for re-referencing\n",
      "Applying a custom ('EEG',) reference.\n",
      "Filtering raw data in 1 contiguous segment\n",
      "Setting up high-pass filter at 1 Hz\n",
      "\n",
      "FIR filter parameters\n",
      "---------------------\n",
      "Designing a one-pass, zero-phase, non-causal highpass filter:\n",
      "- Windowed time-domain design (firwin) method\n",
      "- Hamming window with 0.0194 passband ripple and 53 dB stopband attenuation\n",
      "- Lower passband edge: 1.00\n",
      "- Lower transition bandwidth: 1.00 Hz (-6 dB cutoff frequency: 0.50 Hz)\n",
      "- Filter length: 1651 samples (3.302 sec)\n",
      "\n"
     ]
    },
    {
     "name": "stderr",
     "output_type": "stream",
     "text": [
      "/home/dhz/experiment-BCI/preprocessing.py:17: RuntimeWarning: The data contains 'boundary' events, indicating data discontinuities. Be cautious of filtering and epoching around these events.\n",
      "  raw = mne.io.read_raw_eeglab(self.file_dir)\n",
      "/home/dhz/experiment-BCI/preprocessing.py:30: RuntimeWarning: DigMontage is only a subset of info. There are 12 channel positions not present in the DigMontage. The required channels are:\n",
      "\n",
      "['FP1', 'FPZ', 'FP2', 'FZ', 'FCZ', 'CZ', 'CPZ', 'PZ', 'POZ', 'CB1', 'OZ', 'CB2'].\n",
      "\n",
      "Consider using inst.set_channel_types if these are not EEG channels, or use the on_missing parameter if the channel positions are allowed to be unknown in your analyses.\n",
      "  raw_cropped.set_montage('standard_1020', on_missing='warn')\n",
      "[Parallel(n_jobs=1)]: Using backend SequentialBackend with 1 concurrent workers.\n",
      "[Parallel(n_jobs=1)]: Done   1 out of   1 | elapsed:    0.0s remaining:    0.0s\n",
      "[Parallel(n_jobs=1)]: Done   2 out of   2 | elapsed:    0.0s remaining:    0.0s\n",
      "[Parallel(n_jobs=1)]: Done   3 out of   3 | elapsed:    0.0s remaining:    0.0s\n",
      "[Parallel(n_jobs=1)]: Done   4 out of   4 | elapsed:    0.0s remaining:    0.0s\n"
     ]
    },
    {
     "name": "stdout",
     "output_type": "stream",
     "text": [
      "Fitting ICA to data using 64 channels (please be patient, this may take a while)\n",
      "Selecting by number: 13 components\n"
     ]
    },
    {
     "name": "stderr",
     "output_type": "stream",
     "text": [
      "[Parallel(n_jobs=1)]: Done  64 out of  64 | elapsed:    0.2s finished\n"
     ]
    },
    {
     "name": "stdout",
     "output_type": "stream",
     "text": [
      "Fitting ICA took 0.6s.\n",
      "Applying ICA to Raw instance\n",
      "    Transforming to ICA space (13 components)\n",
      "    Zeroing out 3 ICA components\n",
      "    Projecting back using 64 PCA components\n",
      "Reading /home/dhz/bci-data/ds003478-download/sub-020/eeg/sub-020_task-Rest_run-01_eeg.fdt\n",
      "Used Annotations descriptions: ['1', '11', '12', '13', '14', '15', '16', '17', '2', '3', '4', '5', '6', 'keyboard0']\n",
      "Reading 0 ... 33201  =      0.000 ...    66.402 secs...\n",
      "EEG channel type selected for re-referencing\n",
      "Applying a custom ('EEG',) reference.\n",
      "Filtering raw data in 1 contiguous segment\n",
      "Setting up high-pass filter at 1 Hz\n",
      "\n",
      "FIR filter parameters\n",
      "---------------------\n",
      "Designing a one-pass, zero-phase, non-causal highpass filter:\n",
      "- Windowed time-domain design (firwin) method\n",
      "- Hamming window with 0.0194 passband ripple and 53 dB stopband attenuation\n",
      "- Lower passband edge: 1.00\n",
      "- Lower transition bandwidth: 1.00 Hz (-6 dB cutoff frequency: 0.50 Hz)\n",
      "- Filter length: 1651 samples (3.302 sec)\n",
      "\n",
      "Fitting ICA to data using 64 channels (please be patient, this may take a while)\n",
      "Selecting by number: 13 components\n"
     ]
    },
    {
     "name": "stderr",
     "output_type": "stream",
     "text": [
      "/home/dhz/experiment-BCI/preprocessing.py:30: RuntimeWarning: DigMontage is only a subset of info. There are 12 channel positions not present in the DigMontage. The required channels are:\n",
      "\n",
      "['FP1', 'FPZ', 'FP2', 'FZ', 'FCZ', 'CZ', 'CPZ', 'PZ', 'POZ', 'CB1', 'OZ', 'CB2'].\n",
      "\n",
      "Consider using inst.set_channel_types if these are not EEG channels, or use the on_missing parameter if the channel positions are allowed to be unknown in your analyses.\n",
      "  raw_cropped.set_montage('standard_1020', on_missing='warn')\n",
      "[Parallel(n_jobs=1)]: Using backend SequentialBackend with 1 concurrent workers.\n",
      "[Parallel(n_jobs=1)]: Done   1 out of   1 | elapsed:    0.0s remaining:    0.0s\n",
      "[Parallel(n_jobs=1)]: Done   2 out of   2 | elapsed:    0.0s remaining:    0.0s\n",
      "[Parallel(n_jobs=1)]: Done   3 out of   3 | elapsed:    0.0s remaining:    0.0s\n",
      "[Parallel(n_jobs=1)]: Done   4 out of   4 | elapsed:    0.0s remaining:    0.0s\n",
      "[Parallel(n_jobs=1)]: Done  64 out of  64 | elapsed:    0.1s finished\n"
     ]
    },
    {
     "name": "stdout",
     "output_type": "stream",
     "text": [
      "Fitting ICA took 4.1s.\n",
      "Applying ICA to Raw instance\n",
      "    Transforming to ICA space (13 components)\n",
      "    Zeroing out 3 ICA components\n",
      "    Projecting back using 64 PCA components\n"
     ]
    }
   ],
   "source": [
    "train_data = []\n",
    "for i in range(20):\n",
    "    train_data.append(Preprocessing(i + 1).getData())\n",
    "\n",
    "train_data = np.array(train_data)\n",
    "train_labels = labels[0 : 20]"
   ]
  },
  {
   "cell_type": "code",
   "execution_count": 6,
   "id": "470d33af",
   "metadata": {},
   "outputs": [
    {
     "data": {
      "text/plain": [
       "20"
      ]
     },
     "execution_count": 6,
     "metadata": {},
     "output_type": "execute_result"
    }
   ],
   "source": [
    "len(train_labels)"
   ]
  },
  {
   "cell_type": "code",
   "execution_count": 7,
   "id": "42cf0cbc",
   "metadata": {},
   "outputs": [],
   "source": [
    "from subDataset import subDataset\n",
    "\n",
    "train_dataset = subDataset(train_data, train_labels)"
   ]
  },
  {
   "cell_type": "code",
   "execution_count": 8,
   "id": "69524370",
   "metadata": {},
   "outputs": [],
   "source": [
    "import torch.utils.data.dataloader as DataLoader\n",
    "\n",
    "train_loader = DataLoader.DataLoader(train_dataset,batch_size= 1, shuffle = False)"
   ]
  },
  {
   "cell_type": "code",
   "execution_count": 9,
   "id": "97a3000e",
   "metadata": {},
   "outputs": [
    {
     "name": "stdout",
     "output_type": "stream",
     "text": [
      "Reading /home/dhz/bci-data/ds003478-download/sub-021/eeg/sub-021_task-Rest_run-01_eeg.fdt\n",
      "Used Annotations descriptions: ['1', '11', '12', '13', '14', '15', '16', '17', '2', '3', '4', '5', '6', 'boundary', 'keyboard0']\n",
      "Reading 0 ... 33200  =      0.000 ...    66.400 secs...\n",
      "EEG channel type selected for re-referencing\n",
      "Applying a custom ('EEG',) reference.\n",
      "Filtering raw data in 1 contiguous segment\n",
      "Setting up high-pass filter at 1 Hz\n",
      "\n",
      "FIR filter parameters\n",
      "---------------------\n",
      "Designing a one-pass, zero-phase, non-causal highpass filter:\n",
      "- Windowed time-domain design (firwin) method\n",
      "- Hamming window with 0.0194 passband ripple and 53 dB stopband attenuation\n",
      "- Lower passband edge: 1.00\n",
      "- Lower transition bandwidth: 1.00 Hz (-6 dB cutoff frequency: 0.50 Hz)\n",
      "- Filter length: 1651 samples (3.302 sec)\n",
      "\n",
      "Fitting ICA to data using 64 channels (please be patient, this may take a while)\n"
     ]
    },
    {
     "name": "stderr",
     "output_type": "stream",
     "text": [
      "/home/dhz/experiment-BCI/preprocessing.py:17: RuntimeWarning: The data contains 'boundary' events, indicating data discontinuities. Be cautious of filtering and epoching around these events.\n",
      "  raw = mne.io.read_raw_eeglab(self.file_dir)\n",
      "/home/dhz/experiment-BCI/preprocessing.py:30: RuntimeWarning: DigMontage is only a subset of info. There are 12 channel positions not present in the DigMontage. The required channels are:\n",
      "\n",
      "['FP1', 'FPZ', 'FP2', 'FZ', 'FCZ', 'CZ', 'CPZ', 'PZ', 'POZ', 'CB1', 'OZ', 'CB2'].\n",
      "\n",
      "Consider using inst.set_channel_types if these are not EEG channels, or use the on_missing parameter if the channel positions are allowed to be unknown in your analyses.\n",
      "  raw_cropped.set_montage('standard_1020', on_missing='warn')\n",
      "[Parallel(n_jobs=1)]: Using backend SequentialBackend with 1 concurrent workers.\n",
      "[Parallel(n_jobs=1)]: Done   1 out of   1 | elapsed:    0.0s remaining:    0.0s\n",
      "[Parallel(n_jobs=1)]: Done   2 out of   2 | elapsed:    0.0s remaining:    0.0s\n",
      "[Parallel(n_jobs=1)]: Done   3 out of   3 | elapsed:    0.0s remaining:    0.0s\n",
      "[Parallel(n_jobs=1)]: Done   4 out of   4 | elapsed:    0.0s remaining:    0.0s\n",
      "[Parallel(n_jobs=1)]: Done  64 out of  64 | elapsed:    0.1s finished\n"
     ]
    },
    {
     "name": "stdout",
     "output_type": "stream",
     "text": [
      "Selecting by number: 13 components\n",
      "Fitting ICA took 0.2s.\n",
      "Applying ICA to Raw instance\n",
      "    Transforming to ICA space (13 components)\n",
      "    Zeroing out 3 ICA components\n",
      "    Projecting back using 64 PCA components\n",
      "Reading /home/dhz/bci-data/ds003478-download/sub-022/eeg/sub-022_task-Rest_run-01_eeg.fdt\n",
      "Used Annotations descriptions: ['1', '11', '12', '13', '14', '15', '16', '17', '2', '3', '4', '5', '6', 'boundary', 'keyboard0']\n",
      "Reading 0 ... 33200  =      0.000 ...    66.400 secs...\n",
      "EEG channel type selected for re-referencing\n",
      "Applying a custom ('EEG',) reference.\n",
      "Filtering raw data in 1 contiguous segment\n",
      "Setting up high-pass filter at 1 Hz\n",
      "\n",
      "FIR filter parameters\n",
      "---------------------\n",
      "Designing a one-pass, zero-phase, non-causal highpass filter:\n",
      "- Windowed time-domain design (firwin) method\n",
      "- Hamming window with 0.0194 passband ripple and 53 dB stopband attenuation\n",
      "- Lower passband edge: 1.00\n",
      "- Lower transition bandwidth: 1.00 Hz (-6 dB cutoff frequency: 0.50 Hz)\n",
      "- Filter length: 1651 samples (3.302 sec)\n",
      "\n",
      "Fitting ICA to data using 64 channels (please be patient, this may take a while)\n"
     ]
    },
    {
     "name": "stderr",
     "output_type": "stream",
     "text": [
      "/home/dhz/experiment-BCI/preprocessing.py:17: RuntimeWarning: The data contains 'boundary' events, indicating data discontinuities. Be cautious of filtering and epoching around these events.\n",
      "  raw = mne.io.read_raw_eeglab(self.file_dir)\n",
      "/home/dhz/experiment-BCI/preprocessing.py:30: RuntimeWarning: DigMontage is only a subset of info. There are 12 channel positions not present in the DigMontage. The required channels are:\n",
      "\n",
      "['FP1', 'FPZ', 'FP2', 'FZ', 'FCZ', 'CZ', 'CPZ', 'PZ', 'POZ', 'CB1', 'OZ', 'CB2'].\n",
      "\n",
      "Consider using inst.set_channel_types if these are not EEG channels, or use the on_missing parameter if the channel positions are allowed to be unknown in your analyses.\n",
      "  raw_cropped.set_montage('standard_1020', on_missing='warn')\n",
      "[Parallel(n_jobs=1)]: Using backend SequentialBackend with 1 concurrent workers.\n",
      "[Parallel(n_jobs=1)]: Done   1 out of   1 | elapsed:    0.0s remaining:    0.0s\n",
      "[Parallel(n_jobs=1)]: Done   2 out of   2 | elapsed:    0.0s remaining:    0.0s\n",
      "[Parallel(n_jobs=1)]: Done   3 out of   3 | elapsed:    0.0s remaining:    0.0s\n",
      "[Parallel(n_jobs=1)]: Done   4 out of   4 | elapsed:    0.0s remaining:    0.0s\n",
      "[Parallel(n_jobs=1)]: Done  64 out of  64 | elapsed:    0.1s finished\n"
     ]
    },
    {
     "name": "stdout",
     "output_type": "stream",
     "text": [
      "Selecting by number: 13 components\n",
      "Fitting ICA took 0.5s.\n",
      "Applying ICA to Raw instance\n",
      "    Transforming to ICA space (13 components)\n",
      "    Zeroing out 3 ICA components\n",
      "    Projecting back using 64 PCA components\n",
      "Reading /home/dhz/bci-data/ds003478-download/sub-023/eeg/sub-023_task-Rest_run-01_eeg.fdt\n",
      "Used Annotations descriptions: ['1', '11', '12', '13', '14', '15', '16', '17', '2', '3', '4', '5', '6', 'boundary', 'keyboard0']\n",
      "Reading 0 ... 33201  =      0.000 ...    66.402 secs...\n",
      "EEG channel type selected for re-referencing\n",
      "Applying a custom ('EEG',) reference.\n",
      "Filtering raw data in 1 contiguous segment\n",
      "Setting up high-pass filter at 1 Hz\n",
      "\n",
      "FIR filter parameters\n",
      "---------------------\n",
      "Designing a one-pass, zero-phase, non-causal highpass filter:\n",
      "- Windowed time-domain design (firwin) method\n",
      "- Hamming window with 0.0194 passband ripple and 53 dB stopband attenuation\n",
      "- Lower passband edge: 1.00\n",
      "- Lower transition bandwidth: 1.00 Hz (-6 dB cutoff frequency: 0.50 Hz)\n",
      "- Filter length: 1651 samples (3.302 sec)\n",
      "\n",
      "Fitting ICA to data using 64 channels (please be patient, this may take a while)\n"
     ]
    },
    {
     "name": "stderr",
     "output_type": "stream",
     "text": [
      "/home/dhz/experiment-BCI/preprocessing.py:17: RuntimeWarning: The data contains 'boundary' events, indicating data discontinuities. Be cautious of filtering and epoching around these events.\n",
      "  raw = mne.io.read_raw_eeglab(self.file_dir)\n",
      "/home/dhz/experiment-BCI/preprocessing.py:30: RuntimeWarning: DigMontage is only a subset of info. There are 12 channel positions not present in the DigMontage. The required channels are:\n",
      "\n",
      "['FP1', 'FPZ', 'FP2', 'FZ', 'FCZ', 'CZ', 'CPZ', 'PZ', 'POZ', 'CB1', 'OZ', 'CB2'].\n",
      "\n",
      "Consider using inst.set_channel_types if these are not EEG channels, or use the on_missing parameter if the channel positions are allowed to be unknown in your analyses.\n",
      "  raw_cropped.set_montage('standard_1020', on_missing='warn')\n",
      "[Parallel(n_jobs=1)]: Using backend SequentialBackend with 1 concurrent workers.\n",
      "[Parallel(n_jobs=1)]: Done   1 out of   1 | elapsed:    0.0s remaining:    0.0s\n",
      "[Parallel(n_jobs=1)]: Done   2 out of   2 | elapsed:    0.0s remaining:    0.0s\n",
      "[Parallel(n_jobs=1)]: Done   3 out of   3 | elapsed:    0.0s remaining:    0.0s\n",
      "[Parallel(n_jobs=1)]: Done   4 out of   4 | elapsed:    0.0s remaining:    0.0s\n",
      "[Parallel(n_jobs=1)]: Done  64 out of  64 | elapsed:    0.1s finished\n"
     ]
    },
    {
     "name": "stdout",
     "output_type": "stream",
     "text": [
      "Selecting by number: 13 components\n",
      "Fitting ICA took 0.5s.\n",
      "Applying ICA to Raw instance\n",
      "    Transforming to ICA space (13 components)\n",
      "    Zeroing out 3 ICA components\n",
      "    Projecting back using 64 PCA components\n",
      "Reading /home/dhz/bci-data/ds003478-download/sub-024/eeg/sub-024_task-Rest_run-01_eeg.fdt\n",
      "Used Annotations descriptions: ['1', '11', '12', '13', '14', '15', '16', '17', '2', '3', '4', '5', '6', 'boundary']\n",
      "Reading 0 ... 33201  =      0.000 ...    66.402 secs...\n",
      "EEG channel type selected for re-referencing\n",
      "Applying a custom ('EEG',) reference.\n",
      "Filtering raw data in 1 contiguous segment\n",
      "Setting up high-pass filter at 1 Hz\n",
      "\n",
      "FIR filter parameters\n",
      "---------------------\n",
      "Designing a one-pass, zero-phase, non-causal highpass filter:\n",
      "- Windowed time-domain design (firwin) method\n",
      "- Hamming window with 0.0194 passband ripple and 53 dB stopband attenuation\n",
      "- Lower passband edge: 1.00\n",
      "- Lower transition bandwidth: 1.00 Hz (-6 dB cutoff frequency: 0.50 Hz)\n",
      "- Filter length: 1651 samples (3.302 sec)\n",
      "\n",
      "Fitting ICA to data using 64 channels (please be patient, this may take a while)\n"
     ]
    },
    {
     "name": "stderr",
     "output_type": "stream",
     "text": [
      "/home/dhz/experiment-BCI/preprocessing.py:17: RuntimeWarning: The data contains 'boundary' events, indicating data discontinuities. Be cautious of filtering and epoching around these events.\n",
      "  raw = mne.io.read_raw_eeglab(self.file_dir)\n",
      "/home/dhz/experiment-BCI/preprocessing.py:30: RuntimeWarning: DigMontage is only a subset of info. There are 12 channel positions not present in the DigMontage. The required channels are:\n",
      "\n",
      "['FP1', 'FPZ', 'FP2', 'FZ', 'FCZ', 'CZ', 'CPZ', 'PZ', 'POZ', 'CB1', 'OZ', 'CB2'].\n",
      "\n",
      "Consider using inst.set_channel_types if these are not EEG channels, or use the on_missing parameter if the channel positions are allowed to be unknown in your analyses.\n",
      "  raw_cropped.set_montage('standard_1020', on_missing='warn')\n",
      "[Parallel(n_jobs=1)]: Using backend SequentialBackend with 1 concurrent workers.\n",
      "[Parallel(n_jobs=1)]: Done   1 out of   1 | elapsed:    0.0s remaining:    0.0s\n",
      "[Parallel(n_jobs=1)]: Done   2 out of   2 | elapsed:    0.0s remaining:    0.0s\n",
      "[Parallel(n_jobs=1)]: Done   3 out of   3 | elapsed:    0.0s remaining:    0.0s\n",
      "[Parallel(n_jobs=1)]: Done   4 out of   4 | elapsed:    0.0s remaining:    0.0s\n",
      "[Parallel(n_jobs=1)]: Done  64 out of  64 | elapsed:    0.1s finished\n"
     ]
    },
    {
     "name": "stdout",
     "output_type": "stream",
     "text": [
      "Selecting by number: 13 components\n",
      "Fitting ICA took 0.5s.\n",
      "Applying ICA to Raw instance\n",
      "    Transforming to ICA space (13 components)\n",
      "    Zeroing out 3 ICA components\n",
      "    Projecting back using 64 PCA components\n",
      "Reading /home/dhz/bci-data/ds003478-download/sub-025/eeg/sub-025_task-Rest_run-01_eeg.fdt\n",
      "Used Annotations descriptions: ['1', '11', '12', '13', '14', '15', '16', '17', '2', '240', '3', '4', '5', '6']\n",
      "Reading 0 ... 33201  =      0.000 ...    66.402 secs...\n",
      "EEG channel type selected for re-referencing\n",
      "Applying a custom ('EEG',) reference.\n",
      "Filtering raw data in 1 contiguous segment\n",
      "Setting up high-pass filter at 1 Hz\n",
      "\n",
      "FIR filter parameters\n",
      "---------------------\n",
      "Designing a one-pass, zero-phase, non-causal highpass filter:\n",
      "- Windowed time-domain design (firwin) method\n",
      "- Hamming window with 0.0194 passband ripple and 53 dB stopband attenuation\n",
      "- Lower passband edge: 1.00\n",
      "- Lower transition bandwidth: 1.00 Hz (-6 dB cutoff frequency: 0.50 Hz)\n",
      "- Filter length: 1651 samples (3.302 sec)\n",
      "\n",
      "Fitting ICA to data using 64 channels (please be patient, this may take a while)\n"
     ]
    },
    {
     "name": "stderr",
     "output_type": "stream",
     "text": [
      "/home/dhz/experiment-BCI/preprocessing.py:30: RuntimeWarning: DigMontage is only a subset of info. There are 12 channel positions not present in the DigMontage. The required channels are:\n",
      "\n",
      "['FP1', 'FPZ', 'FP2', 'FZ', 'FCZ', 'CZ', 'CPZ', 'PZ', 'POZ', 'CB1', 'OZ', 'CB2'].\n",
      "\n",
      "Consider using inst.set_channel_types if these are not EEG channels, or use the on_missing parameter if the channel positions are allowed to be unknown in your analyses.\n",
      "  raw_cropped.set_montage('standard_1020', on_missing='warn')\n",
      "[Parallel(n_jobs=1)]: Using backend SequentialBackend with 1 concurrent workers.\n",
      "[Parallel(n_jobs=1)]: Done   1 out of   1 | elapsed:    0.0s remaining:    0.0s\n",
      "[Parallel(n_jobs=1)]: Done   2 out of   2 | elapsed:    0.0s remaining:    0.0s\n",
      "[Parallel(n_jobs=1)]: Done   3 out of   3 | elapsed:    0.0s remaining:    0.0s\n",
      "[Parallel(n_jobs=1)]: Done   4 out of   4 | elapsed:    0.0s remaining:    0.0s\n",
      "[Parallel(n_jobs=1)]: Done  64 out of  64 | elapsed:    0.1s finished\n"
     ]
    },
    {
     "name": "stdout",
     "output_type": "stream",
     "text": [
      "Selecting by number: 13 components\n",
      "Fitting ICA took 0.5s.\n",
      "Applying ICA to Raw instance\n",
      "    Transforming to ICA space (13 components)\n",
      "    Zeroing out 3 ICA components\n",
      "    Projecting back using 64 PCA components\n",
      "Reading /home/dhz/bci-data/ds003478-download/sub-026/eeg/sub-026_task-Rest_run-01_eeg.fdt\n",
      "Used Annotations descriptions: ['1', '11', '12', '13', '14', '15', '16', '17', '2', '3', '4', '5', '6', 'boundary', 'keyboard0']\n",
      "Reading 0 ... 33204  =      0.000 ...    66.408 secs...\n",
      "EEG channel type selected for re-referencing\n",
      "Applying a custom ('EEG',) reference.\n",
      "Filtering raw data in 1 contiguous segment\n",
      "Setting up high-pass filter at 1 Hz\n",
      "\n",
      "FIR filter parameters\n",
      "---------------------\n",
      "Designing a one-pass, zero-phase, non-causal highpass filter:\n",
      "- Windowed time-domain design (firwin) method\n",
      "- Hamming window with 0.0194 passband ripple and 53 dB stopband attenuation\n",
      "- Lower passband edge: 1.00\n",
      "- Lower transition bandwidth: 1.00 Hz (-6 dB cutoff frequency: 0.50 Hz)\n",
      "- Filter length: 1651 samples (3.302 sec)\n",
      "\n",
      "Fitting ICA to data using 64 channels (please be patient, this may take a while)\n"
     ]
    },
    {
     "name": "stderr",
     "output_type": "stream",
     "text": [
      "/home/dhz/experiment-BCI/preprocessing.py:17: RuntimeWarning: The data contains 'boundary' events, indicating data discontinuities. Be cautious of filtering and epoching around these events.\n",
      "  raw = mne.io.read_raw_eeglab(self.file_dir)\n",
      "/home/dhz/experiment-BCI/preprocessing.py:30: RuntimeWarning: DigMontage is only a subset of info. There are 12 channel positions not present in the DigMontage. The required channels are:\n",
      "\n",
      "['FP1', 'FPZ', 'FP2', 'FZ', 'FCZ', 'CZ', 'CPZ', 'PZ', 'POZ', 'CB1', 'OZ', 'CB2'].\n",
      "\n",
      "Consider using inst.set_channel_types if these are not EEG channels, or use the on_missing parameter if the channel positions are allowed to be unknown in your analyses.\n",
      "  raw_cropped.set_montage('standard_1020', on_missing='warn')\n",
      "[Parallel(n_jobs=1)]: Using backend SequentialBackend with 1 concurrent workers.\n",
      "[Parallel(n_jobs=1)]: Done   1 out of   1 | elapsed:    0.0s remaining:    0.0s\n",
      "[Parallel(n_jobs=1)]: Done   2 out of   2 | elapsed:    0.0s remaining:    0.0s\n",
      "[Parallel(n_jobs=1)]: Done   3 out of   3 | elapsed:    0.0s remaining:    0.0s\n",
      "[Parallel(n_jobs=1)]: Done   4 out of   4 | elapsed:    0.0s remaining:    0.0s\n",
      "[Parallel(n_jobs=1)]: Done  64 out of  64 | elapsed:    0.1s finished\n"
     ]
    },
    {
     "name": "stdout",
     "output_type": "stream",
     "text": [
      "Selecting by number: 13 components\n",
      "Fitting ICA took 0.5s.\n",
      "Applying ICA to Raw instance\n",
      "    Transforming to ICA space (13 components)\n",
      "    Zeroing out 3 ICA components\n",
      "    Projecting back using 64 PCA components\n",
      "Reading /home/dhz/bci-data/ds003478-download/sub-027/eeg/sub-027_task-Rest_run-01_eeg.fdt\n",
      "Used Annotations descriptions: ['1', '11', '12', '13', '14', '15', '16', '17', '2', '3', '4', '5', '6', 'boundary', 'keyboard0']\n",
      "Reading 0 ... 33200  =      0.000 ...    66.400 secs...\n",
      "EEG channel type selected for re-referencing\n",
      "Applying a custom ('EEG',) reference.\n",
      "Filtering raw data in 1 contiguous segment\n",
      "Setting up high-pass filter at 1 Hz\n",
      "\n",
      "FIR filter parameters\n",
      "---------------------\n",
      "Designing a one-pass, zero-phase, non-causal highpass filter:\n",
      "- Windowed time-domain design (firwin) method\n",
      "- Hamming window with 0.0194 passband ripple and 53 dB stopband attenuation\n",
      "- Lower passband edge: 1.00\n",
      "- Lower transition bandwidth: 1.00 Hz (-6 dB cutoff frequency: 0.50 Hz)\n",
      "- Filter length: 1651 samples (3.302 sec)\n",
      "\n",
      "Fitting ICA to data using 64 channels (please be patient, this may take a while)\n"
     ]
    },
    {
     "name": "stderr",
     "output_type": "stream",
     "text": [
      "/home/dhz/experiment-BCI/preprocessing.py:17: RuntimeWarning: The data contains 'boundary' events, indicating data discontinuities. Be cautious of filtering and epoching around these events.\n",
      "  raw = mne.io.read_raw_eeglab(self.file_dir)\n",
      "/home/dhz/experiment-BCI/preprocessing.py:30: RuntimeWarning: DigMontage is only a subset of info. There are 12 channel positions not present in the DigMontage. The required channels are:\n",
      "\n",
      "['FP1', 'FPZ', 'FP2', 'FZ', 'FCZ', 'CZ', 'CPZ', 'PZ', 'POZ', 'CB1', 'OZ', 'CB2'].\n",
      "\n",
      "Consider using inst.set_channel_types if these are not EEG channels, or use the on_missing parameter if the channel positions are allowed to be unknown in your analyses.\n",
      "  raw_cropped.set_montage('standard_1020', on_missing='warn')\n",
      "[Parallel(n_jobs=1)]: Using backend SequentialBackend with 1 concurrent workers.\n",
      "[Parallel(n_jobs=1)]: Done   1 out of   1 | elapsed:    0.0s remaining:    0.0s\n",
      "[Parallel(n_jobs=1)]: Done   2 out of   2 | elapsed:    0.0s remaining:    0.0s\n",
      "[Parallel(n_jobs=1)]: Done   3 out of   3 | elapsed:    0.0s remaining:    0.0s\n",
      "[Parallel(n_jobs=1)]: Done   4 out of   4 | elapsed:    0.0s remaining:    0.0s\n",
      "[Parallel(n_jobs=1)]: Done  64 out of  64 | elapsed:    0.1s finished\n"
     ]
    },
    {
     "name": "stdout",
     "output_type": "stream",
     "text": [
      "Selecting by number: 13 components\n",
      "Fitting ICA took 0.4s.\n",
      "Applying ICA to Raw instance\n",
      "    Transforming to ICA space (13 components)\n",
      "    Zeroing out 3 ICA components\n",
      "    Projecting back using 64 PCA components\n",
      "Reading /home/dhz/bci-data/ds003478-download/sub-028/eeg/sub-028_task-Rest_run-01_eeg.fdt\n",
      "Used Annotations descriptions: ['1', '11', '12', '13', '14', '15', '16', '17', '2', '3', '4', '5', '6', 'boundary', 'keyboard0']\n",
      "Reading 0 ... 33201  =      0.000 ...    66.402 secs...\n",
      "EEG channel type selected for re-referencing\n",
      "Applying a custom ('EEG',) reference.\n",
      "Filtering raw data in 1 contiguous segment\n",
      "Setting up high-pass filter at 1 Hz\n",
      "\n",
      "FIR filter parameters\n",
      "---------------------\n",
      "Designing a one-pass, zero-phase, non-causal highpass filter:\n",
      "- Windowed time-domain design (firwin) method\n",
      "- Hamming window with 0.0194 passband ripple and 53 dB stopband attenuation\n",
      "- Lower passband edge: 1.00\n",
      "- Lower transition bandwidth: 1.00 Hz (-6 dB cutoff frequency: 0.50 Hz)\n",
      "- Filter length: 1651 samples (3.302 sec)\n",
      "\n",
      "Fitting ICA to data using 64 channels (please be patient, this may take a while)\n"
     ]
    },
    {
     "name": "stderr",
     "output_type": "stream",
     "text": [
      "/home/dhz/experiment-BCI/preprocessing.py:17: RuntimeWarning: The data contains 'boundary' events, indicating data discontinuities. Be cautious of filtering and epoching around these events.\n",
      "  raw = mne.io.read_raw_eeglab(self.file_dir)\n",
      "/home/dhz/experiment-BCI/preprocessing.py:30: RuntimeWarning: DigMontage is only a subset of info. There are 12 channel positions not present in the DigMontage. The required channels are:\n",
      "\n",
      "['FP1', 'FPZ', 'FP2', 'FZ', 'FCZ', 'CZ', 'CPZ', 'PZ', 'POZ', 'CB1', 'OZ', 'CB2'].\n",
      "\n",
      "Consider using inst.set_channel_types if these are not EEG channels, or use the on_missing parameter if the channel positions are allowed to be unknown in your analyses.\n",
      "  raw_cropped.set_montage('standard_1020', on_missing='warn')\n",
      "[Parallel(n_jobs=1)]: Using backend SequentialBackend with 1 concurrent workers.\n",
      "[Parallel(n_jobs=1)]: Done   1 out of   1 | elapsed:    0.0s remaining:    0.0s\n",
      "[Parallel(n_jobs=1)]: Done   2 out of   2 | elapsed:    0.0s remaining:    0.0s\n",
      "[Parallel(n_jobs=1)]: Done   3 out of   3 | elapsed:    0.0s remaining:    0.0s\n",
      "[Parallel(n_jobs=1)]: Done   4 out of   4 | elapsed:    0.0s remaining:    0.0s\n",
      "[Parallel(n_jobs=1)]: Done  64 out of  64 | elapsed:    0.1s finished\n"
     ]
    },
    {
     "name": "stdout",
     "output_type": "stream",
     "text": [
      "Selecting by number: 13 components\n",
      "Fitting ICA took 0.3s.\n",
      "Applying ICA to Raw instance\n",
      "    Transforming to ICA space (13 components)\n",
      "    Zeroing out 3 ICA components\n",
      "    Projecting back using 64 PCA components\n",
      "Reading /home/dhz/bci-data/ds003478-download/sub-029/eeg/sub-029_task-Rest_run-01_eeg.fdt\n",
      "Used Annotations descriptions: ['1', '11', '12', '13', '14', '15', '16', '17', '2', '3', '4', '5', '6', 'boundary', 'keyboard0']\n",
      "Reading 0 ... 33200  =      0.000 ...    66.400 secs...\n",
      "EEG channel type selected for re-referencing\n",
      "Applying a custom ('EEG',) reference.\n",
      "Filtering raw data in 1 contiguous segment\n",
      "Setting up high-pass filter at 1 Hz\n",
      "\n",
      "FIR filter parameters\n",
      "---------------------\n",
      "Designing a one-pass, zero-phase, non-causal highpass filter:\n",
      "- Windowed time-domain design (firwin) method\n",
      "- Hamming window with 0.0194 passband ripple and 53 dB stopband attenuation\n",
      "- Lower passband edge: 1.00\n",
      "- Lower transition bandwidth: 1.00 Hz (-6 dB cutoff frequency: 0.50 Hz)\n",
      "- Filter length: 1651 samples (3.302 sec)\n",
      "\n",
      "Fitting ICA to data using 64 channels (please be patient, this may take a while)\n"
     ]
    },
    {
     "name": "stderr",
     "output_type": "stream",
     "text": [
      "/home/dhz/experiment-BCI/preprocessing.py:17: RuntimeWarning: The data contains 'boundary' events, indicating data discontinuities. Be cautious of filtering and epoching around these events.\n",
      "  raw = mne.io.read_raw_eeglab(self.file_dir)\n",
      "/home/dhz/experiment-BCI/preprocessing.py:30: RuntimeWarning: DigMontage is only a subset of info. There are 12 channel positions not present in the DigMontage. The required channels are:\n",
      "\n",
      "['FP1', 'FPZ', 'FP2', 'FZ', 'FCZ', 'CZ', 'CPZ', 'PZ', 'POZ', 'CB1', 'OZ', 'CB2'].\n",
      "\n",
      "Consider using inst.set_channel_types if these are not EEG channels, or use the on_missing parameter if the channel positions are allowed to be unknown in your analyses.\n",
      "  raw_cropped.set_montage('standard_1020', on_missing='warn')\n",
      "[Parallel(n_jobs=1)]: Using backend SequentialBackend with 1 concurrent workers.\n",
      "[Parallel(n_jobs=1)]: Done   1 out of   1 | elapsed:    0.0s remaining:    0.0s\n",
      "[Parallel(n_jobs=1)]: Done   2 out of   2 | elapsed:    0.0s remaining:    0.0s\n",
      "[Parallel(n_jobs=1)]: Done   3 out of   3 | elapsed:    0.0s remaining:    0.0s\n",
      "[Parallel(n_jobs=1)]: Done   4 out of   4 | elapsed:    0.0s remaining:    0.0s\n",
      "[Parallel(n_jobs=1)]: Done  64 out of  64 | elapsed:    0.1s finished\n"
     ]
    },
    {
     "name": "stdout",
     "output_type": "stream",
     "text": [
      "Selecting by number: 13 components\n",
      "Fitting ICA took 0.3s.\n",
      "Applying ICA to Raw instance\n",
      "    Transforming to ICA space (13 components)\n",
      "    Zeroing out 3 ICA components\n",
      "    Projecting back using 64 PCA components\n",
      "Reading /home/dhz/bci-data/ds003478-download/sub-030/eeg/sub-030_task-Rest_run-01_eeg.fdt\n",
      "Used Annotations descriptions: ['1', '11', '12', '13', '14', '15', '16', '17', '2', '3', '4', '5', '6', 'keyboard0']\n",
      "Reading 0 ... 33201  =      0.000 ...    66.402 secs...\n",
      "EEG channel type selected for re-referencing\n",
      "Applying a custom ('EEG',) reference.\n",
      "Filtering raw data in 1 contiguous segment\n",
      "Setting up high-pass filter at 1 Hz\n",
      "\n",
      "FIR filter parameters\n",
      "---------------------\n",
      "Designing a one-pass, zero-phase, non-causal highpass filter:\n",
      "- Windowed time-domain design (firwin) method\n",
      "- Hamming window with 0.0194 passband ripple and 53 dB stopband attenuation\n",
      "- Lower passband edge: 1.00\n",
      "- Lower transition bandwidth: 1.00 Hz (-6 dB cutoff frequency: 0.50 Hz)\n",
      "- Filter length: 1651 samples (3.302 sec)\n",
      "\n",
      "Fitting ICA to data using 64 channels (please be patient, this may take a while)\n",
      "Selecting by number: 13 components\n"
     ]
    },
    {
     "name": "stderr",
     "output_type": "stream",
     "text": [
      "/home/dhz/experiment-BCI/preprocessing.py:30: RuntimeWarning: DigMontage is only a subset of info. There are 12 channel positions not present in the DigMontage. The required channels are:\n",
      "\n",
      "['FP1', 'FPZ', 'FP2', 'FZ', 'FCZ', 'CZ', 'CPZ', 'PZ', 'POZ', 'CB1', 'OZ', 'CB2'].\n",
      "\n",
      "Consider using inst.set_channel_types if these are not EEG channels, or use the on_missing parameter if the channel positions are allowed to be unknown in your analyses.\n",
      "  raw_cropped.set_montage('standard_1020', on_missing='warn')\n",
      "[Parallel(n_jobs=1)]: Using backend SequentialBackend with 1 concurrent workers.\n",
      "[Parallel(n_jobs=1)]: Done   1 out of   1 | elapsed:    0.0s remaining:    0.0s\n",
      "[Parallel(n_jobs=1)]: Done   2 out of   2 | elapsed:    0.0s remaining:    0.0s\n",
      "[Parallel(n_jobs=1)]: Done   3 out of   3 | elapsed:    0.0s remaining:    0.0s\n",
      "[Parallel(n_jobs=1)]: Done   4 out of   4 | elapsed:    0.0s remaining:    0.0s\n",
      "[Parallel(n_jobs=1)]: Done  64 out of  64 | elapsed:    0.1s finished\n"
     ]
    },
    {
     "name": "stdout",
     "output_type": "stream",
     "text": [
      "Fitting ICA took 0.6s.\n",
      "Applying ICA to Raw instance\n",
      "    Transforming to ICA space (13 components)\n",
      "    Zeroing out 3 ICA components\n",
      "    Projecting back using 64 PCA components\n",
      "Reading /home/dhz/bci-data/ds003478-download/sub-031/eeg/sub-031_task-Rest_run-01_eeg.fdt\n",
      "Used Annotations descriptions: ['1', '11', '12', '13', '14', '15', '16', '17', '2', '3', '4', '5', '6', 'boundary', 'keyboard0']\n",
      "Reading 0 ... 33200  =      0.000 ...    66.400 secs...\n",
      "EEG channel type selected for re-referencing\n",
      "Applying a custom ('EEG',) reference.\n",
      "Filtering raw data in 1 contiguous segment\n",
      "Setting up high-pass filter at 1 Hz\n",
      "\n",
      "FIR filter parameters\n",
      "---------------------\n",
      "Designing a one-pass, zero-phase, non-causal highpass filter:\n",
      "- Windowed time-domain design (firwin) method\n",
      "- Hamming window with 0.0194 passband ripple and 53 dB stopband attenuation\n",
      "- Lower passband edge: 1.00\n",
      "- Lower transition bandwidth: 1.00 Hz (-6 dB cutoff frequency: 0.50 Hz)\n",
      "- Filter length: 1651 samples (3.302 sec)\n",
      "\n",
      "Fitting ICA to data using 64 channels (please be patient, this may take a while)\n"
     ]
    },
    {
     "name": "stderr",
     "output_type": "stream",
     "text": [
      "/home/dhz/experiment-BCI/preprocessing.py:17: RuntimeWarning: The data contains 'boundary' events, indicating data discontinuities. Be cautious of filtering and epoching around these events.\n",
      "  raw = mne.io.read_raw_eeglab(self.file_dir)\n",
      "/home/dhz/experiment-BCI/preprocessing.py:30: RuntimeWarning: DigMontage is only a subset of info. There are 12 channel positions not present in the DigMontage. The required channels are:\n",
      "\n",
      "['FP1', 'FPZ', 'FP2', 'FZ', 'FCZ', 'CZ', 'CPZ', 'PZ', 'POZ', 'CB1', 'OZ', 'CB2'].\n",
      "\n",
      "Consider using inst.set_channel_types if these are not EEG channels, or use the on_missing parameter if the channel positions are allowed to be unknown in your analyses.\n",
      "  raw_cropped.set_montage('standard_1020', on_missing='warn')\n",
      "[Parallel(n_jobs=1)]: Using backend SequentialBackend with 1 concurrent workers.\n",
      "[Parallel(n_jobs=1)]: Done   1 out of   1 | elapsed:    0.0s remaining:    0.0s\n",
      "[Parallel(n_jobs=1)]: Done   2 out of   2 | elapsed:    0.0s remaining:    0.0s\n",
      "[Parallel(n_jobs=1)]: Done   3 out of   3 | elapsed:    0.0s remaining:    0.0s\n",
      "[Parallel(n_jobs=1)]: Done   4 out of   4 | elapsed:    0.0s remaining:    0.0s\n",
      "[Parallel(n_jobs=1)]: Done  64 out of  64 | elapsed:    0.1s finished\n"
     ]
    },
    {
     "name": "stdout",
     "output_type": "stream",
     "text": [
      "Selecting by number: 13 components\n",
      "Fitting ICA took 0.6s.\n",
      "Applying ICA to Raw instance\n",
      "    Transforming to ICA space (13 components)\n",
      "    Zeroing out 3 ICA components\n",
      "    Projecting back using 64 PCA components\n",
      "Reading /home/dhz/bci-data/ds003478-download/sub-032/eeg/sub-032_task-Rest_run-01_eeg.fdt\n",
      "Used Annotations descriptions: ['1', '11', '12', '13', '14', '15', '16', '17', '2', '3', '4', '5', '6', 'boundary', 'keyboard0']\n",
      "Reading 0 ... 33201  =      0.000 ...    66.402 secs...\n",
      "EEG channel type selected for re-referencing\n",
      "Applying a custom ('EEG',) reference.\n",
      "Filtering raw data in 1 contiguous segment\n",
      "Setting up high-pass filter at 1 Hz\n",
      "\n",
      "FIR filter parameters\n",
      "---------------------\n",
      "Designing a one-pass, zero-phase, non-causal highpass filter:\n",
      "- Windowed time-domain design (firwin) method\n",
      "- Hamming window with 0.0194 passband ripple and 53 dB stopband attenuation\n",
      "- Lower passband edge: 1.00\n",
      "- Lower transition bandwidth: 1.00 Hz (-6 dB cutoff frequency: 0.50 Hz)\n",
      "- Filter length: 1651 samples (3.302 sec)\n",
      "\n",
      "Fitting ICA to data using 64 channels (please be patient, this may take a while)\n"
     ]
    },
    {
     "name": "stderr",
     "output_type": "stream",
     "text": [
      "/home/dhz/experiment-BCI/preprocessing.py:17: RuntimeWarning: The data contains 'boundary' events, indicating data discontinuities. Be cautious of filtering and epoching around these events.\n",
      "  raw = mne.io.read_raw_eeglab(self.file_dir)\n",
      "/home/dhz/experiment-BCI/preprocessing.py:30: RuntimeWarning: DigMontage is only a subset of info. There are 12 channel positions not present in the DigMontage. The required channels are:\n",
      "\n",
      "['FP1', 'FPZ', 'FP2', 'FZ', 'FCZ', 'CZ', 'CPZ', 'PZ', 'POZ', 'CB1', 'OZ', 'CB2'].\n",
      "\n",
      "Consider using inst.set_channel_types if these are not EEG channels, or use the on_missing parameter if the channel positions are allowed to be unknown in your analyses.\n",
      "  raw_cropped.set_montage('standard_1020', on_missing='warn')\n",
      "[Parallel(n_jobs=1)]: Using backend SequentialBackend with 1 concurrent workers.\n",
      "[Parallel(n_jobs=1)]: Done   1 out of   1 | elapsed:    0.0s remaining:    0.0s\n",
      "[Parallel(n_jobs=1)]: Done   2 out of   2 | elapsed:    0.0s remaining:    0.0s\n",
      "[Parallel(n_jobs=1)]: Done   3 out of   3 | elapsed:    0.0s remaining:    0.0s\n",
      "[Parallel(n_jobs=1)]: Done   4 out of   4 | elapsed:    0.0s remaining:    0.0s\n",
      "[Parallel(n_jobs=1)]: Done  64 out of  64 | elapsed:    0.1s finished\n"
     ]
    },
    {
     "name": "stdout",
     "output_type": "stream",
     "text": [
      "Selecting by number: 13 components\n",
      "Fitting ICA took 0.5s.\n",
      "Applying ICA to Raw instance\n",
      "    Transforming to ICA space (13 components)\n",
      "    Zeroing out 3 ICA components\n",
      "    Projecting back using 64 PCA components\n",
      "Reading /home/dhz/bci-data/ds003478-download/sub-033/eeg/sub-033_task-Rest_run-01_eeg.fdt\n",
      "Used Annotations descriptions: ['13', '14', '15', '16', '17', '255', '3', '4', '5', '6', 'boundary']\n",
      "Reading 0 ... 25243  =      0.000 ...    50.486 secs...\n",
      "EEG channel type selected for re-referencing\n",
      "Applying a custom ('EEG',) reference.\n",
      "Filtering raw data in 1 contiguous segment\n",
      "Setting up high-pass filter at 1 Hz\n",
      "\n",
      "FIR filter parameters\n",
      "---------------------\n",
      "Designing a one-pass, zero-phase, non-causal highpass filter:\n",
      "- Windowed time-domain design (firwin) method\n",
      "- Hamming window with 0.0194 passband ripple and 53 dB stopband attenuation\n",
      "- Lower passband edge: 1.00\n",
      "- Lower transition bandwidth: 1.00 Hz (-6 dB cutoff frequency: 0.50 Hz)\n",
      "- Filter length: 1651 samples (3.302 sec)\n",
      "\n",
      "Fitting ICA to data using 64 channels (please be patient, this may take a while)\n",
      "Selecting by number: 13 components\n"
     ]
    },
    {
     "name": "stderr",
     "output_type": "stream",
     "text": [
      "/home/dhz/experiment-BCI/preprocessing.py:17: RuntimeWarning: The data contains 'boundary' events, indicating data discontinuities. Be cautious of filtering and epoching around these events.\n",
      "  raw = mne.io.read_raw_eeglab(self.file_dir)\n",
      "/home/dhz/experiment-BCI/preprocessing.py:30: RuntimeWarning: DigMontage is only a subset of info. There are 12 channel positions not present in the DigMontage. The required channels are:\n",
      "\n",
      "['FP1', 'FPZ', 'FP2', 'FZ', 'FCZ', 'CZ', 'CPZ', 'PZ', 'POZ', 'CB1', 'OZ', 'CB2'].\n",
      "\n",
      "Consider using inst.set_channel_types if these are not EEG channels, or use the on_missing parameter if the channel positions are allowed to be unknown in your analyses.\n",
      "  raw_cropped.set_montage('standard_1020', on_missing='warn')\n",
      "[Parallel(n_jobs=1)]: Using backend SequentialBackend with 1 concurrent workers.\n",
      "[Parallel(n_jobs=1)]: Done   1 out of   1 | elapsed:    0.0s remaining:    0.0s\n",
      "[Parallel(n_jobs=1)]: Done   2 out of   2 | elapsed:    0.0s remaining:    0.0s\n",
      "[Parallel(n_jobs=1)]: Done   3 out of   3 | elapsed:    0.0s remaining:    0.0s\n",
      "[Parallel(n_jobs=1)]: Done   4 out of   4 | elapsed:    0.0s remaining:    0.0s\n",
      "[Parallel(n_jobs=1)]: Done  64 out of  64 | elapsed:    0.1s finished\n"
     ]
    },
    {
     "name": "stdout",
     "output_type": "stream",
     "text": [
      "Fitting ICA took 1.2s.\n",
      "Applying ICA to Raw instance\n",
      "    Transforming to ICA space (13 components)\n",
      "    Zeroing out 3 ICA components\n",
      "    Projecting back using 64 PCA components\n",
      "Reading /home/dhz/bci-data/ds003478-download/sub-034/eeg/sub-034_task-Rest_run-01_eeg.fdt\n",
      "Used Annotations descriptions: ['1', '11', '12', '13', '14', '15', '16', '17', '2', '3', '4', '5', '6', 'boundary', 'keyboard0']\n",
      "Reading 0 ... 31341  =      0.000 ...    62.682 secs...\n",
      "EEG channel type selected for re-referencing\n",
      "Applying a custom ('EEG',) reference.\n",
      "Filtering raw data in 1 contiguous segment\n",
      "Setting up high-pass filter at 1 Hz\n",
      "\n",
      "FIR filter parameters\n",
      "---------------------\n",
      "Designing a one-pass, zero-phase, non-causal highpass filter:\n",
      "- Windowed time-domain design (firwin) method\n",
      "- Hamming window with 0.0194 passband ripple and 53 dB stopband attenuation\n",
      "- Lower passband edge: 1.00\n",
      "- Lower transition bandwidth: 1.00 Hz (-6 dB cutoff frequency: 0.50 Hz)\n",
      "- Filter length: 1651 samples (3.302 sec)\n",
      "\n",
      "Fitting ICA to data using 64 channels (please be patient, this may take a while)\n"
     ]
    },
    {
     "name": "stderr",
     "output_type": "stream",
     "text": [
      "/home/dhz/experiment-BCI/preprocessing.py:17: RuntimeWarning: The data contains 'boundary' events, indicating data discontinuities. Be cautious of filtering and epoching around these events.\n",
      "  raw = mne.io.read_raw_eeglab(self.file_dir)\n",
      "/home/dhz/experiment-BCI/preprocessing.py:30: RuntimeWarning: DigMontage is only a subset of info. There are 12 channel positions not present in the DigMontage. The required channels are:\n",
      "\n",
      "['FP1', 'FPZ', 'FP2', 'FZ', 'FCZ', 'CZ', 'CPZ', 'PZ', 'POZ', 'CB1', 'OZ', 'CB2'].\n",
      "\n",
      "Consider using inst.set_channel_types if these are not EEG channels, or use the on_missing parameter if the channel positions are allowed to be unknown in your analyses.\n",
      "  raw_cropped.set_montage('standard_1020', on_missing='warn')\n",
      "[Parallel(n_jobs=1)]: Using backend SequentialBackend with 1 concurrent workers.\n",
      "[Parallel(n_jobs=1)]: Done   1 out of   1 | elapsed:    0.0s remaining:    0.0s\n",
      "[Parallel(n_jobs=1)]: Done   2 out of   2 | elapsed:    0.0s remaining:    0.0s\n",
      "[Parallel(n_jobs=1)]: Done   3 out of   3 | elapsed:    0.0s remaining:    0.0s\n",
      "[Parallel(n_jobs=1)]: Done   4 out of   4 | elapsed:    0.0s remaining:    0.0s\n",
      "[Parallel(n_jobs=1)]: Done  64 out of  64 | elapsed:    0.1s finished\n"
     ]
    },
    {
     "name": "stdout",
     "output_type": "stream",
     "text": [
      "Selecting by number: 13 components\n",
      "Fitting ICA took 0.6s.\n",
      "Applying ICA to Raw instance\n",
      "    Transforming to ICA space (13 components)\n",
      "    Zeroing out 3 ICA components\n",
      "    Projecting back using 64 PCA components\n",
      "Reading /home/dhz/bci-data/ds003478-download/sub-035/eeg/sub-035_task-Rest_run-01_eeg.fdt\n",
      "Used Annotations descriptions: ['1', '11', '12', '13', '14', '15', '16', '17', '2', '3', '4', '5', '6', 'boundary', 'keyboard0']\n",
      "Reading 0 ... 33201  =      0.000 ...    66.402 secs...\n",
      "EEG channel type selected for re-referencing\n",
      "Applying a custom ('EEG',) reference.\n",
      "Filtering raw data in 1 contiguous segment\n",
      "Setting up high-pass filter at 1 Hz\n",
      "\n",
      "FIR filter parameters\n",
      "---------------------\n",
      "Designing a one-pass, zero-phase, non-causal highpass filter:\n",
      "- Windowed time-domain design (firwin) method\n",
      "- Hamming window with 0.0194 passband ripple and 53 dB stopband attenuation\n",
      "- Lower passband edge: 1.00\n",
      "- Lower transition bandwidth: 1.00 Hz (-6 dB cutoff frequency: 0.50 Hz)\n",
      "- Filter length: 1651 samples (3.302 sec)\n",
      "\n",
      "Fitting ICA to data using 64 channels (please be patient, this may take a while)\n"
     ]
    },
    {
     "name": "stderr",
     "output_type": "stream",
     "text": [
      "/home/dhz/experiment-BCI/preprocessing.py:17: RuntimeWarning: The data contains 'boundary' events, indicating data discontinuities. Be cautious of filtering and epoching around these events.\n",
      "  raw = mne.io.read_raw_eeglab(self.file_dir)\n",
      "/home/dhz/experiment-BCI/preprocessing.py:30: RuntimeWarning: DigMontage is only a subset of info. There are 12 channel positions not present in the DigMontage. The required channels are:\n",
      "\n",
      "['FP1', 'FPZ', 'FP2', 'FZ', 'FCZ', 'CZ', 'CPZ', 'PZ', 'POZ', 'CB1', 'OZ', 'CB2'].\n",
      "\n",
      "Consider using inst.set_channel_types if these are not EEG channels, or use the on_missing parameter if the channel positions are allowed to be unknown in your analyses.\n",
      "  raw_cropped.set_montage('standard_1020', on_missing='warn')\n",
      "[Parallel(n_jobs=1)]: Using backend SequentialBackend with 1 concurrent workers.\n",
      "[Parallel(n_jobs=1)]: Done   1 out of   1 | elapsed:    0.0s remaining:    0.0s\n",
      "[Parallel(n_jobs=1)]: Done   2 out of   2 | elapsed:    0.0s remaining:    0.0s\n",
      "[Parallel(n_jobs=1)]: Done   3 out of   3 | elapsed:    0.0s remaining:    0.0s\n",
      "[Parallel(n_jobs=1)]: Done   4 out of   4 | elapsed:    0.0s remaining:    0.0s\n",
      "[Parallel(n_jobs=1)]: Done  64 out of  64 | elapsed:    0.1s finished\n"
     ]
    },
    {
     "name": "stdout",
     "output_type": "stream",
     "text": [
      "Selecting by number: 13 components\n",
      "Fitting ICA took 4.9s.\n",
      "Applying ICA to Raw instance\n",
      "    Transforming to ICA space (13 components)\n",
      "    Zeroing out 3 ICA components\n",
      "    Projecting back using 64 PCA components\n",
      "Reading /home/dhz/bci-data/ds003478-download/sub-036/eeg/sub-036_task-Rest_run-01_eeg.fdt\n",
      "Used Annotations descriptions: ['1', '11', '12', '13', '14', '15', '16', '17', '2', '3', '4', '5', '6', 'boundary', 'keyboard0']\n",
      "Reading 0 ... 33200  =      0.000 ...    66.400 secs...\n",
      "EEG channel type selected for re-referencing\n",
      "Applying a custom ('EEG',) reference.\n",
      "Filtering raw data in 1 contiguous segment\n",
      "Setting up high-pass filter at 1 Hz\n",
      "\n",
      "FIR filter parameters\n",
      "---------------------\n",
      "Designing a one-pass, zero-phase, non-causal highpass filter:\n",
      "- Windowed time-domain design (firwin) method\n",
      "- Hamming window with 0.0194 passband ripple and 53 dB stopband attenuation\n",
      "- Lower passband edge: 1.00\n",
      "- Lower transition bandwidth: 1.00 Hz (-6 dB cutoff frequency: 0.50 Hz)\n",
      "- Filter length: 1651 samples (3.302 sec)\n",
      "\n",
      "Fitting ICA to data using 64 channels (please be patient, this may take a while)\n"
     ]
    },
    {
     "name": "stderr",
     "output_type": "stream",
     "text": [
      "/home/dhz/experiment-BCI/preprocessing.py:17: RuntimeWarning: The data contains 'boundary' events, indicating data discontinuities. Be cautious of filtering and epoching around these events.\n",
      "  raw = mne.io.read_raw_eeglab(self.file_dir)\n",
      "/home/dhz/experiment-BCI/preprocessing.py:30: RuntimeWarning: DigMontage is only a subset of info. There are 12 channel positions not present in the DigMontage. The required channels are:\n",
      "\n",
      "['FP1', 'FPZ', 'FP2', 'FZ', 'FCZ', 'CZ', 'CPZ', 'PZ', 'POZ', 'CB1', 'OZ', 'CB2'].\n",
      "\n",
      "Consider using inst.set_channel_types if these are not EEG channels, or use the on_missing parameter if the channel positions are allowed to be unknown in your analyses.\n",
      "  raw_cropped.set_montage('standard_1020', on_missing='warn')\n",
      "[Parallel(n_jobs=1)]: Using backend SequentialBackend with 1 concurrent workers.\n",
      "[Parallel(n_jobs=1)]: Done   1 out of   1 | elapsed:    0.0s remaining:    0.0s\n",
      "[Parallel(n_jobs=1)]: Done   2 out of   2 | elapsed:    0.0s remaining:    0.0s\n",
      "[Parallel(n_jobs=1)]: Done   3 out of   3 | elapsed:    0.0s remaining:    0.0s\n",
      "[Parallel(n_jobs=1)]: Done   4 out of   4 | elapsed:    0.0s remaining:    0.0s\n",
      "[Parallel(n_jobs=1)]: Done  64 out of  64 | elapsed:    0.1s finished\n"
     ]
    },
    {
     "name": "stdout",
     "output_type": "stream",
     "text": [
      "Selecting by number: 13 components\n",
      "Fitting ICA took 0.5s.\n",
      "Applying ICA to Raw instance\n",
      "    Transforming to ICA space (13 components)\n",
      "    Zeroing out 3 ICA components\n",
      "    Projecting back using 64 PCA components\n",
      "Reading /home/dhz/bci-data/ds003478-download/sub-037/eeg/sub-037_task-Rest_run-01_eeg.fdt\n",
      "Used Annotations descriptions: ['1', '11', '12', '13', '14', '15', '16', '17', '2', '3', '4', '5', '6', 'boundary']\n",
      "Reading 0 ... 33200  =      0.000 ...    66.400 secs...\n",
      "EEG channel type selected for re-referencing\n",
      "Applying a custom ('EEG',) reference.\n",
      "Filtering raw data in 1 contiguous segment\n",
      "Setting up high-pass filter at 1 Hz\n",
      "\n",
      "FIR filter parameters\n",
      "---------------------\n",
      "Designing a one-pass, zero-phase, non-causal highpass filter:\n",
      "- Windowed time-domain design (firwin) method\n",
      "- Hamming window with 0.0194 passband ripple and 53 dB stopband attenuation\n",
      "- Lower passband edge: 1.00\n",
      "- Lower transition bandwidth: 1.00 Hz (-6 dB cutoff frequency: 0.50 Hz)\n",
      "- Filter length: 1651 samples (3.302 sec)\n",
      "\n",
      "Fitting ICA to data using 64 channels (please be patient, this may take a while)\n"
     ]
    },
    {
     "name": "stderr",
     "output_type": "stream",
     "text": [
      "/home/dhz/experiment-BCI/preprocessing.py:17: RuntimeWarning: The data contains 'boundary' events, indicating data discontinuities. Be cautious of filtering and epoching around these events.\n",
      "  raw = mne.io.read_raw_eeglab(self.file_dir)\n",
      "/home/dhz/experiment-BCI/preprocessing.py:30: RuntimeWarning: DigMontage is only a subset of info. There are 12 channel positions not present in the DigMontage. The required channels are:\n",
      "\n",
      "['FP1', 'FPZ', 'FP2', 'FZ', 'FCZ', 'CZ', 'CPZ', 'PZ', 'POZ', 'CB1', 'OZ', 'CB2'].\n",
      "\n",
      "Consider using inst.set_channel_types if these are not EEG channels, or use the on_missing parameter if the channel positions are allowed to be unknown in your analyses.\n",
      "  raw_cropped.set_montage('standard_1020', on_missing='warn')\n",
      "[Parallel(n_jobs=1)]: Using backend SequentialBackend with 1 concurrent workers.\n",
      "[Parallel(n_jobs=1)]: Done   1 out of   1 | elapsed:    0.0s remaining:    0.0s\n",
      "[Parallel(n_jobs=1)]: Done   2 out of   2 | elapsed:    0.0s remaining:    0.0s\n",
      "[Parallel(n_jobs=1)]: Done   3 out of   3 | elapsed:    0.0s remaining:    0.0s\n",
      "[Parallel(n_jobs=1)]: Done   4 out of   4 | elapsed:    0.0s remaining:    0.0s\n",
      "[Parallel(n_jobs=1)]: Done  64 out of  64 | elapsed:    0.1s finished\n"
     ]
    },
    {
     "name": "stdout",
     "output_type": "stream",
     "text": [
      "Selecting by number: 13 components\n",
      "Fitting ICA took 0.4s.\n",
      "Applying ICA to Raw instance\n",
      "    Transforming to ICA space (13 components)\n",
      "    Zeroing out 3 ICA components\n",
      "    Projecting back using 64 PCA components\n",
      "Reading /home/dhz/bci-data/ds003478-download/sub-038/eeg/sub-038_task-Rest_run-01_eeg.fdt\n",
      "Used Annotations descriptions: ['1', '11', '12', '13', '14', '15', '16', '17', '2', '3', '4', '5', '6', 'boundary', 'keyboard0']\n",
      "Reading 0 ... 33200  =      0.000 ...    66.400 secs...\n",
      "EEG channel type selected for re-referencing\n",
      "Applying a custom ('EEG',) reference.\n",
      "Filtering raw data in 1 contiguous segment\n",
      "Setting up high-pass filter at 1 Hz\n",
      "\n",
      "FIR filter parameters\n",
      "---------------------\n",
      "Designing a one-pass, zero-phase, non-causal highpass filter:\n",
      "- Windowed time-domain design (firwin) method\n",
      "- Hamming window with 0.0194 passband ripple and 53 dB stopband attenuation\n",
      "- Lower passband edge: 1.00\n",
      "- Lower transition bandwidth: 1.00 Hz (-6 dB cutoff frequency: 0.50 Hz)\n",
      "- Filter length: 1651 samples (3.302 sec)\n",
      "\n",
      "Fitting ICA to data using 64 channels (please be patient, this may take a while)\n"
     ]
    },
    {
     "name": "stderr",
     "output_type": "stream",
     "text": [
      "/home/dhz/experiment-BCI/preprocessing.py:17: RuntimeWarning: The data contains 'boundary' events, indicating data discontinuities. Be cautious of filtering and epoching around these events.\n",
      "  raw = mne.io.read_raw_eeglab(self.file_dir)\n",
      "/home/dhz/experiment-BCI/preprocessing.py:30: RuntimeWarning: DigMontage is only a subset of info. There are 12 channel positions not present in the DigMontage. The required channels are:\n",
      "\n",
      "['FP1', 'FPZ', 'FP2', 'FZ', 'FCZ', 'CZ', 'CPZ', 'PZ', 'POZ', 'CB1', 'OZ', 'CB2'].\n",
      "\n",
      "Consider using inst.set_channel_types if these are not EEG channels, or use the on_missing parameter if the channel positions are allowed to be unknown in your analyses.\n",
      "  raw_cropped.set_montage('standard_1020', on_missing='warn')\n",
      "[Parallel(n_jobs=1)]: Using backend SequentialBackend with 1 concurrent workers.\n",
      "[Parallel(n_jobs=1)]: Done   1 out of   1 | elapsed:    0.0s remaining:    0.0s\n",
      "[Parallel(n_jobs=1)]: Done   2 out of   2 | elapsed:    0.0s remaining:    0.0s\n",
      "[Parallel(n_jobs=1)]: Done   3 out of   3 | elapsed:    0.0s remaining:    0.0s\n",
      "[Parallel(n_jobs=1)]: Done   4 out of   4 | elapsed:    0.0s remaining:    0.0s\n",
      "[Parallel(n_jobs=1)]: Done  64 out of  64 | elapsed:    0.1s finished\n"
     ]
    },
    {
     "name": "stdout",
     "output_type": "stream",
     "text": [
      "Selecting by number: 13 components\n",
      "Fitting ICA took 0.6s.\n",
      "Applying ICA to Raw instance\n",
      "    Transforming to ICA space (13 components)\n",
      "    Zeroing out 3 ICA components\n",
      "    Projecting back using 64 PCA components\n",
      "Reading /home/dhz/bci-data/ds003478-download/sub-039/eeg/sub-039_task-Rest_run-01_eeg.fdt\n",
      "Used Annotations descriptions: ['1', '11', '12', '13', '14', '15', '16', '17', '2', '3', '4', '5', '6', 'boundary', 'keyboard0']\n",
      "Reading 0 ... 33200  =      0.000 ...    66.400 secs...\n",
      "EEG channel type selected for re-referencing\n",
      "Applying a custom ('EEG',) reference.\n",
      "Filtering raw data in 1 contiguous segment\n",
      "Setting up high-pass filter at 1 Hz\n",
      "\n",
      "FIR filter parameters\n",
      "---------------------\n",
      "Designing a one-pass, zero-phase, non-causal highpass filter:\n",
      "- Windowed time-domain design (firwin) method\n",
      "- Hamming window with 0.0194 passband ripple and 53 dB stopband attenuation\n",
      "- Lower passband edge: 1.00\n",
      "- Lower transition bandwidth: 1.00 Hz (-6 dB cutoff frequency: 0.50 Hz)\n",
      "- Filter length: 1651 samples (3.302 sec)\n",
      "\n",
      "Fitting ICA to data using 64 channels (please be patient, this may take a while)\n"
     ]
    },
    {
     "name": "stderr",
     "output_type": "stream",
     "text": [
      "/home/dhz/experiment-BCI/preprocessing.py:17: RuntimeWarning: The data contains 'boundary' events, indicating data discontinuities. Be cautious of filtering and epoching around these events.\n",
      "  raw = mne.io.read_raw_eeglab(self.file_dir)\n",
      "/home/dhz/experiment-BCI/preprocessing.py:30: RuntimeWarning: DigMontage is only a subset of info. There are 12 channel positions not present in the DigMontage. The required channels are:\n",
      "\n",
      "['FP1', 'FPZ', 'FP2', 'FZ', 'FCZ', 'CZ', 'CPZ', 'PZ', 'POZ', 'CB1', 'OZ', 'CB2'].\n",
      "\n",
      "Consider using inst.set_channel_types if these are not EEG channels, or use the on_missing parameter if the channel positions are allowed to be unknown in your analyses.\n",
      "  raw_cropped.set_montage('standard_1020', on_missing='warn')\n",
      "[Parallel(n_jobs=1)]: Using backend SequentialBackend with 1 concurrent workers.\n",
      "[Parallel(n_jobs=1)]: Done   1 out of   1 | elapsed:    0.0s remaining:    0.0s\n",
      "[Parallel(n_jobs=1)]: Done   2 out of   2 | elapsed:    0.0s remaining:    0.0s\n",
      "[Parallel(n_jobs=1)]: Done   3 out of   3 | elapsed:    0.0s remaining:    0.0s\n",
      "[Parallel(n_jobs=1)]: Done   4 out of   4 | elapsed:    0.0s remaining:    0.0s\n",
      "[Parallel(n_jobs=1)]: Done  64 out of  64 | elapsed:    0.1s finished\n"
     ]
    },
    {
     "name": "stdout",
     "output_type": "stream",
     "text": [
      "Selecting by number: 13 components\n",
      "Fitting ICA took 11.5s.\n",
      "Applying ICA to Raw instance\n",
      "    Transforming to ICA space (13 components)\n",
      "    Zeroing out 3 ICA components\n",
      "    Projecting back using 64 PCA components\n"
     ]
    },
    {
     "name": "stderr",
     "output_type": "stream",
     "text": [
      "/home/dhz/anaconda3/lib/python3.9/site-packages/sklearn/decomposition/_fastica.py:116: ConvergenceWarning: FastICA did not converge. Consider increasing tolerance or the maximum number of iterations.\n",
      "  warnings.warn(\n"
     ]
    },
    {
     "name": "stdout",
     "output_type": "stream",
     "text": [
      "Reading /home/dhz/bci-data/ds003478-download/sub-040/eeg/sub-040_task-Rest_run-01_eeg.fdt\n",
      "Used Annotations descriptions: ['1', '11', '12', '13', '14', '15', '16', '17', '2', '3', '4', '5', '6', 'keyboard0']\n",
      "Reading 0 ... 33201  =      0.000 ...    66.402 secs...\n",
      "EEG channel type selected for re-referencing\n",
      "Applying a custom ('EEG',) reference.\n",
      "Filtering raw data in 1 contiguous segment\n",
      "Setting up high-pass filter at 1 Hz\n",
      "\n",
      "FIR filter parameters\n",
      "---------------------\n",
      "Designing a one-pass, zero-phase, non-causal highpass filter:\n",
      "- Windowed time-domain design (firwin) method\n",
      "- Hamming window with 0.0194 passband ripple and 53 dB stopband attenuation\n",
      "- Lower passband edge: 1.00\n",
      "- Lower transition bandwidth: 1.00 Hz (-6 dB cutoff frequency: 0.50 Hz)\n",
      "- Filter length: 1651 samples (3.302 sec)\n",
      "\n",
      "Fitting ICA to data using 64 channels (please be patient, this may take a while)\n"
     ]
    },
    {
     "name": "stderr",
     "output_type": "stream",
     "text": [
      "/home/dhz/experiment-BCI/preprocessing.py:30: RuntimeWarning: DigMontage is only a subset of info. There are 12 channel positions not present in the DigMontage. The required channels are:\n",
      "\n",
      "['FP1', 'FPZ', 'FP2', 'FZ', 'FCZ', 'CZ', 'CPZ', 'PZ', 'POZ', 'CB1', 'OZ', 'CB2'].\n",
      "\n",
      "Consider using inst.set_channel_types if these are not EEG channels, or use the on_missing parameter if the channel positions are allowed to be unknown in your analyses.\n",
      "  raw_cropped.set_montage('standard_1020', on_missing='warn')\n",
      "[Parallel(n_jobs=1)]: Using backend SequentialBackend with 1 concurrent workers.\n",
      "[Parallel(n_jobs=1)]: Done   1 out of   1 | elapsed:    0.0s remaining:    0.0s\n",
      "[Parallel(n_jobs=1)]: Done   2 out of   2 | elapsed:    0.0s remaining:    0.0s\n",
      "[Parallel(n_jobs=1)]: Done   3 out of   3 | elapsed:    0.0s remaining:    0.0s\n",
      "[Parallel(n_jobs=1)]: Done   4 out of   4 | elapsed:    0.0s remaining:    0.0s\n",
      "[Parallel(n_jobs=1)]: Done  64 out of  64 | elapsed:    0.1s finished\n"
     ]
    },
    {
     "name": "stdout",
     "output_type": "stream",
     "text": [
      "Selecting by number: 13 components\n",
      "Fitting ICA took 10.9s.\n",
      "Applying ICA to Raw instance\n",
      "    Transforming to ICA space (13 components)\n",
      "    Zeroing out 3 ICA components\n",
      "    Projecting back using 64 PCA components\n"
     ]
    },
    {
     "name": "stderr",
     "output_type": "stream",
     "text": [
      "/home/dhz/anaconda3/lib/python3.9/site-packages/sklearn/decomposition/_fastica.py:116: ConvergenceWarning: FastICA did not converge. Consider increasing tolerance or the maximum number of iterations.\n",
      "  warnings.warn(\n"
     ]
    },
    {
     "name": "stdout",
     "output_type": "stream",
     "text": [
      "Reading /home/dhz/bci-data/ds003478-download/sub-041/eeg/sub-041_task-Rest_run-01_eeg.fdt\n",
      "Used Annotations descriptions: ['1', '11', '12', '13', '14', '15', '16', '17', '2', '3', '4', '5', '6', 'boundary', 'keyboard0']\n",
      "Reading 0 ... 33201  =      0.000 ...    66.402 secs...\n",
      "EEG channel type selected for re-referencing\n",
      "Applying a custom ('EEG',) reference.\n",
      "Filtering raw data in 1 contiguous segment\n",
      "Setting up high-pass filter at 1 Hz\n",
      "\n",
      "FIR filter parameters\n",
      "---------------------\n",
      "Designing a one-pass, zero-phase, non-causal highpass filter:\n",
      "- Windowed time-domain design (firwin) method\n",
      "- Hamming window with 0.0194 passband ripple and 53 dB stopband attenuation\n",
      "- Lower passband edge: 1.00\n",
      "- Lower transition bandwidth: 1.00 Hz (-6 dB cutoff frequency: 0.50 Hz)\n",
      "- Filter length: 1651 samples (3.302 sec)\n",
      "\n",
      "Fitting ICA to data using 64 channels (please be patient, this may take a while)\n"
     ]
    },
    {
     "name": "stderr",
     "output_type": "stream",
     "text": [
      "/home/dhz/experiment-BCI/preprocessing.py:17: RuntimeWarning: The data contains 'boundary' events, indicating data discontinuities. Be cautious of filtering and epoching around these events.\n",
      "  raw = mne.io.read_raw_eeglab(self.file_dir)\n",
      "/home/dhz/experiment-BCI/preprocessing.py:30: RuntimeWarning: DigMontage is only a subset of info. There are 12 channel positions not present in the DigMontage. The required channels are:\n",
      "\n",
      "['FP1', 'FPZ', 'FP2', 'FZ', 'FCZ', 'CZ', 'CPZ', 'PZ', 'POZ', 'CB1', 'OZ', 'CB2'].\n",
      "\n",
      "Consider using inst.set_channel_types if these are not EEG channels, or use the on_missing parameter if the channel positions are allowed to be unknown in your analyses.\n",
      "  raw_cropped.set_montage('standard_1020', on_missing='warn')\n",
      "[Parallel(n_jobs=1)]: Using backend SequentialBackend with 1 concurrent workers.\n",
      "[Parallel(n_jobs=1)]: Done   1 out of   1 | elapsed:    0.0s remaining:    0.0s\n",
      "[Parallel(n_jobs=1)]: Done   2 out of   2 | elapsed:    0.0s remaining:    0.0s\n",
      "[Parallel(n_jobs=1)]: Done   3 out of   3 | elapsed:    0.0s remaining:    0.0s\n",
      "[Parallel(n_jobs=1)]: Done   4 out of   4 | elapsed:    0.0s remaining:    0.0s\n",
      "[Parallel(n_jobs=1)]: Done  64 out of  64 | elapsed:    0.1s finished\n"
     ]
    },
    {
     "name": "stdout",
     "output_type": "stream",
     "text": [
      "Selecting by number: 13 components\n",
      "Fitting ICA took 0.4s.\n",
      "Applying ICA to Raw instance\n",
      "    Transforming to ICA space (13 components)\n",
      "    Zeroing out 3 ICA components\n",
      "    Projecting back using 64 PCA components\n",
      "Reading /home/dhz/bci-data/ds003478-download/sub-042/eeg/sub-042_task-Rest_run-01_eeg.fdt\n",
      "Used Annotations descriptions: ['1', '11', '12', '13', '14', '15', '16', '17', '2', '240', '3', '4', '5', '6', 'keyboard0']\n",
      "Reading 0 ... 33201  =      0.000 ...    66.402 secs...\n",
      "EEG channel type selected for re-referencing\n",
      "Applying a custom ('EEG',) reference.\n",
      "Filtering raw data in 1 contiguous segment\n",
      "Setting up high-pass filter at 1 Hz\n",
      "\n",
      "FIR filter parameters\n",
      "---------------------\n",
      "Designing a one-pass, zero-phase, non-causal highpass filter:\n",
      "- Windowed time-domain design (firwin) method\n",
      "- Hamming window with 0.0194 passband ripple and 53 dB stopband attenuation\n",
      "- Lower passband edge: 1.00\n",
      "- Lower transition bandwidth: 1.00 Hz (-6 dB cutoff frequency: 0.50 Hz)\n",
      "- Filter length: 1651 samples (3.302 sec)\n",
      "\n",
      "Fitting ICA to data using 64 channels (please be patient, this may take a while)\n",
      "Selecting by number: 13 components\n"
     ]
    },
    {
     "name": "stderr",
     "output_type": "stream",
     "text": [
      "/home/dhz/experiment-BCI/preprocessing.py:30: RuntimeWarning: DigMontage is only a subset of info. There are 12 channel positions not present in the DigMontage. The required channels are:\n",
      "\n",
      "['FP1', 'FPZ', 'FP2', 'FZ', 'FCZ', 'CZ', 'CPZ', 'PZ', 'POZ', 'CB1', 'OZ', 'CB2'].\n",
      "\n",
      "Consider using inst.set_channel_types if these are not EEG channels, or use the on_missing parameter if the channel positions are allowed to be unknown in your analyses.\n",
      "  raw_cropped.set_montage('standard_1020', on_missing='warn')\n",
      "[Parallel(n_jobs=1)]: Using backend SequentialBackend with 1 concurrent workers.\n",
      "[Parallel(n_jobs=1)]: Done   1 out of   1 | elapsed:    0.0s remaining:    0.0s\n",
      "[Parallel(n_jobs=1)]: Done   2 out of   2 | elapsed:    0.0s remaining:    0.0s\n",
      "[Parallel(n_jobs=1)]: Done   3 out of   3 | elapsed:    0.0s remaining:    0.0s\n",
      "[Parallel(n_jobs=1)]: Done   4 out of   4 | elapsed:    0.0s remaining:    0.0s\n",
      "[Parallel(n_jobs=1)]: Done  64 out of  64 | elapsed:    0.1s finished\n"
     ]
    },
    {
     "name": "stdout",
     "output_type": "stream",
     "text": [
      "Fitting ICA took 0.4s.\n",
      "Applying ICA to Raw instance\n",
      "    Transforming to ICA space (13 components)\n",
      "    Zeroing out 3 ICA components\n",
      "    Projecting back using 64 PCA components\n",
      "Reading /home/dhz/bci-data/ds003478-download/sub-043/eeg/sub-043_task-Rest_run-01_eeg.fdt\n",
      "Used Annotations descriptions: ['1', '11', '12', '13', '14', '15', '16', '17', '2', '3', '4', '5', '6', 'keyboard0']\n",
      "Reading 0 ... 33201  =      0.000 ...    66.402 secs...\n",
      "EEG channel type selected for re-referencing\n",
      "Applying a custom ('EEG',) reference.\n",
      "Filtering raw data in 1 contiguous segment\n",
      "Setting up high-pass filter at 1 Hz\n",
      "\n",
      "FIR filter parameters\n",
      "---------------------\n",
      "Designing a one-pass, zero-phase, non-causal highpass filter:\n",
      "- Windowed time-domain design (firwin) method\n",
      "- Hamming window with 0.0194 passband ripple and 53 dB stopband attenuation\n",
      "- Lower passband edge: 1.00\n",
      "- Lower transition bandwidth: 1.00 Hz (-6 dB cutoff frequency: 0.50 Hz)\n",
      "- Filter length: 1651 samples (3.302 sec)\n",
      "\n",
      "Fitting ICA to data using 64 channels (please be patient, this may take a while)\n"
     ]
    },
    {
     "name": "stderr",
     "output_type": "stream",
     "text": [
      "/home/dhz/experiment-BCI/preprocessing.py:30: RuntimeWarning: DigMontage is only a subset of info. There are 12 channel positions not present in the DigMontage. The required channels are:\n",
      "\n",
      "['FP1', 'FPZ', 'FP2', 'FZ', 'FCZ', 'CZ', 'CPZ', 'PZ', 'POZ', 'CB1', 'OZ', 'CB2'].\n",
      "\n",
      "Consider using inst.set_channel_types if these are not EEG channels, or use the on_missing parameter if the channel positions are allowed to be unknown in your analyses.\n",
      "  raw_cropped.set_montage('standard_1020', on_missing='warn')\n",
      "[Parallel(n_jobs=1)]: Using backend SequentialBackend with 1 concurrent workers.\n",
      "[Parallel(n_jobs=1)]: Done   1 out of   1 | elapsed:    0.0s remaining:    0.0s\n",
      "[Parallel(n_jobs=1)]: Done   2 out of   2 | elapsed:    0.0s remaining:    0.0s\n",
      "[Parallel(n_jobs=1)]: Done   3 out of   3 | elapsed:    0.0s remaining:    0.0s\n",
      "[Parallel(n_jobs=1)]: Done   4 out of   4 | elapsed:    0.0s remaining:    0.0s\n",
      "[Parallel(n_jobs=1)]: Done  64 out of  64 | elapsed:    0.1s finished\n"
     ]
    },
    {
     "name": "stdout",
     "output_type": "stream",
     "text": [
      "Selecting by number: 13 components\n",
      "Fitting ICA took 0.9s.\n",
      "Applying ICA to Raw instance\n",
      "    Transforming to ICA space (13 components)\n",
      "    Zeroing out 3 ICA components\n",
      "    Projecting back using 64 PCA components\n",
      "Reading /home/dhz/bci-data/ds003478-download/sub-044/eeg/sub-044_task-Rest_run-01_eeg.fdt\n",
      "Used Annotations descriptions: ['1', '11', '12', '13', '14', '15', '16', '17', '2', '3', '4', '5', '6', 'keyboard0']\n",
      "Reading 0 ... 33201  =      0.000 ...    66.402 secs...\n",
      "EEG channel type selected for re-referencing\n",
      "Applying a custom ('EEG',) reference.\n",
      "Filtering raw data in 1 contiguous segment\n",
      "Setting up high-pass filter at 1 Hz\n",
      "\n",
      "FIR filter parameters\n",
      "---------------------\n",
      "Designing a one-pass, zero-phase, non-causal highpass filter:\n",
      "- Windowed time-domain design (firwin) method\n",
      "- Hamming window with 0.0194 passband ripple and 53 dB stopband attenuation\n",
      "- Lower passband edge: 1.00\n",
      "- Lower transition bandwidth: 1.00 Hz (-6 dB cutoff frequency: 0.50 Hz)\n",
      "- Filter length: 1651 samples (3.302 sec)\n",
      "\n",
      "Fitting ICA to data using 64 channels (please be patient, this may take a while)\n"
     ]
    },
    {
     "name": "stderr",
     "output_type": "stream",
     "text": [
      "/home/dhz/experiment-BCI/preprocessing.py:30: RuntimeWarning: DigMontage is only a subset of info. There are 12 channel positions not present in the DigMontage. The required channels are:\n",
      "\n",
      "['FP1', 'FPZ', 'FP2', 'FZ', 'FCZ', 'CZ', 'CPZ', 'PZ', 'POZ', 'CB1', 'OZ', 'CB2'].\n",
      "\n",
      "Consider using inst.set_channel_types if these are not EEG channels, or use the on_missing parameter if the channel positions are allowed to be unknown in your analyses.\n",
      "  raw_cropped.set_montage('standard_1020', on_missing='warn')\n",
      "[Parallel(n_jobs=1)]: Using backend SequentialBackend with 1 concurrent workers.\n",
      "[Parallel(n_jobs=1)]: Done   1 out of   1 | elapsed:    0.0s remaining:    0.0s\n",
      "[Parallel(n_jobs=1)]: Done   2 out of   2 | elapsed:    0.0s remaining:    0.0s\n",
      "[Parallel(n_jobs=1)]: Done   3 out of   3 | elapsed:    0.0s remaining:    0.0s\n",
      "[Parallel(n_jobs=1)]: Done   4 out of   4 | elapsed:    0.0s remaining:    0.0s\n",
      "[Parallel(n_jobs=1)]: Done  64 out of  64 | elapsed:    0.1s finished\n"
     ]
    },
    {
     "name": "stdout",
     "output_type": "stream",
     "text": [
      "Selecting by number: 13 components\n",
      "Fitting ICA took 0.7s.\n",
      "Applying ICA to Raw instance\n",
      "    Transforming to ICA space (13 components)\n",
      "    Zeroing out 3 ICA components\n",
      "    Projecting back using 64 PCA components\n",
      "Reading /home/dhz/bci-data/ds003478-download/sub-045/eeg/sub-045_task-Rest_run-01_eeg.fdt\n",
      "Used Annotations descriptions: ['1', '11', '12', '13', '14', '15', '16', '17', '2', '3', '4', '5', '6', 'boundary', 'keyboard0']\n",
      "Reading 0 ... 33200  =      0.000 ...    66.400 secs...\n",
      "EEG channel type selected for re-referencing\n",
      "Applying a custom ('EEG',) reference.\n",
      "Filtering raw data in 1 contiguous segment\n",
      "Setting up high-pass filter at 1 Hz\n",
      "\n",
      "FIR filter parameters\n",
      "---------------------\n",
      "Designing a one-pass, zero-phase, non-causal highpass filter:\n",
      "- Windowed time-domain design (firwin) method\n",
      "- Hamming window with 0.0194 passband ripple and 53 dB stopband attenuation\n",
      "- Lower passband edge: 1.00\n",
      "- Lower transition bandwidth: 1.00 Hz (-6 dB cutoff frequency: 0.50 Hz)\n",
      "- Filter length: 1651 samples (3.302 sec)\n",
      "\n",
      "Fitting ICA to data using 64 channels (please be patient, this may take a while)\n"
     ]
    },
    {
     "name": "stderr",
     "output_type": "stream",
     "text": [
      "/home/dhz/experiment-BCI/preprocessing.py:17: RuntimeWarning: The data contains 'boundary' events, indicating data discontinuities. Be cautious of filtering and epoching around these events.\n",
      "  raw = mne.io.read_raw_eeglab(self.file_dir)\n",
      "/home/dhz/experiment-BCI/preprocessing.py:30: RuntimeWarning: DigMontage is only a subset of info. There are 12 channel positions not present in the DigMontage. The required channels are:\n",
      "\n",
      "['FP1', 'FPZ', 'FP2', 'FZ', 'FCZ', 'CZ', 'CPZ', 'PZ', 'POZ', 'CB1', 'OZ', 'CB2'].\n",
      "\n",
      "Consider using inst.set_channel_types if these are not EEG channels, or use the on_missing parameter if the channel positions are allowed to be unknown in your analyses.\n",
      "  raw_cropped.set_montage('standard_1020', on_missing='warn')\n",
      "[Parallel(n_jobs=1)]: Using backend SequentialBackend with 1 concurrent workers.\n",
      "[Parallel(n_jobs=1)]: Done   1 out of   1 | elapsed:    0.0s remaining:    0.0s\n",
      "[Parallel(n_jobs=1)]: Done   2 out of   2 | elapsed:    0.0s remaining:    0.0s\n",
      "[Parallel(n_jobs=1)]: Done   3 out of   3 | elapsed:    0.0s remaining:    0.0s\n",
      "[Parallel(n_jobs=1)]: Done   4 out of   4 | elapsed:    0.0s remaining:    0.0s\n",
      "[Parallel(n_jobs=1)]: Done  64 out of  64 | elapsed:    0.1s finished\n"
     ]
    },
    {
     "name": "stdout",
     "output_type": "stream",
     "text": [
      "Selecting by number: 13 components\n",
      "Fitting ICA took 0.6s.\n",
      "Applying ICA to Raw instance\n",
      "    Transforming to ICA space (13 components)\n",
      "    Zeroing out 3 ICA components\n",
      "    Projecting back using 64 PCA components\n",
      "Reading /home/dhz/bci-data/ds003478-download/sub-046/eeg/sub-046_task-Rest_run-01_eeg.fdt\n",
      "Used Annotations descriptions: ['1', '11', '12', '13', '14', '15', '16', '17', '2', '3', '4', '5', '6', 'keyboard0']\n",
      "Reading 0 ... 33201  =      0.000 ...    66.402 secs...\n",
      "EEG channel type selected for re-referencing\n",
      "Applying a custom ('EEG',) reference.\n",
      "Filtering raw data in 1 contiguous segment\n",
      "Setting up high-pass filter at 1 Hz\n",
      "\n",
      "FIR filter parameters\n",
      "---------------------\n",
      "Designing a one-pass, zero-phase, non-causal highpass filter:\n",
      "- Windowed time-domain design (firwin) method\n",
      "- Hamming window with 0.0194 passband ripple and 53 dB stopband attenuation\n",
      "- Lower passband edge: 1.00\n",
      "- Lower transition bandwidth: 1.00 Hz (-6 dB cutoff frequency: 0.50 Hz)\n",
      "- Filter length: 1651 samples (3.302 sec)\n",
      "\n",
      "Fitting ICA to data using 64 channels (please be patient, this may take a while)\n"
     ]
    },
    {
     "name": "stderr",
     "output_type": "stream",
     "text": [
      "/home/dhz/experiment-BCI/preprocessing.py:30: RuntimeWarning: DigMontage is only a subset of info. There are 12 channel positions not present in the DigMontage. The required channels are:\n",
      "\n",
      "['FP1', 'FPZ', 'FP2', 'FZ', 'FCZ', 'CZ', 'CPZ', 'PZ', 'POZ', 'CB1', 'OZ', 'CB2'].\n",
      "\n",
      "Consider using inst.set_channel_types if these are not EEG channels, or use the on_missing parameter if the channel positions are allowed to be unknown in your analyses.\n",
      "  raw_cropped.set_montage('standard_1020', on_missing='warn')\n",
      "[Parallel(n_jobs=1)]: Using backend SequentialBackend with 1 concurrent workers.\n",
      "[Parallel(n_jobs=1)]: Done   1 out of   1 | elapsed:    0.0s remaining:    0.0s\n",
      "[Parallel(n_jobs=1)]: Done   2 out of   2 | elapsed:    0.0s remaining:    0.0s\n",
      "[Parallel(n_jobs=1)]: Done   3 out of   3 | elapsed:    0.0s remaining:    0.0s\n",
      "[Parallel(n_jobs=1)]: Done   4 out of   4 | elapsed:    0.0s remaining:    0.0s\n",
      "[Parallel(n_jobs=1)]: Done  64 out of  64 | elapsed:    0.1s finished\n"
     ]
    },
    {
     "name": "stdout",
     "output_type": "stream",
     "text": [
      "Selecting by number: 13 components\n",
      "Fitting ICA took 0.6s.\n",
      "Applying ICA to Raw instance\n",
      "    Transforming to ICA space (13 components)\n",
      "    Zeroing out 3 ICA components\n",
      "    Projecting back using 64 PCA components\n",
      "Reading /home/dhz/bci-data/ds003478-download/sub-047/eeg/sub-047_task-Rest_run-01_eeg.fdt\n",
      "Used Annotations descriptions: ['1', '11', '12', '13', '14', '15', '16', '17', '2', '3', '4', '5', '6', 'keyboard0']\n",
      "Reading 0 ... 33201  =      0.000 ...    66.402 secs...\n",
      "EEG channel type selected for re-referencing\n",
      "Applying a custom ('EEG',) reference.\n",
      "Filtering raw data in 1 contiguous segment\n",
      "Setting up high-pass filter at 1 Hz\n",
      "\n",
      "FIR filter parameters\n",
      "---------------------\n",
      "Designing a one-pass, zero-phase, non-causal highpass filter:\n",
      "- Windowed time-domain design (firwin) method\n",
      "- Hamming window with 0.0194 passband ripple and 53 dB stopband attenuation\n",
      "- Lower passband edge: 1.00\n",
      "- Lower transition bandwidth: 1.00 Hz (-6 dB cutoff frequency: 0.50 Hz)\n",
      "- Filter length: 1651 samples (3.302 sec)\n",
      "\n",
      "Fitting ICA to data using 64 channels (please be patient, this may take a while)\n"
     ]
    },
    {
     "name": "stderr",
     "output_type": "stream",
     "text": [
      "/home/dhz/experiment-BCI/preprocessing.py:30: RuntimeWarning: DigMontage is only a subset of info. There are 12 channel positions not present in the DigMontage. The required channels are:\n",
      "\n",
      "['FP1', 'FPZ', 'FP2', 'FZ', 'FCZ', 'CZ', 'CPZ', 'PZ', 'POZ', 'CB1', 'OZ', 'CB2'].\n",
      "\n",
      "Consider using inst.set_channel_types if these are not EEG channels, or use the on_missing parameter if the channel positions are allowed to be unknown in your analyses.\n",
      "  raw_cropped.set_montage('standard_1020', on_missing='warn')\n",
      "[Parallel(n_jobs=1)]: Using backend SequentialBackend with 1 concurrent workers.\n",
      "[Parallel(n_jobs=1)]: Done   1 out of   1 | elapsed:    0.0s remaining:    0.0s\n",
      "[Parallel(n_jobs=1)]: Done   2 out of   2 | elapsed:    0.0s remaining:    0.0s\n",
      "[Parallel(n_jobs=1)]: Done   3 out of   3 | elapsed:    0.0s remaining:    0.0s\n",
      "[Parallel(n_jobs=1)]: Done   4 out of   4 | elapsed:    0.0s remaining:    0.0s\n",
      "[Parallel(n_jobs=1)]: Done  64 out of  64 | elapsed:    0.1s finished\n"
     ]
    },
    {
     "name": "stdout",
     "output_type": "stream",
     "text": [
      "Selecting by number: 13 components\n",
      "Fitting ICA took 0.5s.\n",
      "Applying ICA to Raw instance\n",
      "    Transforming to ICA space (13 components)\n",
      "    Zeroing out 3 ICA components\n",
      "    Projecting back using 64 PCA components\n",
      "Reading /home/dhz/bci-data/ds003478-download/sub-048/eeg/sub-048_task-Rest_run-01_eeg.fdt\n",
      "Used Annotations descriptions: ['1', '11', '12', '13', '14', '15', '16', '17', '2', '3', '4', '5', '6', 'boundary']\n",
      "Reading 0 ... 33200  =      0.000 ...    66.400 secs...\n",
      "EEG channel type selected for re-referencing\n",
      "Applying a custom ('EEG',) reference.\n",
      "Filtering raw data in 1 contiguous segment\n",
      "Setting up high-pass filter at 1 Hz\n",
      "\n",
      "FIR filter parameters\n",
      "---------------------\n",
      "Designing a one-pass, zero-phase, non-causal highpass filter:\n",
      "- Windowed time-domain design (firwin) method\n",
      "- Hamming window with 0.0194 passband ripple and 53 dB stopband attenuation\n",
      "- Lower passband edge: 1.00\n",
      "- Lower transition bandwidth: 1.00 Hz (-6 dB cutoff frequency: 0.50 Hz)\n",
      "- Filter length: 1651 samples (3.302 sec)\n",
      "\n",
      "Fitting ICA to data using 64 channels (please be patient, this may take a while)\n"
     ]
    },
    {
     "name": "stderr",
     "output_type": "stream",
     "text": [
      "/home/dhz/experiment-BCI/preprocessing.py:17: RuntimeWarning: The data contains 'boundary' events, indicating data discontinuities. Be cautious of filtering and epoching around these events.\n",
      "  raw = mne.io.read_raw_eeglab(self.file_dir)\n",
      "/home/dhz/experiment-BCI/preprocessing.py:30: RuntimeWarning: DigMontage is only a subset of info. There are 12 channel positions not present in the DigMontage. The required channels are:\n",
      "\n",
      "['FP1', 'FPZ', 'FP2', 'FZ', 'FCZ', 'CZ', 'CPZ', 'PZ', 'POZ', 'CB1', 'OZ', 'CB2'].\n",
      "\n",
      "Consider using inst.set_channel_types if these are not EEG channels, or use the on_missing parameter if the channel positions are allowed to be unknown in your analyses.\n",
      "  raw_cropped.set_montage('standard_1020', on_missing='warn')\n",
      "[Parallel(n_jobs=1)]: Using backend SequentialBackend with 1 concurrent workers.\n",
      "[Parallel(n_jobs=1)]: Done   1 out of   1 | elapsed:    0.0s remaining:    0.0s\n",
      "[Parallel(n_jobs=1)]: Done   2 out of   2 | elapsed:    0.0s remaining:    0.0s\n",
      "[Parallel(n_jobs=1)]: Done   3 out of   3 | elapsed:    0.0s remaining:    0.0s\n",
      "[Parallel(n_jobs=1)]: Done   4 out of   4 | elapsed:    0.0s remaining:    0.0s\n",
      "[Parallel(n_jobs=1)]: Done  64 out of  64 | elapsed:    0.1s finished\n"
     ]
    },
    {
     "name": "stdout",
     "output_type": "stream",
     "text": [
      "Selecting by number: 13 components\n",
      "Fitting ICA took 0.4s.\n",
      "Applying ICA to Raw instance\n",
      "    Transforming to ICA space (13 components)\n",
      "    Zeroing out 3 ICA components\n",
      "    Projecting back using 64 PCA components\n",
      "Reading /home/dhz/bci-data/ds003478-download/sub-049/eeg/sub-049_task-Rest_run-01_eeg.fdt\n",
      "Used Annotations descriptions: ['1', '11', '12', '13', '14', '15', '16', '17', '2', '3', '4', '5', '6', 'keyboard0']\n",
      "Reading 0 ... 33201  =      0.000 ...    66.402 secs...\n",
      "EEG channel type selected for re-referencing\n",
      "Applying a custom ('EEG',) reference.\n",
      "Filtering raw data in 1 contiguous segment\n",
      "Setting up high-pass filter at 1 Hz\n",
      "\n",
      "FIR filter parameters\n",
      "---------------------\n",
      "Designing a one-pass, zero-phase, non-causal highpass filter:\n",
      "- Windowed time-domain design (firwin) method\n",
      "- Hamming window with 0.0194 passband ripple and 53 dB stopband attenuation\n",
      "- Lower passband edge: 1.00\n",
      "- Lower transition bandwidth: 1.00 Hz (-6 dB cutoff frequency: 0.50 Hz)\n",
      "- Filter length: 1651 samples (3.302 sec)\n",
      "\n",
      "Fitting ICA to data using 64 channels (please be patient, this may take a while)\n"
     ]
    },
    {
     "name": "stderr",
     "output_type": "stream",
     "text": [
      "/home/dhz/experiment-BCI/preprocessing.py:30: RuntimeWarning: DigMontage is only a subset of info. There are 12 channel positions not present in the DigMontage. The required channels are:\n",
      "\n",
      "['FP1', 'FPZ', 'FP2', 'FZ', 'FCZ', 'CZ', 'CPZ', 'PZ', 'POZ', 'CB1', 'OZ', 'CB2'].\n",
      "\n",
      "Consider using inst.set_channel_types if these are not EEG channels, or use the on_missing parameter if the channel positions are allowed to be unknown in your analyses.\n",
      "  raw_cropped.set_montage('standard_1020', on_missing='warn')\n",
      "[Parallel(n_jobs=1)]: Using backend SequentialBackend with 1 concurrent workers.\n",
      "[Parallel(n_jobs=1)]: Done   1 out of   1 | elapsed:    0.0s remaining:    0.0s\n",
      "[Parallel(n_jobs=1)]: Done   2 out of   2 | elapsed:    0.0s remaining:    0.0s\n",
      "[Parallel(n_jobs=1)]: Done   3 out of   3 | elapsed:    0.0s remaining:    0.0s\n",
      "[Parallel(n_jobs=1)]: Done   4 out of   4 | elapsed:    0.0s remaining:    0.0s\n",
      "[Parallel(n_jobs=1)]: Done  64 out of  64 | elapsed:    0.1s finished\n"
     ]
    },
    {
     "name": "stdout",
     "output_type": "stream",
     "text": [
      "Selecting by number: 13 components\n",
      "Fitting ICA took 0.6s.\n",
      "Applying ICA to Raw instance\n",
      "    Transforming to ICA space (13 components)\n",
      "    Zeroing out 3 ICA components\n",
      "    Projecting back using 64 PCA components\n",
      "Reading /home/dhz/bci-data/ds003478-download/sub-050/eeg/sub-050_task-Rest_run-01_eeg.fdt\n",
      "Used Annotations descriptions: ['1', '11', '12', '13', '14', '15', '16', '17', '2', '3', '4', '5', '6']\n",
      "Reading 0 ... 33200  =      0.000 ...    66.400 secs...\n",
      "EEG channel type selected for re-referencing\n",
      "Applying a custom ('EEG',) reference.\n",
      "Filtering raw data in 1 contiguous segment\n",
      "Setting up high-pass filter at 1 Hz\n",
      "\n",
      "FIR filter parameters\n",
      "---------------------\n",
      "Designing a one-pass, zero-phase, non-causal highpass filter:\n",
      "- Windowed time-domain design (firwin) method\n",
      "- Hamming window with 0.0194 passband ripple and 53 dB stopband attenuation\n",
      "- Lower passband edge: 1.00\n",
      "- Lower transition bandwidth: 1.00 Hz (-6 dB cutoff frequency: 0.50 Hz)\n",
      "- Filter length: 1651 samples (3.302 sec)\n",
      "\n",
      "Fitting ICA to data using 64 channels (please be patient, this may take a while)\n"
     ]
    },
    {
     "name": "stderr",
     "output_type": "stream",
     "text": [
      "/home/dhz/experiment-BCI/preprocessing.py:30: RuntimeWarning: DigMontage is only a subset of info. There are 12 channel positions not present in the DigMontage. The required channels are:\n",
      "\n",
      "['FP1', 'FPZ', 'FP2', 'FZ', 'FCZ', 'CZ', 'CPZ', 'PZ', 'POZ', 'CB1', 'OZ', 'CB2'].\n",
      "\n",
      "Consider using inst.set_channel_types if these are not EEG channels, or use the on_missing parameter if the channel positions are allowed to be unknown in your analyses.\n",
      "  raw_cropped.set_montage('standard_1020', on_missing='warn')\n",
      "[Parallel(n_jobs=1)]: Using backend SequentialBackend with 1 concurrent workers.\n",
      "[Parallel(n_jobs=1)]: Done   1 out of   1 | elapsed:    0.0s remaining:    0.0s\n",
      "[Parallel(n_jobs=1)]: Done   2 out of   2 | elapsed:    0.0s remaining:    0.0s\n",
      "[Parallel(n_jobs=1)]: Done   3 out of   3 | elapsed:    0.0s remaining:    0.0s\n",
      "[Parallel(n_jobs=1)]: Done   4 out of   4 | elapsed:    0.0s remaining:    0.0s\n",
      "[Parallel(n_jobs=1)]: Done  64 out of  64 | elapsed:    0.1s finished\n"
     ]
    },
    {
     "name": "stdout",
     "output_type": "stream",
     "text": [
      "Selecting by number: 13 components\n",
      "Fitting ICA took 0.5s.\n",
      "Applying ICA to Raw instance\n",
      "    Transforming to ICA space (13 components)\n",
      "    Zeroing out 3 ICA components\n",
      "    Projecting back using 64 PCA components\n"
     ]
    }
   ],
   "source": [
    "test_data = []\n",
    "for i in range(30):\n",
    "    test_data.append(Preprocessing(20 + i + 1).getData())\n",
    "\n",
    "test_data = np.array(test_data)\n",
    "test_labels = labels[20 : 50]"
   ]
  },
  {
   "cell_type": "code",
   "execution_count": 10,
   "id": "64b85edb",
   "metadata": {},
   "outputs": [],
   "source": [
    "test_dataset = subDataset(test_data, test_labels)\n",
    "test_loader = DataLoader.DataLoader(test_dataset,batch_size= 1, shuffle = False)"
   ]
  },
  {
   "cell_type": "code",
   "execution_count": 11,
   "id": "6328a2c4",
   "metadata": {},
   "outputs": [
    {
     "name": "stdout",
     "output_type": "stream",
     "text": [
      "Reading /home/dhz/bci-data/ds003478-download/sub-030/eeg/sub-030_task-Rest_run-01_eeg.fdt\n",
      "Used Annotations descriptions: ['1', '11', '12', '13', '14', '15', '16', '17', '2', '3', '4', '5', '6', 'keyboard0']\n",
      "Reading 0 ... 33201  =      0.000 ...    66.402 secs...\n",
      "EEG channel type selected for re-referencing\n",
      "Applying a custom ('EEG',) reference.\n",
      "Filtering raw data in 1 contiguous segment\n",
      "Setting up high-pass filter at 1 Hz\n",
      "\n",
      "FIR filter parameters\n",
      "---------------------\n",
      "Designing a one-pass, zero-phase, non-causal highpass filter:\n",
      "- Windowed time-domain design (firwin) method\n",
      "- Hamming window with 0.0194 passband ripple and 53 dB stopband attenuation\n",
      "- Lower passband edge: 1.00\n",
      "- Lower transition bandwidth: 1.00 Hz (-6 dB cutoff frequency: 0.50 Hz)\n",
      "- Filter length: 1651 samples (3.302 sec)\n",
      "\n",
      "Fitting ICA to data using 64 channels (please be patient, this may take a while)\n"
     ]
    },
    {
     "name": "stderr",
     "output_type": "stream",
     "text": [
      "/home/dhz/experiment-BCI/preprocessing.py:30: RuntimeWarning: DigMontage is only a subset of info. There are 12 channel positions not present in the DigMontage. The required channels are:\n",
      "\n",
      "['FP1', 'FPZ', 'FP2', 'FZ', 'FCZ', 'CZ', 'CPZ', 'PZ', 'POZ', 'CB1', 'OZ', 'CB2'].\n",
      "\n",
      "Consider using inst.set_channel_types if these are not EEG channels, or use the on_missing parameter if the channel positions are allowed to be unknown in your analyses.\n",
      "  raw_cropped.set_montage('standard_1020', on_missing='warn')\n",
      "[Parallel(n_jobs=1)]: Using backend SequentialBackend with 1 concurrent workers.\n",
      "[Parallel(n_jobs=1)]: Done   1 out of   1 | elapsed:    0.0s remaining:    0.0s\n",
      "[Parallel(n_jobs=1)]: Done   2 out of   2 | elapsed:    0.0s remaining:    0.0s\n",
      "[Parallel(n_jobs=1)]: Done   3 out of   3 | elapsed:    0.0s remaining:    0.0s\n",
      "[Parallel(n_jobs=1)]: Done   4 out of   4 | elapsed:    0.0s remaining:    0.0s\n",
      "[Parallel(n_jobs=1)]: Done  64 out of  64 | elapsed:    0.1s finished\n"
     ]
    },
    {
     "name": "stdout",
     "output_type": "stream",
     "text": [
      "Selecting by number: 13 components\n",
      "Fitting ICA took 0.9s.\n",
      "Applying ICA to Raw instance\n",
      "    Transforming to ICA space (13 components)\n",
      "    Zeroing out 3 ICA components\n",
      "    Projecting back using 64 PCA components\n"
     ]
    },
    {
     "data": {
      "text/plain": [
       "(64, 1024)"
      ]
     },
     "execution_count": 11,
     "metadata": {},
     "output_type": "execute_result"
    }
   ],
   "source": [
    "Preprocessing(i + 1).getData().shape"
   ]
  },
  {
   "cell_type": "code",
   "execution_count": 20,
   "id": "4c21a341",
   "metadata": {},
   "outputs": [],
   "source": [
    "import torch\n",
    "import torch.nn as nn\n",
    "\n",
    "class CNN(nn.Module):\n",
    "    def __init__(self):\n",
    "        super(CNN,self).__init__()\n",
    "        self.avg_pool = nn.AdaptiveAvgPool1d(1)\n",
    "        self.conv1= nn.Sequential(\n",
    "            nn.Conv1d(\n",
    "                in_channels=64,\n",
    "                out_channels=32,\n",
    "                kernel_size=5,\n",
    "                stride=1,\n",
    "                padding=2,\n",
    "            ),\n",
    "            nn.ReLU(),\n",
    "            nn.MaxPool1d(kernel_size=2),\n",
    "        )\n",
    "        self.conv2= nn.Sequential(\n",
    "            nn.Conv1d(\n",
    "                in_channels=32,\n",
    "                out_channels=16,\n",
    "                kernel_size=5,\n",
    "                stride=1,\n",
    "                padding=2,\n",
    "            ),\n",
    "            nn.ReLU(),\n",
    "            nn.MaxPool1d(kernel_size=2),\n",
    "        )\n",
    "        self.conv3= nn.Sequential(\n",
    "            nn.Conv1d(\n",
    "                in_channels=16,\n",
    "                out_channels=8,\n",
    "                kernel_size=5,\n",
    "                stride=1,\n",
    "                padding=2,\n",
    "            ),\n",
    "            nn.ReLU(),\n",
    "            nn.MaxPool1d(kernel_size=2),\n",
    "        )\n",
    "        self.conv4= nn.Sequential(\n",
    "            nn.Conv1d(\n",
    "                in_channels=8,\n",
    "                out_channels=4,\n",
    "                kernel_size=5,\n",
    "                stride=1,\n",
    "                padding=2,\n",
    "            ),\n",
    "            nn.ReLU(),\n",
    "            nn.MaxPool1d(kernel_size=2),\n",
    "        )\n",
    "        self.conv5= nn.Sequential(\n",
    "            nn.Conv1d(\n",
    "                in_channels=4,\n",
    "                out_channels=2,\n",
    "                kernel_size=5,\n",
    "                stride=1,\n",
    "                padding=2,\n",
    "            ),\n",
    "            nn.ReLU(),\n",
    "            nn.MaxPool1d(kernel_size=2),\n",
    "        )\n",
    "        self.conv6= nn.Sequential(\n",
    "            nn.Conv1d(\n",
    "                in_channels=2,\n",
    "                out_channels=1,\n",
    "                kernel_size=5,\n",
    "                stride=1,\n",
    "                padding=2,\n",
    "            ),\n",
    "            nn.ReLU(),\n",
    "            nn.MaxPool1d(kernel_size=2),\n",
    "        )\n",
    "        self.out=nn.Linear(16,1)\n",
    "\n",
    "    def forward(self,x):\n",
    "        print(self.avg_pool(x).size())\n",
    "        x= self.conv1(x)\n",
    "        x= self.conv2(x)\n",
    "        x= self.conv3(x)\n",
    "        x= self.conv4(x)\n",
    "        x= self.conv5(x)\n",
    "        x= self.conv6(x)\n",
    "        # x= x.view(x.size(0),-1) #flatten操作 结果为(batch_size,32*7*7)\n",
    "        output = self.out(x)\n",
    "        return output.reshape((1, 1))"
   ]
  },
  {
   "cell_type": "code",
   "execution_count": 21,
   "id": "460394fa",
   "metadata": {},
   "outputs": [],
   "source": [
    "def accuracy(predictions,labels):\n",
    "    criterion1 = torch.nn.MSELoss()\n",
    "    MSE = criterion1(predictions, labels)\n",
    "    return MSE,len(labels)"
   ]
  },
  {
   "cell_type": "code",
   "execution_count": 22,
   "id": "573c5797",
   "metadata": {},
   "outputs": [],
   "source": [
    "net=CNN()\n",
    "net = net.cuda()\n",
    "\n",
    "critertion=nn.MSELoss()\n",
    "\n",
    "optimizer =torch.optim.Adam(net.parameters(),lr=0.1)"
   ]
  },
  {
   "cell_type": "code",
   "execution_count": 23,
   "id": "64b2ab88",
   "metadata": {},
   "outputs": [
    {
     "name": "stderr",
     "output_type": "stream",
     "text": [
      "epoch 1/50:   0%|                                        | 0/20 [00:00<?, ?it/s]"
     ]
    },
    {
     "name": "stdout",
     "output_type": "stream",
     "text": [
      "torch.Size([1, 64, 1])\n"
     ]
    },
    {
     "name": "stderr",
     "output_type": "stream",
     "text": [
      "epoch 1/50:   0%|                             | 0/20 [00:00<?, ?it/s, loss=8.33]"
     ]
    },
    {
     "name": "stdout",
     "output_type": "stream",
     "text": [
      "torch.Size([1, 64, 1])\n",
      "torch.Size([1, 64, 1])\n"
     ]
    },
    {
     "name": "stderr",
     "output_type": "stream",
     "text": [
      "epoch 1/50:   0%|                             | 0/20 [00:00<?, ?it/s, loss=13.5]"
     ]
    },
    {
     "name": "stdout",
     "output_type": "stream",
     "text": [
      "torch.Size([1, 64, 1])\n",
      "torch.Size([1, 64, 1])\n",
      "torch.Size([1, 64, 1])\n"
     ]
    },
    {
     "name": "stderr",
     "output_type": "stream",
     "text": [
      "epoch 1/50:   0%|                             | 0/20 [00:00<?, ?it/s, loss=11.2]"
     ]
    },
    {
     "name": "stdout",
     "output_type": "stream",
     "text": [
      "torch.Size([1, 64, 1])\n",
      "torch.Size([1, 64, 1])\n",
      "torch.Size([1, 64, 1])\n"
     ]
    },
    {
     "name": "stderr",
     "output_type": "stream",
     "text": [
      "epoch 1/50:   0%|                             | 0/20 [00:00<?, ?it/s, loss=10.1]"
     ]
    },
    {
     "name": "stdout",
     "output_type": "stream",
     "text": [
      "torch.Size([1, 64, 1])\n",
      "torch.Size([1, 64, 1])\n",
      "torch.Size([1, 64, 1])\n"
     ]
    },
    {
     "name": "stderr",
     "output_type": "stream",
     "text": [
      "epoch 1/50:   0%|                             | 0/20 [00:00<?, ?it/s, loss=10.4]"
     ]
    },
    {
     "name": "stdout",
     "output_type": "stream",
     "text": [
      "torch.Size([1, 64, 1])\n",
      "torch.Size([1, 64, 1])\n"
     ]
    },
    {
     "name": "stderr",
     "output_type": "stream",
     "text": [
      "epoch 1/50:   0%|                             | 0/20 [00:00<?, ?it/s, loss=8.69]"
     ]
    },
    {
     "name": "stdout",
     "output_type": "stream",
     "text": [
      "torch.Size([1, 64, 1])\n",
      "torch.Size([1, 64, 1])\n",
      "torch.Size([1, 64, 1])\n"
     ]
    },
    {
     "name": "stderr",
     "output_type": "stream",
     "text": [
      "epoch 1/50:  90%|█████████████████  | 18/20 [00:00<00:00, 175.22it/s, loss=8.05]"
     ]
    },
    {
     "name": "stdout",
     "output_type": "stream",
     "text": [
      "torch.Size([1, 64, 1])\n",
      "torch.Size([1, 64, 1])\n",
      "torch.Size([1, 64, 1])\n"
     ]
    },
    {
     "name": "stderr",
     "output_type": "stream",
     "text": [
      "\r",
      "epoch 1/50:  90%|██████████████████  | 18/20 [00:00<00:00, 175.22it/s, loss=7.7]"
     ]
    },
    {
     "name": "stdout",
     "output_type": "stream",
     "text": [
      "torch.Size([1, 64, 1])\n",
      "torch.Size([1, 64, 1])\n",
      "torch.Size([1, 64, 1])\n",
      "torch.Size([1, 64, 1])\n",
      "torch.Size([1, 64, 1])\n",
      "torch.Size([1, 64, 1])\n",
      "torch.Size([1, 64, 1])\n",
      "torch.Size([1, 64, 1])\n",
      "torch.Size([1, 64, 1])\n",
      "torch.Size([1, 64, 1])\n",
      "torch.Size([1, 64, 1])\n",
      "torch.Size([1, 64, 1])\n",
      "torch.Size([1, 64, 1])\n",
      "torch.Size([1, 64, 1])\n",
      "torch.Size([1, 64, 1])\n",
      "torch.Size([1, 64, 1])\n",
      "torch.Size([1, 64, 1])\n",
      "torch.Size([1, 64, 1])\n",
      "torch.Size([1, 64, 1])\n",
      "torch.Size([1, 64, 1])\n",
      "torch.Size([1, 64, 1])\n",
      "torch.Size([1, 64, 1])\n",
      "torch.Size([1, 64, 1])\n",
      "torch.Size([1, 64, 1])\n"
     ]
    },
    {
     "name": "stderr",
     "output_type": "stream",
     "text": [
      "epoch 1/50: 100%|██████████| 20/20 [00:00<00:00, 118.45it/s, loss=7.7, mse=1.95]\n"
     ]
    },
    {
     "name": "stdout",
     "output_type": "stream",
     "text": [
      "torch.Size([1, 64, 1])\n",
      "torch.Size([1, 64, 1])\n",
      "torch.Size([1, 64, 1])\n",
      "torch.Size([1, 64, 1])\n",
      "torch.Size([1, 64, 1])\n",
      "torch.Size([1, 64, 1])\n"
     ]
    },
    {
     "name": "stderr",
     "output_type": "stream",
     "text": [
      "epoch 2/50:   0%|                                        | 0/20 [00:00<?, ?it/s]"
     ]
    },
    {
     "name": "stdout",
     "output_type": "stream",
     "text": [
      "torch.Size([1, 64, 1])\n"
     ]
    },
    {
     "name": "stderr",
     "output_type": "stream",
     "text": [
      "epoch 2/50:   0%|                             | 0/20 [00:00<?, ?it/s, loss=4.73]"
     ]
    },
    {
     "name": "stdout",
     "output_type": "stream",
     "text": [
      "torch.Size([1, 64, 1])\n",
      "torch.Size([1, 64, 1])\n"
     ]
    },
    {
     "name": "stderr",
     "output_type": "stream",
     "text": [
      "epoch 2/50:   0%|                             | 0/20 [00:00<?, ?it/s, loss=8.73]"
     ]
    },
    {
     "name": "stdout",
     "output_type": "stream",
     "text": [
      "torch.Size([1, 64, 1])\n",
      "torch.Size([1, 64, 1])\n",
      "torch.Size([1, 64, 1])\n"
     ]
    },
    {
     "name": "stderr",
     "output_type": "stream",
     "text": [
      "epoch 2/50:   0%|                             | 0/20 [00:00<?, ?it/s, loss=6.51]"
     ]
    },
    {
     "name": "stdout",
     "output_type": "stream",
     "text": [
      "torch.Size([1, 64, 1])\n"
     ]
    },
    {
     "name": "stderr",
     "output_type": "stream",
     "text": [
      "epoch 2/50:   0%|                             | 0/20 [00:00<?, ?it/s, loss=7.94]"
     ]
    },
    {
     "name": "stdout",
     "output_type": "stream",
     "text": [
      "torch.Size([1, 64, 1])\n",
      "torch.Size([1, 64, 1])\n",
      "torch.Size([1, 64, 1])\n"
     ]
    },
    {
     "name": "stderr",
     "output_type": "stream",
     "text": [
      "epoch 2/50:   0%|                             | 0/20 [00:00<?, ?it/s, loss=7.37]"
     ]
    },
    {
     "name": "stdout",
     "output_type": "stream",
     "text": [
      "torch.Size([1, 64, 1])\n",
      "torch.Size([1, 64, 1])\n",
      "torch.Size([1, 64, 1])\n"
     ]
    },
    {
     "name": "stderr",
     "output_type": "stream",
     "text": [
      "epoch 2/50:   0%|                              | 0/20 [00:00<?, ?it/s, loss=6.3]"
     ]
    },
    {
     "name": "stdout",
     "output_type": "stream",
     "text": [
      "torch.Size([1, 64, 1])\n",
      "torch.Size([1, 64, 1])\n",
      "torch.Size([1, 64, 1])\n",
      "torch.Size([1, 64, 1])\n"
     ]
    },
    {
     "name": "stderr",
     "output_type": "stream",
     "text": [
      "epoch 2/50:  95%|██████████████████ | 19/20 [00:00<00:00, 189.94it/s, loss=5.41]"
     ]
    },
    {
     "name": "stdout",
     "output_type": "stream",
     "text": [
      "torch.Size([1, 64, 1])\n",
      "torch.Size([1, 64, 1])\n",
      "torch.Size([1, 64, 1])\n"
     ]
    },
    {
     "name": "stderr",
     "output_type": "stream",
     "text": [
      "\r",
      "epoch 2/50:  95%|███████████████████ | 19/20 [00:00<00:00, 189.94it/s, loss=5.3]"
     ]
    },
    {
     "name": "stdout",
     "output_type": "stream",
     "text": [
      "torch.Size([1, 64, 1])\n",
      "torch.Size([1, 64, 1])\n",
      "torch.Size([1, 64, 1])\n",
      "torch.Size([1, 64, 1])\n",
      "torch.Size([1, 64, 1])\n",
      "torch.Size([1, 64, 1])\n",
      "torch.Size([1, 64, 1])\n",
      "torch.Size([1, 64, 1])\n",
      "torch.Size([1, 64, 1])\n",
      "torch.Size([1, 64, 1])\n",
      "torch.Size([1, 64, 1])\n",
      "torch.Size([1, 64, 1])\n",
      "torch.Size([1, 64, 1])\n",
      "torch.Size([1, 64, 1])\n",
      "torch.Size([1, 64, 1])\n",
      "torch.Size([1, 64, 1])\n",
      "torch.Size([1, 64, 1])\n",
      "torch.Size([1, 64, 1])\n",
      "torch.Size([1, 64, 1])\n",
      "torch.Size([1, 64, 1])\n",
      "torch.Size([1, 64, 1])\n",
      "torch.Size([1, 64, 1])\n",
      "torch.Size([1, 64, 1])\n",
      "torch.Size([1, 64, 1])\n",
      "torch.Size([1, 64, 1])\n",
      "torch.Size([1, 64, 1])\n"
     ]
    },
    {
     "name": "stderr",
     "output_type": "stream",
     "text": [
      "epoch 2/50: 100%|██████████| 20/20 [00:00<00:00, 130.54it/s, loss=5.3, mse=1.88]\n"
     ]
    },
    {
     "name": "stdout",
     "output_type": "stream",
     "text": [
      "torch.Size([1, 64, 1])\n",
      "torch.Size([1, 64, 1])\n",
      "torch.Size([1, 64, 1])\n",
      "torch.Size([1, 64, 1])\n"
     ]
    },
    {
     "name": "stderr",
     "output_type": "stream",
     "text": [
      "epoch 3/50:   0%|                                        | 0/20 [00:00<?, ?it/s]"
     ]
    },
    {
     "name": "stdout",
     "output_type": "stream",
     "text": [
      "torch.Size([1, 64, 1])\n"
     ]
    },
    {
     "name": "stderr",
     "output_type": "stream",
     "text": [
      "epoch 3/50:   0%|                             | 0/20 [00:00<?, ?it/s, loss=8.89]"
     ]
    },
    {
     "name": "stdout",
     "output_type": "stream",
     "text": [
      "torch.Size([1, 64, 1])\n",
      "torch.Size([1, 64, 1])\n",
      "torch.Size([1, 64, 1])\n"
     ]
    },
    {
     "name": "stderr",
     "output_type": "stream",
     "text": [
      "epoch 3/50:   0%|                             | 0/20 [00:00<?, ?it/s, loss=6.19]"
     ]
    },
    {
     "name": "stdout",
     "output_type": "stream",
     "text": [
      "torch.Size([1, 64, 1])\n",
      "torch.Size([1, 64, 1])\n",
      "torch.Size([1, 64, 1])\n"
     ]
    },
    {
     "name": "stderr",
     "output_type": "stream",
     "text": [
      "epoch 3/50:   0%|                             | 0/20 [00:00<?, ?it/s, loss=6.63]"
     ]
    },
    {
     "name": "stdout",
     "output_type": "stream",
     "text": [
      "torch.Size([1, 64, 1])\n",
      "torch.Size([1, 64, 1])\n",
      "torch.Size([1, 64, 1])\n"
     ]
    },
    {
     "name": "stderr",
     "output_type": "stream",
     "text": [
      "\r",
      "epoch 3/50:   0%|                             | 0/20 [00:00<?, ?it/s, loss=6.35]"
     ]
    },
    {
     "name": "stdout",
     "output_type": "stream",
     "text": [
      "torch.Size([1, 64, 1])\n"
     ]
    },
    {
     "name": "stderr",
     "output_type": "stream",
     "text": [
      "epoch 3/50:   0%|                             | 0/20 [00:00<?, ?it/s, loss=5.71]"
     ]
    },
    {
     "name": "stdout",
     "output_type": "stream",
     "text": [
      "torch.Size([1, 64, 1])\n",
      "torch.Size([1, 64, 1])\n"
     ]
    },
    {
     "name": "stderr",
     "output_type": "stream",
     "text": [
      "epoch 3/50:   0%|                              | 0/20 [00:00<?, ?it/s, loss=5.7]"
     ]
    },
    {
     "name": "stdout",
     "output_type": "stream",
     "text": [
      "torch.Size([1, 64, 1])\n",
      "torch.Size([1, 64, 1])\n",
      "torch.Size([1, 64, 1])\n"
     ]
    },
    {
     "name": "stderr",
     "output_type": "stream",
     "text": [
      "\r",
      "epoch 3/50:   0%|                             | 0/20 [00:00<?, ?it/s, loss=5.61]"
     ]
    },
    {
     "name": "stdout",
     "output_type": "stream",
     "text": [
      "torch.Size([1, 64, 1])\n"
     ]
    },
    {
     "name": "stderr",
     "output_type": "stream",
     "text": [
      "epoch 3/50:  95%|██████████████████ | 19/20 [00:00<00:00, 189.28it/s, loss=4.83]"
     ]
    },
    {
     "name": "stdout",
     "output_type": "stream",
     "text": [
      "torch.Size([1, 64, 1])\n",
      "torch.Size([1, 64, 1])\n"
     ]
    },
    {
     "name": "stderr",
     "output_type": "stream",
     "text": [
      "\r",
      "epoch 3/50:  95%|███████████████████ | 19/20 [00:00<00:00, 189.28it/s, loss=4.8]"
     ]
    },
    {
     "name": "stdout",
     "output_type": "stream",
     "text": [
      "torch.Size([1, 64, 1])\n",
      "torch.Size([1, 64, 1])\n",
      "torch.Size([1, 64, 1])\n",
      "torch.Size([1, 64, 1])\n",
      "torch.Size([1, 64, 1])\n",
      "torch.Size([1, 64, 1])\n",
      "torch.Size([1, 64, 1])\n",
      "torch.Size([1, 64, 1])\n",
      "torch.Size([1, 64, 1])\n",
      "torch.Size([1, 64, 1])\n",
      "torch.Size([1, 64, 1])\n",
      "torch.Size([1, 64, 1])\n",
      "torch.Size([1, 64, 1])\n",
      "torch.Size([1, 64, 1])\n",
      "torch.Size([1, 64, 1])\n",
      "torch.Size([1, 64, 1])\n",
      "torch.Size([1, 64, 1])\n",
      "torch.Size([1, 64, 1])\n",
      "torch.Size([1, 64, 1])\n",
      "torch.Size([1, 64, 1])\n",
      "torch.Size([1, 64, 1])\n",
      "torch.Size([1, 64, 1])\n",
      "torch.Size([1, 64, 1])\n",
      "torch.Size([1, 64, 1])\n",
      "torch.Size([1, 64, 1])\n",
      "torch.Size([1, 64, 1])\n",
      "torch.Size([1, 64, 1])\n",
      "torch.Size([1, 64, 1])\n",
      "torch.Size([1, 64, 1])\n",
      "torch.Size([1, 64, 1])\n",
      "torch.Size([1, 64, 1])\n"
     ]
    },
    {
     "name": "stderr",
     "output_type": "stream",
     "text": [
      "epoch 3/50: 100%|██████████| 20/20 [00:00<00:00, 130.84it/s, loss=4.8, mse=2.11]\n",
      "epoch 4/50:   0%|                                        | 0/20 [00:00<?, ?it/s]"
     ]
    },
    {
     "name": "stdout",
     "output_type": "stream",
     "text": [
      "torch.Size([1, 64, 1])\n"
     ]
    },
    {
     "name": "stderr",
     "output_type": "stream",
     "text": [
      "epoch 4/50:   0%|                              | 0/20 [00:00<?, ?it/s, loss=8.4]"
     ]
    },
    {
     "name": "stdout",
     "output_type": "stream",
     "text": [
      "torch.Size([1, 64, 1])\n",
      "torch.Size([1, 64, 1])\n",
      "torch.Size([1, 64, 1])\n"
     ]
    },
    {
     "name": "stderr",
     "output_type": "stream",
     "text": [
      "epoch 4/50:   0%|                             | 0/20 [00:00<?, ?it/s, loss=5.77]"
     ]
    },
    {
     "name": "stdout",
     "output_type": "stream",
     "text": [
      "torch.Size([1, 64, 1])\n",
      "torch.Size([1, 64, 1])\n",
      "torch.Size([1, 64, 1])\n",
      "torch.Size([1, 64, 1])\n"
     ]
    },
    {
     "name": "stderr",
     "output_type": "stream",
     "text": [
      "\r",
      "epoch 4/50:   0%|                             | 0/20 [00:00<?, ?it/s, loss=6.11]"
     ]
    },
    {
     "name": "stdout",
     "output_type": "stream",
     "text": [
      "torch.Size([1, 64, 1])\n"
     ]
    },
    {
     "name": "stderr",
     "output_type": "stream",
     "text": [
      "\r",
      "epoch 4/50:   0%|                             | 0/20 [00:00<?, ?it/s, loss=6.37]"
     ]
    },
    {
     "name": "stdout",
     "output_type": "stream",
     "text": [
      "torch.Size([1, 64, 1])\n"
     ]
    },
    {
     "name": "stderr",
     "output_type": "stream",
     "text": [
      "epoch 4/50:   0%|                             | 0/20 [00:00<?, ?it/s, loss=5.63]"
     ]
    },
    {
     "name": "stdout",
     "output_type": "stream",
     "text": [
      "torch.Size([1, 64, 1])\n",
      "torch.Size([1, 64, 1])\n",
      "torch.Size([1, 64, 1])\n"
     ]
    },
    {
     "name": "stderr",
     "output_type": "stream",
     "text": [
      "epoch 4/50:   0%|                             | 0/20 [00:00<?, ?it/s, loss=5.56]"
     ]
    },
    {
     "name": "stdout",
     "output_type": "stream",
     "text": [
      "torch.Size([1, 64, 1])\n",
      "torch.Size([1, 64, 1])\n"
     ]
    },
    {
     "name": "stderr",
     "output_type": "stream",
     "text": [
      "epoch 4/50:   0%|                             | 0/20 [00:00<?, ?it/s, loss=5.25]"
     ]
    },
    {
     "name": "stdout",
     "output_type": "stream",
     "text": [
      "torch.Size([1, 64, 1])\n",
      "torch.Size([1, 64, 1])\n",
      "torch.Size([1, 64, 1])\n"
     ]
    },
    {
     "name": "stderr",
     "output_type": "stream",
     "text": [
      "epoch 4/50:  90%|███████████████████▊  | 18/20 [00:00<00:00, 179.78it/s, loss=5]"
     ]
    },
    {
     "name": "stdout",
     "output_type": "stream",
     "text": [
      "torch.Size([1, 64, 1])\n"
     ]
    },
    {
     "name": "stderr",
     "output_type": "stream",
     "text": [
      "\r",
      "epoch 4/50:  90%|█████████████████  | 18/20 [00:00<00:00, 179.78it/s, loss=4.74]"
     ]
    },
    {
     "name": "stdout",
     "output_type": "stream",
     "text": [
      "torch.Size([1, 64, 1])\n"
     ]
    },
    {
     "name": "stderr",
     "output_type": "stream",
     "text": [
      "\r",
      "epoch 4/50:  90%|█████████████████  | 18/20 [00:00<00:00, 179.78it/s, loss=4.73]"
     ]
    },
    {
     "name": "stdout",
     "output_type": "stream",
     "text": [
      "torch.Size([1, 64, 1])\n",
      "torch.Size([1, 64, 1])\n",
      "torch.Size([1, 64, 1])\n",
      "torch.Size([1, 64, 1])\n",
      "torch.Size([1, 64, 1])\n",
      "torch.Size([1, 64, 1])\n",
      "torch.Size([1, 64, 1])\n",
      "torch.Size([1, 64, 1])\n",
      "torch.Size([1, 64, 1])\n",
      "torch.Size([1, 64, 1])\n",
      "torch.Size([1, 64, 1])\n",
      "torch.Size([1, 64, 1])\n",
      "torch.Size([1, 64, 1])\n",
      "torch.Size([1, 64, 1])\n",
      "torch.Size([1, 64, 1])\n",
      "torch.Size([1, 64, 1])\n",
      "torch.Size([1, 64, 1])\n",
      "torch.Size([1, 64, 1])\n",
      "torch.Size([1, 64, 1])\n",
      "torch.Size([1, 64, 1])\n",
      "torch.Size([1, 64, 1])\n",
      "torch.Size([1, 64, 1])\n",
      "torch.Size([1, 64, 1])\n",
      "torch.Size([1, 64, 1])\n",
      "torch.Size([1, 64, 1])\n",
      "torch.Size([1, 64, 1])\n",
      "torch.Size([1, 64, 1])\n",
      "torch.Size([1, 64, 1])\n",
      "torch.Size([1, 64, 1])\n",
      "torch.Size([1, 64, 1])\n"
     ]
    },
    {
     "name": "stderr",
     "output_type": "stream",
     "text": [
      "epoch 4/50: 100%|█████████| 20/20 [00:00<00:00, 121.69it/s, loss=4.73, mse=2.17]\n",
      "epoch 5/50:   0%|                             | 0/20 [00:00<?, ?it/s, loss=4.05]"
     ]
    },
    {
     "name": "stdout",
     "output_type": "stream",
     "text": [
      "torch.Size([1, 64, 1])\n",
      "torch.Size([1, 64, 1])\n",
      "torch.Size([1, 64, 1])\n"
     ]
    },
    {
     "name": "stderr",
     "output_type": "stream",
     "text": [
      "epoch 5/50:   0%|                             | 0/20 [00:00<?, ?it/s, loss=6.92]"
     ]
    },
    {
     "name": "stdout",
     "output_type": "stream",
     "text": [
      "torch.Size([1, 64, 1])\n",
      "torch.Size([1, 64, 1])\n",
      "torch.Size([1, 64, 1])\n"
     ]
    },
    {
     "name": "stderr",
     "output_type": "stream",
     "text": [
      "\r",
      "epoch 5/50:   0%|                             | 0/20 [00:00<?, ?it/s, loss=5.98]"
     ]
    },
    {
     "name": "stdout",
     "output_type": "stream",
     "text": [
      "torch.Size([1, 64, 1])\n"
     ]
    },
    {
     "name": "stderr",
     "output_type": "stream",
     "text": [
      "epoch 5/50:   0%|                             | 0/20 [00:00<?, ?it/s, loss=6.09]"
     ]
    },
    {
     "name": "stdout",
     "output_type": "stream",
     "text": [
      "torch.Size([1, 64, 1])\n",
      "torch.Size([1, 64, 1])\n"
     ]
    },
    {
     "name": "stderr",
     "output_type": "stream",
     "text": [
      "epoch 5/50:   0%|                             | 0/20 [00:00<?, ?it/s, loss=5.61]"
     ]
    },
    {
     "name": "stdout",
     "output_type": "stream",
     "text": [
      "torch.Size([1, 64, 1])\n",
      "torch.Size([1, 64, 1])\n",
      "torch.Size([1, 64, 1])\n",
      "torch.Size([1, 64, 1])\n"
     ]
    },
    {
     "name": "stderr",
     "output_type": "stream",
     "text": [
      "\r",
      "epoch 5/50:   0%|                             | 0/20 [00:00<?, ?it/s, loss=6.35]"
     ]
    },
    {
     "name": "stdout",
     "output_type": "stream",
     "text": [
      "torch.Size([1, 64, 1])\n"
     ]
    },
    {
     "name": "stderr",
     "output_type": "stream",
     "text": [
      "\r",
      "epoch 5/50:   0%|                             | 0/20 [00:00<?, ?it/s, loss=5.95]"
     ]
    },
    {
     "name": "stdout",
     "output_type": "stream",
     "text": [
      "torch.Size([1, 64, 1])\n"
     ]
    },
    {
     "name": "stderr",
     "output_type": "stream",
     "text": [
      "epoch 5/50:  85%|████████████████▏  | 17/20 [00:00<00:00, 164.70it/s, loss=5.24]"
     ]
    },
    {
     "name": "stdout",
     "output_type": "stream",
     "text": [
      "torch.Size([1, 64, 1])\n",
      "torch.Size([1, 64, 1])\n",
      "torch.Size([1, 64, 1])\n"
     ]
    },
    {
     "name": "stderr",
     "output_type": "stream",
     "text": [
      "epoch 5/50:  85%|████████████████▏  | 17/20 [00:00<00:00, 164.70it/s, loss=4.73]"
     ]
    },
    {
     "name": "stdout",
     "output_type": "stream",
     "text": [
      "torch.Size([1, 64, 1])\n"
     ]
    },
    {
     "name": "stderr",
     "output_type": "stream",
     "text": [
      "\r",
      "epoch 5/50:  85%|████████████████▏  | 17/20 [00:00<00:00, 164.70it/s, loss=4.72]"
     ]
    },
    {
     "name": "stdout",
     "output_type": "stream",
     "text": [
      "torch.Size([1, 64, 1])\n",
      "torch.Size([1, 64, 1])\n",
      "torch.Size([1, 64, 1])\n",
      "torch.Size([1, 64, 1])\n",
      "torch.Size([1, 64, 1])\n",
      "torch.Size([1, 64, 1])\n",
      "torch.Size([1, 64, 1])\n",
      "torch.Size([1, 64, 1])\n",
      "torch.Size([1, 64, 1])\n",
      "torch.Size([1, 64, 1])\n",
      "torch.Size([1, 64, 1])\n",
      "torch.Size([1, 64, 1])\n",
      "torch.Size([1, 64, 1])\n",
      "torch.Size([1, 64, 1])\n",
      "torch.Size([1, 64, 1])\n",
      "torch.Size([1, 64, 1])\n",
      "torch.Size([1, 64, 1])\n",
      "torch.Size([1, 64, 1])\n",
      "torch.Size([1, 64, 1])\n",
      "torch.Size([1, 64, 1])\n",
      "torch.Size([1, 64, 1])\n",
      "torch.Size([1, 64, 1])\n",
      "torch.Size([1, 64, 1])\n",
      "torch.Size([1, 64, 1])\n",
      "torch.Size([1, 64, 1])\n",
      "torch.Size([1, 64, 1])\n",
      "torch.Size([1, 64, 1])\n",
      "torch.Size([1, 64, 1])\n",
      "torch.Size([1, 64, 1])\n",
      "torch.Size([1, 64, 1])\n",
      "torch.Size([1, 64, 1])\n"
     ]
    },
    {
     "name": "stderr",
     "output_type": "stream",
     "text": [
      "epoch 5/50: 100%|█████████| 20/20 [00:00<00:00, 115.24it/s, loss=4.72, mse=2.16]\n",
      "epoch 6/50:   0%|                                        | 0/20 [00:00<?, ?it/s]"
     ]
    },
    {
     "name": "stdout",
     "output_type": "stream",
     "text": [
      "torch.Size([1, 64, 1])\n"
     ]
    },
    {
     "name": "stderr",
     "output_type": "stream",
     "text": [
      "epoch 6/50:   0%|                             | 0/20 [00:00<?, ?it/s, loss=10.7]"
     ]
    },
    {
     "name": "stdout",
     "output_type": "stream",
     "text": [
      "torch.Size([1, 64, 1])\n",
      "torch.Size([1, 64, 1])\n",
      "torch.Size([1, 64, 1])\n"
     ]
    },
    {
     "name": "stderr",
     "output_type": "stream",
     "text": [
      "epoch 6/50:   0%|                             | 0/20 [00:00<?, ?it/s, loss=5.76]"
     ]
    },
    {
     "name": "stdout",
     "output_type": "stream",
     "text": [
      "torch.Size([1, 64, 1])\n",
      "torch.Size([1, 64, 1])\n",
      "torch.Size([1, 64, 1])\n"
     ]
    },
    {
     "name": "stderr",
     "output_type": "stream",
     "text": [
      "epoch 6/50:   0%|                             | 0/20 [00:00<?, ?it/s, loss=6.36]"
     ]
    },
    {
     "name": "stdout",
     "output_type": "stream",
     "text": [
      "torch.Size([1, 64, 1])\n",
      "torch.Size([1, 64, 1])\n",
      "torch.Size([1, 64, 1])\n"
     ]
    },
    {
     "name": "stderr",
     "output_type": "stream",
     "text": [
      "\r",
      "epoch 6/50:   0%|                             | 0/20 [00:00<?, ?it/s, loss=6.17]"
     ]
    },
    {
     "name": "stdout",
     "output_type": "stream",
     "text": [
      "torch.Size([1, 64, 1])\n"
     ]
    },
    {
     "name": "stderr",
     "output_type": "stream",
     "text": [
      "epoch 6/50:   0%|                             | 0/20 [00:00<?, ?it/s, loss=6.35]"
     ]
    },
    {
     "name": "stdout",
     "output_type": "stream",
     "text": [
      "torch.Size([1, 64, 1])\n",
      "torch.Size([1, 64, 1])\n",
      "torch.Size([1, 64, 1])\n"
     ]
    },
    {
     "name": "stderr",
     "output_type": "stream",
     "text": [
      "epoch 6/50:  85%|████████████████▏  | 17/20 [00:00<00:00, 165.14it/s, loss=5.25]"
     ]
    },
    {
     "name": "stdout",
     "output_type": "stream",
     "text": [
      "torch.Size([1, 64, 1])\n",
      "torch.Size([1, 64, 1])\n",
      "torch.Size([1, 64, 1])\n",
      "torch.Size([1, 64, 1])\n"
     ]
    },
    {
     "name": "stderr",
     "output_type": "stream",
     "text": [
      "\r",
      "epoch 6/50:  85%|██████████████████▋   | 17/20 [00:00<00:00, 165.14it/s, loss=5]"
     ]
    },
    {
     "name": "stdout",
     "output_type": "stream",
     "text": [
      "torch.Size([1, 64, 1])\n"
     ]
    },
    {
     "name": "stderr",
     "output_type": "stream",
     "text": [
      "epoch 6/50:  85%|████████████████▏  | 17/20 [00:00<00:00, 165.14it/s, loss=4.72]"
     ]
    },
    {
     "name": "stdout",
     "output_type": "stream",
     "text": [
      "torch.Size([1, 64, 1])\n",
      "torch.Size([1, 64, 1])\n",
      "torch.Size([1, 64, 1])\n",
      "torch.Size([1, 64, 1])\n",
      "torch.Size([1, 64, 1])\n",
      "torch.Size([1, 64, 1])\n",
      "torch.Size([1, 64, 1])\n",
      "torch.Size([1, 64, 1])\n",
      "torch.Size([1, 64, 1])\n",
      "torch.Size([1, 64, 1])\n",
      "torch.Size([1, 64, 1])\n",
      "torch.Size([1, 64, 1])\n",
      "torch.Size([1, 64, 1])\n",
      "torch.Size([1, 64, 1])\n",
      "torch.Size([1, 64, 1])\n",
      "torch.Size([1, 64, 1])\n",
      "torch.Size([1, 64, 1])\n",
      "torch.Size([1, 64, 1])\n",
      "torch.Size([1, 64, 1])\n",
      "torch.Size([1, 64, 1])\n",
      "torch.Size([1, 64, 1])\n",
      "torch.Size([1, 64, 1])\n",
      "torch.Size([1, 64, 1])\n",
      "torch.Size([1, 64, 1])\n",
      "torch.Size([1, 64, 1])\n",
      "torch.Size([1, 64, 1])\n"
     ]
    },
    {
     "name": "stderr",
     "output_type": "stream",
     "text": [
      "epoch 6/50: 100%|█████████| 20/20 [00:00<00:00, 117.76it/s, loss=4.72, mse=2.15]\n"
     ]
    },
    {
     "name": "stdout",
     "output_type": "stream",
     "text": [
      "torch.Size([1, 64, 1])\n",
      "torch.Size([1, 64, 1])\n",
      "torch.Size([1, 64, 1])\n",
      "torch.Size([1, 64, 1])\n",
      "torch.Size([1, 64, 1])\n"
     ]
    },
    {
     "name": "stderr",
     "output_type": "stream",
     "text": [
      "epoch 7/50:   0%|                             | 0/20 [00:00<?, ?it/s, loss=4.43]"
     ]
    },
    {
     "name": "stdout",
     "output_type": "stream",
     "text": [
      "torch.Size([1, 64, 1])\n"
     ]
    },
    {
     "name": "stderr",
     "output_type": "stream",
     "text": [
      "epoch 7/50:   0%|                             | 0/20 [00:00<?, ?it/s, loss=10.8]"
     ]
    },
    {
     "name": "stdout",
     "output_type": "stream",
     "text": [
      "torch.Size([1, 64, 1])\n",
      "torch.Size([1, 64, 1])\n",
      "torch.Size([1, 64, 1])\n"
     ]
    },
    {
     "name": "stderr",
     "output_type": "stream",
     "text": [
      "epoch 7/50:   0%|                             | 0/20 [00:00<?, ?it/s, loss=5.99]"
     ]
    },
    {
     "name": "stdout",
     "output_type": "stream",
     "text": [
      "torch.Size([1, 64, 1])\n",
      "torch.Size([1, 64, 1])\n",
      "torch.Size([1, 64, 1])\n"
     ]
    },
    {
     "name": "stderr",
     "output_type": "stream",
     "text": [
      "\r",
      "epoch 7/50:   0%|                             | 0/20 [00:00<?, ?it/s, loss=5.76]"
     ]
    },
    {
     "name": "stdout",
     "output_type": "stream",
     "text": [
      "torch.Size([1, 64, 1])\n"
     ]
    },
    {
     "name": "stderr",
     "output_type": "stream",
     "text": [
      "epoch 7/50:   0%|                             | 0/20 [00:00<?, ?it/s, loss=6.01]"
     ]
    },
    {
     "name": "stdout",
     "output_type": "stream",
     "text": [
      "torch.Size([1, 64, 1])\n",
      "torch.Size([1, 64, 1])\n",
      "torch.Size([1, 64, 1])\n",
      "torch.Size([1, 64, 1])\n"
     ]
    },
    {
     "name": "stderr",
     "output_type": "stream",
     "text": [
      "epoch 7/50:   0%|                             | 0/20 [00:00<?, ?it/s, loss=5.96]"
     ]
    },
    {
     "name": "stdout",
     "output_type": "stream",
     "text": [
      "torch.Size([1, 64, 1])\n",
      "torch.Size([1, 64, 1])\n",
      "torch.Size([1, 64, 1])\n"
     ]
    },
    {
     "name": "stderr",
     "output_type": "stream",
     "text": [
      "epoch 7/50:   0%|                                | 0/20 [00:00<?, ?it/s, loss=5]"
     ]
    },
    {
     "name": "stdout",
     "output_type": "stream",
     "text": [
      "torch.Size([1, 64, 1])\n",
      "torch.Size([1, 64, 1])\n",
      "torch.Size([1, 64, 1])\n"
     ]
    },
    {
     "name": "stderr",
     "output_type": "stream",
     "text": [
      "\r",
      "epoch 7/50:   0%|                             | 0/20 [00:00<?, ?it/s, loss=4.74]"
     ]
    },
    {
     "name": "stdout",
     "output_type": "stream",
     "text": [
      "torch.Size([1, 64, 1])\n"
     ]
    },
    {
     "name": "stderr",
     "output_type": "stream",
     "text": [
      "\r",
      "epoch 7/50:   0%|                             | 0/20 [00:00<?, ?it/s, loss=4.72]"
     ]
    },
    {
     "name": "stdout",
     "output_type": "stream",
     "text": [
      "torch.Size([1, 64, 1])\n",
      "torch.Size([1, 64, 1])\n",
      "torch.Size([1, 64, 1])\n",
      "torch.Size([1, 64, 1])\n",
      "torch.Size([1, 64, 1])\n",
      "torch.Size([1, 64, 1])\n",
      "torch.Size([1, 64, 1])\n",
      "torch.Size([1, 64, 1])\n",
      "torch.Size([1, 64, 1])\n",
      "torch.Size([1, 64, 1])\n",
      "torch.Size([1, 64, 1])\n",
      "torch.Size([1, 64, 1])\n",
      "torch.Size([1, 64, 1])\n",
      "torch.Size([1, 64, 1])\n",
      "torch.Size([1, 64, 1])\n",
      "torch.Size([1, 64, 1])\n",
      "torch.Size([1, 64, 1])\n",
      "torch.Size([1, 64, 1])\n",
      "torch.Size([1, 64, 1])\n",
      "torch.Size([1, 64, 1])\n",
      "torch.Size([1, 64, 1])\n",
      "torch.Size([1, 64, 1])\n",
      "torch.Size([1, 64, 1])\n",
      "torch.Size([1, 64, 1])\n",
      "torch.Size([1, 64, 1])\n",
      "torch.Size([1, 64, 1])\n",
      "torch.Size([1, 64, 1])\n",
      "torch.Size([1, 64, 1])\n"
     ]
    },
    {
     "name": "stderr",
     "output_type": "stream",
     "text": [
      "epoch 7/50: 100%|█████████| 20/20 [00:00<00:00, 131.66it/s, loss=4.72, mse=2.14]\n"
     ]
    },
    {
     "name": "stdout",
     "output_type": "stream",
     "text": [
      "torch.Size([1, 64, 1])\n",
      "torch.Size([1, 64, 1])\n",
      "torch.Size([1, 64, 1])\n"
     ]
    },
    {
     "name": "stderr",
     "output_type": "stream",
     "text": [
      "epoch 8/50:   0%|                             | 0/20 [00:00<?, ?it/s, loss=4.41]"
     ]
    },
    {
     "name": "stdout",
     "output_type": "stream",
     "text": [
      "torch.Size([1, 64, 1])\n",
      "torch.Size([1, 64, 1])\n"
     ]
    },
    {
     "name": "stderr",
     "output_type": "stream",
     "text": [
      "epoch 8/50:   0%|                             | 0/20 [00:00<?, ?it/s, loss=10.8]"
     ]
    },
    {
     "name": "stdout",
     "output_type": "stream",
     "text": [
      "torch.Size([1, 64, 1])\n",
      "torch.Size([1, 64, 1])\n"
     ]
    },
    {
     "name": "stderr",
     "output_type": "stream",
     "text": [
      "epoch 8/50:   0%|                             | 0/20 [00:00<?, ?it/s, loss=5.99]"
     ]
    },
    {
     "name": "stdout",
     "output_type": "stream",
     "text": [
      "torch.Size([1, 64, 1])\n",
      "torch.Size([1, 64, 1])\n",
      "torch.Size([1, 64, 1])\n"
     ]
    },
    {
     "name": "stderr",
     "output_type": "stream",
     "text": [
      "epoch 8/50:   0%|                             | 0/20 [00:00<?, ?it/s, loss=6.11]"
     ]
    },
    {
     "name": "stdout",
     "output_type": "stream",
     "text": [
      "torch.Size([1, 64, 1])\n",
      "torch.Size([1, 64, 1])\n"
     ]
    },
    {
     "name": "stderr",
     "output_type": "stream",
     "text": [
      "\r",
      "epoch 8/50:   0%|                             | 0/20 [00:00<?, ?it/s, loss=6.37]"
     ]
    },
    {
     "name": "stdout",
     "output_type": "stream",
     "text": [
      "torch.Size([1, 64, 1])\n"
     ]
    },
    {
     "name": "stderr",
     "output_type": "stream",
     "text": [
      "epoch 8/50:   0%|                             | 0/20 [00:00<?, ?it/s, loss=5.62]"
     ]
    },
    {
     "name": "stdout",
     "output_type": "stream",
     "text": [
      "torch.Size([1, 64, 1])\n",
      "torch.Size([1, 64, 1])\n",
      "torch.Size([1, 64, 1])\n"
     ]
    },
    {
     "name": "stderr",
     "output_type": "stream",
     "text": [
      "epoch 8/50:   0%|                             | 0/20 [00:00<?, ?it/s, loss=5.57]"
     ]
    },
    {
     "name": "stdout",
     "output_type": "stream",
     "text": [
      "torch.Size([1, 64, 1])\n",
      "torch.Size([1, 64, 1])\n",
      "torch.Size([1, 64, 1])\n"
     ]
    },
    {
     "name": "stderr",
     "output_type": "stream",
     "text": [
      "epoch 8/50:  95%|██████████████████ | 19/20 [00:00<00:00, 185.52it/s, loss=4.72]"
     ]
    },
    {
     "name": "stdout",
     "output_type": "stream",
     "text": [
      "torch.Size([1, 64, 1])\n",
      "torch.Size([1, 64, 1])\n",
      "torch.Size([1, 64, 1])\n",
      "torch.Size([1, 64, 1])\n",
      "torch.Size([1, 64, 1])\n",
      "torch.Size([1, 64, 1])\n",
      "torch.Size([1, 64, 1])\n",
      "torch.Size([1, 64, 1])\n",
      "torch.Size([1, 64, 1])\n",
      "torch.Size([1, 64, 1])\n",
      "torch.Size([1, 64, 1])\n",
      "torch.Size([1, 64, 1])\n",
      "torch.Size([1, 64, 1])\n",
      "torch.Size([1, 64, 1])\n",
      "torch.Size([1, 64, 1])\n",
      "torch.Size([1, 64, 1])\n",
      "torch.Size([1, 64, 1])\n",
      "torch.Size([1, 64, 1])\n",
      "torch.Size([1, 64, 1])\n",
      "torch.Size([1, 64, 1])\n",
      "torch.Size([1, 64, 1])\n",
      "torch.Size([1, 64, 1])\n",
      "torch.Size([1, 64, 1])\n",
      "torch.Size([1, 64, 1])\n",
      "torch.Size([1, 64, 1])\n",
      "torch.Size([1, 64, 1])\n",
      "torch.Size([1, 64, 1])\n",
      "torch.Size([1, 64, 1])\n"
     ]
    },
    {
     "name": "stderr",
     "output_type": "stream",
     "text": [
      "epoch 8/50: 100%|█████████| 20/20 [00:00<00:00, 127.80it/s, loss=4.72, mse=2.14]\n"
     ]
    },
    {
     "name": "stdout",
     "output_type": "stream",
     "text": [
      "torch.Size([1, 64, 1])\n",
      "torch.Size([1, 64, 1])\n",
      "torch.Size([1, 64, 1])\n",
      "torch.Size([1, 64, 1])\n",
      "torch.Size([1, 64, 1])\n",
      "torch.Size([1, 64, 1])\n"
     ]
    },
    {
     "name": "stderr",
     "output_type": "stream",
     "text": [
      "epoch 9/50:   0%|                                        | 0/20 [00:00<?, ?it/s]"
     ]
    },
    {
     "name": "stdout",
     "output_type": "stream",
     "text": [
      "torch.Size([1, 64, 1])\n"
     ]
    },
    {
     "name": "stderr",
     "output_type": "stream",
     "text": [
      "epoch 9/50:   0%|                             | 0/20 [00:00<?, ?it/s, loss=6.95]"
     ]
    },
    {
     "name": "stdout",
     "output_type": "stream",
     "text": [
      "torch.Size([1, 64, 1])\n",
      "torch.Size([1, 64, 1])\n",
      "torch.Size([1, 64, 1])\n",
      "torch.Size([1, 64, 1])\n"
     ]
    },
    {
     "name": "stderr",
     "output_type": "stream",
     "text": [
      "\r",
      "epoch 9/50:   0%|                             | 0/20 [00:00<?, ?it/s, loss=5.99]"
     ]
    },
    {
     "name": "stdout",
     "output_type": "stream",
     "text": [
      "torch.Size([1, 64, 1])\n",
      "torch.Size([1, 64, 1])\n"
     ]
    },
    {
     "name": "stderr",
     "output_type": "stream",
     "text": [
      "\r",
      "epoch 9/50:   0%|                             | 0/20 [00:00<?, ?it/s, loss=5.76]"
     ]
    },
    {
     "name": "stdout",
     "output_type": "stream",
     "text": [
      "torch.Size([1, 64, 1])\n"
     ]
    },
    {
     "name": "stderr",
     "output_type": "stream",
     "text": [
      "epoch 9/50:   0%|                             | 0/20 [00:00<?, ?it/s, loss=6.18]"
     ]
    },
    {
     "name": "stdout",
     "output_type": "stream",
     "text": [
      "torch.Size([1, 64, 1])\n",
      "torch.Size([1, 64, 1])\n",
      "torch.Size([1, 64, 1])\n"
     ]
    },
    {
     "name": "stderr",
     "output_type": "stream",
     "text": [
      "epoch 9/50:   0%|                             | 0/20 [00:00<?, ?it/s, loss=5.62]"
     ]
    },
    {
     "name": "stdout",
     "output_type": "stream",
     "text": [
      "torch.Size([1, 64, 1])\n",
      "torch.Size([1, 64, 1])\n"
     ]
    },
    {
     "name": "stderr",
     "output_type": "stream",
     "text": [
      "epoch 9/50:   0%|                             | 0/20 [00:00<?, ?it/s, loss=5.57]"
     ]
    },
    {
     "name": "stdout",
     "output_type": "stream",
     "text": [
      "torch.Size([1, 64, 1])\n",
      "torch.Size([1, 64, 1])\n",
      "torch.Size([1, 64, 1])\n"
     ]
    },
    {
     "name": "stderr",
     "output_type": "stream",
     "text": [
      "epoch 9/50:   0%|                             | 0/20 [00:00<?, ?it/s, loss=5.25]"
     ]
    },
    {
     "name": "stdout",
     "output_type": "stream",
     "text": [
      "torch.Size([1, 64, 1])\n",
      "torch.Size([1, 64, 1])\n"
     ]
    },
    {
     "name": "stderr",
     "output_type": "stream",
     "text": [
      "\r",
      "epoch 9/50:   0%|                                | 0/20 [00:00<?, ?it/s, loss=5]"
     ]
    },
    {
     "name": "stdout",
     "output_type": "stream",
     "text": [
      "torch.Size([1, 64, 1])\n"
     ]
    },
    {
     "name": "stderr",
     "output_type": "stream",
     "text": [
      "epoch 9/50:  95%|██████████████████ | 19/20 [00:00<00:00, 187.70it/s, loss=4.73]"
     ]
    },
    {
     "name": "stdout",
     "output_type": "stream",
     "text": [
      "torch.Size([1, 64, 1])\n",
      "torch.Size([1, 64, 1])\n",
      "torch.Size([1, 64, 1])\n",
      "torch.Size([1, 64, 1])\n",
      "torch.Size([1, 64, 1])\n",
      "torch.Size([1, 64, 1])\n",
      "torch.Size([1, 64, 1])\n",
      "torch.Size([1, 64, 1])\n",
      "torch.Size([1, 64, 1])\n",
      "torch.Size([1, 64, 1])\n",
      "torch.Size([1, 64, 1])\n",
      "torch.Size([1, 64, 1])\n",
      "torch.Size([1, 64, 1])\n",
      "torch.Size([1, 64, 1])\n",
      "torch.Size([1, 64, 1])\n",
      "torch.Size([1, 64, 1])\n",
      "torch.Size([1, 64, 1])\n",
      "torch.Size([1, 64, 1])\n",
      "torch.Size([1, 64, 1])\n",
      "torch.Size([1, 64, 1])\n",
      "torch.Size([1, 64, 1])\n",
      "torch.Size([1, 64, 1])\n",
      "torch.Size([1, 64, 1])\n",
      "torch.Size([1, 64, 1])\n",
      "torch.Size([1, 64, 1])\n",
      "torch.Size([1, 64, 1])\n",
      "torch.Size([1, 64, 1])\n",
      "torch.Size([1, 64, 1])\n",
      "torch.Size([1, 64, 1])\n",
      "torch.Size([1, 64, 1])\n",
      "torch.Size([1, 64, 1])\n"
     ]
    },
    {
     "name": "stderr",
     "output_type": "stream",
     "text": [
      "epoch 9/50: 100%|█████████| 20/20 [00:00<00:00, 130.34it/s, loss=4.73, mse=2.14]\n",
      "epoch 10/50:   0%|                            | 0/20 [00:00<?, ?it/s, loss=4.05]"
     ]
    },
    {
     "name": "stdout",
     "output_type": "stream",
     "text": [
      "torch.Size([1, 64, 1])\n",
      "torch.Size([1, 64, 1])\n",
      "torch.Size([1, 64, 1])\n"
     ]
    },
    {
     "name": "stderr",
     "output_type": "stream",
     "text": [
      "epoch 10/50:   0%|                            | 0/20 [00:00<?, ?it/s, loss=6.95]"
     ]
    },
    {
     "name": "stdout",
     "output_type": "stream",
     "text": [
      "torch.Size([1, 64, 1])\n",
      "torch.Size([1, 64, 1])\n",
      "torch.Size([1, 64, 1])\n"
     ]
    },
    {
     "name": "stderr",
     "output_type": "stream",
     "text": [
      "\r",
      "epoch 10/50:   0%|                            | 0/20 [00:00<?, ?it/s, loss=5.99]"
     ]
    },
    {
     "name": "stdout",
     "output_type": "stream",
     "text": [
      "torch.Size([1, 64, 1])\n"
     ]
    },
    {
     "name": "stderr",
     "output_type": "stream",
     "text": [
      "epoch 10/50:   0%|                            | 0/20 [00:00<?, ?it/s, loss=6.37]"
     ]
    },
    {
     "name": "stdout",
     "output_type": "stream",
     "text": [
      "torch.Size([1, 64, 1])\n",
      "torch.Size([1, 64, 1])\n",
      "torch.Size([1, 64, 1])\n"
     ]
    },
    {
     "name": "stderr",
     "output_type": "stream",
     "text": [
      "\r",
      "epoch 10/50:   0%|                            | 0/20 [00:00<?, ?it/s, loss=6.18]"
     ]
    },
    {
     "name": "stdout",
     "output_type": "stream",
     "text": [
      "torch.Size([1, 64, 1])\n"
     ]
    },
    {
     "name": "stderr",
     "output_type": "stream",
     "text": [
      "epoch 10/50:   0%|                            | 0/20 [00:00<?, ?it/s, loss=5.57]"
     ]
    },
    {
     "name": "stdout",
     "output_type": "stream",
     "text": [
      "torch.Size([1, 64, 1])\n",
      "torch.Size([1, 64, 1])\n",
      "torch.Size([1, 64, 1])\n",
      "torch.Size([1, 64, 1])\n"
     ]
    },
    {
     "name": "stderr",
     "output_type": "stream",
     "text": [
      "\r",
      "epoch 10/50:   0%|                             | 0/20 [00:00<?, ?it/s, loss=5.5]"
     ]
    },
    {
     "name": "stdout",
     "output_type": "stream",
     "text": [
      "torch.Size([1, 64, 1])\n",
      "torch.Size([1, 64, 1])\n"
     ]
    },
    {
     "name": "stderr",
     "output_type": "stream",
     "text": [
      "epoch 10/50:   0%|                               | 0/20 [00:00<?, ?it/s, loss=5]"
     ]
    },
    {
     "name": "stdout",
     "output_type": "stream",
     "text": [
      "torch.Size([1, 64, 1])\n"
     ]
    },
    {
     "name": "stderr",
     "output_type": "stream",
     "text": [
      "epoch 10/50:   0%|                            | 0/20 [00:00<?, ?it/s, loss=4.73]"
     ]
    },
    {
     "name": "stdout",
     "output_type": "stream",
     "text": [
      "torch.Size([1, 64, 1])\n",
      "torch.Size([1, 64, 1])\n",
      "torch.Size([1, 64, 1])\n",
      "torch.Size([1, 64, 1])\n",
      "torch.Size([1, 64, 1])\n",
      "torch.Size([1, 64, 1])\n",
      "torch.Size([1, 64, 1])\n",
      "torch.Size([1, 64, 1])\n",
      "torch.Size([1, 64, 1])\n",
      "torch.Size([1, 64, 1])\n",
      "torch.Size([1, 64, 1])\n",
      "torch.Size([1, 64, 1])\n",
      "torch.Size([1, 64, 1])\n",
      "torch.Size([1, 64, 1])\n",
      "torch.Size([1, 64, 1])\n",
      "torch.Size([1, 64, 1])\n",
      "torch.Size([1, 64, 1])\n",
      "torch.Size([1, 64, 1])\n",
      "torch.Size([1, 64, 1])\n",
      "torch.Size([1, 64, 1])\n",
      "torch.Size([1, 64, 1])\n",
      "torch.Size([1, 64, 1])\n",
      "torch.Size([1, 64, 1])\n",
      "torch.Size([1, 64, 1])\n",
      "torch.Size([1, 64, 1])\n",
      "torch.Size([1, 64, 1])\n"
     ]
    },
    {
     "name": "stderr",
     "output_type": "stream",
     "text": [
      "epoch 10/50: 100%|████████| 20/20 [00:00<00:00, 125.14it/s, loss=4.73, mse=2.14]\n"
     ]
    },
    {
     "name": "stdout",
     "output_type": "stream",
     "text": [
      "torch.Size([1, 64, 1])\n",
      "torch.Size([1, 64, 1])\n",
      "torch.Size([1, 64, 1])\n",
      "torch.Size([1, 64, 1])\n",
      "torch.Size([1, 64, 1])\n",
      "torch.Size([1, 64, 1])\n"
     ]
    },
    {
     "name": "stderr",
     "output_type": "stream",
     "text": [
      "epoch 11/50:   0%|                            | 0/20 [00:00<?, ?it/s, loss=4.05]"
     ]
    },
    {
     "name": "stdout",
     "output_type": "stream",
     "text": [
      "torch.Size([1, 64, 1])\n",
      "torch.Size([1, 64, 1])\n",
      "torch.Size([1, 64, 1])\n"
     ]
    },
    {
     "name": "stderr",
     "output_type": "stream",
     "text": [
      "epoch 11/50:   0%|                            | 0/20 [00:00<?, ?it/s, loss=5.99]"
     ]
    },
    {
     "name": "stdout",
     "output_type": "stream",
     "text": [
      "torch.Size([1, 64, 1])\n",
      "torch.Size([1, 64, 1])\n",
      "torch.Size([1, 64, 1])\n",
      "torch.Size([1, 64, 1])\n"
     ]
    },
    {
     "name": "stderr",
     "output_type": "stream",
     "text": [
      "epoch 11/50:   0%|                            | 0/20 [00:00<?, ?it/s, loss=6.37]"
     ]
    },
    {
     "name": "stdout",
     "output_type": "stream",
     "text": [
      "torch.Size([1, 64, 1])\n",
      "torch.Size([1, 64, 1])\n",
      "torch.Size([1, 64, 1])\n"
     ]
    },
    {
     "name": "stderr",
     "output_type": "stream",
     "text": [
      "epoch 11/50:   0%|                            | 0/20 [00:00<?, ?it/s, loss=5.62]"
     ]
    },
    {
     "name": "stdout",
     "output_type": "stream",
     "text": [
      "torch.Size([1, 64, 1])\n",
      "torch.Size([1, 64, 1])\n",
      "torch.Size([1, 64, 1])\n"
     ]
    },
    {
     "name": "stderr",
     "output_type": "stream",
     "text": [
      "\r",
      "epoch 11/50:   0%|                            | 0/20 [00:00<?, ?it/s, loss=6.36]"
     ]
    },
    {
     "name": "stdout",
     "output_type": "stream",
     "text": [
      "torch.Size([1, 64, 1])"
     ]
    },
    {
     "name": "stderr",
     "output_type": "stream",
     "text": [
      "epoch 11/50:   0%|                            | 0/20 [00:00<?, ?it/s, loss=5.57]"
     ]
    },
    {
     "name": "stdout",
     "output_type": "stream",
     "text": [
      "\n",
      "torch.Size([1, 64, 1])\n",
      "torch.Size([1, 64, 1])\n"
     ]
    },
    {
     "name": "stderr",
     "output_type": "stream",
     "text": [
      "\r",
      "epoch 11/50:   0%|                             | 0/20 [00:00<?, ?it/s, loss=5.5]"
     ]
    },
    {
     "name": "stdout",
     "output_type": "stream",
     "text": [
      "torch.Size([1, 64, 1])\n"
     ]
    },
    {
     "name": "stderr",
     "output_type": "stream",
     "text": [
      "epoch 11/50:  90%|████████████████▏ | 18/20 [00:00<00:00, 178.31it/s, loss=4.73]"
     ]
    },
    {
     "name": "stdout",
     "output_type": "stream",
     "text": [
      "torch.Size([1, 64, 1])\n",
      "torch.Size([1, 64, 1])\n",
      "torch.Size([1, 64, 1])\n",
      "torch.Size([1, 64, 1])\n",
      "torch.Size([1, 64, 1])\n",
      "torch.Size([1, 64, 1])\n",
      "torch.Size([1, 64, 1])\n",
      "torch.Size([1, 64, 1])\n",
      "torch.Size([1, 64, 1])\n",
      "torch.Size([1, 64, 1])\n",
      "torch.Size([1, 64, 1])\n",
      "torch.Size([1, 64, 1])\n",
      "torch.Size([1, 64, 1])\n",
      "torch.Size([1, 64, 1])\n",
      "torch.Size([1, 64, 1])\n",
      "torch.Size([1, 64, 1])\n",
      "torch.Size([1, 64, 1])\n",
      "torch.Size([1, 64, 1])\n",
      "torch.Size([1, 64, 1])\n",
      "torch.Size([1, 64, 1])\n",
      "torch.Size([1, 64, 1])\n",
      "torch.Size([1, 64, 1])\n",
      "torch.Size([1, 64, 1])\n",
      "torch.Size([1, 64, 1])\n",
      "torch.Size([1, 64, 1])\n",
      "torch.Size([1, 64, 1])\n",
      "torch.Size([1, 64, 1])\n",
      "torch.Size([1, 64, 1])\n",
      "torch.Size([1, 64, 1])\n",
      "torch.Size([1, 64, 1])\n"
     ]
    },
    {
     "name": "stderr",
     "output_type": "stream",
     "text": [
      "epoch 11/50: 100%|████████| 20/20 [00:00<00:00, 124.08it/s, loss=4.73, mse=2.14]\n"
     ]
    },
    {
     "name": "stdout",
     "output_type": "stream",
     "text": [
      "torch.Size([1, 64, 1])\n",
      "torch.Size([1, 64, 1])\n",
      "torch.Size([1, 64, 1])\n"
     ]
    },
    {
     "name": "stderr",
     "output_type": "stream",
     "text": [
      "epoch 12/50:   0%|                            | 0/20 [00:00<?, ?it/s, loss=4.42]"
     ]
    },
    {
     "name": "stdout",
     "output_type": "stream",
     "text": [
      "torch.Size([1, 64, 1])\n",
      "torch.Size([1, 64, 1])\n"
     ]
    },
    {
     "name": "stderr",
     "output_type": "stream",
     "text": [
      "\r",
      "epoch 12/50:   0%|                            | 0/20 [00:00<?, ?it/s, loss=4.05]"
     ]
    },
    {
     "name": "stdout",
     "output_type": "stream",
     "text": [
      "torch.Size([1, 64, 1])\n"
     ]
    },
    {
     "name": "stderr",
     "output_type": "stream",
     "text": [
      "epoch 12/50:   0%|                            | 0/20 [00:00<?, ?it/s, loss=8.39]"
     ]
    },
    {
     "name": "stdout",
     "output_type": "stream",
     "text": [
      "torch.Size([1, 64, 1])\n"
     ]
    },
    {
     "name": "stderr",
     "output_type": "stream",
     "text": [
      "epoch 12/50:   0%|                            | 0/20 [00:00<?, ?it/s, loss=5.99]"
     ]
    },
    {
     "name": "stdout",
     "output_type": "stream",
     "text": [
      "torch.Size([1, 64, 1])\n",
      "torch.Size([1, 64, 1])\n",
      "torch.Size([1, 64, 1])\n"
     ]
    },
    {
     "name": "stderr",
     "output_type": "stream",
     "text": [
      "epoch 12/50:   0%|                            | 0/20 [00:00<?, ?it/s, loss=6.37]"
     ]
    },
    {
     "name": "stdout",
     "output_type": "stream",
     "text": [
      "torch.Size([1, 64, 1])\n",
      "torch.Size([1, 64, 1])\n",
      "torch.Size([1, 64, 1])\n"
     ]
    },
    {
     "name": "stderr",
     "output_type": "stream",
     "text": [
      "epoch 12/50:   0%|                            | 0/20 [00:00<?, ?it/s, loss=6.36]"
     ]
    },
    {
     "name": "stdout",
     "output_type": "stream",
     "text": [
      "torch.Size([1, 64, 1])\n",
      "torch.Size([1, 64, 1])\n",
      "torch.Size([1, 64, 1])\n",
      "torch.Size([1, 64, 1])\n"
     ]
    },
    {
     "name": "stderr",
     "output_type": "stream",
     "text": [
      "epoch 12/50:   0%|                             | 0/20 [00:00<?, ?it/s, loss=5.5]"
     ]
    },
    {
     "name": "stdout",
     "output_type": "stream",
     "text": [
      "torch.Size([1, 64, 1])\n",
      "torch.Size([1, 64, 1])\n",
      "torch.Size([1, 64, 1])\n"
     ]
    },
    {
     "name": "stderr",
     "output_type": "stream",
     "text": [
      "epoch 12/50:  90%|████████████████▏ | 18/20 [00:00<00:00, 173.01it/s, loss=4.74]"
     ]
    },
    {
     "name": "stdout",
     "output_type": "stream",
     "text": [
      "torch.Size([1, 64, 1])\n",
      "torch.Size([1, 64, 1])\n",
      "torch.Size([1, 64, 1])\n"
     ]
    },
    {
     "name": "stderr",
     "output_type": "stream",
     "text": [
      "\r",
      "epoch 12/50:  90%|████████████████▏ | 18/20 [00:00<00:00, 173.01it/s, loss=4.73]"
     ]
    },
    {
     "name": "stdout",
     "output_type": "stream",
     "text": [
      "torch.Size([1, 64, 1])\n",
      "torch.Size([1, 64, 1])\n",
      "torch.Size([1, 64, 1])\n",
      "torch.Size([1, 64, 1])\n",
      "torch.Size([1, 64, 1])\n",
      "torch.Size([1, 64, 1])\n",
      "torch.Size([1, 64, 1])\n",
      "torch.Size([1, 64, 1])\n",
      "torch.Size([1, 64, 1])\n",
      "torch.Size([1, 64, 1])\n",
      "torch.Size([1, 64, 1])\n",
      "torch.Size([1, 64, 1])\n",
      "torch.Size([1, 64, 1])\n",
      "torch.Size([1, 64, 1])\n",
      "torch.Size([1, 64, 1])\n",
      "torch.Size([1, 64, 1])\n",
      "torch.Size([1, 64, 1])\n",
      "torch.Size([1, 64, 1])\n",
      "torch.Size([1, 64, 1])\n",
      "torch.Size([1, 64, 1])\n",
      "torch.Size([1, 64, 1])\n",
      "torch.Size([1, 64, 1])\n",
      "torch.Size([1, 64, 1])\n",
      "torch.Size([1, 64, 1])\n",
      "torch.Size([1, 64, 1])\n",
      "torch.Size([1, 64, 1])\n",
      "torch.Size([1, 64, 1])\n",
      "torch.Size([1, 64, 1])\n",
      "torch.Size([1, 64, 1])\n"
     ]
    },
    {
     "name": "stderr",
     "output_type": "stream",
     "text": [
      "epoch 12/50: 100%|████████| 20/20 [00:00<00:00, 120.60it/s, loss=4.73, mse=2.14]\n"
     ]
    },
    {
     "name": "stdout",
     "output_type": "stream",
     "text": [
      "torch.Size([1, 64, 1])\n"
     ]
    },
    {
     "name": "stderr",
     "output_type": "stream",
     "text": [
      "epoch 13/50:   0%|                                       | 0/20 [00:00<?, ?it/s]"
     ]
    },
    {
     "name": "stdout",
     "output_type": "stream",
     "text": [
      "torch.Size([1, 64, 1])\n"
     ]
    },
    {
     "name": "stderr",
     "output_type": "stream",
     "text": [
      "epoch 13/50:   0%|                            | 0/20 [00:00<?, ?it/s, loss=4.05]"
     ]
    },
    {
     "name": "stdout",
     "output_type": "stream",
     "text": [
      "torch.Size([1, 64, 1])\n",
      "torch.Size([1, 64, 1])\n"
     ]
    },
    {
     "name": "stderr",
     "output_type": "stream",
     "text": [
      "epoch 13/50:   0%|                            | 0/20 [00:00<?, ?it/s, loss=8.39]"
     ]
    },
    {
     "name": "stdout",
     "output_type": "stream",
     "text": [
      "torch.Size([1, 64, 1])\n",
      "torch.Size([1, 64, 1])\n"
     ]
    },
    {
     "name": "stderr",
     "output_type": "stream",
     "text": [
      "\r",
      "epoch 13/50:   0%|                            | 0/20 [00:00<?, ?it/s, loss=6.95]"
     ]
    },
    {
     "name": "stdout",
     "output_type": "stream",
     "text": [
      "torch.Size([1, 64, 1])\n"
     ]
    },
    {
     "name": "stderr",
     "output_type": "stream",
     "text": [
      "epoch 13/50:   0%|                            | 0/20 [00:00<?, ?it/s, loss=5.76]"
     ]
    },
    {
     "name": "stdout",
     "output_type": "stream",
     "text": [
      "torch.Size([1, 64, 1])\n",
      "torch.Size([1, 64, 1])\n"
     ]
    },
    {
     "name": "stderr",
     "output_type": "stream",
     "text": [
      "\r",
      "epoch 13/50:   0%|                            | 0/20 [00:00<?, ?it/s, loss=6.11]"
     ]
    },
    {
     "name": "stdout",
     "output_type": "stream",
     "text": [
      "torch.Size([1, 64, 1])\n"
     ]
    },
    {
     "name": "stderr",
     "output_type": "stream",
     "text": [
      "epoch 13/50:   0%|                            | 0/20 [00:00<?, ?it/s, loss=6.18]"
     ]
    },
    {
     "name": "stdout",
     "output_type": "stream",
     "text": [
      "torch.Size([1, 64, 1])\n"
     ]
    },
    {
     "name": "stderr",
     "output_type": "stream",
     "text": [
      "epoch 13/50:   0%|                            | 0/20 [00:00<?, ?it/s, loss=6.36]"
     ]
    },
    {
     "name": "stdout",
     "output_type": "stream",
     "text": [
      "torch.Size([1, 64, 1])\n",
      "torch.Size([1, 64, 1])\n",
      "torch.Size([1, 64, 1])\n",
      "torch.Size([1, 64, 1])\n"
     ]
    },
    {
     "name": "stderr",
     "output_type": "stream",
     "text": [
      "epoch 13/50:   0%|                             | 0/20 [00:00<?, ?it/s, loss=5.5]"
     ]
    },
    {
     "name": "stdout",
     "output_type": "stream",
     "text": [
      "torch.Size([1, 64, 1])\n",
      "torch.Size([1, 64, 1])\n",
      "torch.Size([1, 64, 1])\n"
     ]
    },
    {
     "name": "stderr",
     "output_type": "stream",
     "text": [
      "epoch 13/50:  95%|█████████████████ | 19/20 [00:00<00:00, 184.53it/s, loss=4.73]"
     ]
    },
    {
     "name": "stdout",
     "output_type": "stream",
     "text": [
      "torch.Size([1, 64, 1])\n",
      "torch.Size([1, 64, 1])\n",
      "torch.Size([1, 64, 1])\n",
      "torch.Size([1, 64, 1])\n",
      "torch.Size([1, 64, 1])\n",
      "torch.Size([1, 64, 1])\n",
      "torch.Size([1, 64, 1])\n",
      "torch.Size([1, 64, 1])\n",
      "torch.Size([1, 64, 1])\n",
      "torch.Size([1, 64, 1])\n",
      "torch.Size([1, 64, 1])\n",
      "torch.Size([1, 64, 1])\n",
      "torch.Size([1, 64, 1])\n",
      "torch.Size([1, 64, 1])\n",
      "torch.Size([1, 64, 1])\n",
      "torch.Size([1, 64, 1])\n",
      "torch.Size([1, 64, 1])\n",
      "torch.Size([1, 64, 1])\n",
      "torch.Size([1, 64, 1])\n",
      "torch.Size([1, 64, 1])\n",
      "torch.Size([1, 64, 1])\n",
      "torch.Size([1, 64, 1])\n",
      "torch.Size([1, 64, 1])\n",
      "torch.Size([1, 64, 1])\n",
      "torch.Size([1, 64, 1])\n",
      "torch.Size([1, 64, 1])\n",
      "torch.Size([1, 64, 1])\n",
      "torch.Size([1, 64, 1])\n",
      "torch.Size([1, 64, 1])\n",
      "torch.Size([1, 64, 1])\n"
     ]
    },
    {
     "name": "stderr",
     "output_type": "stream",
     "text": [
      "epoch 13/50: 100%|████████| 20/20 [00:00<00:00, 128.04it/s, loss=4.73, mse=2.14]\n"
     ]
    },
    {
     "name": "stdout",
     "output_type": "stream",
     "text": [
      "torch.Size([1, 64, 1])\n",
      "torch.Size([1, 64, 1])\n",
      "torch.Size([1, 64, 1])\n"
     ]
    },
    {
     "name": "stderr",
     "output_type": "stream",
     "text": [
      "epoch 14/50:   0%|                            | 0/20 [00:00<?, ?it/s, loss=4.42]"
     ]
    },
    {
     "name": "stdout",
     "output_type": "stream",
     "text": [
      "torch.Size([1, 64, 1])\n"
     ]
    },
    {
     "name": "stderr",
     "output_type": "stream",
     "text": [
      "\r",
      "epoch 14/50:   0%|                            | 0/20 [00:00<?, ?it/s, loss=4.05]"
     ]
    },
    {
     "name": "stdout",
     "output_type": "stream",
     "text": [
      "torch.Size([1, 64, 1])\n"
     ]
    },
    {
     "name": "stderr",
     "output_type": "stream",
     "text": [
      "epoch 14/50:   0%|                            | 0/20 [00:00<?, ?it/s, loss=6.95]"
     ]
    },
    {
     "name": "stdout",
     "output_type": "stream",
     "text": [
      "torch.Size([1, 64, 1])\n",
      "torch.Size([1, 64, 1])\n",
      "torch.Size([1, 64, 1])\n",
      "torch.Size([1, 64, 1])\n"
     ]
    },
    {
     "name": "stderr",
     "output_type": "stream",
     "text": [
      "epoch 14/50:   0%|                            | 0/20 [00:00<?, ?it/s, loss=5.76]"
     ]
    },
    {
     "name": "stdout",
     "output_type": "stream",
     "text": [
      "torch.Size([1, 64, 1])\n",
      "torch.Size([1, 64, 1])\n"
     ]
    },
    {
     "name": "stderr",
     "output_type": "stream",
     "text": [
      "\r",
      "epoch 14/50:   0%|                            | 0/20 [00:00<?, ?it/s, loss=6.11]"
     ]
    },
    {
     "name": "stdout",
     "output_type": "stream",
     "text": [
      "torch.Size([1, 64, 1])\n"
     ]
    },
    {
     "name": "stderr",
     "output_type": "stream",
     "text": [
      "epoch 14/50:   0%|                            | 0/20 [00:00<?, ?it/s, loss=6.18]"
     ]
    },
    {
     "name": "stdout",
     "output_type": "stream",
     "text": [
      "torch.Size([1, 64, 1])\n"
     ]
    },
    {
     "name": "stderr",
     "output_type": "stream",
     "text": [
      "epoch 14/50:   0%|                            | 0/20 [00:00<?, ?it/s, loss=5.62]"
     ]
    },
    {
     "name": "stdout",
     "output_type": "stream",
     "text": [
      "torch.Size([1, 64, 1])\n",
      "torch.Size([1, 64, 1])\n",
      "torch.Size([1, 64, 1])\n"
     ]
    },
    {
     "name": "stderr",
     "output_type": "stream",
     "text": [
      "epoch 14/50:   0%|                            | 0/20 [00:00<?, ?it/s, loss=5.96]"
     ]
    },
    {
     "name": "stdout",
     "output_type": "stream",
     "text": [
      "torch.Size([1, 64, 1])\n",
      "torch.Size([1, 64, 1])\n"
     ]
    },
    {
     "name": "stderr",
     "output_type": "stream",
     "text": [
      "\r",
      "epoch 14/50:   0%|                            | 0/20 [00:00<?, ?it/s, loss=5.57]"
     ]
    },
    {
     "name": "stdout",
     "output_type": "stream",
     "text": [
      "torch.Size([1, 64, 1])\n"
     ]
    },
    {
     "name": "stderr",
     "output_type": "stream",
     "text": [
      "epoch 14/50:   0%|                               | 0/20 [00:00<?, ?it/s, loss=5]"
     ]
    },
    {
     "name": "stdout",
     "output_type": "stream",
     "text": [
      "torch.Size([1, 64, 1])\n",
      "torch.Size([1, 64, 1])\n"
     ]
    },
    {
     "name": "stderr",
     "output_type": "stream",
     "text": [
      "\r",
      "epoch 14/50:   0%|                            | 0/20 [00:00<?, ?it/s, loss=4.74]"
     ]
    },
    {
     "name": "stdout",
     "output_type": "stream",
     "text": [
      "torch.Size([1, 64, 1])\n"
     ]
    },
    {
     "name": "stderr",
     "output_type": "stream",
     "text": [
      "\r",
      "epoch 14/50:   0%|                            | 0/20 [00:00<?, ?it/s, loss=4.73]"
     ]
    },
    {
     "name": "stdout",
     "output_type": "stream",
     "text": [
      "torch.Size([1, 64, 1])\n",
      "torch.Size([1, 64, 1])\n",
      "torch.Size([1, 64, 1])\n",
      "torch.Size([1, 64, 1])\n",
      "torch.Size([1, 64, 1])\n",
      "torch.Size([1, 64, 1])\n",
      "torch.Size([1, 64, 1])\n",
      "torch.Size([1, 64, 1])\n",
      "torch.Size([1, 64, 1])\n",
      "torch.Size([1, 64, 1])\n",
      "torch.Size([1, 64, 1])\n",
      "torch.Size([1, 64, 1])\n",
      "torch.Size([1, 64, 1])\n",
      "torch.Size([1, 64, 1])\n",
      "torch.Size([1, 64, 1])\n",
      "torch.Size([1, 64, 1])\n",
      "torch.Size([1, 64, 1])\n",
      "torch.Size([1, 64, 1])\n",
      "torch.Size([1, 64, 1])\n",
      "torch.Size([1, 64, 1])\n",
      "torch.Size([1, 64, 1])\n",
      "torch.Size([1, 64, 1])\n",
      "torch.Size([1, 64, 1])\n"
     ]
    },
    {
     "name": "stderr",
     "output_type": "stream",
     "text": [
      "epoch 14/50: 100%|████████| 20/20 [00:00<00:00, 133.08it/s, loss=4.73, mse=2.14]\n"
     ]
    },
    {
     "name": "stdout",
     "output_type": "stream",
     "text": [
      "torch.Size([1, 64, 1])\n",
      "torch.Size([1, 64, 1])\n",
      "torch.Size([1, 64, 1])\n",
      "torch.Size([1, 64, 1])\n",
      "torch.Size([1, 64, 1])\n",
      "torch.Size([1, 64, 1])\n",
      "torch.Size([1, 64, 1])\n",
      "torch.Size([1, 64, 1])\n"
     ]
    },
    {
     "name": "stderr",
     "output_type": "stream",
     "text": [
      "epoch 15/50:   0%|                            | 0/20 [00:00<?, ?it/s, loss=4.42]"
     ]
    },
    {
     "name": "stdout",
     "output_type": "stream",
     "text": [
      "torch.Size([1, 64, 1])\n",
      "torch.Size([1, 64, 1])\n"
     ]
    },
    {
     "name": "stderr",
     "output_type": "stream",
     "text": [
      "epoch 15/50:   0%|                            | 0/20 [00:00<?, ?it/s, loss=6.95]"
     ]
    },
    {
     "name": "stdout",
     "output_type": "stream",
     "text": [
      "torch.Size([1, 64, 1])\n",
      "torch.Size([1, 64, 1])\n",
      "torch.Size([1, 64, 1])\n"
     ]
    },
    {
     "name": "stderr",
     "output_type": "stream",
     "text": [
      "epoch 15/50:   0%|                            | 0/20 [00:00<?, ?it/s, loss=6.11]"
     ]
    },
    {
     "name": "stdout",
     "output_type": "stream",
     "text": [
      "torch.Size([1, 64, 1])\n",
      "torch.Size([1, 64, 1])\n",
      "torch.Size([1, 64, 1])\n",
      "torch.Size([1, 64, 1])\n"
     ]
    },
    {
     "name": "stderr",
     "output_type": "stream",
     "text": [
      "epoch 15/50:   0%|                            | 0/20 [00:00<?, ?it/s, loss=6.18]"
     ]
    },
    {
     "name": "stdout",
     "output_type": "stream",
     "text": [
      "torch.Size([1, 64, 1])\n"
     ]
    },
    {
     "name": "stderr",
     "output_type": "stream",
     "text": [
      "\r",
      "epoch 15/50:   0%|                            | 0/20 [00:00<?, ?it/s, loss=6.02]"
     ]
    },
    {
     "name": "stdout",
     "output_type": "stream",
     "text": [
      "torch.Size([1, 64, 1])\n"
     ]
    },
    {
     "name": "stderr",
     "output_type": "stream",
     "text": [
      "\r",
      "epoch 15/50:   0%|                            | 0/20 [00:00<?, ?it/s, loss=5.62]"
     ]
    },
    {
     "name": "stdout",
     "output_type": "stream",
     "text": [
      "torch.Size([1, 64, 1])\n"
     ]
    },
    {
     "name": "stderr",
     "output_type": "stream",
     "text": [
      "epoch 15/50:   0%|                             | 0/20 [00:00<?, ?it/s, loss=5.5]"
     ]
    },
    {
     "name": "stdout",
     "output_type": "stream",
     "text": [
      "torch.Size([1, 64, 1])\n",
      "torch.Size([1, 64, 1])\n",
      "torch.Size([1, 64, 1])\n",
      "torch.Size([1, 64, 1])\n"
     ]
    },
    {
     "name": "stderr",
     "output_type": "stream",
     "text": [
      "epoch 15/50:   0%|                               | 0/20 [00:00<?, ?it/s, loss=5]"
     ]
    },
    {
     "name": "stdout",
     "output_type": "stream",
     "text": [
      "torch.Size([1, 64, 1])\n",
      "torch.Size([1, 64, 1])\n"
     ]
    },
    {
     "name": "stderr",
     "output_type": "stream",
     "text": [
      "\r",
      "epoch 15/50:   0%|                            | 0/20 [00:00<?, ?it/s, loss=4.74]"
     ]
    },
    {
     "name": "stdout",
     "output_type": "stream",
     "text": [
      "torch.Size([1, 64, 1])\n"
     ]
    },
    {
     "name": "stderr",
     "output_type": "stream",
     "text": [
      "\r",
      "epoch 15/50:   0%|                            | 0/20 [00:00<?, ?it/s, loss=4.73]"
     ]
    },
    {
     "name": "stdout",
     "output_type": "stream",
     "text": [
      "torch.Size([1, 64, 1])\n",
      "torch.Size([1, 64, 1])\n",
      "torch.Size([1, 64, 1])\n",
      "torch.Size([1, 64, 1])\n",
      "torch.Size([1, 64, 1])\n",
      "torch.Size([1, 64, 1])\n",
      "torch.Size([1, 64, 1])\n",
      "torch.Size([1, 64, 1])\n",
      "torch.Size([1, 64, 1])\n",
      "torch.Size([1, 64, 1])\n",
      "torch.Size([1, 64, 1])\n",
      "torch.Size([1, 64, 1])\n",
      "torch.Size([1, 64, 1])\n",
      "torch.Size([1, 64, 1])\n",
      "torch.Size([1, 64, 1])\n",
      "torch.Size([1, 64, 1])\n",
      "torch.Size([1, 64, 1])\n",
      "torch.Size([1, 64, 1])\n",
      "torch.Size([1, 64, 1])\n",
      "torch.Size([1, 64, 1])\n",
      "torch.Size([1, 64, 1])\n",
      "torch.Size([1, 64, 1])\n",
      "torch.Size([1, 64, 1])\n",
      "torch.Size([1, 64, 1])\n",
      "torch.Size([1, 64, 1])\n",
      "torch.Size([1, 64, 1])\n",
      "torch.Size([1, 64, 1])\n",
      "torch.Size([1, 64, 1])\n",
      "torch.Size([1, 64, 1])\n",
      "torch.Size([1, 64, 1])\n",
      "torch.Size([1, 64, 1])\n"
     ]
    },
    {
     "name": "stderr",
     "output_type": "stream",
     "text": [
      "epoch 15/50: 100%|████████| 20/20 [00:00<00:00, 135.25it/s, loss=4.73, mse=2.15]\n",
      "epoch 16/50:   0%|                                       | 0/20 [00:00<?, ?it/s]"
     ]
    },
    {
     "name": "stdout",
     "output_type": "stream",
     "text": [
      "torch.Size([1, 64, 1])\n"
     ]
    },
    {
     "name": "stderr",
     "output_type": "stream",
     "text": [
      "epoch 16/50:   0%|                            | 0/20 [00:00<?, ?it/s, loss=8.39]"
     ]
    },
    {
     "name": "stdout",
     "output_type": "stream",
     "text": [
      "torch.Size([1, 64, 1])\n",
      "torch.Size([1, 64, 1])\n",
      "torch.Size([1, 64, 1])\n",
      "torch.Size([1, 64, 1])\n"
     ]
    },
    {
     "name": "stderr",
     "output_type": "stream",
     "text": [
      "epoch 16/50:   0%|                            | 0/20 [00:00<?, ?it/s, loss=5.76]"
     ]
    },
    {
     "name": "stdout",
     "output_type": "stream",
     "text": [
      "torch.Size([1, 64, 1])\n",
      "torch.Size([1, 64, 1])\n",
      "torch.Size([1, 64, 1])\n"
     ]
    },
    {
     "name": "stderr",
     "output_type": "stream",
     "text": [
      "epoch 16/50:   0%|                            | 0/20 [00:00<?, ?it/s, loss=6.18]"
     ]
    },
    {
     "name": "stdout",
     "output_type": "stream",
     "text": [
      "torch.Size([1, 64, 1])\n",
      "torch.Size([1, 64, 1])\n",
      "torch.Size([1, 64, 1])\n"
     ]
    },
    {
     "name": "stderr",
     "output_type": "stream",
     "text": [
      "epoch 16/50:   0%|                            | 0/20 [00:00<?, ?it/s, loss=5.62]"
     ]
    },
    {
     "name": "stdout",
     "output_type": "stream",
     "text": [
      "torch.Size([1, 64, 1])\n",
      "torch.Size([1, 64, 1])\n"
     ]
    },
    {
     "name": "stderr",
     "output_type": "stream",
     "text": [
      "epoch 16/50:   0%|                            | 0/20 [00:00<?, ?it/s, loss=5.57]"
     ]
    },
    {
     "name": "stdout",
     "output_type": "stream",
     "text": [
      "torch.Size([1, 64, 1])\n",
      "torch.Size([1, 64, 1])\n"
     ]
    },
    {
     "name": "stderr",
     "output_type": "stream",
     "text": [
      "epoch 16/50:   0%|                               | 0/20 [00:00<?, ?it/s, loss=5]"
     ]
    },
    {
     "name": "stdout",
     "output_type": "stream",
     "text": [
      "torch.Size([1, 64, 1])\n",
      "torch.Size([1, 64, 1])\n",
      "torch.Size([1, 64, 1])\n",
      "torch.Size([1, 64, 1])\n"
     ]
    },
    {
     "name": "stderr",
     "output_type": "stream",
     "text": [
      "\r",
      "epoch 16/50:   0%|                            | 0/20 [00:00<?, ?it/s, loss=4.74]"
     ]
    },
    {
     "name": "stdout",
     "output_type": "stream",
     "text": [
      "torch.Size([1, 64, 1])\n"
     ]
    },
    {
     "name": "stderr",
     "output_type": "stream",
     "text": [
      "\r",
      "epoch 16/50:   0%|                            | 0/20 [00:00<?, ?it/s, loss=4.73]"
     ]
    },
    {
     "name": "stdout",
     "output_type": "stream",
     "text": [
      "torch.Size([1, 64, 1])\n",
      "torch.Size([1, 64, 1])\n",
      "torch.Size([1, 64, 1])\n",
      "torch.Size([1, 64, 1])\n",
      "torch.Size([1, 64, 1])\n",
      "torch.Size([1, 64, 1])\n",
      "torch.Size([1, 64, 1])\n",
      "torch.Size([1, 64, 1])\n",
      "torch.Size([1, 64, 1])\n",
      "torch.Size([1, 64, 1])\n",
      "torch.Size([1, 64, 1])\n",
      "torch.Size([1, 64, 1])\n",
      "torch.Size([1, 64, 1])\n",
      "torch.Size([1, 64, 1])\n",
      "torch.Size([1, 64, 1])\n",
      "torch.Size([1, 64, 1])\n",
      "torch.Size([1, 64, 1])\n",
      "torch.Size([1, 64, 1])\n",
      "torch.Size([1, 64, 1])\n",
      "torch.Size([1, 64, 1])\n",
      "torch.Size([1, 64, 1])\n",
      "torch.Size([1, 64, 1])\n",
      "torch.Size([1, 64, 1])\n",
      "torch.Size([1, 64, 1])\n",
      "torch.Size([1, 64, 1])\n",
      "torch.Size([1, 64, 1])\n",
      "torch.Size([1, 64, 1])\n",
      "torch.Size([1, 64, 1])\n"
     ]
    },
    {
     "name": "stderr",
     "output_type": "stream",
     "text": [
      "epoch 16/50: 100%|████████| 20/20 [00:00<00:00, 131.35it/s, loss=4.73, mse=2.15]\n"
     ]
    },
    {
     "name": "stdout",
     "output_type": "stream",
     "text": [
      "torch.Size([1, 64, 1])\n",
      "torch.Size([1, 64, 1])\n"
     ]
    },
    {
     "name": "stderr",
     "output_type": "stream",
     "text": [
      "epoch 17/50:   0%|                            | 0/20 [00:00<?, ?it/s, loss=4.05]"
     ]
    },
    {
     "name": "stdout",
     "output_type": "stream",
     "text": [
      "torch.Size([1, 64, 1])\n",
      "torch.Size([1, 64, 1])\n",
      "torch.Size([1, 64, 1])\n"
     ]
    },
    {
     "name": "stderr",
     "output_type": "stream",
     "text": [
      "epoch 17/50:   0%|                            | 0/20 [00:00<?, ?it/s, loss=6.95]"
     ]
    },
    {
     "name": "stdout",
     "output_type": "stream",
     "text": [
      "torch.Size([1, 64, 1])\n",
      "torch.Size([1, 64, 1])\n"
     ]
    },
    {
     "name": "stderr",
     "output_type": "stream",
     "text": [
      "\r",
      "epoch 17/50:   0%|                            | 0/20 [00:00<?, ?it/s, loss=5.99]"
     ]
    },
    {
     "name": "stdout",
     "output_type": "stream",
     "text": [
      "torch.Size([1, 64, 1])\n"
     ]
    },
    {
     "name": "stderr",
     "output_type": "stream",
     "text": [
      "epoch 17/50:   0%|                            | 0/20 [00:00<?, ?it/s, loss=6.11]"
     ]
    },
    {
     "name": "stdout",
     "output_type": "stream",
     "text": [
      "torch.Size([1, 64, 1])\n",
      "torch.Size([1, 64, 1])\n",
      "torch.Size([1, 64, 1])\n"
     ]
    },
    {
     "name": "stderr",
     "output_type": "stream",
     "text": [
      "\r",
      "epoch 17/50:   0%|                            | 0/20 [00:00<?, ?it/s, loss=6.37]"
     ]
    },
    {
     "name": "stdout",
     "output_type": "stream",
     "text": [
      "torch.Size([1, 64, 1])\n"
     ]
    },
    {
     "name": "stderr",
     "output_type": "stream",
     "text": [
      "epoch 17/50:   0%|                            | 0/20 [00:00<?, ?it/s, loss=6.02]"
     ]
    },
    {
     "name": "stdout",
     "output_type": "stream",
     "text": [
      "torch.Size([1, 64, 1])\n",
      "torch.Size([1, 64, 1])\n"
     ]
    },
    {
     "name": "stderr",
     "output_type": "stream",
     "text": [
      "epoch 17/50:   0%|                            | 0/20 [00:00<?, ?it/s, loss=5.57]"
     ]
    },
    {
     "name": "stdout",
     "output_type": "stream",
     "text": [
      "torch.Size([1, 64, 1])\n",
      "torch.Size([1, 64, 1])\n",
      "torch.Size([1, 64, 1])\n",
      "torch.Size([1, 64, 1])\n"
     ]
    },
    {
     "name": "stderr",
     "output_type": "stream",
     "text": [
      "epoch 17/50:   0%|                               | 0/20 [00:00<?, ?it/s, loss=5]"
     ]
    },
    {
     "name": "stdout",
     "output_type": "stream",
     "text": [
      "torch.Size([1, 64, 1])\n",
      "torch.Size([1, 64, 1])\n",
      "torch.Size([1, 64, 1])\n"
     ]
    },
    {
     "name": "stderr",
     "output_type": "stream",
     "text": [
      "epoch 17/50:   0%|                            | 0/20 [00:00<?, ?it/s, loss=4.73]"
     ]
    },
    {
     "name": "stdout",
     "output_type": "stream",
     "text": [
      "torch.Size([1, 64, 1])\n",
      "torch.Size([1, 64, 1])\n",
      "torch.Size([1, 64, 1])\n",
      "torch.Size([1, 64, 1])\n",
      "torch.Size([1, 64, 1])\n",
      "torch.Size([1, 64, 1])\n",
      "torch.Size([1, 64, 1])\n",
      "torch.Size([1, 64, 1])\n",
      "torch.Size([1, 64, 1])\n",
      "torch.Size([1, 64, 1])\n",
      "torch.Size([1, 64, 1])\n",
      "torch.Size([1, 64, 1])\n",
      "torch.Size([1, 64, 1])\n",
      "torch.Size([1, 64, 1])\n",
      "torch.Size([1, 64, 1])\n",
      "torch.Size([1, 64, 1])\n",
      "torch.Size([1, 64, 1])\n",
      "torch.Size([1, 64, 1])\n",
      "torch.Size([1, 64, 1])\n"
     ]
    },
    {
     "name": "stderr",
     "output_type": "stream",
     "text": [
      "epoch 17/50: 100%|████████| 20/20 [00:00<00:00, 138.01it/s, loss=4.73, mse=2.15]"
     ]
    },
    {
     "name": "stdout",
     "output_type": "stream",
     "text": [
      "torch.Size([1, 64, 1])\n",
      "torch.Size([1, 64, 1])\n",
      "torch.Size([1, 64, 1])\n",
      "torch.Size([1, 64, 1])\n",
      "torch.Size([1, 64, 1])\n",
      "torch.Size([1, 64, 1])\n",
      "torch.Size([1, 64, 1])\n",
      "torch.Size([1, 64, 1])\n",
      "torch.Size([1, 64, 1])\n",
      "torch.Size([1, 64, 1])\n",
      "torch.Size([1, 64, 1])\n",
      "torch.Size([1, 64, 1])\n"
     ]
    },
    {
     "name": "stderr",
     "output_type": "stream",
     "text": [
      "\n",
      "epoch 18/50:   0%|                                       | 0/20 [00:00<?, ?it/s]"
     ]
    },
    {
     "name": "stdout",
     "output_type": "stream",
     "text": [
      "torch.Size([1, 64, 1])\n"
     ]
    },
    {
     "name": "stderr",
     "output_type": "stream",
     "text": [
      "\r",
      "epoch 18/50:   0%|                            | 0/20 [00:00<?, ?it/s, loss=4.42]"
     ]
    },
    {
     "name": "stdout",
     "output_type": "stream",
     "text": [
      "torch.Size([1, 64, 1])\n"
     ]
    },
    {
     "name": "stderr",
     "output_type": "stream",
     "text": [
      "\r",
      "epoch 18/50:   0%|                            | 0/20 [00:00<?, ?it/s, loss=4.05]"
     ]
    },
    {
     "name": "stdout",
     "output_type": "stream",
     "text": [
      "torch.Size([1, 64, 1])\n"
     ]
    },
    {
     "name": "stderr",
     "output_type": "stream",
     "text": [
      "epoch 18/50:   0%|                            | 0/20 [00:00<?, ?it/s, loss=5.99]"
     ]
    },
    {
     "name": "stdout",
     "output_type": "stream",
     "text": [
      "torch.Size([1, 64, 1])\n",
      "torch.Size([1, 64, 1])\n",
      "torch.Size([1, 64, 1])\n",
      "torch.Size([1, 64, 1])\n"
     ]
    },
    {
     "name": "stderr",
     "output_type": "stream",
     "text": [
      "epoch 18/50:   0%|                            | 0/20 [00:00<?, ?it/s, loss=6.11]"
     ]
    },
    {
     "name": "stdout",
     "output_type": "stream",
     "text": [
      "torch.Size([1, 64, 1])\n",
      "torch.Size([1, 64, 1])\n"
     ]
    },
    {
     "name": "stderr",
     "output_type": "stream",
     "text": [
      "\r",
      "epoch 18/50:   0%|                            | 0/20 [00:00<?, ?it/s, loss=6.37]"
     ]
    },
    {
     "name": "stdout",
     "output_type": "stream",
     "text": [
      "torch.Size([1, 64, 1])\n"
     ]
    },
    {
     "name": "stderr",
     "output_type": "stream",
     "text": [
      "\r",
      "epoch 18/50:   0%|                            | 0/20 [00:00<?, ?it/s, loss=6.18]"
     ]
    },
    {
     "name": "stdout",
     "output_type": "stream",
     "text": [
      "torch.Size([1, 64, 1])\n"
     ]
    },
    {
     "name": "stderr",
     "output_type": "stream",
     "text": [
      "epoch 18/50:   0%|                            | 0/20 [00:00<?, ?it/s, loss=6.36]"
     ]
    },
    {
     "name": "stdout",
     "output_type": "stream",
     "text": [
      "torch.Size([1, 64, 1])\n",
      "torch.Size([1, 64, 1])\n",
      "torch.Size([1, 64, 1])\n"
     ]
    },
    {
     "name": "stderr",
     "output_type": "stream",
     "text": [
      "epoch 18/50:   0%|                            | 0/20 [00:00<?, ?it/s, loss=5.57]"
     ]
    },
    {
     "name": "stdout",
     "output_type": "stream",
     "text": [
      "torch.Size([1, 64, 1])\n",
      "torch.Size([1, 64, 1])\n"
     ]
    },
    {
     "name": "stderr",
     "output_type": "stream",
     "text": [
      "\r",
      "epoch 18/50:   0%|                             | 0/20 [00:00<?, ?it/s, loss=5.5]"
     ]
    },
    {
     "name": "stdout",
     "output_type": "stream",
     "text": [
      "torch.Size([1, 64, 1])\n"
     ]
    },
    {
     "name": "stderr",
     "output_type": "stream",
     "text": [
      "epoch 18/50:   0%|                            | 0/20 [00:00<?, ?it/s, loss=4.74]"
     ]
    },
    {
     "name": "stdout",
     "output_type": "stream",
     "text": [
      "torch.Size([1, 64, 1])\n",
      "torch.Size([1, 64, 1])\n",
      "torch.Size([1, 64, 1])\n"
     ]
    },
    {
     "name": "stderr",
     "output_type": "stream",
     "text": [
      "\r",
      "epoch 18/50:   0%|                            | 0/20 [00:00<?, ?it/s, loss=4.73]"
     ]
    },
    {
     "name": "stdout",
     "output_type": "stream",
     "text": [
      "torch.Size([1, 64, 1])\n",
      "torch.Size([1, 64, 1])\n",
      "torch.Size([1, 64, 1])\n",
      "torch.Size([1, 64, 1])\n",
      "torch.Size([1, 64, 1])\n",
      "torch.Size([1, 64, 1])\n",
      "torch.Size([1, 64, 1])\n",
      "torch.Size([1, 64, 1])\n",
      "torch.Size([1, 64, 1])\n",
      "torch.Size([1, 64, 1])\n",
      "torch.Size([1, 64, 1])\n",
      "torch.Size([1, 64, 1])\n",
      "torch.Size([1, 64, 1])\n",
      "torch.Size([1, 64, 1])\n",
      "torch.Size([1, 64, 1])\n",
      "torch.Size([1, 64, 1])\n",
      "torch.Size([1, 64, 1])\n",
      "torch.Size([1, 64, 1])\n",
      "torch.Size([1, 64, 1])\n",
      "torch.Size([1, 64, 1])\n",
      "torch.Size([1, 64, 1])\n",
      "torch.Size([1, 64, 1])\n",
      "torch.Size([1, 64, 1])\n",
      "torch.Size([1, 64, 1])\n",
      "torch.Size([1, 64, 1])\n",
      "torch.Size([1, 64, 1])\n",
      "torch.Size([1, 64, 1])\n",
      "torch.Size([1, 64, 1])\n"
     ]
    },
    {
     "name": "stderr",
     "output_type": "stream",
     "text": [
      "epoch 18/50: 100%|████████| 20/20 [00:00<00:00, 131.75it/s, loss=4.73, mse=2.15]\n"
     ]
    },
    {
     "name": "stdout",
     "output_type": "stream",
     "text": [
      "torch.Size([1, 64, 1])\n",
      "torch.Size([1, 64, 1])\n"
     ]
    },
    {
     "name": "stderr",
     "output_type": "stream",
     "text": [
      "epoch 19/50:   0%|                                       | 0/20 [00:00<?, ?it/s]"
     ]
    },
    {
     "name": "stdout",
     "output_type": "stream",
     "text": [
      "torch.Size([1, 64, 1])\n"
     ]
    },
    {
     "name": "stderr",
     "output_type": "stream",
     "text": [
      "\r",
      "epoch 19/50:   0%|                            | 0/20 [00:00<?, ?it/s, loss=4.42]"
     ]
    },
    {
     "name": "stdout",
     "output_type": "stream",
     "text": [
      "torch.Size([1, 64, 1])\n"
     ]
    },
    {
     "name": "stderr",
     "output_type": "stream",
     "text": [
      "epoch 19/50:   0%|                            | 0/20 [00:00<?, ?it/s, loss=6.95]"
     ]
    },
    {
     "name": "stdout",
     "output_type": "stream",
     "text": [
      "torch.Size([1, 64, 1])\n",
      "torch.Size([1, 64, 1])\n",
      "torch.Size([1, 64, 1])\n"
     ]
    },
    {
     "name": "stderr",
     "output_type": "stream",
     "text": [
      "epoch 19/50:   0%|                            | 0/20 [00:00<?, ?it/s, loss=6.37]"
     ]
    },
    {
     "name": "stdout",
     "output_type": "stream",
     "text": [
      "torch.Size([1, 64, 1])\n",
      "torch.Size([1, 64, 1])\n",
      "torch.Size([1, 64, 1])\n",
      "torch.Size([1, 64, 1])\n",
      "torch.Size([1, 64, 1])\n"
     ]
    },
    {
     "name": "stderr",
     "output_type": "stream",
     "text": [
      "\r",
      "epoch 19/50:   0%|                            | 0/20 [00:00<?, ?it/s, loss=6.18]"
     ]
    },
    {
     "name": "stdout",
     "output_type": "stream",
     "text": [
      "torch.Size([1, 64, 1])\n"
     ]
    },
    {
     "name": "stderr",
     "output_type": "stream",
     "text": [
      "\r",
      "epoch 19/50:   0%|                            | 0/20 [00:00<?, ?it/s, loss=6.02]"
     ]
    },
    {
     "name": "stdout",
     "output_type": "stream",
     "text": [
      "torch.Size([1, 64, 1])\n"
     ]
    },
    {
     "name": "stderr",
     "output_type": "stream",
     "text": [
      "\r",
      "epoch 19/50:   0%|                            | 0/20 [00:00<?, ?it/s, loss=5.62]"
     ]
    },
    {
     "name": "stdout",
     "output_type": "stream",
     "text": [
      "torch.Size([1, 64, 1])\n"
     ]
    },
    {
     "name": "stderr",
     "output_type": "stream",
     "text": [
      "epoch 19/50:   0%|                             | 0/20 [00:00<?, ?it/s, loss=5.5]"
     ]
    },
    {
     "name": "stdout",
     "output_type": "stream",
     "text": [
      "torch.Size([1, 64, 1])\n",
      "torch.Size([1, 64, 1])\n",
      "torch.Size([1, 64, 1])\n",
      "torch.Size([1, 64, 1])\n"
     ]
    },
    {
     "name": "stderr",
     "output_type": "stream",
     "text": [
      "epoch 19/50:   0%|                               | 0/20 [00:00<?, ?it/s, loss=5]"
     ]
    },
    {
     "name": "stdout",
     "output_type": "stream",
     "text": [
      "torch.Size([1, 64, 1])\n",
      "torch.Size([1, 64, 1])\n"
     ]
    },
    {
     "name": "stderr",
     "output_type": "stream",
     "text": [
      "\r",
      "epoch 19/50:   0%|                            | 0/20 [00:00<?, ?it/s, loss=4.74]"
     ]
    },
    {
     "name": "stdout",
     "output_type": "stream",
     "text": [
      "torch.Size([1, 64, 1])\n"
     ]
    },
    {
     "name": "stderr",
     "output_type": "stream",
     "text": [
      "\r",
      "epoch 19/50:   0%|                            | 0/20 [00:00<?, ?it/s, loss=4.73]"
     ]
    },
    {
     "name": "stdout",
     "output_type": "stream",
     "text": [
      "torch.Size([1, 64, 1])\n",
      "torch.Size([1, 64, 1])\n",
      "torch.Size([1, 64, 1])\n",
      "torch.Size([1, 64, 1])\n",
      "torch.Size([1, 64, 1])\n",
      "torch.Size([1, 64, 1])\n",
      "torch.Size([1, 64, 1])\n",
      "torch.Size([1, 64, 1])\n",
      "torch.Size([1, 64, 1])\n",
      "torch.Size([1, 64, 1])\n",
      "torch.Size([1, 64, 1])\n",
      "torch.Size([1, 64, 1])\n",
      "torch.Size([1, 64, 1])\n",
      "torch.Size([1, 64, 1])\n",
      "torch.Size([1, 64, 1])\n",
      "torch.Size([1, 64, 1])\n",
      "torch.Size([1, 64, 1])\n",
      "torch.Size([1, 64, 1])\n",
      "torch.Size([1, 64, 1])\n",
      "torch.Size([1, 64, 1])\n",
      "torch.Size([1, 64, 1])\n",
      "torch.Size([1, 64, 1])\n",
      "torch.Size([1, 64, 1])\n",
      "torch.Size([1, 64, 1])\n",
      "torch.Size([1, 64, 1])\n",
      "torch.Size([1, 64, 1])\n",
      "torch.Size([1, 64, 1])\n",
      "torch.Size([1, 64, 1])\n",
      "torch.Size([1, 64, 1])\n",
      "torch.Size([1, 64, 1])\n"
     ]
    },
    {
     "name": "stderr",
     "output_type": "stream",
     "text": [
      "epoch 19/50: 100%|████████| 20/20 [00:00<00:00, 133.41it/s, loss=4.73, mse=2.15]\n",
      "epoch 20/50:   0%|                            | 0/20 [00:00<?, ?it/s, loss=4.42]"
     ]
    },
    {
     "name": "stdout",
     "output_type": "stream",
     "text": [
      "torch.Size([1, 64, 1])\n",
      "torch.Size([1, 64, 1])\n"
     ]
    },
    {
     "name": "stderr",
     "output_type": "stream",
     "text": [
      "epoch 20/50:   0%|                            | 0/20 [00:00<?, ?it/s, loss=6.95]"
     ]
    },
    {
     "name": "stdout",
     "output_type": "stream",
     "text": [
      "torch.Size([1, 64, 1])\n",
      "torch.Size([1, 64, 1])\n",
      "torch.Size([1, 64, 1])\n",
      "torch.Size([1, 64, 1])\n"
     ]
    },
    {
     "name": "stderr",
     "output_type": "stream",
     "text": [
      "epoch 20/50:   0%|                            | 0/20 [00:00<?, ?it/s, loss=6.11]"
     ]
    },
    {
     "name": "stdout",
     "output_type": "stream",
     "text": [
      "torch.Size([1, 64, 1])\n",
      "torch.Size([1, 64, 1])\n",
      "torch.Size([1, 64, 1])\n"
     ]
    },
    {
     "name": "stderr",
     "output_type": "stream",
     "text": [
      "epoch 20/50:   0%|                            | 0/20 [00:00<?, ?it/s, loss=6.18]"
     ]
    },
    {
     "name": "stdout",
     "output_type": "stream",
     "text": [
      "torch.Size([1, 64, 1])\n",
      "torch.Size([1, 64, 1])\n"
     ]
    },
    {
     "name": "stderr",
     "output_type": "stream",
     "text": [
      "\r",
      "epoch 20/50:   0%|                            | 0/20 [00:00<?, ?it/s, loss=6.02]"
     ]
    },
    {
     "name": "stdout",
     "output_type": "stream",
     "text": [
      "torch.Size([1, 64, 1])\n"
     ]
    },
    {
     "name": "stderr",
     "output_type": "stream",
     "text": [
      "\r",
      "epoch 20/50:   0%|                            | 0/20 [00:00<?, ?it/s, loss=5.62]"
     ]
    },
    {
     "name": "stdout",
     "output_type": "stream",
     "text": [
      "torch.Size([1, 64, 1])\n"
     ]
    },
    {
     "name": "stderr",
     "output_type": "stream",
     "text": [
      "epoch 20/50:   0%|                            | 0/20 [00:00<?, ?it/s, loss=5.57]"
     ]
    },
    {
     "name": "stdout",
     "output_type": "stream",
     "text": [
      "torch.Size([1, 64, 1])\n",
      "torch.Size([1, 64, 1])\n",
      "torch.Size([1, 64, 1])\n"
     ]
    },
    {
     "name": "stderr",
     "output_type": "stream",
     "text": [
      "epoch 20/50:   0%|                            | 0/20 [00:00<?, ?it/s, loss=4.73]"
     ]
    },
    {
     "name": "stdout",
     "output_type": "stream",
     "text": [
      "torch.Size([1, 64, 1])\n",
      "torch.Size([1, 64, 1])\n",
      "torch.Size([1, 64, 1])\n",
      "torch.Size([1, 64, 1])\n",
      "torch.Size([1, 64, 1])\n",
      "torch.Size([1, 64, 1])\n",
      "torch.Size([1, 64, 1])\n",
      "torch.Size([1, 64, 1])\n",
      "torch.Size([1, 64, 1])\n",
      "torch.Size([1, 64, 1])\n",
      "torch.Size([1, 64, 1])\n",
      "torch.Size([1, 64, 1])\n",
      "torch.Size([1, 64, 1])\n",
      "torch.Size([1, 64, 1])\n",
      "torch.Size([1, 64, 1])\n",
      "torch.Size([1, 64, 1])\n",
      "torch.Size([1, 64, 1])\n",
      "torch.Size([1, 64, 1])\n",
      "torch.Size([1, 64, 1])\n",
      "torch.Size([1, 64, 1])\n",
      "torch.Size([1, 64, 1])\n",
      "torch.Size([1, 64, 1])\n",
      "torch.Size([1, 64, 1])\n",
      "torch.Size([1, 64, 1])\n",
      "torch.Size([1, 64, 1])\n",
      "torch.Size([1, 64, 1])\n",
      "torch.Size([1, 64, 1])\n",
      "torch.Size([1, 64, 1])\n",
      "torch.Size([1, 64, 1])\n",
      "torch.Size([1, 64, 1])\n"
     ]
    },
    {
     "name": "stderr",
     "output_type": "stream",
     "text": [
      "epoch 20/50: 100%|████████| 20/20 [00:00<00:00, 139.04it/s, loss=4.73, mse=2.15]\n"
     ]
    },
    {
     "name": "stdout",
     "output_type": "stream",
     "text": [
      "torch.Size([1, 64, 1])\n",
      "torch.Size([1, 64, 1])\n",
      "torch.Size([1, 64, 1])\n",
      "torch.Size([1, 64, 1])\n"
     ]
    },
    {
     "name": "stderr",
     "output_type": "stream",
     "text": [
      "epoch 21/50:   0%|                                       | 0/20 [00:00<?, ?it/s]"
     ]
    },
    {
     "name": "stdout",
     "output_type": "stream",
     "text": [
      "torch.Size([1, 64, 1])\n"
     ]
    },
    {
     "name": "stderr",
     "output_type": "stream",
     "text": [
      "\r",
      "epoch 21/50:   0%|                            | 0/20 [00:00<?, ?it/s, loss=4.42]"
     ]
    },
    {
     "name": "stdout",
     "output_type": "stream",
     "text": [
      "torch.Size([1, 64, 1])\n"
     ]
    },
    {
     "name": "stderr",
     "output_type": "stream",
     "text": [
      "epoch 21/50:   0%|                            | 0/20 [00:00<?, ?it/s, loss=8.39]"
     ]
    },
    {
     "name": "stdout",
     "output_type": "stream",
     "text": [
      "torch.Size([1, 64, 1])\n",
      "torch.Size([1, 64, 1])\n",
      "torch.Size([1, 64, 1])\n"
     ]
    },
    {
     "name": "stderr",
     "output_type": "stream",
     "text": [
      "epoch 21/50:   0%|                            | 0/20 [00:00<?, ?it/s, loss=5.99]"
     ]
    },
    {
     "name": "stdout",
     "output_type": "stream",
     "text": [
      "torch.Size([1, 64, 1])\n",
      "torch.Size([1, 64, 1])\n"
     ]
    },
    {
     "name": "stderr",
     "output_type": "stream",
     "text": [
      "\r",
      "epoch 21/50:   0%|                            | 0/20 [00:00<?, ?it/s, loss=5.76]"
     ]
    },
    {
     "name": "stdout",
     "output_type": "stream",
     "text": [
      "torch.Size([1, 64, 1])\n"
     ]
    },
    {
     "name": "stderr",
     "output_type": "stream",
     "text": [
      "epoch 21/50:   0%|                            | 0/20 [00:00<?, ?it/s, loss=6.18]"
     ]
    },
    {
     "name": "stdout",
     "output_type": "stream",
     "text": [
      "torch.Size([1, 64, 1])\n",
      "torch.Size([1, 64, 1])\n",
      "torch.Size([1, 64, 1])\n"
     ]
    },
    {
     "name": "stderr",
     "output_type": "stream",
     "text": [
      "epoch 21/50:   0%|                            | 0/20 [00:00<?, ?it/s, loss=5.62]"
     ]
    },
    {
     "name": "stdout",
     "output_type": "stream",
     "text": [
      "torch.Size([1, 64, 1])\n",
      "torch.Size([1, 64, 1])\n"
     ]
    },
    {
     "name": "stderr",
     "output_type": "stream",
     "text": [
      "epoch 21/50:   0%|                            | 0/20 [00:00<?, ?it/s, loss=5.57]"
     ]
    },
    {
     "name": "stdout",
     "output_type": "stream",
     "text": [
      "torch.Size([1, 64, 1])\n",
      "torch.Size([1, 64, 1])\n",
      "torch.Size([1, 64, 1])\n"
     ]
    },
    {
     "name": "stderr",
     "output_type": "stream",
     "text": [
      "epoch 21/50:   0%|                               | 0/20 [00:00<?, ?it/s, loss=5]"
     ]
    },
    {
     "name": "stdout",
     "output_type": "stream",
     "text": [
      "torch.Size([1, 64, 1])\n",
      "torch.Size([1, 64, 1])\n"
     ]
    },
    {
     "name": "stderr",
     "output_type": "stream",
     "text": [
      "epoch 21/50:  95%|█████████████████ | 19/20 [00:00<00:00, 181.84it/s, loss=4.74]"
     ]
    },
    {
     "name": "stdout",
     "output_type": "stream",
     "text": [
      "torch.Size([1, 64, 1])\n",
      "torch.Size([1, 64, 1])\n"
     ]
    },
    {
     "name": "stderr",
     "output_type": "stream",
     "text": [
      "\r",
      "epoch 21/50:  95%|█████████████████ | 19/20 [00:00<00:00, 181.84it/s, loss=4.73]"
     ]
    },
    {
     "name": "stdout",
     "output_type": "stream",
     "text": [
      "torch.Size([1, 64, 1])\n",
      "torch.Size([1, 64, 1])\n",
      "torch.Size([1, 64, 1])\n",
      "torch.Size([1, 64, 1])\n",
      "torch.Size([1, 64, 1])\n",
      "torch.Size([1, 64, 1])\n",
      "torch.Size([1, 64, 1])\n",
      "torch.Size([1, 64, 1])\n",
      "torch.Size([1, 64, 1])\n",
      "torch.Size([1, 64, 1])\n",
      "torch.Size([1, 64, 1])\n",
      "torch.Size([1, 64, 1])\n",
      "torch.Size([1, 64, 1])\n",
      "torch.Size([1, 64, 1])\n",
      "torch.Size([1, 64, 1])\n",
      "torch.Size([1, 64, 1])\n",
      "torch.Size([1, 64, 1])\n",
      "torch.Size([1, 64, 1])\n",
      "torch.Size([1, 64, 1])\n",
      "torch.Size([1, 64, 1])\n",
      "torch.Size([1, 64, 1])\n",
      "torch.Size([1, 64, 1])\n",
      "torch.Size([1, 64, 1])\n",
      "torch.Size([1, 64, 1])\n",
      "torch.Size([1, 64, 1])\n",
      "torch.Size([1, 64, 1])\n",
      "torch.Size([1, 64, 1])\n",
      "torch.Size([1, 64, 1])\n",
      "torch.Size([1, 64, 1])\n"
     ]
    },
    {
     "name": "stderr",
     "output_type": "stream",
     "text": [
      "epoch 21/50: 100%|████████| 20/20 [00:00<00:00, 125.15it/s, loss=4.73, mse=2.15]\n"
     ]
    },
    {
     "name": "stdout",
     "output_type": "stream",
     "text": [
      "torch.Size([1, 64, 1])\n"
     ]
    },
    {
     "name": "stderr",
     "output_type": "stream",
     "text": [
      "epoch 22/50:   0%|                            | 0/20 [00:00<?, ?it/s, loss=4.42]"
     ]
    },
    {
     "name": "stdout",
     "output_type": "stream",
     "text": [
      "torch.Size([1, 64, 1])\n",
      "torch.Size([1, 64, 1])\n"
     ]
    },
    {
     "name": "stderr",
     "output_type": "stream",
     "text": [
      "epoch 22/50:   0%|                            | 0/20 [00:00<?, ?it/s, loss=6.95]"
     ]
    },
    {
     "name": "stdout",
     "output_type": "stream",
     "text": [
      "torch.Size([1, 64, 1])\n",
      "torch.Size([1, 64, 1])\n",
      "torch.Size([1, 64, 1])\n",
      "torch.Size([1, 64, 1])\n"
     ]
    },
    {
     "name": "stderr",
     "output_type": "stream",
     "text": [
      "epoch 22/50:   0%|                            | 0/20 [00:00<?, ?it/s, loss=5.76]"
     ]
    },
    {
     "name": "stdout",
     "output_type": "stream",
     "text": [
      "torch.Size([1, 64, 1])\n",
      "torch.Size([1, 64, 1])\n"
     ]
    },
    {
     "name": "stderr",
     "output_type": "stream",
     "text": [
      "\r",
      "epoch 22/50:   0%|                            | 0/20 [00:00<?, ?it/s, loss=6.11]"
     ]
    },
    {
     "name": "stdout",
     "output_type": "stream",
     "text": [
      "torch.Size([1, 64, 1])\n"
     ]
    },
    {
     "name": "stderr",
     "output_type": "stream",
     "text": [
      "epoch 22/50:   0%|                            | 0/20 [00:00<?, ?it/s, loss=6.02]"
     ]
    },
    {
     "name": "stdout",
     "output_type": "stream",
     "text": [
      "torch.Size([1, 64, 1])\n",
      "torch.Size([1, 64, 1])\n",
      "torch.Size([1, 64, 1])\n"
     ]
    },
    {
     "name": "stderr",
     "output_type": "stream",
     "text": [
      "epoch 22/50:   0%|                            | 0/20 [00:00<?, ?it/s, loss=6.36]"
     ]
    },
    {
     "name": "stdout",
     "output_type": "stream",
     "text": [
      "torch.Size([1, 64, 1])\n",
      "torch.Size([1, 64, 1])\n"
     ]
    },
    {
     "name": "stderr",
     "output_type": "stream",
     "text": [
      "epoch 22/50:   0%|                            | 0/20 [00:00<?, ?it/s, loss=5.57]"
     ]
    },
    {
     "name": "stdout",
     "output_type": "stream",
     "text": [
      "torch.Size([1, 64, 1])\n"
     ]
    },
    {
     "name": "stderr",
     "output_type": "stream",
     "text": [
      "epoch 22/50:   0%|                               | 0/20 [00:00<?, ?it/s, loss=5]"
     ]
    },
    {
     "name": "stdout",
     "output_type": "stream",
     "text": [
      "torch.Size([1, 64, 1])\n",
      "torch.Size([1, 64, 1])\n",
      "torch.Size([1, 64, 1])\n"
     ]
    },
    {
     "name": "stderr",
     "output_type": "stream",
     "text": [
      "epoch 22/50:  95%|█████████████████ | 19/20 [00:00<00:00, 181.10it/s, loss=4.73]"
     ]
    },
    {
     "name": "stdout",
     "output_type": "stream",
     "text": [
      "torch.Size([1, 64, 1])\n",
      "torch.Size([1, 64, 1])\n",
      "torch.Size([1, 64, 1])\n",
      "torch.Size([1, 64, 1])\n",
      "torch.Size([1, 64, 1])\n",
      "torch.Size([1, 64, 1])\n",
      "torch.Size([1, 64, 1])\n",
      "torch.Size([1, 64, 1])\n",
      "torch.Size([1, 64, 1])\n",
      "torch.Size([1, 64, 1])\n",
      "torch.Size([1, 64, 1])\n",
      "torch.Size([1, 64, 1])\n",
      "torch.Size([1, 64, 1])\n",
      "torch.Size([1, 64, 1])\n",
      "torch.Size([1, 64, 1])\n",
      "torch.Size([1, 64, 1])\n",
      "torch.Size([1, 64, 1])\n",
      "torch.Size([1, 64, 1])\n",
      "torch.Size([1, 64, 1])\n",
      "torch.Size([1, 64, 1])\n",
      "torch.Size([1, 64, 1])\n",
      "torch.Size([1, 64, 1])\n",
      "torch.Size([1, 64, 1])\n",
      "torch.Size([1, 64, 1])\n",
      "torch.Size([1, 64, 1])\n",
      "torch.Size([1, 64, 1])\n",
      "torch.Size([1, 64, 1])\n",
      "torch.Size([1, 64, 1])\n",
      "torch.Size([1, 64, 1])\n",
      "torch.Size([1, 64, 1])\n",
      "torch.Size([1, 64, 1])\n",
      "torch.Size([1, 64, 1])\n"
     ]
    },
    {
     "name": "stderr",
     "output_type": "stream",
     "text": [
      "epoch 22/50: 100%|████████| 20/20 [00:00<00:00, 123.31it/s, loss=4.73, mse=2.15]\n",
      "epoch 23/50:   0%|                            | 0/20 [00:00<?, ?it/s, loss=4.05]"
     ]
    },
    {
     "name": "stdout",
     "output_type": "stream",
     "text": [
      "torch.Size([1, 64, 1])\n",
      "torch.Size([1, 64, 1])\n"
     ]
    },
    {
     "name": "stderr",
     "output_type": "stream",
     "text": [
      "epoch 23/50:   0%|                            | 0/20 [00:00<?, ?it/s, loss=5.99]"
     ]
    },
    {
     "name": "stdout",
     "output_type": "stream",
     "text": [
      "torch.Size([1, 64, 1])\n",
      "torch.Size([1, 64, 1])\n",
      "torch.Size([1, 64, 1])\n",
      "torch.Size([1, 64, 1])\n",
      "torch.Size([1, 64, 1])\n"
     ]
    },
    {
     "name": "stderr",
     "output_type": "stream",
     "text": [
      "epoch 23/50:   0%|                            | 0/20 [00:00<?, ?it/s, loss=6.11]"
     ]
    },
    {
     "name": "stdout",
     "output_type": "stream",
     "text": [
      "torch.Size([1, 64, 1])\n",
      "torch.Size([1, 64, 1])\n"
     ]
    },
    {
     "name": "stderr",
     "output_type": "stream",
     "text": [
      "\r",
      "epoch 23/50:   0%|                            | 0/20 [00:00<?, ?it/s, loss=6.37]"
     ]
    },
    {
     "name": "stdout",
     "output_type": "stream",
     "text": [
      "torch.Size([1, 64, 1])\n"
     ]
    },
    {
     "name": "stderr",
     "output_type": "stream",
     "text": [
      "epoch 23/50:   0%|                            | 0/20 [00:00<?, ?it/s, loss=5.96]"
     ]
    },
    {
     "name": "stdout",
     "output_type": "stream",
     "text": [
      "torch.Size([1, 64, 1])\n",
      "torch.Size([1, 64, 1])\n",
      "torch.Size([1, 64, 1])\n",
      "torch.Size([1, 64, 1])\n",
      "torch.Size([1, 64, 1])\n"
     ]
    },
    {
     "name": "stderr",
     "output_type": "stream",
     "text": [
      "\r",
      "epoch 23/50:   0%|                            | 0/20 [00:00<?, ?it/s, loss=5.57]"
     ]
    },
    {
     "name": "stdout",
     "output_type": "stream",
     "text": [
      "torch.Size([1, 64, 1])\n"
     ]
    },
    {
     "name": "stderr",
     "output_type": "stream",
     "text": [
      "\r",
      "epoch 23/50:   0%|                             | 0/20 [00:00<?, ?it/s, loss=5.5]"
     ]
    },
    {
     "name": "stdout",
     "output_type": "stream",
     "text": [
      "torch.Size([1, 64, 1])\n"
     ]
    },
    {
     "name": "stderr",
     "output_type": "stream",
     "text": [
      "epoch 23/50:   0%|                            | 0/20 [00:00<?, ?it/s, loss=4.73]"
     ]
    },
    {
     "name": "stdout",
     "output_type": "stream",
     "text": [
      "torch.Size([1, 64, 1])\n",
      "torch.Size([1, 64, 1])\n",
      "torch.Size([1, 64, 1])\n",
      "torch.Size([1, 64, 1])\n",
      "torch.Size([1, 64, 1])\n",
      "torch.Size([1, 64, 1])\n",
      "torch.Size([1, 64, 1])\n",
      "torch.Size([1, 64, 1])\n",
      "torch.Size([1, 64, 1])\n",
      "torch.Size([1, 64, 1])\n",
      "torch.Size([1, 64, 1])\n",
      "torch.Size([1, 64, 1])\n",
      "torch.Size([1, 64, 1])\n",
      "torch.Size([1, 64, 1])\n",
      "torch.Size([1, 64, 1])\n",
      "torch.Size([1, 64, 1])\n",
      "torch.Size([1, 64, 1])\n",
      "torch.Size([1, 64, 1])\n",
      "torch.Size([1, 64, 1])\n",
      "torch.Size([1, 64, 1])\n",
      "torch.Size([1, 64, 1])\n",
      "torch.Size([1, 64, 1])\n",
      "torch.Size([1, 64, 1])\n",
      "torch.Size([1, 64, 1])\n",
      "torch.Size([1, 64, 1])\n",
      "torch.Size([1, 64, 1])\n",
      "torch.Size([1, 64, 1])\n",
      "torch.Size([1, 64, 1])\n",
      "torch.Size([1, 64, 1])\n",
      "torch.Size([1, 64, 1])\n",
      "torch.Size([1, 64, 1])\n",
      "torch.Size([1, 64, 1])\n"
     ]
    },
    {
     "name": "stderr",
     "output_type": "stream",
     "text": [
      "epoch 23/50: 100%|████████| 20/20 [00:00<00:00, 129.80it/s, loss=4.73, mse=2.15]\n"
     ]
    },
    {
     "name": "stdout",
     "output_type": "stream",
     "text": [
      "torch.Size([1, 64, 1])\n"
     ]
    },
    {
     "name": "stderr",
     "output_type": "stream",
     "text": [
      "epoch 24/50:   0%|                            | 0/20 [00:00<?, ?it/s, loss=4.42]"
     ]
    },
    {
     "name": "stdout",
     "output_type": "stream",
     "text": [
      "torch.Size([1, 64, 1])\n",
      "torch.Size([1, 64, 1])\n"
     ]
    },
    {
     "name": "stderr",
     "output_type": "stream",
     "text": [
      "epoch 24/50:   0%|                            | 0/20 [00:00<?, ?it/s, loss=10.8]"
     ]
    },
    {
     "name": "stdout",
     "output_type": "stream",
     "text": [
      "torch.Size([1, 64, 1])\n",
      "torch.Size([1, 64, 1])\n"
     ]
    },
    {
     "name": "stderr",
     "output_type": "stream",
     "text": [
      "epoch 24/50:   0%|                            | 0/20 [00:00<?, ?it/s, loss=5.99]"
     ]
    },
    {
     "name": "stdout",
     "output_type": "stream",
     "text": [
      "torch.Size([1, 64, 1])\n",
      "torch.Size([1, 64, 1])\n",
      "torch.Size([1, 64, 1])\n"
     ]
    },
    {
     "name": "stderr",
     "output_type": "stream",
     "text": [
      "epoch 24/50:   0%|                            | 0/20 [00:00<?, ?it/s, loss=6.11]"
     ]
    },
    {
     "name": "stdout",
     "output_type": "stream",
     "text": [
      "torch.Size([1, 64, 1])\n",
      "torch.Size([1, 64, 1])\n"
     ]
    },
    {
     "name": "stderr",
     "output_type": "stream",
     "text": [
      "epoch 24/50:   0%|                            | 0/20 [00:00<?, ?it/s, loss=6.18]"
     ]
    },
    {
     "name": "stdout",
     "output_type": "stream",
     "text": [
      "torch.Size([1, 64, 1])\n",
      "torch.Size([1, 64, 1])\n"
     ]
    },
    {
     "name": "stderr",
     "output_type": "stream",
     "text": [
      "epoch 24/50:   0%|                            | 0/20 [00:00<?, ?it/s, loss=5.57]"
     ]
    },
    {
     "name": "stdout",
     "output_type": "stream",
     "text": [
      "torch.Size([1, 64, 1])\n",
      "torch.Size([1, 64, 1])\n",
      "torch.Size([1, 64, 1])\n",
      "torch.Size([1, 64, 1])\n",
      "torch.Size([1, 64, 1])\n"
     ]
    },
    {
     "name": "stderr",
     "output_type": "stream",
     "text": [
      "epoch 24/50:   0%|                            | 0/20 [00:00<?, ?it/s, loss=5.25]"
     ]
    },
    {
     "name": "stdout",
     "output_type": "stream",
     "text": [
      "torch.Size([1, 64, 1])\n",
      "torch.Size([1, 64, 1])\n"
     ]
    },
    {
     "name": "stderr",
     "output_type": "stream",
     "text": [
      "\r",
      "epoch 24/50:   0%|                               | 0/20 [00:00<?, ?it/s, loss=5]"
     ]
    },
    {
     "name": "stdout",
     "output_type": "stream",
     "text": [
      "torch.Size([1, 64, 1])\n"
     ]
    },
    {
     "name": "stderr",
     "output_type": "stream",
     "text": [
      "epoch 24/50:  95%|█████████████████ | 19/20 [00:00<00:00, 184.66it/s, loss=4.73]"
     ]
    },
    {
     "name": "stdout",
     "output_type": "stream",
     "text": [
      "torch.Size([1, 64, 1])\n",
      "torch.Size([1, 64, 1])\n",
      "torch.Size([1, 64, 1])\n",
      "torch.Size([1, 64, 1])\n",
      "torch.Size([1, 64, 1])\n",
      "torch.Size([1, 64, 1])\n",
      "torch.Size([1, 64, 1])\n",
      "torch.Size([1, 64, 1])\n",
      "torch.Size([1, 64, 1])\n",
      "torch.Size([1, 64, 1])\n",
      "torch.Size([1, 64, 1])\n",
      "torch.Size([1, 64, 1])\n",
      "torch.Size([1, 64, 1])\n",
      "torch.Size([1, 64, 1])\n",
      "torch.Size([1, 64, 1])\n",
      "torch.Size([1, 64, 1])\n",
      "torch.Size([1, 64, 1])\n",
      "torch.Size([1, 64, 1])\n",
      "torch.Size([1, 64, 1])\n",
      "torch.Size([1, 64, 1])\n",
      "torch.Size([1, 64, 1])\n",
      "torch.Size([1, 64, 1])\n",
      "torch.Size([1, 64, 1])\n",
      "torch.Size([1, 64, 1])\n",
      "torch.Size([1, 64, 1])\n",
      "torch.Size([1, 64, 1])\n",
      "torch.Size([1, 64, 1])\n"
     ]
    },
    {
     "name": "stderr",
     "output_type": "stream",
     "text": [
      "epoch 24/50: 100%|████████| 20/20 [00:00<00:00, 127.94it/s, loss=4.73, mse=2.15]\n"
     ]
    },
    {
     "name": "stdout",
     "output_type": "stream",
     "text": [
      "torch.Size([1, 64, 1])\n",
      "torch.Size([1, 64, 1])\n",
      "torch.Size([1, 64, 1])\n",
      "torch.Size([1, 64, 1])\n"
     ]
    },
    {
     "name": "stderr",
     "output_type": "stream",
     "text": [
      "epoch 25/50:   0%|                                       | 0/20 [00:00<?, ?it/s]"
     ]
    },
    {
     "name": "stdout",
     "output_type": "stream",
     "text": [
      "torch.Size([1, 64, 1])\n"
     ]
    },
    {
     "name": "stderr",
     "output_type": "stream",
     "text": [
      "\r",
      "epoch 25/50:   0%|                            | 0/20 [00:00<?, ?it/s, loss=4.42]"
     ]
    },
    {
     "name": "stdout",
     "output_type": "stream",
     "text": [
      "torch.Size([1, 64, 1])\n"
     ]
    },
    {
     "name": "stderr",
     "output_type": "stream",
     "text": [
      "epoch 25/50:   0%|                            | 0/20 [00:00<?, ?it/s, loss=6.95]"
     ]
    },
    {
     "name": "stdout",
     "output_type": "stream",
     "text": [
      "torch.Size([1, 64, 1])\n",
      "torch.Size([1, 64, 1])\n",
      "torch.Size([1, 64, 1])\n"
     ]
    },
    {
     "name": "stderr",
     "output_type": "stream",
     "text": [
      "epoch 25/50:   0%|                            | 0/20 [00:00<?, ?it/s, loss=6.11]"
     ]
    },
    {
     "name": "stdout",
     "output_type": "stream",
     "text": [
      "torch.Size([1, 64, 1])\n",
      "torch.Size([1, 64, 1])\n",
      "torch.Size([1, 64, 1])\n"
     ]
    },
    {
     "name": "stderr",
     "output_type": "stream",
     "text": [
      "\r",
      "epoch 25/50:   0%|                            | 0/20 [00:00<?, ?it/s, loss=6.37]"
     ]
    },
    {
     "name": "stdout",
     "output_type": "stream",
     "text": [
      "torch.Size([1, 64, 1])\n"
     ]
    },
    {
     "name": "stderr",
     "output_type": "stream",
     "text": [
      "epoch 25/50:   0%|                            | 0/20 [00:00<?, ?it/s, loss=6.02]"
     ]
    },
    {
     "name": "stdout",
     "output_type": "stream",
     "text": [
      "torch.Size([1, 64, 1])\n",
      "torch.Size([1, 64, 1])\n",
      "torch.Size([1, 64, 1])\n"
     ]
    },
    {
     "name": "stderr",
     "output_type": "stream",
     "text": [
      "epoch 25/50:   0%|                            | 0/20 [00:00<?, ?it/s, loss=6.36]"
     ]
    },
    {
     "name": "stdout",
     "output_type": "stream",
     "text": [
      "torch.Size([1, 64, 1])\n",
      "torch.Size([1, 64, 1])\n"
     ]
    },
    {
     "name": "stderr",
     "output_type": "stream",
     "text": [
      "epoch 25/50:   0%|                            | 0/20 [00:00<?, ?it/s, loss=5.57]"
     ]
    },
    {
     "name": "stdout",
     "output_type": "stream",
     "text": [
      "torch.Size([1, 64, 1])\n",
      "torch.Size([1, 64, 1])\n"
     ]
    },
    {
     "name": "stderr",
     "output_type": "stream",
     "text": [
      "\r",
      "epoch 25/50:   0%|                             | 0/20 [00:00<?, ?it/s, loss=5.5]"
     ]
    },
    {
     "name": "stdout",
     "output_type": "stream",
     "text": [
      "torch.Size([1, 64, 1])\n"
     ]
    },
    {
     "name": "stderr",
     "output_type": "stream",
     "text": [
      "epoch 25/50:   0%|                            | 0/20 [00:00<?, ?it/s, loss=4.74]"
     ]
    },
    {
     "name": "stdout",
     "output_type": "stream",
     "text": [
      "torch.Size([1, 64, 1])\n",
      "torch.Size([1, 64, 1])\n"
     ]
    },
    {
     "name": "stderr",
     "output_type": "stream",
     "text": [
      "\r",
      "epoch 25/50:   0%|                            | 0/20 [00:00<?, ?it/s, loss=4.73]"
     ]
    },
    {
     "name": "stdout",
     "output_type": "stream",
     "text": [
      "torch.Size([1, 64, 1])\n",
      "torch.Size([1, 64, 1])\n",
      "torch.Size([1, 64, 1])\n",
      "torch.Size([1, 64, 1])\n",
      "torch.Size([1, 64, 1])\n",
      "torch.Size([1, 64, 1])\n",
      "torch.Size([1, 64, 1])\n",
      "torch.Size([1, 64, 1])\n",
      "torch.Size([1, 64, 1])\n",
      "torch.Size([1, 64, 1])\n",
      "torch.Size([1, 64, 1])\n",
      "torch.Size([1, 64, 1])\n",
      "torch.Size([1, 64, 1])\n",
      "torch.Size([1, 64, 1])\n",
      "torch.Size([1, 64, 1])\n",
      "torch.Size([1, 64, 1])\n",
      "torch.Size([1, 64, 1])\n",
      "torch.Size([1, 64, 1])\n",
      "torch.Size([1, 64, 1])\n",
      "torch.Size([1, 64, 1])\n",
      "torch.Size([1, 64, 1])\n",
      "torch.Size([1, 64, 1])\n",
      "torch.Size([1, 64, 1])\n",
      "torch.Size([1, 64, 1])\n",
      "torch.Size([1, 64, 1])\n",
      "torch.Size([1, 64, 1])\n",
      "torch.Size([1, 64, 1])\n",
      "torch.Size([1, 64, 1])\n",
      "torch.Size([1, 64, 1])\n",
      "torch.Size([1, 64, 1])\n"
     ]
    },
    {
     "name": "stderr",
     "output_type": "stream",
     "text": [
      "epoch 25/50: 100%|████████| 20/20 [00:00<00:00, 132.13it/s, loss=4.73, mse=2.15]\n"
     ]
    },
    {
     "name": "stdout",
     "output_type": "stream",
     "text": [
      "torch.Size([1, 64, 1])\n"
     ]
    },
    {
     "name": "stderr",
     "output_type": "stream",
     "text": [
      "epoch 26/50:   0%|                            | 0/20 [00:00<?, ?it/s, loss=4.05]"
     ]
    },
    {
     "name": "stdout",
     "output_type": "stream",
     "text": [
      "torch.Size([1, 64, 1])\n",
      "torch.Size([1, 64, 1])\n"
     ]
    },
    {
     "name": "stderr",
     "output_type": "stream",
     "text": [
      "\r",
      "epoch 26/50:   0%|                            | 0/20 [00:00<?, ?it/s, loss=10.8]"
     ]
    },
    {
     "name": "stdout",
     "output_type": "stream",
     "text": [
      "torch.Size([1, 64, 1])\n",
      "torch.Size([1, 64, 1])\n"
     ]
    },
    {
     "name": "stderr",
     "output_type": "stream",
     "text": [
      "\r",
      "epoch 26/50:   0%|                            | 0/20 [00:00<?, ?it/s, loss=8.39]"
     ]
    },
    {
     "name": "stdout",
     "output_type": "stream",
     "text": [
      "torch.Size([1, 64, 1])\n"
     ]
    },
    {
     "name": "stderr",
     "output_type": "stream",
     "text": [
      "epoch 26/50:   0%|                            | 0/20 [00:00<?, ?it/s, loss=5.76]"
     ]
    },
    {
     "name": "stdout",
     "output_type": "stream",
     "text": [
      "torch.Size([1, 64, 1])\n",
      "torch.Size([1, 64, 1])\n",
      "torch.Size([1, 64, 1])\n"
     ]
    },
    {
     "name": "stderr",
     "output_type": "stream",
     "text": [
      "epoch 26/50:   0%|                            | 0/20 [00:00<?, ?it/s, loss=6.37]"
     ]
    },
    {
     "name": "stdout",
     "output_type": "stream",
     "text": [
      "torch.Size([1, 64, 1])\n",
      "torch.Size([1, 64, 1])\n"
     ]
    },
    {
     "name": "stderr",
     "output_type": "stream",
     "text": [
      "\r",
      "epoch 26/50:   0%|                            | 0/20 [00:00<?, ?it/s, loss=6.18]"
     ]
    },
    {
     "name": "stdout",
     "output_type": "stream",
     "text": [
      "torch.Size([1, 64, 1])\n"
     ]
    },
    {
     "name": "stderr",
     "output_type": "stream",
     "text": [
      "\r",
      "epoch 26/50:   0%|                            | 0/20 [00:00<?, ?it/s, loss=6.02]"
     ]
    },
    {
     "name": "stdout",
     "output_type": "stream",
     "text": [
      "torch.Size([1, 64, 1])\n"
     ]
    },
    {
     "name": "stderr",
     "output_type": "stream",
     "text": [
      "epoch 26/50:   0%|                            | 0/20 [00:00<?, ?it/s, loss=6.36]"
     ]
    },
    {
     "name": "stdout",
     "output_type": "stream",
     "text": [
      "torch.Size([1, 64, 1])\n",
      "torch.Size([1, 64, 1])\n"
     ]
    },
    {
     "name": "stderr",
     "output_type": "stream",
     "text": [
      "epoch 26/50:   0%|                             | 0/20 [00:00<?, ?it/s, loss=5.5]"
     ]
    },
    {
     "name": "stdout",
     "output_type": "stream",
     "text": [
      "torch.Size([1, 64, 1])\n",
      "torch.Size([1, 64, 1])\n",
      "torch.Size([1, 64, 1])\n"
     ]
    },
    {
     "name": "stderr",
     "output_type": "stream",
     "text": [
      "\r",
      "epoch 26/50:   0%|                            | 0/20 [00:00<?, ?it/s, loss=5.25]"
     ]
    },
    {
     "name": "stdout",
     "output_type": "stream",
     "text": [
      "torch.Size([1, 64, 1])\n"
     ]
    },
    {
     "name": "stderr",
     "output_type": "stream",
     "text": [
      "epoch 26/50:  95%|█████████████████ | 19/20 [00:00<00:00, 186.10it/s, loss=4.74]"
     ]
    },
    {
     "name": "stdout",
     "output_type": "stream",
     "text": [
      "torch.Size([1, 64, 1])\n",
      "torch.Size([1, 64, 1])\n"
     ]
    },
    {
     "name": "stderr",
     "output_type": "stream",
     "text": [
      "\r",
      "epoch 26/50:  95%|█████████████████ | 19/20 [00:00<00:00, 186.10it/s, loss=4.73]"
     ]
    },
    {
     "name": "stdout",
     "output_type": "stream",
     "text": [
      "torch.Size([1, 64, 1])\n",
      "torch.Size([1, 64, 1])\n",
      "torch.Size([1, 64, 1])\n",
      "torch.Size([1, 64, 1])\n",
      "torch.Size([1, 64, 1])\n",
      "torch.Size([1, 64, 1])\n",
      "torch.Size([1, 64, 1])\n",
      "torch.Size([1, 64, 1])\n",
      "torch.Size([1, 64, 1])\n",
      "torch.Size([1, 64, 1])\n",
      "torch.Size([1, 64, 1])\n",
      "torch.Size([1, 64, 1])\n",
      "torch.Size([1, 64, 1])\n",
      "torch.Size([1, 64, 1])\n",
      "torch.Size([1, 64, 1])\n",
      "torch.Size([1, 64, 1])\n",
      "torch.Size([1, 64, 1])\n",
      "torch.Size([1, 64, 1])\n",
      "torch.Size([1, 64, 1])\n",
      "torch.Size([1, 64, 1])\n",
      "torch.Size([1, 64, 1])\n",
      "torch.Size([1, 64, 1])\n",
      "torch.Size([1, 64, 1])\n",
      "torch.Size([1, 64, 1])\n",
      "torch.Size([1, 64, 1])\n",
      "torch.Size([1, 64, 1])\n",
      "torch.Size([1, 64, 1])\n"
     ]
    },
    {
     "name": "stderr",
     "output_type": "stream",
     "text": [
      "epoch 26/50: 100%|████████| 20/20 [00:00<00:00, 126.65it/s, loss=4.73, mse=2.15]\n"
     ]
    },
    {
     "name": "stdout",
     "output_type": "stream",
     "text": [
      "torch.Size([1, 64, 1])\n",
      "torch.Size([1, 64, 1])\n",
      "torch.Size([1, 64, 1])\n"
     ]
    },
    {
     "name": "stderr",
     "output_type": "stream",
     "text": [
      "epoch 27/50:   0%|                            | 0/20 [00:00<?, ?it/s, loss=10.8]"
     ]
    },
    {
     "name": "stdout",
     "output_type": "stream",
     "text": [
      "torch.Size([1, 64, 1])\n",
      "torch.Size([1, 64, 1])\n",
      "torch.Size([1, 64, 1])\n",
      "torch.Size([1, 64, 1])\n"
     ]
    },
    {
     "name": "stderr",
     "output_type": "stream",
     "text": [
      "epoch 27/50:   0%|                            | 0/20 [00:00<?, ?it/s, loss=5.99]"
     ]
    },
    {
     "name": "stdout",
     "output_type": "stream",
     "text": [
      "torch.Size([1, 64, 1])\n",
      "torch.Size([1, 64, 1])\n"
     ]
    },
    {
     "name": "stderr",
     "output_type": "stream",
     "text": [
      "\r",
      "epoch 27/50:   0%|                            | 0/20 [00:00<?, ?it/s, loss=5.76]"
     ]
    },
    {
     "name": "stdout",
     "output_type": "stream",
     "text": [
      "torch.Size([1, 64, 1])\n",
      "torch.Size([1, 64, 1])\n"
     ]
    },
    {
     "name": "stderr",
     "output_type": "stream",
     "text": [
      "\r",
      "epoch 27/50:   0%|                            | 0/20 [00:00<?, ?it/s, loss=6.11]"
     ]
    },
    {
     "name": "stdout",
     "output_type": "stream",
     "text": [
      "torch.Size([1, 64, 1])\n"
     ]
    },
    {
     "name": "stderr",
     "output_type": "stream",
     "text": [
      "epoch 27/50:   0%|                            | 0/20 [00:00<?, ?it/s, loss=6.02]"
     ]
    },
    {
     "name": "stdout",
     "output_type": "stream",
     "text": [
      "torch.Size([1, 64, 1])\n",
      "torch.Size([1, 64, 1])\n",
      "torch.Size([1, 64, 1])\n"
     ]
    },
    {
     "name": "stderr",
     "output_type": "stream",
     "text": [
      "epoch 27/50:   0%|                            | 0/20 [00:00<?, ?it/s, loss=6.36]"
     ]
    },
    {
     "name": "stdout",
     "output_type": "stream",
     "text": [
      "torch.Size([1, 64, 1])\n"
     ]
    },
    {
     "name": "stderr",
     "output_type": "stream",
     "text": [
      "\r",
      "epoch 27/50:   0%|                            | 0/20 [00:00<?, ?it/s, loss=5.96]"
     ]
    },
    {
     "name": "stdout",
     "output_type": "stream",
     "text": [
      "torch.Size([1, 64, 1])\n"
     ]
    },
    {
     "name": "stderr",
     "output_type": "stream",
     "text": [
      "epoch 27/50:   0%|                            | 0/20 [00:00<?, ?it/s, loss=5.25]"
     ]
    },
    {
     "name": "stdout",
     "output_type": "stream",
     "text": [
      "torch.Size([1, 64, 1])\n",
      "torch.Size([1, 64, 1])\n",
      "torch.Size([1, 64, 1])\n"
     ]
    },
    {
     "name": "stderr",
     "output_type": "stream",
     "text": [
      "\r",
      "epoch 27/50:   0%|                               | 0/20 [00:00<?, ?it/s, loss=5]"
     ]
    },
    {
     "name": "stdout",
     "output_type": "stream",
     "text": [
      "torch.Size([1, 64, 1])\n",
      "torch.Size([1, 64, 1])\n"
     ]
    },
    {
     "name": "stderr",
     "output_type": "stream",
     "text": [
      "epoch 27/50:   0%|                            | 0/20 [00:00<?, ?it/s, loss=4.73]"
     ]
    },
    {
     "name": "stdout",
     "output_type": "stream",
     "text": [
      "torch.Size([1, 64, 1])\n",
      "torch.Size([1, 64, 1])\n",
      "torch.Size([1, 64, 1])\n",
      "torch.Size([1, 64, 1])\n",
      "torch.Size([1, 64, 1])\n",
      "torch.Size([1, 64, 1])\n",
      "torch.Size([1, 64, 1])\n",
      "torch.Size([1, 64, 1])\n",
      "torch.Size([1, 64, 1])\n",
      "torch.Size([1, 64, 1])\n",
      "torch.Size([1, 64, 1])\n",
      "torch.Size([1, 64, 1])\n",
      "torch.Size([1, 64, 1])\n",
      "torch.Size([1, 64, 1])\n",
      "torch.Size([1, 64, 1])\n",
      "torch.Size([1, 64, 1])\n",
      "torch.Size([1, 64, 1])\n",
      "torch.Size([1, 64, 1])\n",
      "torch.Size([1, 64, 1])\n",
      "torch.Size([1, 64, 1])\n",
      "torch.Size([1, 64, 1])\n",
      "torch.Size([1, 64, 1])\n",
      "torch.Size([1, 64, 1])\n",
      "torch.Size([1, 64, 1])\n",
      "torch.Size([1, 64, 1])\n",
      "torch.Size([1, 64, 1])\n",
      "torch.Size([1, 64, 1])\n",
      "torch.Size([1, 64, 1])\n",
      "torch.Size([1, 64, 1])\n",
      "torch.Size([1, 64, 1])\n",
      "torch.Size([1, 64, 1])\n"
     ]
    },
    {
     "name": "stderr",
     "output_type": "stream",
     "text": [
      "epoch 27/50: 100%|████████| 20/20 [00:00<00:00, 133.00it/s, loss=4.73, mse=2.15]\n",
      "epoch 28/50:   0%|                                       | 0/20 [00:00<?, ?it/s]"
     ]
    },
    {
     "name": "stdout",
     "output_type": "stream",
     "text": [
      "torch.Size([1, 64, 1])\n"
     ]
    },
    {
     "name": "stderr",
     "output_type": "stream",
     "text": [
      "epoch 28/50:   0%|                            | 0/20 [00:00<?, ?it/s, loss=10.8]"
     ]
    },
    {
     "name": "stdout",
     "output_type": "stream",
     "text": [
      "torch.Size([1, 64, 1])\n",
      "torch.Size([1, 64, 1])\n"
     ]
    },
    {
     "name": "stderr",
     "output_type": "stream",
     "text": [
      "\r",
      "epoch 28/50:   0%|                            | 0/20 [00:00<?, ?it/s, loss=8.39]"
     ]
    },
    {
     "name": "stdout",
     "output_type": "stream",
     "text": [
      "torch.Size([1, 64, 1])\n"
     ]
    },
    {
     "name": "stderr",
     "output_type": "stream",
     "text": [
      "epoch 28/50:   0%|                            | 0/20 [00:00<?, ?it/s, loss=5.99]"
     ]
    },
    {
     "name": "stdout",
     "output_type": "stream",
     "text": [
      "torch.Size([1, 64, 1])\n",
      "torch.Size([1, 64, 1])\n",
      "torch.Size([1, 64, 1])\n"
     ]
    },
    {
     "name": "stderr",
     "output_type": "stream",
     "text": [
      "epoch 28/50:   0%|                            | 0/20 [00:00<?, ?it/s, loss=6.11]"
     ]
    },
    {
     "name": "stdout",
     "output_type": "stream",
     "text": [
      "torch.Size([1, 64, 1])\n",
      "torch.Size([1, 64, 1])\n"
     ]
    },
    {
     "name": "stderr",
     "output_type": "stream",
     "text": [
      "epoch 28/50:   0%|                            | 0/20 [00:00<?, ?it/s, loss=6.18]"
     ]
    },
    {
     "name": "stdout",
     "output_type": "stream",
     "text": [
      "torch.Size([1, 64, 1])\n",
      "torch.Size([1, 64, 1])\n"
     ]
    },
    {
     "name": "stderr",
     "output_type": "stream",
     "text": [
      "epoch 28/50:   0%|                            | 0/20 [00:00<?, ?it/s, loss=5.96]"
     ]
    },
    {
     "name": "stdout",
     "output_type": "stream",
     "text": [
      "torch.Size([1, 64, 1])\n",
      "torch.Size([1, 64, 1])\n",
      "torch.Size([1, 64, 1])\n",
      "torch.Size([1, 64, 1])\n"
     ]
    },
    {
     "name": "stderr",
     "output_type": "stream",
     "text": [
      "epoch 28/50:   0%|                             | 0/20 [00:00<?, ?it/s, loss=5.5]"
     ]
    },
    {
     "name": "stdout",
     "output_type": "stream",
     "text": [
      "torch.Size([1, 64, 1])\n",
      "torch.Size([1, 64, 1])\n"
     ]
    },
    {
     "name": "stderr",
     "output_type": "stream",
     "text": [
      "epoch 28/50:   0%|                               | 0/20 [00:00<?, ?it/s, loss=5]"
     ]
    },
    {
     "name": "stdout",
     "output_type": "stream",
     "text": [
      "torch.Size([1, 64, 1])\n",
      "torch.Size([1, 64, 1])\n"
     ]
    },
    {
     "name": "stderr",
     "output_type": "stream",
     "text": [
      "\r",
      "epoch 28/50:   0%|                            | 0/20 [00:00<?, ?it/s, loss=4.74]"
     ]
    },
    {
     "name": "stdout",
     "output_type": "stream",
     "text": [
      "torch.Size([1, 64, 1])\n"
     ]
    },
    {
     "name": "stderr",
     "output_type": "stream",
     "text": [
      "\r",
      "epoch 28/50:   0%|                            | 0/20 [00:00<?, ?it/s, loss=4.73]"
     ]
    },
    {
     "name": "stdout",
     "output_type": "stream",
     "text": [
      "torch.Size([1, 64, 1])\n",
      "torch.Size([1, 64, 1])\n",
      "torch.Size([1, 64, 1])\n",
      "torch.Size([1, 64, 1])\n",
      "torch.Size([1, 64, 1])\n",
      "torch.Size([1, 64, 1])\n",
      "torch.Size([1, 64, 1])\n",
      "torch.Size([1, 64, 1])\n",
      "torch.Size([1, 64, 1])\n",
      "torch.Size([1, 64, 1])\n",
      "torch.Size([1, 64, 1])\n",
      "torch.Size([1, 64, 1])\n",
      "torch.Size([1, 64, 1])\n",
      "torch.Size([1, 64, 1])\n",
      "torch.Size([1, 64, 1])\n",
      "torch.Size([1, 64, 1])\n",
      "torch.Size([1, 64, 1])\n",
      "torch.Size([1, 64, 1])\n",
      "torch.Size([1, 64, 1])\n",
      "torch.Size([1, 64, 1])\n",
      "torch.Size([1, 64, 1])\n",
      "torch.Size([1, 64, 1])\n",
      "torch.Size([1, 64, 1])\n",
      "torch.Size([1, 64, 1])\n",
      "torch.Size([1, 64, 1])\n"
     ]
    },
    {
     "name": "stderr",
     "output_type": "stream",
     "text": [
      "epoch 28/50: 100%|████████| 20/20 [00:00<00:00, 139.66it/s, loss=4.73, mse=2.15]\n"
     ]
    },
    {
     "name": "stdout",
     "output_type": "stream",
     "text": [
      "torch.Size([1, 64, 1])\n",
      "torch.Size([1, 64, 1])\n",
      "torch.Size([1, 64, 1])\n",
      "torch.Size([1, 64, 1])\n",
      "torch.Size([1, 64, 1])\n"
     ]
    },
    {
     "name": "stderr",
     "output_type": "stream",
     "text": [
      "epoch 29/50:   0%|                                       | 0/20 [00:00<?, ?it/s]"
     ]
    },
    {
     "name": "stdout",
     "output_type": "stream",
     "text": [
      "torch.Size([1, 64, 1])\n"
     ]
    },
    {
     "name": "stderr",
     "output_type": "stream",
     "text": [
      "\r",
      "epoch 29/50:   0%|                            | 0/20 [00:00<?, ?it/s, loss=4.42]"
     ]
    },
    {
     "name": "stdout",
     "output_type": "stream",
     "text": [
      "torch.Size([1, 64, 1])\n"
     ]
    },
    {
     "name": "stderr",
     "output_type": "stream",
     "text": [
      "epoch 29/50:   0%|                            | 0/20 [00:00<?, ?it/s, loss=8.39]"
     ]
    },
    {
     "name": "stdout",
     "output_type": "stream",
     "text": [
      "torch.Size([1, 64, 1])\n",
      "torch.Size([1, 64, 1])\n"
     ]
    },
    {
     "name": "stderr",
     "output_type": "stream",
     "text": [
      "epoch 29/50:   0%|                            | 0/20 [00:00<?, ?it/s, loss=5.76]"
     ]
    },
    {
     "name": "stdout",
     "output_type": "stream",
     "text": [
      "torch.Size([1, 64, 1])\n",
      "torch.Size([1, 64, 1])\n",
      "torch.Size([1, 64, 1])\n",
      "torch.Size([1, 64, 1])\n"
     ]
    },
    {
     "name": "stderr",
     "output_type": "stream",
     "text": [
      "\r",
      "epoch 29/50:   0%|                            | 0/20 [00:00<?, ?it/s, loss=6.11]"
     ]
    },
    {
     "name": "stdout",
     "output_type": "stream",
     "text": [
      "torch.Size([1, 64, 1])\n"
     ]
    },
    {
     "name": "stderr",
     "output_type": "stream",
     "text": [
      "epoch 29/50:   0%|                            | 0/20 [00:00<?, ?it/s, loss=6.02]"
     ]
    },
    {
     "name": "stdout",
     "output_type": "stream",
     "text": [
      "torch.Size([1, 64, 1])\n",
      "torch.Size([1, 64, 1])\n"
     ]
    },
    {
     "name": "stderr",
     "output_type": "stream",
     "text": [
      "\r",
      "epoch 29/50:   0%|                            | 0/20 [00:00<?, ?it/s, loss=5.62]"
     ]
    },
    {
     "name": "stdout",
     "output_type": "stream",
     "text": [
      "torch.Size([1, 64, 1])\n"
     ]
    },
    {
     "name": "stderr",
     "output_type": "stream",
     "text": [
      "epoch 29/50:   0%|                            | 0/20 [00:00<?, ?it/s, loss=5.96]"
     ]
    },
    {
     "name": "stdout",
     "output_type": "stream",
     "text": [
      "torch.Size([1, 64, 1])\n",
      "torch.Size([1, 64, 1])\n"
     ]
    },
    {
     "name": "stderr",
     "output_type": "stream",
     "text": [
      "\r",
      "epoch 29/50:   0%|                            | 0/20 [00:00<?, ?it/s, loss=5.57]"
     ]
    },
    {
     "name": "stdout",
     "output_type": "stream",
     "text": [
      "torch.Size([1, 64, 1])\n"
     ]
    },
    {
     "name": "stderr",
     "output_type": "stream",
     "text": [
      "epoch 29/50:   0%|                            | 0/20 [00:00<?, ?it/s, loss=5.25]"
     ]
    },
    {
     "name": "stdout",
     "output_type": "stream",
     "text": [
      "torch.Size([1, 64, 1])\n",
      "torch.Size([1, 64, 1])\n",
      "torch.Size([1, 64, 1])\n"
     ]
    },
    {
     "name": "stderr",
     "output_type": "stream",
     "text": [
      "epoch 29/50:   0%|                            | 0/20 [00:00<?, ?it/s, loss=4.74]"
     ]
    },
    {
     "name": "stdout",
     "output_type": "stream",
     "text": [
      "torch.Size([1, 64, 1])\n",
      "torch.Size([1, 64, 1])\n"
     ]
    },
    {
     "name": "stderr",
     "output_type": "stream",
     "text": [
      "\r",
      "epoch 29/50:   0%|                            | 0/20 [00:00<?, ?it/s, loss=4.73]"
     ]
    },
    {
     "name": "stdout",
     "output_type": "stream",
     "text": [
      "torch.Size([1, 64, 1])\n",
      "torch.Size([1, 64, 1])\n",
      "torch.Size([1, 64, 1])\n",
      "torch.Size([1, 64, 1])\n",
      "torch.Size([1, 64, 1])\n",
      "torch.Size([1, 64, 1])\n",
      "torch.Size([1, 64, 1])\n",
      "torch.Size([1, 64, 1])\n",
      "torch.Size([1, 64, 1])\n",
      "torch.Size([1, 64, 1])\n",
      "torch.Size([1, 64, 1])\n",
      "torch.Size([1, 64, 1])\n",
      "torch.Size([1, 64, 1])\n",
      "torch.Size([1, 64, 1])\n",
      "torch.Size([1, 64, 1])\n",
      "torch.Size([1, 64, 1])\n",
      "torch.Size([1, 64, 1])\n",
      "torch.Size([1, 64, 1])\n",
      "torch.Size([1, 64, 1])\n",
      "torch.Size([1, 64, 1])\n",
      "torch.Size([1, 64, 1])\n",
      "torch.Size([1, 64, 1])\n",
      "torch.Size([1, 64, 1])\n",
      "torch.Size([1, 64, 1])\n",
      "torch.Size([1, 64, 1])\n",
      "torch.Size([1, 64, 1])\n",
      "torch.Size([1, 64, 1])\n",
      "torch.Size([1, 64, 1])\n",
      "torch.Size([1, 64, 1])\n"
     ]
    },
    {
     "name": "stderr",
     "output_type": "stream",
     "text": [
      "epoch 29/50: 100%|████████| 20/20 [00:00<00:00, 133.04it/s, loss=4.73, mse=2.15]\n"
     ]
    },
    {
     "name": "stdout",
     "output_type": "stream",
     "text": [
      "torch.Size([1, 64, 1])\n"
     ]
    },
    {
     "name": "stderr",
     "output_type": "stream",
     "text": [
      "epoch 30/50:   0%|                            | 0/20 [00:00<?, ?it/s, loss=4.05]"
     ]
    },
    {
     "name": "stdout",
     "output_type": "stream",
     "text": [
      "torch.Size([1, 64, 1])\n",
      "torch.Size([1, 64, 1])\n",
      "torch.Size([1, 64, 1])\n"
     ]
    },
    {
     "name": "stderr",
     "output_type": "stream",
     "text": [
      "\r",
      "epoch 30/50:   0%|                            | 0/20 [00:00<?, ?it/s, loss=10.8]"
     ]
    },
    {
     "name": "stdout",
     "output_type": "stream",
     "text": [
      "torch.Size([1, 64, 1])\n"
     ]
    },
    {
     "name": "stderr",
     "output_type": "stream",
     "text": [
      "\r",
      "epoch 30/50:   0%|                            | 0/20 [00:00<?, ?it/s, loss=8.39]"
     ]
    },
    {
     "name": "stdout",
     "output_type": "stream",
     "text": [
      "torch.Size([1, 64, 1])\n"
     ]
    },
    {
     "name": "stderr",
     "output_type": "stream",
     "text": [
      "epoch 30/50:   0%|                            | 0/20 [00:00<?, ?it/s, loss=5.76]"
     ]
    },
    {
     "name": "stdout",
     "output_type": "stream",
     "text": [
      "torch.Size([1, 64, 1])\n",
      "torch.Size([1, 64, 1])\n",
      "torch.Size([1, 64, 1])\n"
     ]
    },
    {
     "name": "stderr",
     "output_type": "stream",
     "text": [
      "epoch 30/50:   0%|                            | 0/20 [00:00<?, ?it/s, loss=6.37]"
     ]
    },
    {
     "name": "stdout",
     "output_type": "stream",
     "text": [
      "torch.Size([1, 64, 1])\n",
      "torch.Size([1, 64, 1])\n"
     ]
    },
    {
     "name": "stderr",
     "output_type": "stream",
     "text": [
      "\r",
      "epoch 30/50:   0%|                            | 0/20 [00:00<?, ?it/s, loss=6.18]"
     ]
    },
    {
     "name": "stdout",
     "output_type": "stream",
     "text": [
      "torch.Size([1, 64, 1])\n"
     ]
    },
    {
     "name": "stderr",
     "output_type": "stream",
     "text": [
      "\r",
      "epoch 30/50:   0%|                            | 0/20 [00:00<?, ?it/s, loss=6.02]"
     ]
    },
    {
     "name": "stdout",
     "output_type": "stream",
     "text": [
      "torch.Size([1, 64, 1])\n"
     ]
    },
    {
     "name": "stderr",
     "output_type": "stream",
     "text": [
      "epoch 30/50:   0%|                            | 0/20 [00:00<?, ?it/s, loss=6.36]"
     ]
    },
    {
     "name": "stdout",
     "output_type": "stream",
     "text": [
      "torch.Size([1, 64, 1])\n"
     ]
    },
    {
     "name": "stderr",
     "output_type": "stream",
     "text": [
      "epoch 30/50:   0%|                            | 0/20 [00:00<?, ?it/s, loss=5.25]"
     ]
    },
    {
     "name": "stdout",
     "output_type": "stream",
     "text": [
      "torch.Size([1, 64, 1])\n",
      "torch.Size([1, 64, 1])\n",
      "torch.Size([1, 64, 1])\n",
      "torch.Size([1, 64, 1])\n",
      "torch.Size([1, 64, 1])\n"
     ]
    },
    {
     "name": "stderr",
     "output_type": "stream",
     "text": [
      "\r",
      "epoch 30/50:   0%|                               | 0/20 [00:00<?, ?it/s, loss=5]"
     ]
    },
    {
     "name": "stdout",
     "output_type": "stream",
     "text": [
      "torch.Size([1, 64, 1])\n"
     ]
    },
    {
     "name": "stderr",
     "output_type": "stream",
     "text": [
      "epoch 30/50:  95%|█████████████████ | 19/20 [00:00<00:00, 189.07it/s, loss=4.73]"
     ]
    },
    {
     "name": "stdout",
     "output_type": "stream",
     "text": [
      "torch.Size([1, 64, 1])\n",
      "torch.Size([1, 64, 1])\n",
      "torch.Size([1, 64, 1])\n",
      "torch.Size([1, 64, 1])\n",
      "torch.Size([1, 64, 1])\n",
      "torch.Size([1, 64, 1])\n",
      "torch.Size([1, 64, 1])\n",
      "torch.Size([1, 64, 1])\n",
      "torch.Size([1, 64, 1])\n",
      "torch.Size([1, 64, 1])\n",
      "torch.Size([1, 64, 1])\n",
      "torch.Size([1, 64, 1])\n",
      "torch.Size([1, 64, 1])\n",
      "torch.Size([1, 64, 1])\n",
      "torch.Size([1, 64, 1])\n",
      "torch.Size([1, 64, 1])\n",
      "torch.Size([1, 64, 1])\n",
      "torch.Size([1, 64, 1])\n",
      "torch.Size([1, 64, 1])\n",
      "torch.Size([1, 64, 1])\n",
      "torch.Size([1, 64, 1])\n",
      "torch.Size([1, 64, 1])\n",
      "torch.Size([1, 64, 1])\n",
      "torch.Size([1, 64, 1])\n",
      "torch.Size([1, 64, 1])\n",
      "torch.Size([1, 64, 1])\n",
      "torch.Size([1, 64, 1])\n",
      "torch.Size([1, 64, 1])\n",
      "torch.Size([1, 64, 1])\n",
      "torch.Size([1, 64, 1])\n",
      "torch.Size([1, 64, 1])\n"
     ]
    },
    {
     "name": "stderr",
     "output_type": "stream",
     "text": [
      "epoch 30/50: 100%|████████| 20/20 [00:00<00:00, 130.18it/s, loss=4.73, mse=2.15]\n",
      "epoch 31/50:   0%|                                       | 0/20 [00:00<?, ?it/s]"
     ]
    },
    {
     "name": "stdout",
     "output_type": "stream",
     "text": [
      "torch.Size([1, 64, 1])\n"
     ]
    },
    {
     "name": "stderr",
     "output_type": "stream",
     "text": [
      "epoch 31/50:   0%|                            | 0/20 [00:00<?, ?it/s, loss=10.8]"
     ]
    },
    {
     "name": "stdout",
     "output_type": "stream",
     "text": [
      "torch.Size([1, 64, 1])\n",
      "torch.Size([1, 64, 1])\n",
      "torch.Size([1, 64, 1])\n"
     ]
    },
    {
     "name": "stderr",
     "output_type": "stream",
     "text": [
      "epoch 31/50:   0%|                            | 0/20 [00:00<?, ?it/s, loss=6.95]"
     ]
    },
    {
     "name": "stdout",
     "output_type": "stream",
     "text": [
      "torch.Size([1, 64, 1])\n",
      "torch.Size([1, 64, 1])\n"
     ]
    },
    {
     "name": "stderr",
     "output_type": "stream",
     "text": [
      "epoch 31/50:   0%|                            | 0/20 [00:00<?, ?it/s, loss=5.76]"
     ]
    },
    {
     "name": "stdout",
     "output_type": "stream",
     "text": [
      "torch.Size([1, 64, 1])\n",
      "torch.Size([1, 64, 1])\n"
     ]
    },
    {
     "name": "stderr",
     "output_type": "stream",
     "text": [
      "\r",
      "epoch 31/50:   0%|                            | 0/20 [00:00<?, ?it/s, loss=6.11]"
     ]
    },
    {
     "name": "stdout",
     "output_type": "stream",
     "text": [
      "torch.Size([1, 64, 1])\n"
     ]
    },
    {
     "name": "stderr",
     "output_type": "stream",
     "text": [
      "epoch 31/50:   0%|                            | 0/20 [00:00<?, ?it/s, loss=6.02]"
     ]
    },
    {
     "name": "stdout",
     "output_type": "stream",
     "text": [
      "torch.Size([1, 64, 1])\n",
      "torch.Size([1, 64, 1])\n",
      "torch.Size([1, 64, 1])\n"
     ]
    },
    {
     "name": "stderr",
     "output_type": "stream",
     "text": [
      "\r",
      "epoch 31/50:   0%|                            | 0/20 [00:00<?, ?it/s, loss=5.62]"
     ]
    },
    {
     "name": "stdout",
     "output_type": "stream",
     "text": [
      "torch.Size([1, 64, 1])\n"
     ]
    },
    {
     "name": "stderr",
     "output_type": "stream",
     "text": [
      "\r",
      "epoch 31/50:   0%|                            | 0/20 [00:00<?, ?it/s, loss=6.36]"
     ]
    },
    {
     "name": "stdout",
     "output_type": "stream",
     "text": [
      "torch.Size([1, 64, 1])\n"
     ]
    },
    {
     "name": "stderr",
     "output_type": "stream",
     "text": [
      "epoch 31/50:   0%|                             | 0/20 [00:00<?, ?it/s, loss=5.5]"
     ]
    },
    {
     "name": "stdout",
     "output_type": "stream",
     "text": [
      "torch.Size([1, 64, 1])\n",
      "torch.Size([1, 64, 1])\n"
     ]
    },
    {
     "name": "stderr",
     "output_type": "stream",
     "text": [
      "epoch 31/50:   0%|                               | 0/20 [00:00<?, ?it/s, loss=5]"
     ]
    },
    {
     "name": "stdout",
     "output_type": "stream",
     "text": [
      "torch.Size([1, 64, 1])\n",
      "torch.Size([1, 64, 1])\n"
     ]
    },
    {
     "name": "stderr",
     "output_type": "stream",
     "text": [
      "\r",
      "epoch 31/50:  90%|██████████████████▉  | 18/20 [00:00<00:00, 179.78it/s, loss=5]"
     ]
    },
    {
     "name": "stdout",
     "output_type": "stream",
     "text": [
      "torch.Size([1, 64, 1])\n"
     ]
    },
    {
     "name": "stderr",
     "output_type": "stream",
     "text": [
      "\r",
      "epoch 31/50:  90%|████████████████▏ | 18/20 [00:00<00:00, 179.78it/s, loss=4.74]"
     ]
    },
    {
     "name": "stdout",
     "output_type": "stream",
     "text": [
      "torch.Size([1, 64, 1])\n"
     ]
    },
    {
     "name": "stderr",
     "output_type": "stream",
     "text": [
      "\r",
      "epoch 31/50:  90%|████████████████▏ | 18/20 [00:00<00:00, 179.78it/s, loss=4.73]"
     ]
    },
    {
     "name": "stdout",
     "output_type": "stream",
     "text": [
      "torch.Size([1, 64, 1])\n",
      "torch.Size([1, 64, 1])\n",
      "torch.Size([1, 64, 1])\n",
      "torch.Size([1, 64, 1])\n",
      "torch.Size([1, 64, 1])\n",
      "torch.Size([1, 64, 1])\n",
      "torch.Size([1, 64, 1])\n",
      "torch.Size([1, 64, 1])\n",
      "torch.Size([1, 64, 1])\n",
      "torch.Size([1, 64, 1])\n",
      "torch.Size([1, 64, 1])\n",
      "torch.Size([1, 64, 1])\n",
      "torch.Size([1, 64, 1])\n",
      "torch.Size([1, 64, 1])\n",
      "torch.Size([1, 64, 1])\n",
      "torch.Size([1, 64, 1])\n",
      "torch.Size([1, 64, 1])\n",
      "torch.Size([1, 64, 1])\n",
      "torch.Size([1, 64, 1])\n",
      "torch.Size([1, 64, 1])\n",
      "torch.Size([1, 64, 1])\n",
      "torch.Size([1, 64, 1])\n",
      "torch.Size([1, 64, 1])\n",
      "torch.Size([1, 64, 1])\n",
      "torch.Size([1, 64, 1])\n",
      "torch.Size([1, 64, 1])\n",
      "torch.Size([1, 64, 1])\n",
      "torch.Size([1, 64, 1])\n",
      "torch.Size([1, 64, 1])\n"
     ]
    },
    {
     "name": "stderr",
     "output_type": "stream",
     "text": [
      "epoch 31/50: 100%|████████| 20/20 [00:00<00:00, 124.10it/s, loss=4.73, mse=2.15]\n"
     ]
    },
    {
     "name": "stdout",
     "output_type": "stream",
     "text": [
      "torch.Size([1, 64, 1])\n"
     ]
    },
    {
     "name": "stderr",
     "output_type": "stream",
     "text": [
      "epoch 32/50:   0%|                                       | 0/20 [00:00<?, ?it/s]"
     ]
    },
    {
     "name": "stdout",
     "output_type": "stream",
     "text": [
      "torch.Size([1, 64, 1])\n"
     ]
    },
    {
     "name": "stderr",
     "output_type": "stream",
     "text": [
      "\r",
      "epoch 32/50:   0%|                            | 0/20 [00:00<?, ?it/s, loss=4.42]"
     ]
    },
    {
     "name": "stdout",
     "output_type": "stream",
     "text": [
      "torch.Size([1, 64, 1])\n"
     ]
    },
    {
     "name": "stderr",
     "output_type": "stream",
     "text": [
      "epoch 32/50:   0%|                            | 0/20 [00:00<?, ?it/s, loss=8.39]"
     ]
    },
    {
     "name": "stdout",
     "output_type": "stream",
     "text": [
      "torch.Size([1, 64, 1])\n",
      "torch.Size([1, 64, 1])\n",
      "torch.Size([1, 64, 1])\n"
     ]
    },
    {
     "name": "stderr",
     "output_type": "stream",
     "text": [
      "epoch 32/50:   0%|                            | 0/20 [00:00<?, ?it/s, loss=5.76]"
     ]
    },
    {
     "name": "stdout",
     "output_type": "stream",
     "text": [
      "torch.Size([1, 64, 1])\n",
      "torch.Size([1, 64, 1])\n",
      "torch.Size([1, 64, 1])\n"
     ]
    },
    {
     "name": "stderr",
     "output_type": "stream",
     "text": [
      "\r",
      "epoch 32/50:   0%|                            | 0/20 [00:00<?, ?it/s, loss=6.11]"
     ]
    },
    {
     "name": "stdout",
     "output_type": "stream",
     "text": [
      "torch.Size([1, 64, 1])\n"
     ]
    },
    {
     "name": "stderr",
     "output_type": "stream",
     "text": [
      "epoch 32/50:   0%|                            | 0/20 [00:00<?, ?it/s, loss=6.02]"
     ]
    },
    {
     "name": "stdout",
     "output_type": "stream",
     "text": [
      "torch.Size([1, 64, 1])\n",
      "torch.Size([1, 64, 1])\n",
      "torch.Size([1, 64, 1])\n"
     ]
    },
    {
     "name": "stderr",
     "output_type": "stream",
     "text": [
      "epoch 32/50:   0%|                            | 0/20 [00:00<?, ?it/s, loss=6.36]"
     ]
    },
    {
     "name": "stdout",
     "output_type": "stream",
     "text": [
      "torch.Size([1, 64, 1])\n",
      "torch.Size([1, 64, 1])\n"
     ]
    },
    {
     "name": "stderr",
     "output_type": "stream",
     "text": [
      "epoch 32/50:   0%|                             | 0/20 [00:00<?, ?it/s, loss=5.5]"
     ]
    },
    {
     "name": "stdout",
     "output_type": "stream",
     "text": [
      "torch.Size([1, 64, 1])\n",
      "torch.Size([1, 64, 1])\n"
     ]
    },
    {
     "name": "stderr",
     "output_type": "stream",
     "text": [
      "\r",
      "epoch 32/50:   0%|                            | 0/20 [00:00<?, ?it/s, loss=5.25]"
     ]
    },
    {
     "name": "stdout",
     "output_type": "stream",
     "text": [
      "torch.Size([1, 64, 1])\n"
     ]
    },
    {
     "name": "stderr",
     "output_type": "stream",
     "text": [
      "epoch 32/50:   0%|                            | 0/20 [00:00<?, ?it/s, loss=4.73]"
     ]
    },
    {
     "name": "stdout",
     "output_type": "stream",
     "text": [
      "torch.Size([1, 64, 1])\n",
      "torch.Size([1, 64, 1])\n",
      "torch.Size([1, 64, 1])\n",
      "torch.Size([1, 64, 1])\n",
      "torch.Size([1, 64, 1])\n",
      "torch.Size([1, 64, 1])\n",
      "torch.Size([1, 64, 1])\n",
      "torch.Size([1, 64, 1])\n",
      "torch.Size([1, 64, 1])\n",
      "torch.Size([1, 64, 1])\n",
      "torch.Size([1, 64, 1])\n",
      "torch.Size([1, 64, 1])\n",
      "torch.Size([1, 64, 1])\n",
      "torch.Size([1, 64, 1])\n",
      "torch.Size([1, 64, 1])\n",
      "torch.Size([1, 64, 1])\n",
      "torch.Size([1, 64, 1])\n",
      "torch.Size([1, 64, 1])\n",
      "torch.Size([1, 64, 1])\n",
      "torch.Size([1, 64, 1])\n",
      "torch.Size([1, 64, 1])\n",
      "torch.Size([1, 64, 1])\n",
      "torch.Size([1, 64, 1])\n",
      "torch.Size([1, 64, 1])\n",
      "torch.Size([1, 64, 1])\n",
      "torch.Size([1, 64, 1])\n",
      "torch.Size([1, 64, 1])\n",
      "torch.Size([1, 64, 1])\n",
      "torch.Size([1, 64, 1])\n",
      "torch.Size([1, 64, 1])\n"
     ]
    },
    {
     "name": "stderr",
     "output_type": "stream",
     "text": [
      "\r",
      "epoch 32/50:   0%|                  | 0/20 [00:00<?, ?it/s, loss=4.73, mse=2.15]"
     ]
    },
    {
     "name": "stdout",
     "output_type": "stream",
     "text": [
      "torch.Size([1, 64, 1])\n",
      "torch.Size([1, 64, 1])\n",
      "torch.Size([1, 64, 1])\n"
     ]
    },
    {
     "name": "stderr",
     "output_type": "stream",
     "text": [
      "epoch 32/50: 100%|████████| 20/20 [00:00<00:00, 131.99it/s, loss=4.73, mse=2.15]\n",
      "epoch 33/50:   0%|                                       | 0/20 [00:00<?, ?it/s]"
     ]
    },
    {
     "name": "stdout",
     "output_type": "stream",
     "text": [
      "torch.Size([1, 64, 1])\n"
     ]
    },
    {
     "name": "stderr",
     "output_type": "stream",
     "text": [
      "epoch 33/50:   0%|                            | 0/20 [00:00<?, ?it/s, loss=6.95]"
     ]
    },
    {
     "name": "stdout",
     "output_type": "stream",
     "text": [
      "torch.Size([1, 64, 1])\n",
      "torch.Size([1, 64, 1])\n",
      "torch.Size([1, 64, 1])\n",
      "torch.Size([1, 64, 1])\n",
      "torch.Size([1, 64, 1])\n"
     ]
    },
    {
     "name": "stderr",
     "output_type": "stream",
     "text": [
      "\r",
      "epoch 33/50:   0%|                            | 0/20 [00:00<?, ?it/s, loss=5.99]"
     ]
    },
    {
     "name": "stdout",
     "output_type": "stream",
     "text": [
      "torch.Size([1, 64, 1])\n"
     ]
    },
    {
     "name": "stderr",
     "output_type": "stream",
     "text": [
      "\r",
      "epoch 33/50:   0%|                            | 0/20 [00:00<?, ?it/s, loss=5.76]"
     ]
    },
    {
     "name": "stdout",
     "output_type": "stream",
     "text": [
      "torch.Size([1, 64, 1])\n"
     ]
    },
    {
     "name": "stderr",
     "output_type": "stream",
     "text": [
      "\r",
      "epoch 33/50:   0%|                            | 0/20 [00:00<?, ?it/s, loss=6.11]"
     ]
    },
    {
     "name": "stdout",
     "output_type": "stream",
     "text": [
      "torch.Size([1, 64, 1])\n"
     ]
    },
    {
     "name": "stderr",
     "output_type": "stream",
     "text": [
      "\r",
      "epoch 33/50:   0%|                            | 0/20 [00:00<?, ?it/s, loss=6.37]"
     ]
    },
    {
     "name": "stdout",
     "output_type": "stream",
     "text": [
      "torch.Size([1, 64, 1])\n"
     ]
    },
    {
     "name": "stderr",
     "output_type": "stream",
     "text": [
      "\r",
      "epoch 33/50:   0%|                            | 0/20 [00:00<?, ?it/s, loss=6.18]"
     ]
    },
    {
     "name": "stdout",
     "output_type": "stream",
     "text": [
      "torch.Size([1, 64, 1])\n"
     ]
    },
    {
     "name": "stderr",
     "output_type": "stream",
     "text": [
      "\r",
      "epoch 33/50:   0%|                            | 0/20 [00:00<?, ?it/s, loss=6.02]"
     ]
    },
    {
     "name": "stdout",
     "output_type": "stream",
     "text": [
      "torch.Size([1, 64, 1])\n"
     ]
    },
    {
     "name": "stderr",
     "output_type": "stream",
     "text": [
      "epoch 33/50:   0%|                            | 0/20 [00:00<?, ?it/s, loss=5.96]"
     ]
    },
    {
     "name": "stdout",
     "output_type": "stream",
     "text": [
      "torch.Size([1, 64, 1])\n",
      "torch.Size([1, 64, 1])\n",
      "torch.Size([1, 64, 1])\n"
     ]
    },
    {
     "name": "stderr",
     "output_type": "stream",
     "text": [
      "epoch 33/50:   0%|                               | 0/20 [00:00<?, ?it/s, loss=5]"
     ]
    },
    {
     "name": "stdout",
     "output_type": "stream",
     "text": [
      "torch.Size([1, 64, 1])\n",
      "torch.Size([1, 64, 1])\n",
      "torch.Size([1, 64, 1])\n"
     ]
    },
    {
     "name": "stderr",
     "output_type": "stream",
     "text": [
      "\r",
      "epoch 33/50:   0%|                            | 0/20 [00:00<?, ?it/s, loss=4.74]"
     ]
    },
    {
     "name": "stdout",
     "output_type": "stream",
     "text": [
      "torch.Size([1, 64, 1])\n"
     ]
    },
    {
     "name": "stderr",
     "output_type": "stream",
     "text": [
      "\r",
      "epoch 33/50:   0%|                            | 0/20 [00:00<?, ?it/s, loss=4.73]"
     ]
    },
    {
     "name": "stdout",
     "output_type": "stream",
     "text": [
      "torch.Size([1, 64, 1])\n",
      "torch.Size([1, 64, 1])\n",
      "torch.Size([1, 64, 1])\n",
      "torch.Size([1, 64, 1])\n",
      "torch.Size([1, 64, 1])\n",
      "torch.Size([1, 64, 1])\n",
      "torch.Size([1, 64, 1])\n",
      "torch.Size([1, 64, 1])\n",
      "torch.Size([1, 64, 1])\n",
      "torch.Size([1, 64, 1])\n",
      "torch.Size([1, 64, 1])\n",
      "torch.Size([1, 64, 1])\n",
      "torch.Size([1, 64, 1])\n",
      "torch.Size([1, 64, 1])\n",
      "torch.Size([1, 64, 1])\n",
      "torch.Size([1, 64, 1])\n",
      "torch.Size([1, 64, 1])\n",
      "torch.Size([1, 64, 1])\n",
      "torch.Size([1, 64, 1])\n",
      "torch.Size([1, 64, 1])\n",
      "torch.Size([1, 64, 1])\n",
      "torch.Size([1, 64, 1])\n"
     ]
    },
    {
     "name": "stderr",
     "output_type": "stream",
     "text": [
      "epoch 33/50: 100%|████████| 20/20 [00:00<00:00, 132.27it/s, loss=4.73, mse=2.15]\n"
     ]
    },
    {
     "name": "stdout",
     "output_type": "stream",
     "text": [
      "torch.Size([1, 64, 1])\n",
      "torch.Size([1, 64, 1])\n",
      "torch.Size([1, 64, 1])\n",
      "torch.Size([1, 64, 1])\n",
      "torch.Size([1, 64, 1])\n",
      "torch.Size([1, 64, 1])\n",
      "torch.Size([1, 64, 1])\n",
      "torch.Size([1, 64, 1])\n",
      "torch.Size([1, 64, 1])\n"
     ]
    },
    {
     "name": "stderr",
     "output_type": "stream",
     "text": [
      "epoch 34/50:   0%|                            | 0/20 [00:00<?, ?it/s, loss=4.42]"
     ]
    },
    {
     "name": "stdout",
     "output_type": "stream",
     "text": [
      "torch.Size([1, 64, 1])\n"
     ]
    },
    {
     "name": "stderr",
     "output_type": "stream",
     "text": [
      "\r",
      "epoch 34/50:   0%|                            | 0/20 [00:00<?, ?it/s, loss=4.05]"
     ]
    },
    {
     "name": "stdout",
     "output_type": "stream",
     "text": [
      "torch.Size([1, 64, 1])\n",
      "torch.Size([1, 64, 1])\n"
     ]
    },
    {
     "name": "stderr",
     "output_type": "stream",
     "text": [
      "epoch 34/50:   0%|                            | 0/20 [00:00<?, ?it/s, loss=6.95]"
     ]
    },
    {
     "name": "stdout",
     "output_type": "stream",
     "text": [
      "torch.Size([1, 64, 1])\n",
      "torch.Size([1, 64, 1])\n"
     ]
    },
    {
     "name": "stderr",
     "output_type": "stream",
     "text": [
      "epoch 34/50:   0%|                            | 0/20 [00:00<?, ?it/s, loss=5.76]"
     ]
    },
    {
     "name": "stdout",
     "output_type": "stream",
     "text": [
      "torch.Size([1, 64, 1])\n",
      "torch.Size([1, 64, 1])\n",
      "torch.Size([1, 64, 1])\n"
     ]
    },
    {
     "name": "stderr",
     "output_type": "stream",
     "text": [
      "\r",
      "epoch 34/50:   0%|                            | 0/20 [00:00<?, ?it/s, loss=6.11]"
     ]
    },
    {
     "name": "stdout",
     "output_type": "stream",
     "text": [
      "torch.Size([1, 64, 1])\n"
     ]
    },
    {
     "name": "stderr",
     "output_type": "stream",
     "text": [
      "epoch 34/50:   0%|                            | 0/20 [00:00<?, ?it/s, loss=6.18]"
     ]
    },
    {
     "name": "stdout",
     "output_type": "stream",
     "text": [
      "torch.Size([1, 64, 1])\n"
     ]
    },
    {
     "name": "stderr",
     "output_type": "stream",
     "text": [
      "\r",
      "epoch 34/50:   0%|                            | 0/20 [00:00<?, ?it/s, loss=6.02]"
     ]
    },
    {
     "name": "stdout",
     "output_type": "stream",
     "text": [
      "torch.Size([1, 64, 1])\n",
      "torch.Size([1, 64, 1])\n"
     ]
    },
    {
     "name": "stderr",
     "output_type": "stream",
     "text": [
      "epoch 34/50:   0%|                             | 0/20 [00:00<?, ?it/s, loss=5.5]"
     ]
    },
    {
     "name": "stdout",
     "output_type": "stream",
     "text": [
      "torch.Size([1, 64, 1])\n",
      "torch.Size([1, 64, 1])\n",
      "torch.Size([1, 64, 1])\n",
      "torch.Size([1, 64, 1])\n",
      "torch.Size([1, 64, 1])\n"
     ]
    },
    {
     "name": "stderr",
     "output_type": "stream",
     "text": [
      "\r",
      "epoch 34/50:   0%|                            | 0/20 [00:00<?, ?it/s, loss=5.25]"
     ]
    },
    {
     "name": "stdout",
     "output_type": "stream",
     "text": [
      "torch.Size([1, 64, 1])\n"
     ]
    },
    {
     "name": "stderr",
     "output_type": "stream",
     "text": [
      "\r",
      "epoch 34/50:   0%|                               | 0/20 [00:00<?, ?it/s, loss=5]"
     ]
    },
    {
     "name": "stdout",
     "output_type": "stream",
     "text": [
      "torch.Size([1, 64, 1])\n"
     ]
    },
    {
     "name": "stderr",
     "output_type": "stream",
     "text": [
      "epoch 34/50:   0%|                            | 0/20 [00:00<?, ?it/s, loss=4.73]"
     ]
    },
    {
     "name": "stdout",
     "output_type": "stream",
     "text": [
      "torch.Size([1, 64, 1])\n",
      "torch.Size([1, 64, 1])\n",
      "torch.Size([1, 64, 1])\n",
      "torch.Size([1, 64, 1])\n",
      "torch.Size([1, 64, 1])\n",
      "torch.Size([1, 64, 1])\n",
      "torch.Size([1, 64, 1])\n",
      "torch.Size([1, 64, 1])\n",
      "torch.Size([1, 64, 1])\n",
      "torch.Size([1, 64, 1])\n",
      "torch.Size([1, 64, 1])\n",
      "torch.Size([1, 64, 1])\n",
      "torch.Size([1, 64, 1])\n",
      "torch.Size([1, 64, 1])\n",
      "torch.Size([1, 64, 1])\n",
      "torch.Size([1, 64, 1])\n",
      "torch.Size([1, 64, 1])\n",
      "torch.Size([1, 64, 1])\n",
      "torch.Size([1, 64, 1])\n",
      "torch.Size([1, 64, 1])\n",
      "torch.Size([1, 64, 1])\n",
      "torch.Size([1, 64, 1])\n",
      "torch.Size([1, 64, 1])\n",
      "torch.Size([1, 64, 1])\n",
      "torch.Size([1, 64, 1])\n",
      "torch.Size([1, 64, 1])\n",
      "torch.Size([1, 64, 1])\n",
      "torch.Size([1, 64, 1])\n",
      "torch.Size([1, 64, 1])\n",
      "torch.Size([1, 64, 1])\n"
     ]
    },
    {
     "name": "stderr",
     "output_type": "stream",
     "text": [
      "epoch 34/50: 100%|████████| 20/20 [00:00<00:00, 138.50it/s, loss=4.73, mse=2.15]\n"
     ]
    },
    {
     "name": "stdout",
     "output_type": "stream",
     "text": [
      "torch.Size([1, 64, 1])\n"
     ]
    },
    {
     "name": "stderr",
     "output_type": "stream",
     "text": [
      "epoch 35/50:   0%|                            | 0/20 [00:00<?, ?it/s, loss=10.8]"
     ]
    },
    {
     "name": "stdout",
     "output_type": "stream",
     "text": [
      "torch.Size([1, 64, 1])\n",
      "torch.Size([1, 64, 1])\n",
      "torch.Size([1, 64, 1])\n"
     ]
    },
    {
     "name": "stderr",
     "output_type": "stream",
     "text": [
      "epoch 35/50:   0%|                            | 0/20 [00:00<?, ?it/s, loss=6.95]"
     ]
    },
    {
     "name": "stdout",
     "output_type": "stream",
     "text": [
      "torch.Size([1, 64, 1])\n",
      "torch.Size([1, 64, 1])\n"
     ]
    },
    {
     "name": "stderr",
     "output_type": "stream",
     "text": [
      "epoch 35/50:   0%|                            | 0/20 [00:00<?, ?it/s, loss=5.76]"
     ]
    },
    {
     "name": "stdout",
     "output_type": "stream",
     "text": [
      "torch.Size([1, 64, 1])\n",
      "torch.Size([1, 64, 1])\n",
      "torch.Size([1, 64, 1])\n"
     ]
    },
    {
     "name": "stderr",
     "output_type": "stream",
     "text": [
      "epoch 35/50:   0%|                            | 0/20 [00:00<?, ?it/s, loss=6.02]"
     ]
    },
    {
     "name": "stdout",
     "output_type": "stream",
     "text": [
      "torch.Size([1, 64, 1])\n",
      "torch.Size([1, 64, 1])\n",
      "torch.Size([1, 64, 1])\n",
      "torch.Size([1, 64, 1])\n"
     ]
    },
    {
     "name": "stderr",
     "output_type": "stream",
     "text": [
      "\r",
      "epoch 35/50:   0%|                            | 0/20 [00:00<?, ?it/s, loss=5.62]"
     ]
    },
    {
     "name": "stdout",
     "output_type": "stream",
     "text": [
      "torch.Size([1, 64, 1])\n"
     ]
    },
    {
     "name": "stderr",
     "output_type": "stream",
     "text": [
      "epoch 35/50:   0%|                            | 0/20 [00:00<?, ?it/s, loss=5.96]"
     ]
    },
    {
     "name": "stdout",
     "output_type": "stream",
     "text": [
      "torch.Size([1, 64, 1])\n"
     ]
    },
    {
     "name": "stderr",
     "output_type": "stream",
     "text": [
      "epoch 35/50:   0%|                             | 0/20 [00:00<?, ?it/s, loss=5.5]"
     ]
    },
    {
     "name": "stdout",
     "output_type": "stream",
     "text": [
      "torch.Size([1, 64, 1])\n",
      "torch.Size([1, 64, 1])\n"
     ]
    },
    {
     "name": "stderr",
     "output_type": "stream",
     "text": [
      "epoch 35/50:   0%|                               | 0/20 [00:00<?, ?it/s, loss=5]"
     ]
    },
    {
     "name": "stdout",
     "output_type": "stream",
     "text": [
      "torch.Size([1, 64, 1])\n",
      "torch.Size([1, 64, 1])\n",
      "torch.Size([1, 64, 1])\n"
     ]
    },
    {
     "name": "stderr",
     "output_type": "stream",
     "text": [
      "\r",
      "epoch 35/50:   0%|                            | 0/20 [00:00<?, ?it/s, loss=4.74]"
     ]
    },
    {
     "name": "stdout",
     "output_type": "stream",
     "text": [
      "torch.Size([1, 64, 1])\n"
     ]
    },
    {
     "name": "stderr",
     "output_type": "stream",
     "text": [
      "\r",
      "epoch 35/50:   0%|                            | 0/20 [00:00<?, ?it/s, loss=4.73]"
     ]
    },
    {
     "name": "stdout",
     "output_type": "stream",
     "text": [
      "torch.Size([1, 64, 1])\n",
      "torch.Size([1, 64, 1])\n",
      "torch.Size([1, 64, 1])\n",
      "torch.Size([1, 64, 1])\n",
      "torch.Size([1, 64, 1])\n",
      "torch.Size([1, 64, 1])\n",
      "torch.Size([1, 64, 1])\n",
      "torch.Size([1, 64, 1])\n",
      "torch.Size([1, 64, 1])\n",
      "torch.Size([1, 64, 1])\n",
      "torch.Size([1, 64, 1])\n",
      "torch.Size([1, 64, 1])\n",
      "torch.Size([1, 64, 1])\n",
      "torch.Size([1, 64, 1])\n",
      "torch.Size([1, 64, 1])\n",
      "torch.Size([1, 64, 1])\n",
      "torch.Size([1, 64, 1])\n",
      "torch.Size([1, 64, 1])\n",
      "torch.Size([1, 64, 1])\n",
      "torch.Size([1, 64, 1])\n",
      "torch.Size([1, 64, 1])\n",
      "torch.Size([1, 64, 1])\n",
      "torch.Size([1, 64, 1])\n",
      "torch.Size([1, 64, 1])\n",
      "torch.Size([1, 64, 1])\n",
      "torch.Size([1, 64, 1])\n",
      "torch.Size([1, 64, 1])\n",
      "torch.Size([1, 64, 1])\n",
      "torch.Size([1, 64, 1])\n",
      "torch.Size([1, 64, 1])\n"
     ]
    },
    {
     "name": "stderr",
     "output_type": "stream",
     "text": [
      "epoch 35/50: 100%|████████| 20/20 [00:00<00:00, 134.07it/s, loss=4.73, mse=2.15]\n",
      "epoch 36/50:   0%|                                       | 0/20 [00:00<?, ?it/s]"
     ]
    },
    {
     "name": "stdout",
     "output_type": "stream",
     "text": [
      "torch.Size([1, 64, 1])\n"
     ]
    },
    {
     "name": "stderr",
     "output_type": "stream",
     "text": [
      "\r",
      "epoch 36/50:   0%|                            | 0/20 [00:00<?, ?it/s, loss=4.42]"
     ]
    },
    {
     "name": "stdout",
     "output_type": "stream",
     "text": [
      "torch.Size([1, 64, 1])\n"
     ]
    },
    {
     "name": "stderr",
     "output_type": "stream",
     "text": [
      "\r",
      "epoch 36/50:   0%|                            | 0/20 [00:00<?, ?it/s, loss=4.05]"
     ]
    },
    {
     "name": "stdout",
     "output_type": "stream",
     "text": [
      "torch.Size([1, 64, 1])\n"
     ]
    },
    {
     "name": "stderr",
     "output_type": "stream",
     "text": [
      "\r",
      "epoch 36/50:   0%|                            | 0/20 [00:00<?, ?it/s, loss=10.8]"
     ]
    },
    {
     "name": "stdout",
     "output_type": "stream",
     "text": [
      "torch.Size([1, 64, 1])\n"
     ]
    },
    {
     "name": "stderr",
     "output_type": "stream",
     "text": [
      "epoch 36/50:   0%|                            | 0/20 [00:00<?, ?it/s, loss=5.99]"
     ]
    },
    {
     "name": "stdout",
     "output_type": "stream",
     "text": [
      "torch.Size([1, 64, 1])\n",
      "torch.Size([1, 64, 1])\n",
      "torch.Size([1, 64, 1])\n"
     ]
    },
    {
     "name": "stderr",
     "output_type": "stream",
     "text": [
      "epoch 36/50:   0%|                            | 0/20 [00:00<?, ?it/s, loss=6.18]"
     ]
    },
    {
     "name": "stdout",
     "output_type": "stream",
     "text": [
      "torch.Size([1, 64, 1])\n",
      "torch.Size([1, 64, 1])\n",
      "torch.Size([1, 64, 1])\n"
     ]
    },
    {
     "name": "stderr",
     "output_type": "stream",
     "text": [
      "\r",
      "epoch 36/50:   0%|                            | 0/20 [00:00<?, ?it/s, loss=6.02]"
     ]
    },
    {
     "name": "stdout",
     "output_type": "stream",
     "text": [
      "torch.Size([1, 64, 1])\n"
     ]
    },
    {
     "name": "stderr",
     "output_type": "stream",
     "text": [
      "epoch 36/50:   0%|                            | 0/20 [00:00<?, ?it/s, loss=5.96]"
     ]
    },
    {
     "name": "stdout",
     "output_type": "stream",
     "text": [
      "torch.Size([1, 64, 1])\n",
      "torch.Size([1, 64, 1])\n",
      "torch.Size([1, 64, 1])\n",
      "torch.Size([1, 64, 1])\n"
     ]
    },
    {
     "name": "stderr",
     "output_type": "stream",
     "text": [
      "epoch 36/50:   0%|                             | 0/20 [00:00<?, ?it/s, loss=5.5]"
     ]
    },
    {
     "name": "stdout",
     "output_type": "stream",
     "text": [
      "torch.Size([1, 64, 1])\n",
      "torch.Size([1, 64, 1])\n"
     ]
    },
    {
     "name": "stderr",
     "output_type": "stream",
     "text": [
      "epoch 36/50:   0%|                               | 0/20 [00:00<?, ?it/s, loss=5]"
     ]
    },
    {
     "name": "stdout",
     "output_type": "stream",
     "text": [
      "torch.Size([1, 64, 1])\n",
      "torch.Size([1, 64, 1])\n"
     ]
    },
    {
     "name": "stderr",
     "output_type": "stream",
     "text": [
      "\r",
      "epoch 36/50:   0%|                            | 0/20 [00:00<?, ?it/s, loss=4.74]"
     ]
    },
    {
     "name": "stdout",
     "output_type": "stream",
     "text": [
      "torch.Size([1, 64, 1])\n"
     ]
    },
    {
     "name": "stderr",
     "output_type": "stream",
     "text": [
      "\r",
      "epoch 36/50:   0%|                            | 0/20 [00:00<?, ?it/s, loss=4.73]"
     ]
    },
    {
     "name": "stdout",
     "output_type": "stream",
     "text": [
      "torch.Size([1, 64, 1])\n",
      "torch.Size([1, 64, 1])\n",
      "torch.Size([1, 64, 1])\n",
      "torch.Size([1, 64, 1])\n",
      "torch.Size([1, 64, 1])\n",
      "torch.Size([1, 64, 1])\n",
      "torch.Size([1, 64, 1])\n",
      "torch.Size([1, 64, 1])\n",
      "torch.Size([1, 64, 1])\n",
      "torch.Size([1, 64, 1])\n",
      "torch.Size([1, 64, 1])\n",
      "torch.Size([1, 64, 1])\n",
      "torch.Size([1, 64, 1])\n",
      "torch.Size([1, 64, 1])\n",
      "torch.Size([1, 64, 1])\n",
      "torch.Size([1, 64, 1])\n",
      "torch.Size([1, 64, 1])\n",
      "torch.Size([1, 64, 1])\n",
      "torch.Size([1, 64, 1])\n",
      "torch.Size([1, 64, 1])\n",
      "torch.Size([1, 64, 1])\n",
      "torch.Size([1, 64, 1])\n",
      "torch.Size([1, 64, 1])\n",
      "torch.Size([1, 64, 1])\n"
     ]
    },
    {
     "name": "stderr",
     "output_type": "stream",
     "text": [
      "epoch 36/50: 100%|████████| 20/20 [00:00<00:00, 139.94it/s, loss=4.73, mse=2.15]\n"
     ]
    },
    {
     "name": "stdout",
     "output_type": "stream",
     "text": [
      "torch.Size([1, 64, 1])\n",
      "torch.Size([1, 64, 1])\n",
      "torch.Size([1, 64, 1])\n",
      "torch.Size([1, 64, 1])\n",
      "torch.Size([1, 64, 1])\n",
      "torch.Size([1, 64, 1])\n"
     ]
    },
    {
     "name": "stderr",
     "output_type": "stream",
     "text": [
      "epoch 37/50:   0%|                            | 0/20 [00:00<?, ?it/s, loss=4.42]"
     ]
    },
    {
     "name": "stdout",
     "output_type": "stream",
     "text": [
      "torch.Size([1, 64, 1])\n",
      "torch.Size([1, 64, 1])\n"
     ]
    },
    {
     "name": "stderr",
     "output_type": "stream",
     "text": [
      "epoch 37/50:   0%|                            | 0/20 [00:00<?, ?it/s, loss=10.8]"
     ]
    },
    {
     "name": "stdout",
     "output_type": "stream",
     "text": [
      "torch.Size([1, 64, 1])\n",
      "torch.Size([1, 64, 1])\n"
     ]
    },
    {
     "name": "stderr",
     "output_type": "stream",
     "text": [
      "epoch 37/50:   0%|                            | 0/20 [00:00<?, ?it/s, loss=6.11]"
     ]
    },
    {
     "name": "stdout",
     "output_type": "stream",
     "text": [
      "torch.Size([1, 64, 1])\n",
      "torch.Size([1, 64, 1])\n",
      "torch.Size([1, 64, 1])\n",
      "torch.Size([1, 64, 1])\n",
      "torch.Size([1, 64, 1])\n"
     ]
    },
    {
     "name": "stderr",
     "output_type": "stream",
     "text": [
      "epoch 37/50:   0%|                            | 0/20 [00:00<?, ?it/s, loss=6.18]"
     ]
    },
    {
     "name": "stdout",
     "output_type": "stream",
     "text": [
      "torch.Size([1, 64, 1])\n",
      "torch.Size([1, 64, 1])\n"
     ]
    },
    {
     "name": "stderr",
     "output_type": "stream",
     "text": [
      "\r",
      "epoch 37/50:   0%|                            | 0/20 [00:00<?, ?it/s, loss=6.02]"
     ]
    },
    {
     "name": "stdout",
     "output_type": "stream",
     "text": [
      "torch.Size([1, 64, 1])\n"
     ]
    },
    {
     "name": "stderr",
     "output_type": "stream",
     "text": [
      "\r",
      "epoch 37/50:   0%|                            | 0/20 [00:00<?, ?it/s, loss=5.62]"
     ]
    },
    {
     "name": "stdout",
     "output_type": "stream",
     "text": [
      "torch.Size([1, 64, 1])\n"
     ]
    },
    {
     "name": "stderr",
     "output_type": "stream",
     "text": [
      "\r",
      "epoch 37/50:   0%|                            | 0/20 [00:00<?, ?it/s, loss=6.36]"
     ]
    },
    {
     "name": "stdout",
     "output_type": "stream",
     "text": [
      "torch.Size([1, 64, 1])\n"
     ]
    },
    {
     "name": "stderr",
     "output_type": "stream",
     "text": [
      "\r",
      "epoch 37/50:   0%|                            | 0/20 [00:00<?, ?it/s, loss=5.96]"
     ]
    },
    {
     "name": "stdout",
     "output_type": "stream",
     "text": [
      "torch.Size([1, 64, 1])\n"
     ]
    },
    {
     "name": "stderr",
     "output_type": "stream",
     "text": [
      "epoch 37/50:   0%|                            | 0/20 [00:00<?, ?it/s, loss=5.25]"
     ]
    },
    {
     "name": "stdout",
     "output_type": "stream",
     "text": [
      "torch.Size([1, 64, 1])\n",
      "torch.Size([1, 64, 1])\n",
      "torch.Size([1, 64, 1])\n"
     ]
    },
    {
     "name": "stderr",
     "output_type": "stream",
     "text": [
      "epoch 37/50:   0%|                            | 0/20 [00:00<?, ?it/s, loss=4.73]"
     ]
    },
    {
     "name": "stdout",
     "output_type": "stream",
     "text": [
      "torch.Size([1, 64, 1])\n",
      "torch.Size([1, 64, 1])\n",
      "torch.Size([1, 64, 1])\n",
      "torch.Size([1, 64, 1])\n",
      "torch.Size([1, 64, 1])\n",
      "torch.Size([1, 64, 1])\n",
      "torch.Size([1, 64, 1])\n",
      "torch.Size([1, 64, 1])\n",
      "torch.Size([1, 64, 1])\n",
      "torch.Size([1, 64, 1])\n",
      "torch.Size([1, 64, 1])\n",
      "torch.Size([1, 64, 1])\n",
      "torch.Size([1, 64, 1])\n",
      "torch.Size([1, 64, 1])\n",
      "torch.Size([1, 64, 1])\n",
      "torch.Size([1, 64, 1])\n",
      "torch.Size([1, 64, 1])\n",
      "torch.Size([1, 64, 1])\n",
      "torch.Size([1, 64, 1])\n",
      "torch.Size([1, 64, 1])\n",
      "torch.Size([1, 64, 1])\n",
      "torch.Size([1, 64, 1])\n",
      "torch.Size([1, 64, 1])\n",
      "torch.Size([1, 64, 1])\n",
      "torch.Size([1, 64, 1])\n",
      "torch.Size([1, 64, 1])\n",
      "torch.Size([1, 64, 1])\n",
      "torch.Size([1, 64, 1])\n",
      "torch.Size([1, 64, 1])\n",
      "torch.Size([1, 64, 1])\n",
      "torch.Size([1, 64, 1])\n",
      "torch.Size([1, 64, 1])\n"
     ]
    },
    {
     "name": "stderr",
     "output_type": "stream",
     "text": [
      "epoch 37/50: 100%|████████| 20/20 [00:00<00:00, 133.27it/s, loss=4.73, mse=2.15]\n",
      "epoch 38/50:   0%|                            | 0/20 [00:00<?, ?it/s, loss=10.8]"
     ]
    },
    {
     "name": "stdout",
     "output_type": "stream",
     "text": [
      "torch.Size([1, 64, 1])\n",
      "torch.Size([1, 64, 1])\n",
      "torch.Size([1, 64, 1])\n",
      "torch.Size([1, 64, 1])\n"
     ]
    },
    {
     "name": "stderr",
     "output_type": "stream",
     "text": [
      "\r",
      "epoch 38/50:   0%|                            | 0/20 [00:00<?, ?it/s, loss=8.39]"
     ]
    },
    {
     "name": "stdout",
     "output_type": "stream",
     "text": [
      "torch.Size([1, 64, 1])\n"
     ]
    },
    {
     "name": "stderr",
     "output_type": "stream",
     "text": [
      "\r",
      "epoch 38/50:   0%|                            | 0/20 [00:00<?, ?it/s, loss=6.95]"
     ]
    },
    {
     "name": "stdout",
     "output_type": "stream",
     "text": [
      "torch.Size([1, 64, 1])\n"
     ]
    },
    {
     "name": "stderr",
     "output_type": "stream",
     "text": [
      "\r",
      "epoch 38/50:   0%|                            | 0/20 [00:00<?, ?it/s, loss=5.99]"
     ]
    },
    {
     "name": "stdout",
     "output_type": "stream",
     "text": [
      "torch.Size([1, 64, 1])\n"
     ]
    },
    {
     "name": "stderr",
     "output_type": "stream",
     "text": [
      "epoch 38/50:   0%|                            | 0/20 [00:00<?, ?it/s, loss=6.18]"
     ]
    },
    {
     "name": "stdout",
     "output_type": "stream",
     "text": [
      "torch.Size([1, 64, 1])\n",
      "torch.Size([1, 64, 1])\n",
      "torch.Size([1, 64, 1])\n"
     ]
    },
    {
     "name": "stderr",
     "output_type": "stream",
     "text": [
      "\r",
      "epoch 38/50:   0%|                            | 0/20 [00:00<?, ?it/s, loss=6.02]"
     ]
    },
    {
     "name": "stdout",
     "output_type": "stream",
     "text": [
      "torch.Size([1, 64, 1])\n"
     ]
    },
    {
     "name": "stderr",
     "output_type": "stream",
     "text": [
      "\r",
      "epoch 38/50:   0%|                            | 0/20 [00:00<?, ?it/s, loss=5.62]"
     ]
    },
    {
     "name": "stdout",
     "output_type": "stream",
     "text": [
      "torch.Size([1, 64, 1])\n"
     ]
    },
    {
     "name": "stderr",
     "output_type": "stream",
     "text": [
      "\r",
      "epoch 38/50:   0%|                            | 0/20 [00:00<?, ?it/s, loss=6.36]"
     ]
    },
    {
     "name": "stdout",
     "output_type": "stream",
     "text": [
      "torch.Size([1, 64, 1])\n",
      "torch.Size([1, 64, 1])\n"
     ]
    },
    {
     "name": "stderr",
     "output_type": "stream",
     "text": [
      "epoch 38/50:   0%|                            | 0/20 [00:00<?, ?it/s, loss=4.74]"
     ]
    },
    {
     "name": "stdout",
     "output_type": "stream",
     "text": [
      "torch.Size([1, 64, 1])\n",
      "torch.Size([1, 64, 1])\n",
      "torch.Size([1, 64, 1])\n",
      "torch.Size([1, 64, 1])\n",
      "torch.Size([1, 64, 1])\n"
     ]
    },
    {
     "name": "stderr",
     "output_type": "stream",
     "text": [
      "\r",
      "epoch 38/50:   0%|                            | 0/20 [00:00<?, ?it/s, loss=4.73]"
     ]
    },
    {
     "name": "stdout",
     "output_type": "stream",
     "text": [
      "torch.Size([1, 64, 1])\n",
      "torch.Size([1, 64, 1])\n",
      "torch.Size([1, 64, 1])\n",
      "torch.Size([1, 64, 1])\n",
      "torch.Size([1, 64, 1])\n",
      "torch.Size([1, 64, 1])\n",
      "torch.Size([1, 64, 1])\n",
      "torch.Size([1, 64, 1])\n",
      "torch.Size([1, 64, 1])\n",
      "torch.Size([1, 64, 1])\n",
      "torch.Size([1, 64, 1])\n",
      "torch.Size([1, 64, 1])\n",
      "torch.Size([1, 64, 1])\n",
      "torch.Size([1, 64, 1])\n",
      "torch.Size([1, 64, 1])\n",
      "torch.Size([1, 64, 1])\n",
      "torch.Size([1, 64, 1])\n",
      "torch.Size([1, 64, 1])\n",
      "torch.Size([1, 64, 1])\n",
      "torch.Size([1, 64, 1])\n",
      "torch.Size([1, 64, 1])\n",
      "torch.Size([1, 64, 1])\n",
      "torch.Size([1, 64, 1])\n",
      "torch.Size([1, 64, 1])\n",
      "torch.Size([1, 64, 1])\n",
      "torch.Size([1, 64, 1])\n",
      "torch.Size([1, 64, 1])\n"
     ]
    },
    {
     "name": "stderr",
     "output_type": "stream",
     "text": [
      "epoch 38/50: 100%|████████| 20/20 [00:00<00:00, 133.05it/s, loss=4.73, mse=2.15]\n"
     ]
    },
    {
     "name": "stdout",
     "output_type": "stream",
     "text": [
      "torch.Size([1, 64, 1])\n",
      "torch.Size([1, 64, 1])\n",
      "torch.Size([1, 64, 1])\n",
      "torch.Size([1, 64, 1])\n"
     ]
    },
    {
     "name": "stderr",
     "output_type": "stream",
     "text": [
      "epoch 39/50:   0%|                            | 0/20 [00:00<?, ?it/s, loss=4.42]"
     ]
    },
    {
     "name": "stdout",
     "output_type": "stream",
     "text": [
      "torch.Size([1, 64, 1])\n"
     ]
    },
    {
     "name": "stderr",
     "output_type": "stream",
     "text": [
      "epoch 39/50:   0%|                            | 0/20 [00:00<?, ?it/s, loss=8.39]"
     ]
    },
    {
     "name": "stdout",
     "output_type": "stream",
     "text": [
      "torch.Size([1, 64, 1])\n",
      "torch.Size([1, 64, 1])\n",
      "torch.Size([1, 64, 1])\n",
      "torch.Size([1, 64, 1])\n"
     ]
    },
    {
     "name": "stderr",
     "output_type": "stream",
     "text": [
      "epoch 39/50:   0%|                            | 0/20 [00:00<?, ?it/s, loss=5.99]"
     ]
    },
    {
     "name": "stdout",
     "output_type": "stream",
     "text": [
      "torch.Size([1, 64, 1])\n",
      "torch.Size([1, 64, 1])\n"
     ]
    },
    {
     "name": "stderr",
     "output_type": "stream",
     "text": [
      "epoch 39/50:   0%|                            | 0/20 [00:00<?, ?it/s, loss=6.11]"
     ]
    },
    {
     "name": "stdout",
     "output_type": "stream",
     "text": [
      "torch.Size([1, 64, 1])\n",
      "torch.Size([1, 64, 1])\n"
     ]
    },
    {
     "name": "stderr",
     "output_type": "stream",
     "text": [
      "epoch 39/50:   0%|                            | 0/20 [00:00<?, ?it/s, loss=6.18]"
     ]
    },
    {
     "name": "stdout",
     "output_type": "stream",
     "text": [
      "torch.Size([1, 64, 1])\n"
     ]
    },
    {
     "name": "stderr",
     "output_type": "stream",
     "text": [
      "epoch 39/50:   0%|                            | 0/20 [00:00<?, ?it/s, loss=6.36]"
     ]
    },
    {
     "name": "stdout",
     "output_type": "stream",
     "text": [
      "torch.Size([1, 64, 1])\n",
      "torch.Size([1, 64, 1])\n",
      "torch.Size([1, 64, 1])\n",
      "torch.Size([1, 64, 1])\n"
     ]
    },
    {
     "name": "stderr",
     "output_type": "stream",
     "text": [
      "\r",
      "epoch 39/50:   0%|                            | 0/20 [00:00<?, ?it/s, loss=5.96]"
     ]
    },
    {
     "name": "stdout",
     "output_type": "stream",
     "text": [
      "torch.Size([1, 64, 1])\n"
     ]
    },
    {
     "name": "stderr",
     "output_type": "stream",
     "text": [
      "epoch 39/50:   0%|                             | 0/20 [00:00<?, ?it/s, loss=5.5]"
     ]
    },
    {
     "name": "stdout",
     "output_type": "stream",
     "text": [
      "torch.Size([1, 64, 1])\n"
     ]
    },
    {
     "name": "stderr",
     "output_type": "stream",
     "text": [
      "\r",
      "epoch 39/50:   0%|                            | 0/20 [00:00<?, ?it/s, loss=5.25]"
     ]
    },
    {
     "name": "stdout",
     "output_type": "stream",
     "text": [
      "torch.Size([1, 64, 1])\n",
      "torch.Size([1, 64, 1])\n"
     ]
    },
    {
     "name": "stderr",
     "output_type": "stream",
     "text": [
      "epoch 39/50:   0%|                            | 0/20 [00:00<?, ?it/s, loss=4.73]"
     ]
    },
    {
     "name": "stdout",
     "output_type": "stream",
     "text": [
      "torch.Size([1, 64, 1])\n",
      "torch.Size([1, 64, 1])\n",
      "torch.Size([1, 64, 1])\n",
      "torch.Size([1, 64, 1])\n",
      "torch.Size([1, 64, 1])\n",
      "torch.Size([1, 64, 1])\n",
      "torch.Size([1, 64, 1])\n",
      "torch.Size([1, 64, 1])\n",
      "torch.Size([1, 64, 1])\n",
      "torch.Size([1, 64, 1])\n",
      "torch.Size([1, 64, 1])\n",
      "torch.Size([1, 64, 1])\n",
      "torch.Size([1, 64, 1])\n",
      "torch.Size([1, 64, 1])\n",
      "torch.Size([1, 64, 1])\n",
      "torch.Size([1, 64, 1])\n",
      "torch.Size([1, 64, 1])\n",
      "torch.Size([1, 64, 1])\n",
      "torch.Size([1, 64, 1])\n",
      "torch.Size([1, 64, 1])\n",
      "torch.Size([1, 64, 1])\n",
      "torch.Size([1, 64, 1])\n",
      "torch.Size([1, 64, 1])\n",
      "torch.Size([1, 64, 1])\n",
      "torch.Size([1, 64, 1])\n",
      "torch.Size([1, 64, 1])\n",
      "torch.Size([1, 64, 1])\n",
      "torch.Size([1, 64, 1])\n",
      "torch.Size([1, 64, 1])\n",
      "torch.Size([1, 64, 1])\n",
      "torch.Size([1, 64, 1])\n",
      "torch.Size([1, 64, 1])\n"
     ]
    },
    {
     "name": "stderr",
     "output_type": "stream",
     "text": [
      "epoch 39/50: 100%|████████| 20/20 [00:00<00:00, 134.28it/s, loss=4.73, mse=2.15]\n",
      "epoch 40/50:   0%|                            | 0/20 [00:00<?, ?it/s, loss=4.42]"
     ]
    },
    {
     "name": "stdout",
     "output_type": "stream",
     "text": [
      "torch.Size([1, 64, 1])\n"
     ]
    },
    {
     "name": "stderr",
     "output_type": "stream",
     "text": [
      "\r",
      "epoch 40/50:   0%|                            | 0/20 [00:00<?, ?it/s, loss=4.05]"
     ]
    },
    {
     "name": "stdout",
     "output_type": "stream",
     "text": [
      "torch.Size([1, 64, 1])\n"
     ]
    },
    {
     "name": "stderr",
     "output_type": "stream",
     "text": [
      "\r",
      "epoch 40/50:   0%|                            | 0/20 [00:00<?, ?it/s, loss=10.8]"
     ]
    },
    {
     "name": "stdout",
     "output_type": "stream",
     "text": [
      "torch.Size([1, 64, 1])\n"
     ]
    },
    {
     "name": "stderr",
     "output_type": "stream",
     "text": [
      "\r",
      "epoch 40/50:   0%|                            | 0/20 [00:00<?, ?it/s, loss=8.39]"
     ]
    },
    {
     "name": "stdout",
     "output_type": "stream",
     "text": [
      "torch.Size([1, 64, 1])\n"
     ]
    },
    {
     "name": "stderr",
     "output_type": "stream",
     "text": [
      "\r",
      "epoch 40/50:   0%|                            | 0/20 [00:00<?, ?it/s, loss=6.95]"
     ]
    },
    {
     "name": "stdout",
     "output_type": "stream",
     "text": [
      "torch.Size([1, 64, 1])\n",
      "torch.Size([1, 64, 1])\n"
     ]
    },
    {
     "name": "stderr",
     "output_type": "stream",
     "text": [
      "epoch 40/50:   0%|                            | 0/20 [00:00<?, ?it/s, loss=6.11]"
     ]
    },
    {
     "name": "stdout",
     "output_type": "stream",
     "text": [
      "torch.Size([1, 64, 1])\n",
      "torch.Size([1, 64, 1])\n",
      "torch.Size([1, 64, 1])\n"
     ]
    },
    {
     "name": "stderr",
     "output_type": "stream",
     "text": [
      "epoch 40/50:   0%|                            | 0/20 [00:00<?, ?it/s, loss=6.18]"
     ]
    },
    {
     "name": "stdout",
     "output_type": "stream",
     "text": [
      "torch.Size([1, 64, 1])\n",
      "torch.Size([1, 64, 1])\n"
     ]
    },
    {
     "name": "stderr",
     "output_type": "stream",
     "text": [
      "\r",
      "epoch 40/50:   0%|                            | 0/20 [00:00<?, ?it/s, loss=6.02]"
     ]
    },
    {
     "name": "stdout",
     "output_type": "stream",
     "text": [
      "torch.Size([1, 64, 1])\n"
     ]
    },
    {
     "name": "stderr",
     "output_type": "stream",
     "text": [
      "epoch 40/50:   0%|                            | 0/20 [00:00<?, ?it/s, loss=5.57]"
     ]
    },
    {
     "name": "stdout",
     "output_type": "stream",
     "text": [
      "torch.Size([1, 64, 1])\n",
      "torch.Size([1, 64, 1])\n",
      "torch.Size([1, 64, 1])\n",
      "torch.Size([1, 64, 1])\n"
     ]
    },
    {
     "name": "stderr",
     "output_type": "stream",
     "text": [
      "epoch 40/50:   0%|                            | 0/20 [00:00<?, ?it/s, loss=5.25]"
     ]
    },
    {
     "name": "stdout",
     "output_type": "stream",
     "text": [
      "torch.Size([1, 64, 1])\n",
      "torch.Size([1, 64, 1])\n"
     ]
    },
    {
     "name": "stderr",
     "output_type": "stream",
     "text": [
      "epoch 40/50:   0%|                            | 0/20 [00:00<?, ?it/s, loss=4.74]"
     ]
    },
    {
     "name": "stdout",
     "output_type": "stream",
     "text": [
      "torch.Size([1, 64, 1])\n"
     ]
    },
    {
     "name": "stderr",
     "output_type": "stream",
     "text": [
      "\r",
      "epoch 40/50:   0%|                            | 0/20 [00:00<?, ?it/s, loss=4.73]"
     ]
    },
    {
     "name": "stdout",
     "output_type": "stream",
     "text": [
      "torch.Size([1, 64, 1])\n",
      "torch.Size([1, 64, 1])\n",
      "torch.Size([1, 64, 1])\n",
      "torch.Size([1, 64, 1])\n",
      "torch.Size([1, 64, 1])\n",
      "torch.Size([1, 64, 1])\n",
      "torch.Size([1, 64, 1])\n",
      "torch.Size([1, 64, 1])\n",
      "torch.Size([1, 64, 1])\n",
      "torch.Size([1, 64, 1])\n",
      "torch.Size([1, 64, 1])\n",
      "torch.Size([1, 64, 1])\n",
      "torch.Size([1, 64, 1])\n",
      "torch.Size([1, 64, 1])\n",
      "torch.Size([1, 64, 1])\n",
      "torch.Size([1, 64, 1])\n",
      "torch.Size([1, 64, 1])\n",
      "torch.Size([1, 64, 1])\n",
      "torch.Size([1, 64, 1])\n",
      "torch.Size([1, 64, 1])\n",
      "torch.Size([1, 64, 1])\n",
      "torch.Size([1, 64, 1])\n",
      "torch.Size([1, 64, 1])\n",
      "torch.Size([1, 64, 1])\n",
      "torch.Size([1, 64, 1])\n",
      "torch.Size([1, 64, 1])\n"
     ]
    },
    {
     "name": "stderr",
     "output_type": "stream",
     "text": [
      "epoch 40/50: 100%|████████| 20/20 [00:00<00:00, 133.56it/s, loss=4.73, mse=2.15]\n"
     ]
    },
    {
     "name": "stdout",
     "output_type": "stream",
     "text": [
      "torch.Size([1, 64, 1])\n",
      "torch.Size([1, 64, 1])\n",
      "torch.Size([1, 64, 1])\n",
      "torch.Size([1, 64, 1])\n",
      "torch.Size([1, 64, 1])\n"
     ]
    },
    {
     "name": "stderr",
     "output_type": "stream",
     "text": [
      "epoch 41/50:   0%|                            | 0/20 [00:00<?, ?it/s, loss=4.42]"
     ]
    },
    {
     "name": "stdout",
     "output_type": "stream",
     "text": [
      "torch.Size([1, 64, 1])\n"
     ]
    },
    {
     "name": "stderr",
     "output_type": "stream",
     "text": [
      "\r",
      "epoch 41/50:   0%|                            | 0/20 [00:00<?, ?it/s, loss=4.05]"
     ]
    },
    {
     "name": "stdout",
     "output_type": "stream",
     "text": [
      "torch.Size([1, 64, 1])\n",
      "torch.Size([1, 64, 1])\n"
     ]
    },
    {
     "name": "stderr",
     "output_type": "stream",
     "text": [
      "epoch 41/50:   0%|                            | 0/20 [00:00<?, ?it/s, loss=8.39]"
     ]
    },
    {
     "name": "stdout",
     "output_type": "stream",
     "text": [
      "torch.Size([1, 64, 1])\n",
      "torch.Size([1, 64, 1])\n"
     ]
    },
    {
     "name": "stderr",
     "output_type": "stream",
     "text": [
      "epoch 41/50:   0%|                            | 0/20 [00:00<?, ?it/s, loss=6.18]"
     ]
    },
    {
     "name": "stdout",
     "output_type": "stream",
     "text": [
      "torch.Size([1, 64, 1])\n",
      "torch.Size([1, 64, 1])\n",
      "torch.Size([1, 64, 1])\n",
      "torch.Size([1, 64, 1])\n",
      "torch.Size([1, 64, 1])\n",
      "torch.Size([1, 64, 1])\n"
     ]
    },
    {
     "name": "stderr",
     "output_type": "stream",
     "text": [
      "\r",
      "epoch 41/50:   0%|                            | 0/20 [00:00<?, ?it/s, loss=6.02]"
     ]
    },
    {
     "name": "stdout",
     "output_type": "stream",
     "text": [
      "torch.Size([1, 64, 1])\n"
     ]
    },
    {
     "name": "stderr",
     "output_type": "stream",
     "text": [
      "\r",
      "epoch 41/50:   0%|                            | 0/20 [00:00<?, ?it/s, loss=5.62]"
     ]
    },
    {
     "name": "stdout",
     "output_type": "stream",
     "text": [
      "torch.Size([1, 64, 1])\n"
     ]
    },
    {
     "name": "stderr",
     "output_type": "stream",
     "text": [
      "\r",
      "epoch 41/50:   0%|                            | 0/20 [00:00<?, ?it/s, loss=6.36]"
     ]
    },
    {
     "name": "stdout",
     "output_type": "stream",
     "text": [
      "torch.Size([1, 64, 1])\n"
     ]
    },
    {
     "name": "stderr",
     "output_type": "stream",
     "text": [
      "\r",
      "epoch 41/50:   0%|                            | 0/20 [00:00<?, ?it/s, loss=5.96]"
     ]
    },
    {
     "name": "stdout",
     "output_type": "stream",
     "text": [
      "torch.Size([1, 64, 1])\n"
     ]
    },
    {
     "name": "stderr",
     "output_type": "stream",
     "text": [
      "epoch 41/50:   0%|                             | 0/20 [00:00<?, ?it/s, loss=5.5]"
     ]
    },
    {
     "name": "stdout",
     "output_type": "stream",
     "text": [
      "torch.Size([1, 64, 1])\n",
      "torch.Size([1, 64, 1])\n"
     ]
    },
    {
     "name": "stderr",
     "output_type": "stream",
     "text": [
      "epoch 41/50:   0%|                            | 0/20 [00:00<?, ?it/s, loss=4.74]"
     ]
    },
    {
     "name": "stdout",
     "output_type": "stream",
     "text": [
      "torch.Size([1, 64, 1])\n",
      "torch.Size([1, 64, 1])\n",
      "torch.Size([1, 64, 1])\n"
     ]
    },
    {
     "name": "stderr",
     "output_type": "stream",
     "text": [
      "\r",
      "epoch 41/50:   0%|                            | 0/20 [00:00<?, ?it/s, loss=4.73]"
     ]
    },
    {
     "name": "stdout",
     "output_type": "stream",
     "text": [
      "torch.Size([1, 64, 1])\n",
      "torch.Size([1, 64, 1])\n",
      "torch.Size([1, 64, 1])\n",
      "torch.Size([1, 64, 1])\n",
      "torch.Size([1, 64, 1])\n",
      "torch.Size([1, 64, 1])\n",
      "torch.Size([1, 64, 1])\n",
      "torch.Size([1, 64, 1])\n",
      "torch.Size([1, 64, 1])\n",
      "torch.Size([1, 64, 1])\n",
      "torch.Size([1, 64, 1])\n",
      "torch.Size([1, 64, 1])\n",
      "torch.Size([1, 64, 1])\n",
      "torch.Size([1, 64, 1])\n",
      "torch.Size([1, 64, 1])\n",
      "torch.Size([1, 64, 1])\n",
      "torch.Size([1, 64, 1])\n",
      "torch.Size([1, 64, 1])\n",
      "torch.Size([1, 64, 1])\n",
      "torch.Size([1, 64, 1])\n",
      "torch.Size([1, 64, 1])\n",
      "torch.Size([1, 64, 1])\n",
      "torch.Size([1, 64, 1])\n",
      "torch.Size([1, 64, 1])\n",
      "torch.Size([1, 64, 1])\n",
      "torch.Size([1, 64, 1])\n",
      "torch.Size([1, 64, 1])\n",
      "torch.Size([1, 64, 1])\n",
      "torch.Size([1, 64, 1])\n"
     ]
    },
    {
     "name": "stderr",
     "output_type": "stream",
     "text": [
      "epoch 41/50: 100%|████████| 20/20 [00:00<00:00, 138.79it/s, loss=4.73, mse=2.15]\n"
     ]
    },
    {
     "name": "stdout",
     "output_type": "stream",
     "text": [
      "torch.Size([1, 64, 1])\n"
     ]
    },
    {
     "name": "stderr",
     "output_type": "stream",
     "text": [
      "epoch 42/50:   0%|                            | 0/20 [00:00<?, ?it/s, loss=4.42]"
     ]
    },
    {
     "name": "stdout",
     "output_type": "stream",
     "text": [
      "torch.Size([1, 64, 1])\n"
     ]
    },
    {
     "name": "stderr",
     "output_type": "stream",
     "text": [
      "epoch 42/50:   0%|                            | 0/20 [00:00<?, ?it/s, loss=8.39]"
     ]
    },
    {
     "name": "stdout",
     "output_type": "stream",
     "text": [
      "torch.Size([1, 64, 1])\n",
      "torch.Size([1, 64, 1])\n",
      "torch.Size([1, 64, 1])\n",
      "torch.Size([1, 64, 1])\n"
     ]
    },
    {
     "name": "stderr",
     "output_type": "stream",
     "text": [
      "\r",
      "epoch 42/50:   0%|                            | 0/20 [00:00<?, ?it/s, loss=6.95]"
     ]
    },
    {
     "name": "stdout",
     "output_type": "stream",
     "text": [
      "torch.Size([1, 64, 1])\n"
     ]
    },
    {
     "name": "stderr",
     "output_type": "stream",
     "text": [
      "\r",
      "epoch 42/50:   0%|                            | 0/20 [00:00<?, ?it/s, loss=5.99]"
     ]
    },
    {
     "name": "stdout",
     "output_type": "stream",
     "text": [
      "torch.Size([1, 64, 1])\n"
     ]
    },
    {
     "name": "stderr",
     "output_type": "stream",
     "text": [
      "epoch 42/50:   0%|                            | 0/20 [00:00<?, ?it/s, loss=6.11]"
     ]
    },
    {
     "name": "stdout",
     "output_type": "stream",
     "text": [
      "torch.Size([1, 64, 1])\n",
      "torch.Size([1, 64, 1])\n"
     ]
    },
    {
     "name": "stderr",
     "output_type": "stream",
     "text": [
      "epoch 42/50:   0%|                            | 0/20 [00:00<?, ?it/s, loss=6.18]"
     ]
    },
    {
     "name": "stdout",
     "output_type": "stream",
     "text": [
      "torch.Size([1, 64, 1])\n",
      "torch.Size([1, 64, 1])\n"
     ]
    },
    {
     "name": "stderr",
     "output_type": "stream",
     "text": [
      "\r",
      "epoch 42/50:   0%|                            | 0/20 [00:00<?, ?it/s, loss=6.02]"
     ]
    },
    {
     "name": "stdout",
     "output_type": "stream",
     "text": [
      "torch.Size([1, 64, 1])\n"
     ]
    },
    {
     "name": "stderr",
     "output_type": "stream",
     "text": [
      "epoch 42/50:   0%|                            | 0/20 [00:00<?, ?it/s, loss=6.36]"
     ]
    },
    {
     "name": "stdout",
     "output_type": "stream",
     "text": [
      "torch.Size([1, 64, 1])\n",
      "torch.Size([1, 64, 1])\n"
     ]
    },
    {
     "name": "stderr",
     "output_type": "stream",
     "text": [
      "epoch 42/50:   0%|                            | 0/20 [00:00<?, ?it/s, loss=5.57]"
     ]
    },
    {
     "name": "stdout",
     "output_type": "stream",
     "text": [
      "torch.Size([1, 64, 1])\n",
      "torch.Size([1, 64, 1])\n"
     ]
    },
    {
     "name": "stderr",
     "output_type": "stream",
     "text": [
      "epoch 42/50:   0%|                            | 0/20 [00:00<?, ?it/s, loss=4.73]"
     ]
    },
    {
     "name": "stdout",
     "output_type": "stream",
     "text": [
      "torch.Size([1, 64, 1])\n",
      "torch.Size([1, 64, 1])\n",
      "torch.Size([1, 64, 1])\n",
      "torch.Size([1, 64, 1])\n",
      "torch.Size([1, 64, 1])\n",
      "torch.Size([1, 64, 1])\n",
      "torch.Size([1, 64, 1])\n",
      "torch.Size([1, 64, 1])\n",
      "torch.Size([1, 64, 1])\n",
      "torch.Size([1, 64, 1])\n",
      "torch.Size([1, 64, 1])\n",
      "torch.Size([1, 64, 1])\n",
      "torch.Size([1, 64, 1])\n",
      "torch.Size([1, 64, 1])\n",
      "torch.Size([1, 64, 1])\n",
      "torch.Size([1, 64, 1])\n",
      "torch.Size([1, 64, 1])\n",
      "torch.Size([1, 64, 1])\n",
      "torch.Size([1, 64, 1])\n",
      "torch.Size([1, 64, 1])\n",
      "torch.Size([1, 64, 1])\n",
      "torch.Size([1, 64, 1])\n",
      "torch.Size([1, 64, 1])\n",
      "torch.Size([1, 64, 1])\n",
      "torch.Size([1, 64, 1])\n",
      "torch.Size([1, 64, 1])\n",
      "torch.Size([1, 64, 1])\n",
      "torch.Size([1, 64, 1])\n",
      "torch.Size([1, 64, 1])\n",
      "torch.Size([1, 64, 1])\n",
      "torch.Size([1, 64, 1])\n",
      "torch.Size([1, 64, 1])\n",
      "torch.Size([1, 64, 1])\n",
      "torch.Size([1, 64, 1])\n"
     ]
    },
    {
     "name": "stderr",
     "output_type": "stream",
     "text": [
      "epoch 42/50: 100%|████████| 20/20 [00:00<00:00, 131.02it/s, loss=4.73, mse=2.15]\n",
      "epoch 43/50:   0%|                            | 0/20 [00:00<?, ?it/s, loss=4.42]"
     ]
    },
    {
     "name": "stdout",
     "output_type": "stream",
     "text": [
      "torch.Size([1, 64, 1])\n"
     ]
    },
    {
     "name": "stderr",
     "output_type": "stream",
     "text": [
      "\r",
      "epoch 43/50:   0%|                            | 0/20 [00:00<?, ?it/s, loss=4.05]"
     ]
    },
    {
     "name": "stdout",
     "output_type": "stream",
     "text": [
      "torch.Size([1, 64, 1])\n"
     ]
    },
    {
     "name": "stderr",
     "output_type": "stream",
     "text": [
      "epoch 43/50:   0%|                            | 0/20 [00:00<?, ?it/s, loss=5.99]"
     ]
    },
    {
     "name": "stdout",
     "output_type": "stream",
     "text": [
      "torch.Size([1, 64, 1])\n",
      "torch.Size([1, 64, 1])\n",
      "torch.Size([1, 64, 1])\n",
      "torch.Size([1, 64, 1])\n"
     ]
    },
    {
     "name": "stderr",
     "output_type": "stream",
     "text": [
      "epoch 43/50:   0%|                            | 0/20 [00:00<?, ?it/s, loss=6.11]"
     ]
    },
    {
     "name": "stdout",
     "output_type": "stream",
     "text": [
      "torch.Size([1, 64, 1])\n",
      "torch.Size([1, 64, 1])\n",
      "torch.Size([1, 64, 1])\n"
     ]
    },
    {
     "name": "stderr",
     "output_type": "stream",
     "text": [
      "\r",
      "epoch 43/50:   0%|                            | 0/20 [00:00<?, ?it/s, loss=6.37]"
     ]
    },
    {
     "name": "stdout",
     "output_type": "stream",
     "text": [
      "torch.Size([1, 64, 1])\n"
     ]
    },
    {
     "name": "stderr",
     "output_type": "stream",
     "text": [
      "\r",
      "epoch 43/50:   0%|                            | 0/20 [00:00<?, ?it/s, loss=6.18]"
     ]
    },
    {
     "name": "stdout",
     "output_type": "stream",
     "text": [
      "torch.Size([1, 64, 1])\n"
     ]
    },
    {
     "name": "stderr",
     "output_type": "stream",
     "text": [
      "epoch 43/50:   0%|                            | 0/20 [00:00<?, ?it/s, loss=5.57]"
     ]
    },
    {
     "name": "stdout",
     "output_type": "stream",
     "text": [
      "torch.Size([1, 64, 1])\n",
      "torch.Size([1, 64, 1])\n",
      "torch.Size([1, 64, 1])\n",
      "torch.Size([1, 64, 1])\n"
     ]
    },
    {
     "name": "stderr",
     "output_type": "stream",
     "text": [
      "\r",
      "epoch 43/50:   0%|                             | 0/20 [00:00<?, ?it/s, loss=5.5]"
     ]
    },
    {
     "name": "stdout",
     "output_type": "stream",
     "text": [
      "torch.Size([1, 64, 1])\n"
     ]
    },
    {
     "name": "stderr",
     "output_type": "stream",
     "text": [
      "\r",
      "epoch 43/50:   0%|                            | 0/20 [00:00<?, ?it/s, loss=5.25]"
     ]
    },
    {
     "name": "stdout",
     "output_type": "stream",
     "text": [
      "torch.Size([1, 64, 1])\n",
      "torch.Size([1, 64, 1])\n"
     ]
    },
    {
     "name": "stderr",
     "output_type": "stream",
     "text": [
      "epoch 43/50:   0%|                            | 0/20 [00:00<?, ?it/s, loss=4.74]"
     ]
    },
    {
     "name": "stdout",
     "output_type": "stream",
     "text": [
      "torch.Size([1, 64, 1])\n",
      "torch.Size([1, 64, 1])\n"
     ]
    },
    {
     "name": "stderr",
     "output_type": "stream",
     "text": [
      "\r",
      "epoch 43/50:   0%|                            | 0/20 [00:00<?, ?it/s, loss=4.73]"
     ]
    },
    {
     "name": "stdout",
     "output_type": "stream",
     "text": [
      "torch.Size([1, 64, 1])\n",
      "torch.Size([1, 64, 1])\n",
      "torch.Size([1, 64, 1])\n",
      "torch.Size([1, 64, 1])\n",
      "torch.Size([1, 64, 1])\n",
      "torch.Size([1, 64, 1])\n",
      "torch.Size([1, 64, 1])\n",
      "torch.Size([1, 64, 1])\n",
      "torch.Size([1, 64, 1])\n",
      "torch.Size([1, 64, 1])\n",
      "torch.Size([1, 64, 1])\n",
      "torch.Size([1, 64, 1])\n",
      "torch.Size([1, 64, 1])\n",
      "torch.Size([1, 64, 1])\n",
      "torch.Size([1, 64, 1])\n",
      "torch.Size([1, 64, 1])\n",
      "torch.Size([1, 64, 1])\n",
      "torch.Size([1, 64, 1])\n",
      "torch.Size([1, 64, 1])\n",
      "torch.Size([1, 64, 1])\n",
      "torch.Size([1, 64, 1])\n",
      "torch.Size([1, 64, 1])\n",
      "torch.Size([1, 64, 1])\n"
     ]
    },
    {
     "name": "stderr",
     "output_type": "stream",
     "text": [
      "epoch 43/50: 100%|████████| 20/20 [00:00<00:00, 137.70it/s, loss=4.73, mse=2.15]\n"
     ]
    },
    {
     "name": "stdout",
     "output_type": "stream",
     "text": [
      "torch.Size([1, 64, 1])\n",
      "torch.Size([1, 64, 1])\n",
      "torch.Size([1, 64, 1])\n",
      "torch.Size([1, 64, 1])\n",
      "torch.Size([1, 64, 1])\n",
      "torch.Size([1, 64, 1])\n",
      "torch.Size([1, 64, 1])\n"
     ]
    },
    {
     "name": "stderr",
     "output_type": "stream",
     "text": [
      "epoch 44/50:   0%|                            | 0/20 [00:00<?, ?it/s, loss=4.42]"
     ]
    },
    {
     "name": "stdout",
     "output_type": "stream",
     "text": [
      "torch.Size([1, 64, 1])\n",
      "torch.Size([1, 64, 1])\n"
     ]
    },
    {
     "name": "stderr",
     "output_type": "stream",
     "text": [
      "\r",
      "epoch 44/50:   0%|                            | 0/20 [00:00<?, ?it/s, loss=4.05]"
     ]
    },
    {
     "name": "stdout",
     "output_type": "stream",
     "text": [
      "torch.Size([1, 64, 1])\n"
     ]
    },
    {
     "name": "stderr",
     "output_type": "stream",
     "text": [
      "\r",
      "epoch 44/50:   0%|                            | 0/20 [00:00<?, ?it/s, loss=10.8]"
     ]
    },
    {
     "name": "stdout",
     "output_type": "stream",
     "text": [
      "torch.Size([1, 64, 1])\n"
     ]
    },
    {
     "name": "stderr",
     "output_type": "stream",
     "text": [
      "\r",
      "epoch 44/50:   0%|                            | 0/20 [00:00<?, ?it/s, loss=8.39]"
     ]
    },
    {
     "name": "stdout",
     "output_type": "stream",
     "text": [
      "torch.Size([1, 64, 1])\n"
     ]
    },
    {
     "name": "stderr",
     "output_type": "stream",
     "text": [
      "\r",
      "epoch 44/50:   0%|                            | 0/20 [00:00<?, ?it/s, loss=6.95]"
     ]
    },
    {
     "name": "stdout",
     "output_type": "stream",
     "text": [
      "torch.Size([1, 64, 1])\n"
     ]
    },
    {
     "name": "stderr",
     "output_type": "stream",
     "text": [
      "epoch 44/50:   0%|                            | 0/20 [00:00<?, ?it/s, loss=5.76]"
     ]
    },
    {
     "name": "stdout",
     "output_type": "stream",
     "text": [
      "torch.Size([1, 64, 1])\n",
      "torch.Size([1, 64, 1])\n"
     ]
    },
    {
     "name": "stderr",
     "output_type": "stream",
     "text": [
      "epoch 44/50:   0%|                            | 0/20 [00:00<?, ?it/s, loss=6.02]"
     ]
    },
    {
     "name": "stdout",
     "output_type": "stream",
     "text": [
      "torch.Size([1, 64, 1])\n",
      "torch.Size([1, 64, 1])\n",
      "torch.Size([1, 64, 1])\n"
     ]
    },
    {
     "name": "stderr",
     "output_type": "stream",
     "text": [
      "\r",
      "epoch 44/50:   0%|                            | 0/20 [00:00<?, ?it/s, loss=5.62]"
     ]
    },
    {
     "name": "stdout",
     "output_type": "stream",
     "text": [
      "torch.Size([1, 64, 1])\n"
     ]
    },
    {
     "name": "stderr",
     "output_type": "stream",
     "text": [
      "\r",
      "epoch 44/50:   0%|                            | 0/20 [00:00<?, ?it/s, loss=6.36]"
     ]
    },
    {
     "name": "stdout",
     "output_type": "stream",
     "text": [
      "torch.Size([1, 64, 1])\n"
     ]
    },
    {
     "name": "stderr",
     "output_type": "stream",
     "text": [
      "epoch 44/50:   0%|                            | 0/20 [00:00<?, ?it/s, loss=5.25]"
     ]
    },
    {
     "name": "stdout",
     "output_type": "stream",
     "text": [
      "torch.Size([1, 64, 1])\n",
      "torch.Size([1, 64, 1])\n",
      "torch.Size([1, 64, 1])\n",
      "torch.Size([1, 64, 1])\n"
     ]
    },
    {
     "name": "stderr",
     "output_type": "stream",
     "text": [
      "epoch 44/50:   0%|                            | 0/20 [00:00<?, ?it/s, loss=4.74]"
     ]
    },
    {
     "name": "stdout",
     "output_type": "stream",
     "text": [
      "torch.Size([1, 64, 1])\n",
      "torch.Size([1, 64, 1])\n",
      "torch.Size([1, 64, 1])\n"
     ]
    },
    {
     "name": "stderr",
     "output_type": "stream",
     "text": [
      "\r",
      "epoch 44/50:   0%|                            | 0/20 [00:00<?, ?it/s, loss=4.73]"
     ]
    },
    {
     "name": "stdout",
     "output_type": "stream",
     "text": [
      "torch.Size([1, 64, 1])\n",
      "torch.Size([1, 64, 1])\n",
      "torch.Size([1, 64, 1])\n",
      "torch.Size([1, 64, 1])\n",
      "torch.Size([1, 64, 1])\n",
      "torch.Size([1, 64, 1])\n",
      "torch.Size([1, 64, 1])\n",
      "torch.Size([1, 64, 1])\n",
      "torch.Size([1, 64, 1])\n",
      "torch.Size([1, 64, 1])\n",
      "torch.Size([1, 64, 1])\n",
      "torch.Size([1, 64, 1])\n",
      "torch.Size([1, 64, 1])\n",
      "torch.Size([1, 64, 1])\n",
      "torch.Size([1, 64, 1])\n",
      "torch.Size([1, 64, 1])\n",
      "torch.Size([1, 64, 1])\n",
      "torch.Size([1, 64, 1])\n",
      "torch.Size([1, 64, 1])\n",
      "torch.Size([1, 64, 1])\n",
      "torch.Size([1, 64, 1])\n",
      "torch.Size([1, 64, 1])\n",
      "torch.Size([1, 64, 1])\n",
      "torch.Size([1, 64, 1])\n",
      "torch.Size([1, 64, 1])\n",
      "torch.Size([1, 64, 1])\n",
      "torch.Size([1, 64, 1])\n"
     ]
    },
    {
     "name": "stderr",
     "output_type": "stream",
     "text": [
      "epoch 44/50: 100%|████████| 20/20 [00:00<00:00, 134.88it/s, loss=4.73, mse=2.15]\n"
     ]
    },
    {
     "name": "stdout",
     "output_type": "stream",
     "text": [
      "torch.Size([1, 64, 1])\n",
      "torch.Size([1, 64, 1])\n",
      "torch.Size([1, 64, 1])\n"
     ]
    },
    {
     "name": "stderr",
     "output_type": "stream",
     "text": [
      "epoch 45/50:   0%|                                       | 0/20 [00:00<?, ?it/s]"
     ]
    },
    {
     "name": "stdout",
     "output_type": "stream",
     "text": [
      "torch.Size([1, 64, 1])\n"
     ]
    },
    {
     "name": "stderr",
     "output_type": "stream",
     "text": [
      "\r",
      "epoch 45/50:   0%|                            | 0/20 [00:00<?, ?it/s, loss=4.42]"
     ]
    },
    {
     "name": "stdout",
     "output_type": "stream",
     "text": [
      "torch.Size([1, 64, 1])\n"
     ]
    },
    {
     "name": "stderr",
     "output_type": "stream",
     "text": [
      "\r",
      "epoch 45/50:   0%|                            | 0/20 [00:00<?, ?it/s, loss=4.05]"
     ]
    },
    {
     "name": "stdout",
     "output_type": "stream",
     "text": [
      "torch.Size([1, 64, 1])\n"
     ]
    },
    {
     "name": "stderr",
     "output_type": "stream",
     "text": [
      "epoch 45/50:   0%|                            | 0/20 [00:00<?, ?it/s, loss=8.39]"
     ]
    },
    {
     "name": "stdout",
     "output_type": "stream",
     "text": [
      "torch.Size([1, 64, 1])\n",
      "torch.Size([1, 64, 1])\n"
     ]
    },
    {
     "name": "stderr",
     "output_type": "stream",
     "text": [
      "epoch 45/50:   0%|                            | 0/20 [00:00<?, ?it/s, loss=5.99]"
     ]
    },
    {
     "name": "stdout",
     "output_type": "stream",
     "text": [
      "torch.Size([1, 64, 1])\n",
      "torch.Size([1, 64, 1])\n"
     ]
    },
    {
     "name": "stderr",
     "output_type": "stream",
     "text": [
      "epoch 45/50:   0%|                            | 0/20 [00:00<?, ?it/s, loss=6.37]"
     ]
    },
    {
     "name": "stdout",
     "output_type": "stream",
     "text": [
      "torch.Size([1, 64, 1])\n",
      "torch.Size([1, 64, 1])\n",
      "torch.Size([1, 64, 1])\n"
     ]
    },
    {
     "name": "stderr",
     "output_type": "stream",
     "text": [
      "epoch 45/50:   0%|                            | 0/20 [00:00<?, ?it/s, loss=6.02]"
     ]
    },
    {
     "name": "stdout",
     "output_type": "stream",
     "text": [
      "torch.Size([1, 64, 1])\n",
      "torch.Size([1, 64, 1])\n"
     ]
    },
    {
     "name": "stderr",
     "output_type": "stream",
     "text": [
      "\r",
      "epoch 45/50:   0%|                            | 0/20 [00:00<?, ?it/s, loss=5.62]"
     ]
    },
    {
     "name": "stdout",
     "output_type": "stream",
     "text": [
      "torch.Size([1, 64, 1])\n"
     ]
    },
    {
     "name": "stderr",
     "output_type": "stream",
     "text": [
      "\r",
      "epoch 45/50:   0%|                            | 0/20 [00:00<?, ?it/s, loss=6.36]"
     ]
    },
    {
     "name": "stdout",
     "output_type": "stream",
     "text": [
      "torch.Size([1, 64, 1])\n"
     ]
    },
    {
     "name": "stderr",
     "output_type": "stream",
     "text": [
      "\r",
      "epoch 45/50:   0%|                            | 0/20 [00:00<?, ?it/s, loss=5.96]"
     ]
    },
    {
     "name": "stdout",
     "output_type": "stream",
     "text": [
      "torch.Size([1, 64, 1])\n"
     ]
    },
    {
     "name": "stderr",
     "output_type": "stream",
     "text": [
      "\r",
      "epoch 45/50:   0%|                            | 0/20 [00:00<?, ?it/s, loss=5.57]"
     ]
    },
    {
     "name": "stdout",
     "output_type": "stream",
     "text": [
      "torch.Size([1, 64, 1])\n"
     ]
    },
    {
     "name": "stderr",
     "output_type": "stream",
     "text": [
      "epoch 45/50:   0%|                            | 0/20 [00:00<?, ?it/s, loss=5.25]"
     ]
    },
    {
     "name": "stdout",
     "output_type": "stream",
     "text": [
      "torch.Size([1, 64, 1])\n",
      "torch.Size([1, 64, 1])\n"
     ]
    },
    {
     "name": "stderr",
     "output_type": "stream",
     "text": [
      "epoch 45/50:  95%|█████████████████ | 19/20 [00:00<00:00, 186.85it/s, loss=4.74]"
     ]
    },
    {
     "name": "stdout",
     "output_type": "stream",
     "text": [
      "torch.Size([1, 64, 1])\n",
      "torch.Size([1, 64, 1])\n"
     ]
    },
    {
     "name": "stderr",
     "output_type": "stream",
     "text": [
      "\r",
      "epoch 45/50:  95%|█████████████████ | 19/20 [00:00<00:00, 186.85it/s, loss=4.73]"
     ]
    },
    {
     "name": "stdout",
     "output_type": "stream",
     "text": [
      "torch.Size([1, 64, 1])\n",
      "torch.Size([1, 64, 1])\n",
      "torch.Size([1, 64, 1])\n",
      "torch.Size([1, 64, 1])\n",
      "torch.Size([1, 64, 1])\n",
      "torch.Size([1, 64, 1])\n",
      "torch.Size([1, 64, 1])\n",
      "torch.Size([1, 64, 1])\n",
      "torch.Size([1, 64, 1])\n",
      "torch.Size([1, 64, 1])\n",
      "torch.Size([1, 64, 1])\n",
      "torch.Size([1, 64, 1])\n",
      "torch.Size([1, 64, 1])\n",
      "torch.Size([1, 64, 1])\n",
      "torch.Size([1, 64, 1])\n",
      "torch.Size([1, 64, 1])\n",
      "torch.Size([1, 64, 1])\n",
      "torch.Size([1, 64, 1])\n",
      "torch.Size([1, 64, 1])\n",
      "torch.Size([1, 64, 1])\n",
      "torch.Size([1, 64, 1])\n",
      "torch.Size([1, 64, 1])\n",
      "torch.Size([1, 64, 1])\n",
      "torch.Size([1, 64, 1])\n",
      "torch.Size([1, 64, 1])\n",
      "torch.Size([1, 64, 1])\n",
      "torch.Size([1, 64, 1])\n",
      "torch.Size([1, 64, 1])\n"
     ]
    },
    {
     "name": "stderr",
     "output_type": "stream",
     "text": [
      "\r",
      "epoch 45/50:  95%|███████▌| 19/20 [00:00<00:00, 186.85it/s, loss=4.73, mse=2.15]"
     ]
    },
    {
     "name": "stdout",
     "output_type": "stream",
     "text": [
      "torch.Size([1, 64, 1])\n",
      "torch.Size([1, 64, 1])\n"
     ]
    },
    {
     "name": "stderr",
     "output_type": "stream",
     "text": [
      "epoch 45/50: 100%|████████| 20/20 [00:00<00:00, 124.28it/s, loss=4.73, mse=2.15]\n",
      "epoch 46/50:   0%|                            | 0/20 [00:00<?, ?it/s, loss=10.8]"
     ]
    },
    {
     "name": "stdout",
     "output_type": "stream",
     "text": [
      "torch.Size([1, 64, 1])\n",
      "torch.Size([1, 64, 1])\n",
      "torch.Size([1, 64, 1])\n",
      "torch.Size([1, 64, 1])\n"
     ]
    },
    {
     "name": "stderr",
     "output_type": "stream",
     "text": [
      "\r",
      "epoch 46/50:   0%|                            | 0/20 [00:00<?, ?it/s, loss=8.39]"
     ]
    },
    {
     "name": "stdout",
     "output_type": "stream",
     "text": [
      "torch.Size([1, 64, 1])\n"
     ]
    },
    {
     "name": "stderr",
     "output_type": "stream",
     "text": [
      "epoch 46/50:   0%|                            | 0/20 [00:00<?, ?it/s, loss=5.99]"
     ]
    },
    {
     "name": "stdout",
     "output_type": "stream",
     "text": [
      "torch.Size([1, 64, 1])\n",
      "torch.Size([1, 64, 1])\n"
     ]
    },
    {
     "name": "stderr",
     "output_type": "stream",
     "text": [
      "\r",
      "epoch 46/50:   0%|                            | 0/20 [00:00<?, ?it/s, loss=5.76]"
     ]
    },
    {
     "name": "stdout",
     "output_type": "stream",
     "text": [
      "torch.Size([1, 64, 1])\n"
     ]
    },
    {
     "name": "stderr",
     "output_type": "stream",
     "text": [
      "\r",
      "epoch 46/50:   0%|                            | 0/20 [00:00<?, ?it/s, loss=6.11]"
     ]
    },
    {
     "name": "stdout",
     "output_type": "stream",
     "text": [
      "torch.Size([1, 64, 1])\n"
     ]
    },
    {
     "name": "stderr",
     "output_type": "stream",
     "text": [
      "\r",
      "epoch 46/50:   0%|                            | 0/20 [00:00<?, ?it/s, loss=6.37]"
     ]
    },
    {
     "name": "stdout",
     "output_type": "stream",
     "text": [
      "torch.Size([1, 64, 1])\n"
     ]
    },
    {
     "name": "stderr",
     "output_type": "stream",
     "text": [
      "\r",
      "epoch 46/50:   0%|                            | 0/20 [00:00<?, ?it/s, loss=6.18]"
     ]
    },
    {
     "name": "stdout",
     "output_type": "stream",
     "text": [
      "torch.Size([1, 64, 1])\n"
     ]
    },
    {
     "name": "stderr",
     "output_type": "stream",
     "text": [
      "epoch 46/50:   0%|                            | 0/20 [00:00<?, ?it/s, loss=6.36]"
     ]
    },
    {
     "name": "stdout",
     "output_type": "stream",
     "text": [
      "torch.Size([1, 64, 1])\n",
      "torch.Size([1, 64, 1])\n"
     ]
    },
    {
     "name": "stderr",
     "output_type": "stream",
     "text": [
      "epoch 46/50:   0%|                            | 0/20 [00:00<?, ?it/s, loss=5.57]"
     ]
    },
    {
     "name": "stdout",
     "output_type": "stream",
     "text": [
      "torch.Size([1, 64, 1])\n",
      "torch.Size([1, 64, 1])\n",
      "torch.Size([1, 64, 1])\n"
     ]
    },
    {
     "name": "stderr",
     "output_type": "stream",
     "text": [
      "epoch 46/50:   0%|                               | 0/20 [00:00<?, ?it/s, loss=5]"
     ]
    },
    {
     "name": "stdout",
     "output_type": "stream",
     "text": [
      "torch.Size([1, 64, 1])\n",
      "torch.Size([1, 64, 1])\n",
      "torch.Size([1, 64, 1])\n"
     ]
    },
    {
     "name": "stderr",
     "output_type": "stream",
     "text": [
      "epoch 46/50:   0%|                            | 0/20 [00:00<?, ?it/s, loss=4.73]"
     ]
    },
    {
     "name": "stdout",
     "output_type": "stream",
     "text": [
      "torch.Size([1, 64, 1])\n",
      "torch.Size([1, 64, 1])\n",
      "torch.Size([1, 64, 1])\n",
      "torch.Size([1, 64, 1])\n",
      "torch.Size([1, 64, 1])\n",
      "torch.Size([1, 64, 1])\n",
      "torch.Size([1, 64, 1])\n",
      "torch.Size([1, 64, 1])\n",
      "torch.Size([1, 64, 1])\n",
      "torch.Size([1, 64, 1])\n",
      "torch.Size([1, 64, 1])\n",
      "torch.Size([1, 64, 1])\n",
      "torch.Size([1, 64, 1])\n",
      "torch.Size([1, 64, 1])\n",
      "torch.Size([1, 64, 1])\n",
      "torch.Size([1, 64, 1])\n",
      "torch.Size([1, 64, 1])\n",
      "torch.Size([1, 64, 1])\n",
      "torch.Size([1, 64, 1])\n",
      "torch.Size([1, 64, 1])\n",
      "torch.Size([1, 64, 1])\n",
      "torch.Size([1, 64, 1])\n",
      "torch.Size([1, 64, 1])\n",
      "torch.Size([1, 64, 1])\n",
      "torch.Size([1, 64, 1])\n",
      "torch.Size([1, 64, 1])\n",
      "torch.Size([1, 64, 1])\n",
      "torch.Size([1, 64, 1])\n",
      "torch.Size([1, 64, 1])\n",
      "torch.Size([1, 64, 1])\n",
      "torch.Size([1, 64, 1])\n"
     ]
    },
    {
     "name": "stderr",
     "output_type": "stream",
     "text": [
      "epoch 46/50: 100%|████████| 20/20 [00:00<00:00, 131.72it/s, loss=4.73, mse=2.15]\n",
      "epoch 47/50:   0%|                                       | 0/20 [00:00<?, ?it/s]"
     ]
    },
    {
     "name": "stdout",
     "output_type": "stream",
     "text": [
      "torch.Size([1, 64, 1])\n"
     ]
    },
    {
     "name": "stderr",
     "output_type": "stream",
     "text": [
      "epoch 47/50:   0%|                            | 0/20 [00:00<?, ?it/s, loss=8.39]"
     ]
    },
    {
     "name": "stdout",
     "output_type": "stream",
     "text": [
      "torch.Size([1, 64, 1])\n",
      "torch.Size([1, 64, 1])\n",
      "torch.Size([1, 64, 1])\n",
      "torch.Size([1, 64, 1])\n"
     ]
    },
    {
     "name": "stderr",
     "output_type": "stream",
     "text": [
      "epoch 47/50:   0%|                            | 0/20 [00:00<?, ?it/s, loss=5.99]"
     ]
    },
    {
     "name": "stdout",
     "output_type": "stream",
     "text": [
      "torch.Size([1, 64, 1])\n",
      "torch.Size([1, 64, 1])\n"
     ]
    },
    {
     "name": "stderr",
     "output_type": "stream",
     "text": [
      "\r",
      "epoch 47/50:   0%|                            | 0/20 [00:00<?, ?it/s, loss=5.76]"
     ]
    },
    {
     "name": "stdout",
     "output_type": "stream",
     "text": [
      "torch.Size([1, 64, 1])\n"
     ]
    },
    {
     "name": "stderr",
     "output_type": "stream",
     "text": [
      "epoch 47/50:   0%|                            | 0/20 [00:00<?, ?it/s, loss=6.37]"
     ]
    },
    {
     "name": "stdout",
     "output_type": "stream",
     "text": [
      "torch.Size([1, 64, 1])\n"
     ]
    },
    {
     "name": "stderr",
     "output_type": "stream",
     "text": [
      "epoch 47/50:   0%|                            | 0/20 [00:00<?, ?it/s, loss=6.36]"
     ]
    },
    {
     "name": "stdout",
     "output_type": "stream",
     "text": [
      "torch.Size([1, 64, 1])\n",
      "torch.Size([1, 64, 1])\n",
      "torch.Size([1, 64, 1])\n",
      "torch.Size([1, 64, 1])\n",
      "torch.Size([1, 64, 1])\n"
     ]
    },
    {
     "name": "stderr",
     "output_type": "stream",
     "text": [
      "\r",
      "epoch 47/50:   0%|                            | 0/20 [00:00<?, ?it/s, loss=5.96]"
     ]
    },
    {
     "name": "stdout",
     "output_type": "stream",
     "text": [
      "torch.Size([1, 64, 1])\n"
     ]
    },
    {
     "name": "stderr",
     "output_type": "stream",
     "text": [
      "epoch 47/50:   0%|                             | 0/20 [00:00<?, ?it/s, loss=5.5]"
     ]
    },
    {
     "name": "stdout",
     "output_type": "stream",
     "text": [
      "torch.Size([1, 64, 1])\n",
      "torch.Size([1, 64, 1])\n"
     ]
    },
    {
     "name": "stderr",
     "output_type": "stream",
     "text": [
      "epoch 47/50:   0%|                               | 0/20 [00:00<?, ?it/s, loss=5]"
     ]
    },
    {
     "name": "stdout",
     "output_type": "stream",
     "text": [
      "torch.Size([1, 64, 1])\n"
     ]
    },
    {
     "name": "stderr",
     "output_type": "stream",
     "text": [
      "\r",
      "epoch 47/50:   0%|                            | 0/20 [00:00<?, ?it/s, loss=4.74]"
     ]
    },
    {
     "name": "stdout",
     "output_type": "stream",
     "text": [
      "torch.Size([1, 64, 1])\n",
      "torch.Size([1, 64, 1])\n"
     ]
    },
    {
     "name": "stderr",
     "output_type": "stream",
     "text": [
      "\r",
      "epoch 47/50:   0%|                            | 0/20 [00:00<?, ?it/s, loss=4.73]"
     ]
    },
    {
     "name": "stdout",
     "output_type": "stream",
     "text": [
      "torch.Size([1, 64, 1])\n",
      "torch.Size([1, 64, 1])\n",
      "torch.Size([1, 64, 1])\n",
      "torch.Size([1, 64, 1])\n",
      "torch.Size([1, 64, 1])\n",
      "torch.Size([1, 64, 1])\n",
      "torch.Size([1, 64, 1])\n",
      "torch.Size([1, 64, 1])\n",
      "torch.Size([1, 64, 1])\n",
      "torch.Size([1, 64, 1])\n",
      "torch.Size([1, 64, 1])\n",
      "torch.Size([1, 64, 1])\n",
      "torch.Size([1, 64, 1])\n",
      "torch.Size([1, 64, 1])\n",
      "torch.Size([1, 64, 1])\n",
      "torch.Size([1, 64, 1])\n",
      "torch.Size([1, 64, 1])\n",
      "torch.Size([1, 64, 1])\n",
      "torch.Size([1, 64, 1])\n",
      "torch.Size([1, 64, 1])\n",
      "torch.Size([1, 64, 1])\n",
      "torch.Size([1, 64, 1])\n",
      "torch.Size([1, 64, 1])\n",
      "torch.Size([1, 64, 1])\n",
      "torch.Size([1, 64, 1])\n",
      "torch.Size([1, 64, 1])\n",
      "torch.Size([1, 64, 1])\n",
      "torch.Size([1, 64, 1])\n",
      "torch.Size([1, 64, 1])\n"
     ]
    },
    {
     "name": "stderr",
     "output_type": "stream",
     "text": [
      "epoch 47/50: 100%|████████| 20/20 [00:00<00:00, 134.46it/s, loss=4.73, mse=2.15]\n"
     ]
    },
    {
     "name": "stdout",
     "output_type": "stream",
     "text": [
      "torch.Size([1, 64, 1])\n"
     ]
    },
    {
     "name": "stderr",
     "output_type": "stream",
     "text": [
      "epoch 48/50:   0%|                                       | 0/20 [00:00<?, ?it/s]"
     ]
    },
    {
     "name": "stdout",
     "output_type": "stream",
     "text": [
      "torch.Size([1, 64, 1])\n"
     ]
    },
    {
     "name": "stderr",
     "output_type": "stream",
     "text": [
      "\r",
      "epoch 48/50:   0%|                            | 0/20 [00:00<?, ?it/s, loss=4.42]"
     ]
    },
    {
     "name": "stdout",
     "output_type": "stream",
     "text": [
      "torch.Size([1, 64, 1])\n"
     ]
    },
    {
     "name": "stderr",
     "output_type": "stream",
     "text": [
      "\r",
      "epoch 48/50:   0%|                            | 0/20 [00:00<?, ?it/s, loss=4.05]"
     ]
    },
    {
     "name": "stdout",
     "output_type": "stream",
     "text": [
      "torch.Size([1, 64, 1])\n"
     ]
    },
    {
     "name": "stderr",
     "output_type": "stream",
     "text": [
      "\r",
      "epoch 48/50:   0%|                            | 0/20 [00:00<?, ?it/s, loss=10.8]"
     ]
    },
    {
     "name": "stdout",
     "output_type": "stream",
     "text": [
      "torch.Size([1, 64, 1])\n"
     ]
    },
    {
     "name": "stderr",
     "output_type": "stream",
     "text": [
      "\r",
      "epoch 48/50:   0%|                            | 0/20 [00:00<?, ?it/s, loss=8.39]"
     ]
    },
    {
     "name": "stdout",
     "output_type": "stream",
     "text": [
      "torch.Size([1, 64, 1])\n"
     ]
    },
    {
     "name": "stderr",
     "output_type": "stream",
     "text": [
      "epoch 48/50:   0%|                            | 0/20 [00:00<?, ?it/s, loss=5.99]"
     ]
    },
    {
     "name": "stdout",
     "output_type": "stream",
     "text": [
      "torch.Size([1, 64, 1])\n",
      "torch.Size([1, 64, 1])\n"
     ]
    },
    {
     "name": "stderr",
     "output_type": "stream",
     "text": [
      "epoch 48/50:   0%|                            | 0/20 [00:00<?, ?it/s, loss=6.37]"
     ]
    },
    {
     "name": "stdout",
     "output_type": "stream",
     "text": [
      "torch.Size([1, 64, 1])\n",
      "torch.Size([1, 64, 1])\n",
      "torch.Size([1, 64, 1])\n"
     ]
    },
    {
     "name": "stderr",
     "output_type": "stream",
     "text": [
      "\r",
      "epoch 48/50:   0%|                            | 0/20 [00:00<?, ?it/s, loss=6.18]"
     ]
    },
    {
     "name": "stdout",
     "output_type": "stream",
     "text": [
      "torch.Size([1, 64, 1])\n"
     ]
    },
    {
     "name": "stderr",
     "output_type": "stream",
     "text": [
      "epoch 48/50:   0%|                            | 0/20 [00:00<?, ?it/s, loss=5.62]"
     ]
    },
    {
     "name": "stdout",
     "output_type": "stream",
     "text": [
      "torch.Size([1, 64, 1])\n"
     ]
    },
    {
     "name": "stderr",
     "output_type": "stream",
     "text": [
      "epoch 48/50:   0%|                             | 0/20 [00:00<?, ?it/s, loss=5.5]"
     ]
    },
    {
     "name": "stdout",
     "output_type": "stream",
     "text": [
      "torch.Size([1, 64, 1])\n",
      "torch.Size([1, 64, 1])\n",
      "torch.Size([1, 64, 1])\n",
      "torch.Size([1, 64, 1])\n",
      "torch.Size([1, 64, 1])\n"
     ]
    },
    {
     "name": "stderr",
     "output_type": "stream",
     "text": [
      "epoch 48/50:   0%|                            | 0/20 [00:00<?, ?it/s, loss=4.74]"
     ]
    },
    {
     "name": "stdout",
     "output_type": "stream",
     "text": [
      "torch.Size([1, 64, 1])\n",
      "torch.Size([1, 64, 1])\n",
      "torch.Size([1, 64, 1])\n"
     ]
    },
    {
     "name": "stderr",
     "output_type": "stream",
     "text": [
      "\r",
      "epoch 48/50:   0%|                            | 0/20 [00:00<?, ?it/s, loss=4.73]"
     ]
    },
    {
     "name": "stdout",
     "output_type": "stream",
     "text": [
      "torch.Size([1, 64, 1])\n",
      "torch.Size([1, 64, 1])\n",
      "torch.Size([1, 64, 1])\n",
      "torch.Size([1, 64, 1])\n",
      "torch.Size([1, 64, 1])\n",
      "torch.Size([1, 64, 1])\n",
      "torch.Size([1, 64, 1])\n",
      "torch.Size([1, 64, 1])\n",
      "torch.Size([1, 64, 1])\n",
      "torch.Size([1, 64, 1])\n",
      "torch.Size([1, 64, 1])\n",
      "torch.Size([1, 64, 1])\n",
      "torch.Size([1, 64, 1])\n",
      "torch.Size([1, 64, 1])\n",
      "torch.Size([1, 64, 1])\n",
      "torch.Size([1, 64, 1])\n",
      "torch.Size([1, 64, 1])\n",
      "torch.Size([1, 64, 1])\n",
      "torch.Size([1, 64, 1])\n",
      "torch.Size([1, 64, 1])\n",
      "torch.Size([1, 64, 1])\n",
      "torch.Size([1, 64, 1])\n",
      "torch.Size([1, 64, 1])\n",
      "torch.Size([1, 64, 1])\n"
     ]
    },
    {
     "name": "stderr",
     "output_type": "stream",
     "text": [
      "epoch 48/50: 100%|████████| 20/20 [00:00<00:00, 146.22it/s, loss=4.73, mse=2.15]"
     ]
    },
    {
     "name": "stdout",
     "output_type": "stream",
     "text": [
      "torch.Size([1, 64, 1])\n",
      "torch.Size([1, 64, 1])\n",
      "torch.Size([1, 64, 1])\n",
      "torch.Size([1, 64, 1])\n",
      "torch.Size([1, 64, 1])\n",
      "torch.Size([1, 64, 1])\n"
     ]
    },
    {
     "name": "stderr",
     "output_type": "stream",
     "text": [
      "epoch 48/50: 100%|████████| 20/20 [00:00<00:00, 145.61it/s, loss=4.73, mse=2.15]\n",
      "epoch 49/50:   0%|                                       | 0/20 [00:00<?, ?it/s]"
     ]
    },
    {
     "name": "stdout",
     "output_type": "stream",
     "text": [
      "torch.Size([1, 64, 1])\n"
     ]
    },
    {
     "name": "stderr",
     "output_type": "stream",
     "text": [
      "epoch 49/50:   0%|                            | 0/20 [00:00<?, ?it/s, loss=4.05]"
     ]
    },
    {
     "name": "stdout",
     "output_type": "stream",
     "text": [
      "torch.Size([1, 64, 1])\n",
      "torch.Size([1, 64, 1])\n"
     ]
    },
    {
     "name": "stderr",
     "output_type": "stream",
     "text": [
      "\r",
      "epoch 49/50:   0%|                            | 0/20 [00:00<?, ?it/s, loss=10.8]"
     ]
    },
    {
     "name": "stdout",
     "output_type": "stream",
     "text": [
      "torch.Size([1, 64, 1])\n"
     ]
    },
    {
     "name": "stderr",
     "output_type": "stream",
     "text": [
      "epoch 49/50:   0%|                            | 0/20 [00:00<?, ?it/s, loss=6.95]"
     ]
    },
    {
     "name": "stdout",
     "output_type": "stream",
     "text": [
      "torch.Size([1, 64, 1])\n",
      "torch.Size([1, 64, 1])\n"
     ]
    },
    {
     "name": "stderr",
     "output_type": "stream",
     "text": [
      "epoch 49/50:   0%|                            | 0/20 [00:00<?, ?it/s, loss=5.76]"
     ]
    },
    {
     "name": "stdout",
     "output_type": "stream",
     "text": [
      "torch.Size([1, 64, 1])\n",
      "torch.Size([1, 64, 1])\n"
     ]
    },
    {
     "name": "stderr",
     "output_type": "stream",
     "text": [
      "epoch 49/50:   0%|                            | 0/20 [00:00<?, ?it/s, loss=6.37]"
     ]
    },
    {
     "name": "stdout",
     "output_type": "stream",
     "text": [
      "torch.Size([1, 64, 1])\n",
      "torch.Size([1, 64, 1])\n"
     ]
    },
    {
     "name": "stderr",
     "output_type": "stream",
     "text": [
      "\r",
      "epoch 49/50:   0%|                            | 0/20 [00:00<?, ?it/s, loss=6.18]"
     ]
    },
    {
     "name": "stdout",
     "output_type": "stream",
     "text": [
      "torch.Size([1, 64, 1])\n"
     ]
    },
    {
     "name": "stderr",
     "output_type": "stream",
     "text": [
      "\r",
      "epoch 49/50:   0%|                            | 0/20 [00:00<?, ?it/s, loss=6.02]"
     ]
    },
    {
     "name": "stdout",
     "output_type": "stream",
     "text": [
      "torch.Size([1, 64, 1])\n"
     ]
    },
    {
     "name": "stderr",
     "output_type": "stream",
     "text": [
      "\r",
      "epoch 49/50:   0%|                            | 0/20 [00:00<?, ?it/s, loss=5.62]"
     ]
    },
    {
     "name": "stdout",
     "output_type": "stream",
     "text": [
      "torch.Size([1, 64, 1])"
     ]
    },
    {
     "name": "stderr",
     "output_type": "stream",
     "text": [
      "\r",
      "epoch 49/50:   0%|                            | 0/20 [00:00<?, ?it/s, loss=6.36]"
     ]
    },
    {
     "name": "stdout",
     "output_type": "stream",
     "text": [
      "\n",
      "torch.Size([1, 64, 1])\n"
     ]
    },
    {
     "name": "stderr",
     "output_type": "stream",
     "text": [
      "epoch 49/50:   0%|                            | 0/20 [00:00<?, ?it/s, loss=5.57]"
     ]
    },
    {
     "name": "stdout",
     "output_type": "stream",
     "text": [
      "torch.Size([1, 64, 1])\n"
     ]
    },
    {
     "name": "stderr",
     "output_type": "stream",
     "text": [
      "\r",
      "epoch 49/50:   0%|                             | 0/20 [00:00<?, ?it/s, loss=5.5]"
     ]
    },
    {
     "name": "stdout",
     "output_type": "stream",
     "text": [
      "torch.Size([1, 64, 1])\n",
      "torch.Size([1, 64, 1])\n"
     ]
    },
    {
     "name": "stderr",
     "output_type": "stream",
     "text": [
      "epoch 49/50:  90%|████████████████▏ | 18/20 [00:00<00:00, 173.54it/s, loss=4.74]"
     ]
    },
    {
     "name": "stdout",
     "output_type": "stream",
     "text": [
      "torch.Size([1, 64, 1])\n",
      "torch.Size([1, 64, 1])\n",
      "torch.Size([1, 64, 1])\n"
     ]
    },
    {
     "name": "stderr",
     "output_type": "stream",
     "text": [
      "\r",
      "epoch 49/50:  90%|████████████████▏ | 18/20 [00:00<00:00, 173.54it/s, loss=4.73]"
     ]
    },
    {
     "name": "stdout",
     "output_type": "stream",
     "text": [
      "torch.Size([1, 64, 1])\n",
      "torch.Size([1, 64, 1])\n",
      "torch.Size([1, 64, 1])\n",
      "torch.Size([1, 64, 1])\n",
      "torch.Size([1, 64, 1])\n",
      "torch.Size([1, 64, 1])\n",
      "torch.Size([1, 64, 1])\n",
      "torch.Size([1, 64, 1])\n",
      "torch.Size([1, 64, 1])\n",
      "torch.Size([1, 64, 1])\n",
      "torch.Size([1, 64, 1])\n",
      "torch.Size([1, 64, 1])\n",
      "torch.Size([1, 64, 1])\n",
      "torch.Size([1, 64, 1])\n",
      "torch.Size([1, 64, 1])\n",
      "torch.Size([1, 64, 1])\n",
      "torch.Size([1, 64, 1])\n",
      "torch.Size([1, 64, 1])\n",
      "torch.Size([1, 64, 1])\n",
      "torch.Size([1, 64, 1])\n",
      "torch.Size([1, 64, 1])\n",
      "torch.Size([1, 64, 1])\n",
      "torch.Size([1, 64, 1])\n"
     ]
    },
    {
     "name": "stderr",
     "output_type": "stream",
     "text": [
      "epoch 49/50: 100%|████████| 20/20 [00:00<00:00, 110.77it/s, loss=4.73, mse=2.15]\n"
     ]
    },
    {
     "name": "stdout",
     "output_type": "stream",
     "text": [
      "torch.Size([1, 64, 1])\n",
      "torch.Size([1, 64, 1])\n",
      "torch.Size([1, 64, 1])\n",
      "torch.Size([1, 64, 1])\n",
      "torch.Size([1, 64, 1])\n",
      "torch.Size([1, 64, 1])\n",
      "torch.Size([1, 64, 1])\n"
     ]
    },
    {
     "name": "stderr",
     "output_type": "stream",
     "text": [
      "epoch 50/50:   0%|                                       | 0/20 [00:00<?, ?it/s]"
     ]
    },
    {
     "name": "stdout",
     "output_type": "stream",
     "text": [
      "torch.Size([1, 64, 1])\n"
     ]
    },
    {
     "name": "stderr",
     "output_type": "stream",
     "text": [
      "epoch 50/50:   0%|                            | 0/20 [00:00<?, ?it/s, loss=4.05]"
     ]
    },
    {
     "name": "stdout",
     "output_type": "stream",
     "text": [
      "torch.Size([1, 64, 1])\n",
      "torch.Size([1, 64, 1])\n"
     ]
    },
    {
     "name": "stderr",
     "output_type": "stream",
     "text": [
      "\r",
      "epoch 50/50:   0%|                            | 0/20 [00:00<?, ?it/s, loss=10.8]"
     ]
    },
    {
     "name": "stdout",
     "output_type": "stream",
     "text": [
      "torch.Size([1, 64, 1])\n"
     ]
    },
    {
     "name": "stderr",
     "output_type": "stream",
     "text": [
      "epoch 50/50:   0%|                            | 0/20 [00:00<?, ?it/s, loss=6.95]"
     ]
    },
    {
     "name": "stdout",
     "output_type": "stream",
     "text": [
      "torch.Size([1, 64, 1])\n",
      "torch.Size([1, 64, 1])\n"
     ]
    },
    {
     "name": "stderr",
     "output_type": "stream",
     "text": [
      "\r",
      "epoch 50/50:   0%|                            | 0/20 [00:00<?, ?it/s, loss=5.99]"
     ]
    },
    {
     "name": "stdout",
     "output_type": "stream",
     "text": [
      "torch.Size([1, 64, 1])\n"
     ]
    },
    {
     "name": "stderr",
     "output_type": "stream",
     "text": [
      "epoch 50/50:   0%|                            | 0/20 [00:00<?, ?it/s, loss=6.11]"
     ]
    },
    {
     "name": "stdout",
     "output_type": "stream",
     "text": [
      "torch.Size([1, 64, 1])\n"
     ]
    },
    {
     "name": "stderr",
     "output_type": "stream",
     "text": [
      "\r",
      "epoch 50/50:   0%|                            | 0/20 [00:00<?, ?it/s, loss=6.37]"
     ]
    },
    {
     "name": "stdout",
     "output_type": "stream",
     "text": [
      "torch.Size([1, 64, 1])\n",
      "torch.Size([1, 64, 1])\n"
     ]
    },
    {
     "name": "stderr",
     "output_type": "stream",
     "text": [
      "epoch 50/50:   0%|                            | 0/20 [00:00<?, ?it/s, loss=5.62]"
     ]
    },
    {
     "name": "stdout",
     "output_type": "stream",
     "text": [
      "torch.Size([1, 64, 1])\n",
      "torch.Size([1, 64, 1])\n",
      "torch.Size([1, 64, 1])\n"
     ]
    },
    {
     "name": "stderr",
     "output_type": "stream",
     "text": [
      "\r",
      "epoch 50/50:   0%|                            | 0/20 [00:00<?, ?it/s, loss=6.36]"
     ]
    },
    {
     "name": "stdout",
     "output_type": "stream",
     "text": [
      "torch.Size([1, 64, 1])\n"
     ]
    },
    {
     "name": "stderr",
     "output_type": "stream",
     "text": [
      "epoch 50/50:   0%|                            | 0/20 [00:00<?, ?it/s, loss=5.57]"
     ]
    },
    {
     "name": "stdout",
     "output_type": "stream",
     "text": [
      "torch.Size([1, 64, 1])\n",
      "torch.Size([1, 64, 1])\n"
     ]
    },
    {
     "name": "stderr",
     "output_type": "stream",
     "text": [
      "\r",
      "epoch 50/50:   0%|                             | 0/20 [00:00<?, ?it/s, loss=5.5]"
     ]
    },
    {
     "name": "stdout",
     "output_type": "stream",
     "text": [
      "torch.Size([1, 64, 1])\n"
     ]
    },
    {
     "name": "stderr",
     "output_type": "stream",
     "text": [
      "\r",
      "epoch 50/50:   0%|                            | 0/20 [00:00<?, ?it/s, loss=5.25]"
     ]
    },
    {
     "name": "stdout",
     "output_type": "stream",
     "text": [
      "torch.Size([1, 64, 1])\n"
     ]
    },
    {
     "name": "stderr",
     "output_type": "stream",
     "text": [
      "epoch 50/50:  90%|██████████████████▉  | 18/20 [00:00<00:00, 172.04it/s, loss=5]"
     ]
    },
    {
     "name": "stdout",
     "output_type": "stream",
     "text": [
      "torch.Size([1, 64, 1])\n"
     ]
    },
    {
     "name": "stderr",
     "output_type": "stream",
     "text": [
      "epoch 50/50:  90%|████████████████▏ | 18/20 [00:00<00:00, 172.04it/s, loss=4.73]"
     ]
    },
    {
     "name": "stdout",
     "output_type": "stream",
     "text": [
      "torch.Size([1, 64, 1])\n",
      "torch.Size([1, 64, 1])\n",
      "torch.Size([1, 64, 1])\n",
      "torch.Size([1, 64, 1])\n",
      "torch.Size([1, 64, 1])\n",
      "torch.Size([1, 64, 1])\n",
      "torch.Size([1, 64, 1])\n",
      "torch.Size([1, 64, 1])\n",
      "torch.Size([1, 64, 1])\n",
      "torch.Size([1, 64, 1])\n",
      "torch.Size([1, 64, 1])\n",
      "torch.Size([1, 64, 1])\n",
      "torch.Size([1, 64, 1])\n",
      "torch.Size([1, 64, 1])\n",
      "torch.Size([1, 64, 1])\n",
      "torch.Size([1, 64, 1])\n",
      "torch.Size([1, 64, 1])\n",
      "torch.Size([1, 64, 1])\n",
      "torch.Size([1, 64, 1])\n",
      "torch.Size([1, 64, 1])\n",
      "torch.Size([1, 64, 1])\n",
      "torch.Size([1, 64, 1])\n",
      "torch.Size([1, 64, 1])\n",
      "torch.Size([1, 64, 1])\n",
      "torch.Size([1, 64, 1])\n",
      "torch.Size([1, 64, 1])\n",
      "torch.Size([1, 64, 1])\n"
     ]
    },
    {
     "name": "stderr",
     "output_type": "stream",
     "text": [
      "epoch 50/50: 100%|████████| 20/20 [00:00<00:00, 118.09it/s, loss=4.73, mse=2.15]"
     ]
    },
    {
     "name": "stdout",
     "output_type": "stream",
     "text": [
      "torch.Size([1, 64, 1])\n",
      "torch.Size([1, 64, 1])\n",
      "torch.Size([1, 64, 1])\n",
      "torch.Size([1, 64, 1])\n"
     ]
    },
    {
     "name": "stderr",
     "output_type": "stream",
     "text": [
      "\n"
     ]
    }
   ],
   "source": [
    "num_epoche = 50\n",
    "for epoch in range(num_epoche):\n",
    "    #保存当前epoch结果\n",
    "    train_rights=0.\n",
    "    losses = 0.\n",
    "    pbar = tqdm(train_loader, total=len(train_data), leave=True, ncols=80)\n",
    "    pbar.set_description(f'epoch {(epoch + 1)}/{num_epoche}')\n",
    "    for batch_idx,(data,target) in enumerate(pbar):\n",
    "        data = data.cuda()\n",
    "        target = target.cuda()\n",
    "        net.train() #更新权重参数\n",
    "        output = net(data)\n",
    "        loss = critertion(output, target)\n",
    "        optimizer.zero_grad()\n",
    "        loss.to(torch.float32)\n",
    "        losses += loss.item()\n",
    "        loss.backward()\n",
    "        optimizer.step()\n",
    "        \n",
    "        pbar.set_postfix(loss = losses / (batch_idx + 1))\n",
    "        \n",
    "        if (batch_idx + 1) % len(train_data) == 0:\n",
    "            mses = 0.\n",
    "            for batch_id, (x, y) in enumerate(test_loader):\n",
    "                x = x.cuda()\n",
    "                y = y.cuda()\n",
    "                pred = net(x)\n",
    "                mse, length = accuracy(pred, y)\n",
    "                mses += mse.item()\n",
    "            pbar.set_postfix(loss = losses / (batch_idx + 1), mse = mses / len(test_data))"
   ]
  },
  {
   "cell_type": "code",
   "execution_count": null,
   "id": "b7c49f67",
   "metadata": {},
   "outputs": [],
   "source": []
  }
 ],
 "metadata": {
  "kernelspec": {
   "display_name": "Python 3 (ipykernel)",
   "language": "python",
   "name": "python3"
  },
  "language_info": {
   "codemirror_mode": {
    "name": "ipython",
    "version": 3
   },
   "file_extension": ".py",
   "mimetype": "text/x-python",
   "name": "python",
   "nbconvert_exporter": "python",
   "pygments_lexer": "ipython3",
   "version": "3.9.12"
  },
  "toc": {
   "base_numbering": 1,
   "nav_menu": {},
   "number_sections": true,
   "sideBar": true,
   "skip_h1_title": false,
   "title_cell": "Table of Contents",
   "title_sidebar": "Contents",
   "toc_cell": false,
   "toc_position": {},
   "toc_section_display": true,
   "toc_window_display": false
  },
  "varInspector": {
   "cols": {
    "lenName": 16,
    "lenType": 16,
    "lenVar": 40
   },
   "kernels_config": {
    "python": {
     "delete_cmd_postfix": "",
     "delete_cmd_prefix": "del ",
     "library": "var_list.py",
     "varRefreshCmd": "print(var_dic_list())"
    },
    "r": {
     "delete_cmd_postfix": ") ",
     "delete_cmd_prefix": "rm(",
     "library": "var_list.r",
     "varRefreshCmd": "cat(var_dic_list()) "
    }
   },
   "types_to_exclude": [
    "module",
    "function",
    "builtin_function_or_method",
    "instance",
    "_Feature"
   ],
   "window_display": false
  }
 },
 "nbformat": 4,
 "nbformat_minor": 5
}
